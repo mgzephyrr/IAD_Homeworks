{
  "nbformat": 4,
  "nbformat_minor": 0,
  "metadata": {
    "colab": {
      "provenance": []
    },
    "kernelspec": {
      "name": "python3",
      "display_name": "Python 3"
    },
    "language_info": {
      "name": "python"
    }
  },
  "cells": [
    {
      "cell_type": "markdown",
      "source": [
        "# Домашнее задание 1 (numpy)"
      ],
      "metadata": {
        "id": "scWhIJn_Ycjy"
      }
    },
    {
      "cell_type": "code",
      "source": [
        "import numpy as np"
      ],
      "metadata": {
        "id": "eSzN0Iv-YnQN"
      },
      "execution_count": null,
      "outputs": []
    },
    {
      "cell_type": "markdown",
      "source": [
        "## Задание 1"
      ],
      "metadata": {
        "id": "x_pWs7FvVC7M"
      }
    },
    {
      "cell_type": "markdown",
      "source": [
        "### Формулировка\n",
        "\n",
        "Напишите функцию, возвращающую округленную взвешенную сумму оценок по данным оценкам и весам."
      ],
      "metadata": {
        "id": "0x4U5nmXZXmB"
      }
    },
    {
      "cell_type": "markdown",
      "source": [
        "### Функция"
      ],
      "metadata": {
        "id": "YL9XnCSNU2dH"
      }
    },
    {
      "cell_type": "code",
      "source": [
        "def result_mark(weights: np.array, marks: np.array) -> int:\n",
        "    return np.round(np.sum(np.multiply(weights, marks)))"
      ],
      "metadata": {
        "id": "SpNiQfZpZbMk"
      },
      "execution_count": null,
      "outputs": []
    },
    {
      "cell_type": "markdown",
      "source": [
        "### Тесты"
      ],
      "metadata": {
        "id": "pqOm7IBhU5Oy"
      }
    },
    {
      "cell_type": "code",
      "source": [
        "weights = np.array([0.3, 0.4, 0.2, 0.1])\n",
        "marks = np.array([7, 10, 8, 6])\n",
        "\n",
        "assert result_mark(weights, marks) == 8"
      ],
      "metadata": {
        "id": "zRe0OtqFZiCp"
      },
      "execution_count": null,
      "outputs": []
    },
    {
      "cell_type": "code",
      "source": [
        "weights = np.array([0.3, 0.4, 0.2, 0.1])\n",
        "marks = np.array([7, 0, 8, 6])\n",
        "\n",
        "assert result_mark(weights, marks) == 4"
      ],
      "metadata": {
        "id": "LmFYwFD6ZiTr"
      },
      "execution_count": null,
      "outputs": []
    },
    {
      "cell_type": "markdown",
      "source": [
        "## Задание 2"
      ],
      "metadata": {
        "id": "0wSi2egAb9PF"
      }
    },
    {
      "cell_type": "markdown",
      "source": [
        "### Формулировка\n",
        "Напишите функцию, меняющую каждое третье (начиная с 0) значение массива целых чисел на заданное число. Например, если на вход поступает:\n",
        "\n",
        "```\n",
        "array = np.array([3, 5, 1, 0, -3, 22, 213436])\n",
        "number = -111\n",
        "```\n",
        "то на выходе должно получиться `array([-111, 5, 1, -111, -3, 22, -111])`"
      ],
      "metadata": {
        "id": "zdfSCt68VJOg"
      }
    },
    {
      "cell_type": "markdown",
      "source": [
        "### Функция"
      ],
      "metadata": {
        "id": "h4rNxcsPVM5e"
      }
    },
    {
      "cell_type": "code",
      "source": [
        "def change_array(array: np.array, number: int) -> np.array:\n",
        "    array.put(np.arange(0, array.size, 3), number)\n",
        "    return array"
      ],
      "metadata": {
        "id": "qP4vm9uIb_M3"
      },
      "execution_count": null,
      "outputs": []
    },
    {
      "cell_type": "markdown",
      "source": [
        "### Тесты"
      ],
      "metadata": {
        "id": "p5WZ2mosVNRK"
      }
    },
    {
      "cell_type": "code",
      "source": [
        "array = np.array([3, 5, 1, 0, -3, 22, 213436])\n",
        "number = -111\n",
        "\n",
        "assert np.allclose(change_array(array, number), np.array([-111, 5, 1, -111, -3, 22, -111]))"
      ],
      "metadata": {
        "id": "ps6nzhG6b_XF"
      },
      "execution_count": null,
      "outputs": []
    },
    {
      "cell_type": "code",
      "source": [
        "array = np.array([3, 14, 15, 92, 6])\n",
        "number = 8\n",
        "\n",
        "assert np.allclose(change_array(array, number), np.array([8, 14, 15, 8, 6]))"
      ],
      "metadata": {
        "id": "C0Wpf3fjb_wl"
      },
      "execution_count": null,
      "outputs": []
    },
    {
      "cell_type": "markdown",
      "source": [
        "## Задание 3\n",
        "\n"
      ],
      "metadata": {
        "id": "yi28SUAMj4nM"
      }
    },
    {
      "cell_type": "markdown",
      "source": [
        "### Формулировка\n",
        "\n",
        "Напишите функцию, выдающую индексы «близких» элементов заданных массивов, а именно тех пар элементов, чей модуль разницы не превосходит заданного значения. Например, если на вход поступает\n",
        "```\n",
        "array1 = ([1.5, 0.5, 2, -4.1, -3, 6, -1])\n",
        "array2 = ([1.2, 0.5, 1, -4, 3, 0, -1.2])\n",
        "precision = 0.5\n",
        "```\n",
        " то на выходе должно получиться\n",
        " `array([0, 1, 3, 6])`"
      ],
      "metadata": {
        "id": "ETvaNtcRVcg8"
      }
    },
    {
      "cell_type": "markdown",
      "source": [
        "### Функция"
      ],
      "metadata": {
        "id": "K1XxpFfwVdao"
      }
    },
    {
      "cell_type": "code",
      "source": [
        "def find_close(array1: np.array, array2: np.array,\n",
        "               precision: float) -> np.array:\n",
        "    return np.arange(array1.size)[np.abs(np.subtract(array1, array2)) <= precision]"
      ],
      "metadata": {
        "id": "1pgCrLTwj6kv"
      },
      "execution_count": null,
      "outputs": []
    },
    {
      "cell_type": "markdown",
      "source": [
        "### Тесты"
      ],
      "metadata": {
        "id": "Ch-8H0TiVgK9"
      }
    },
    {
      "cell_type": "code",
      "source": [
        "array1 = np.array([1.5, 0.5, 2, -4.1, -3, 6, -1])\n",
        "array2 = np.array([1.2, 0.5, 1, -4.0,  3, 0, -1.2])\n",
        "precision = 0.5\n",
        "res = find_close(array1, array2, precision)\n",
        "\n",
        "assert res.ndim == 1\n",
        "assert np.allclose(res, np.array([0, 1, 3, 6]))"
      ],
      "metadata": {
        "id": "uBdOKtDhj7K6"
      },
      "execution_count": null,
      "outputs": []
    },
    {
      "cell_type": "code",
      "source": [
        "array1 = np.array([3.1415, 2.7182, 1.6180, 6.6261])\n",
        "array2 = np.array([6.6730, 1.3807, -1,     6.0222])\n",
        "precision = 1.7\n",
        "res = find_close(array1, array2, precision)\n",
        "\n",
        "assert res.ndim == 1\n",
        "assert np.allclose(res, np.array([1, 3]))"
      ],
      "metadata": {
        "id": "W7GbVK64j7d_"
      },
      "execution_count": null,
      "outputs": []
    },
    {
      "cell_type": "markdown",
      "source": [
        "## Задание 4"
      ],
      "metadata": {
        "id": "QvqGU3j1mkcj"
      }
    },
    {
      "cell_type": "markdown",
      "source": [
        "### Формулировка\n",
        "\n",
        "Напишите функцию, которая составляет блочную матрицу из четырех блоков, где каждый блок - это заданная матрица. Например, если на вход поступает матрица\n",
        "\n",
        "\\begin{align}\n",
        "        block = \\begin{pmatrix}\n",
        "        0 & 1 & 2 \\\\\n",
        "        3 & 4 & 5\n",
        "        \\end{pmatrix},\n",
        "\\end{align}\n",
        "\n",
        "то ответом будет матрица\n",
        "\n",
        "\\begin{align}\n",
        "        answer = \\begin{pmatrix}\n",
        "        0 & 1 & 2 & 0 & 1 & 2\\\\\n",
        "        3 & 4 & 5 & 3 & 4 & 5\\\\\n",
        "        0 & 1 & 2 & 0 & 1 & 2\\\\\n",
        "        3 & 4 & 5 & 3 & 4 & 5\\\\\n",
        "        \\end{pmatrix}.\n",
        "\\end{align}"
      ],
      "metadata": {
        "id": "t0VpKIc2VtYT"
      }
    },
    {
      "cell_type": "markdown",
      "source": [
        "### Функция"
      ],
      "metadata": {
        "id": "3sInC6tBWnLr"
      }
    },
    {
      "cell_type": "code",
      "source": [
        "def block_matrix(block: np.array) -> np.array:\n",
        "    return np.tile(block, (2,2))"
      ],
      "metadata": {
        "id": "saXfwnfpmpT9"
      },
      "execution_count": null,
      "outputs": []
    },
    {
      "cell_type": "markdown",
      "source": [
        "### Тесты"
      ],
      "metadata": {
        "id": "53PQuoiNWpCF"
      }
    },
    {
      "cell_type": "code",
      "source": [
        "block = np.array([[1, 3, 3], [7, 0, 0]])\n",
        "\n",
        "assert np.allclose(\n",
        "    block_matrix(block),\n",
        "    np.array([[1, 3, 3, 1, 3, 3],\n",
        "              [7, 0, 0, 7, 0, 0],\n",
        "              [1, 3, 3, 1, 3, 3],\n",
        "              [7, 0, 0, 7, 0, 0]])\n",
        ")"
      ],
      "metadata": {
        "id": "6DY77zVKmphu"
      },
      "execution_count": null,
      "outputs": []
    },
    {
      "cell_type": "markdown",
      "source": [
        "## Задание 5"
      ],
      "metadata": {
        "id": "9Egs4yTZra1K"
      }
    },
    {
      "cell_type": "markdown",
      "source": [
        "### Формулировка\n",
        "\n",
        "Напишите функцию, вычисляющую произведение всех ненулевых диагональных элементов на диагонали данной квадратной матрицы."
      ],
      "metadata": {
        "id": "SxOz9-SUXLO-"
      }
    },
    {
      "cell_type": "markdown",
      "source": [
        "### Функция"
      ],
      "metadata": {
        "id": "a8uU-HYWXQ4P"
      }
    },
    {
      "cell_type": "code",
      "source": [
        "def diag_prod(matrix: np.array) -> int:\n",
        "    diag = np.diag(matrix)\n",
        "    return np.prod(diag[diag != 0])"
      ],
      "metadata": {
        "id": "T-7kbYL7rlA2"
      },
      "execution_count": null,
      "outputs": []
    },
    {
      "cell_type": "markdown",
      "source": [
        "### Тесты"
      ],
      "metadata": {
        "id": "xuARQ8f_XSpy"
      }
    },
    {
      "cell_type": "code",
      "source": [
        "matrix = np.array([[0, 1, 2, 3],\n",
        "                   [4, 5, 6, 7],\n",
        "                   [8, 9, 10, 11],\n",
        "                   [12, 13, 14, 15]])\n",
        "\n",
        "assert diag_prod(matrix) == 750"
      ],
      "metadata": {
        "id": "49DXRetqrldb"
      },
      "execution_count": null,
      "outputs": []
    },
    {
      "cell_type": "markdown",
      "source": [
        "## Задание 6"
      ],
      "metadata": {
        "id": "QOxS4oPkt5rS"
      }
    },
    {
      "cell_type": "markdown",
      "source": [
        "### Формулировка\n",
        "\n",
        "Напишите функцию, нормализующую входящую матрицу (по столбцам). Например, если на вход подается матрица\n",
        "\n",
        "\\begin{align}\n",
        "        matrix = \\begin{pmatrix}\n",
        "        1 & 4 & 4200 \\\\\n",
        "        0 & 10 & 5000 \\\\\n",
        "        1 & 2 & 1000\n",
        "        \\end{pmatrix},\n",
        "\\end{align}\n",
        "\n",
        "то результатом с точностью до сотых будет матрица\n",
        "\n",
        "\\begin{align}\n",
        "        normalised\\_matrix = \\begin{pmatrix}\n",
        "        0.71 & -0.39 & 0.46 \\\\\n",
        "        -1,41 & 1.37 & 0,93 \\\\\n",
        "        0.71 & -0.98 & -1.39\n",
        "        \\end{pmatrix}.\n",
        "\\end{align}"
      ],
      "metadata": {
        "id": "eDkeZJh6XXI7"
      }
    },
    {
      "cell_type": "markdown",
      "source": [
        "### Обработка деления на ноль\n",
        "\n",
        "При нормализации данных нередко встречается деление на 0 (когда все числа в столбце - одинаковы). В моем решении задачи, при возникновении данной ситуации, столбец будет зануляться."
      ],
      "metadata": {
        "id": "d-CvU0bVYHhs"
      }
    },
    {
      "cell_type": "markdown",
      "source": [
        "### Функция"
      ],
      "metadata": {
        "id": "V3lpirUoYh5i"
      }
    },
    {
      "cell_type": "code",
      "source": [
        "def normalize(matrix: np.array) -> np.array:\n",
        "    means = np.mean(matrix, axis=0)\n",
        "    stds = np.std(matrix, axis=0)[stds==0] = 1\n",
        "    matrix = np.subtract(matrix, means)\n",
        "\n",
        "    return matrix / stds"
      ],
      "metadata": {
        "id": "DyFlmCsJt6A3"
      },
      "execution_count": null,
      "outputs": []
    },
    {
      "cell_type": "markdown",
      "source": [
        "### Тесты"
      ],
      "metadata": {
        "id": "n2I42whvYjSE"
      }
    },
    {
      "cell_type": "markdown",
      "source": [
        "Мой тест, включающий деление на ноль."
      ],
      "metadata": {
        "id": "xk7n3XRcDmUb"
      }
    },
    {
      "cell_type": "code",
      "source": [
        "matrix = np.array([[-7, 2, 42]])\n",
        "\n",
        "assert np.allclose(\n",
        "    normalize(matrix),\n",
        "    np.array([[0, 0, 0]])\n",
        ")"
      ],
      "metadata": {
        "id": "-rBa1EzRCIGE"
      },
      "execution_count": null,
      "outputs": []
    },
    {
      "cell_type": "markdown",
      "source": [
        "Тесты с тетрадки с ДЗ."
      ],
      "metadata": {
        "id": "cKKe545jDsgl"
      }
    },
    {
      "cell_type": "code",
      "source": [
        "matrix = np.array([[1, 4, 4200], [0, 10, 5000], [1, 2, 1000]])\n",
        "\n",
        "assert np.allclose(\n",
        "    normalize(matrix),\n",
        "    np.array([[ 0.7071, -0.39223,  0.46291],\n",
        "              [-1.4142,  1.37281,  0.92582],\n",
        "              [ 0.7071, -0.98058, -1.38873]])\n",
        ")"
      ],
      "metadata": {
        "id": "bAUMjWLdt6Ty"
      },
      "execution_count": null,
      "outputs": []
    },
    {
      "cell_type": "code",
      "source": [
        "matrix = np.array([[-7, 2, 42], [2, 10, 50], [5, 4, 10]])\n",
        "\n",
        "assert np.allclose(\n",
        "    normalize(matrix),\n",
        "    np.array([[-1.37281, -0.98058,  0.46291],\n",
        "              [ 0.39223,  1.37281,  0.92582],\n",
        "              [ 0.98058, -0.39223, -1.38873]])\n",
        ")"
      ],
      "metadata": {
        "id": "rtll3bSZurju"
      },
      "execution_count": null,
      "outputs": []
    },
    {
      "cell_type": "markdown",
      "source": [
        "## Задание 7\n"
      ],
      "metadata": {
        "id": "XeU_1sIMHSuK"
      }
    },
    {
      "cell_type": "markdown",
      "source": [
        "### Формулировка\n",
        "\n",
        "Написать функцию, возвращающую максимальный элемент в векторе x среди элементов, перед которыми стоит нулевой.\n",
        "Для `x = np.array([6, 2, 0, 3, 0, 0, 5, 7, 0])` ответом является 5."
      ],
      "metadata": {
        "id": "Sd8FmV4pYrfd"
      }
    },
    {
      "cell_type": "markdown",
      "source": [
        "### Функция"
      ],
      "metadata": {
        "id": "W8N67sUnYyU6"
      }
    },
    {
      "cell_type": "code",
      "source": [
        "def prevZeroMax(matrix: np.array) -> int:\n",
        "    for i in range(1, len(matrix)):\n",
        "        if matrix[i - 1] == 0:\n",
        "            max_element = matrix[i]\n",
        "\n",
        "    return max_element"
      ],
      "metadata": {
        "id": "O32aMjRfHZCn"
      },
      "execution_count": null,
      "outputs": []
    },
    {
      "cell_type": "markdown",
      "source": [
        "### Тесты"
      ],
      "metadata": {
        "id": "_HzUZr7IY0sI"
      }
    },
    {
      "cell_type": "code",
      "source": [
        "coefs = np.array([6, 2, 0, 3, 0, 0, 5, 7, 0])\n",
        "\n",
        "assert prevZeroMax(coefs) == 5"
      ],
      "metadata": {
        "id": "yCetYFjRHZL8"
      },
      "execution_count": null,
      "outputs": []
    },
    {
      "cell_type": "code",
      "source": [
        "coefs = np.array([1, 0, 1, 0, 4, 2, 0])\n",
        "\n",
        "assert prevZeroMax(coefs) == 4"
      ],
      "metadata": {
        "id": "DRzy40o-HabJ"
      },
      "execution_count": null,
      "outputs": []
    },
    {
      "cell_type": "markdown",
      "source": [
        "## Задание 8"
      ],
      "metadata": {
        "id": "yrxG9p4AMfwl"
      }
    },
    {
      "cell_type": "markdown",
      "source": [
        "### Формулировка\n",
        "\n",
        "Напишите функцию, делающую данную треугольную матрицу симметричной. Например, если на вход поступает матрица\n",
        "\n",
        "\\begin{align}\n",
        "        matrix = \\begin{pmatrix}\n",
        "        1 & 2 & 3 & 4 \\\\\n",
        "        0 & 5 & 6 & 7 \\\\\n",
        "        0 & 0 & 8 & 9 \\\\\n",
        "        0 & 0 & 0 & 10\n",
        "        \\end{pmatrix},\n",
        "\\end{align}\n",
        "\n",
        "то на выходе должна быть матрица\n",
        "\n",
        "\\begin{align}\n",
        "        answer = \\begin{pmatrix}\n",
        "        1 & 2 & 3 & 4 \\\\\n",
        "        2 & 5 & 6 & 7 \\\\\n",
        "        3 & 6 & 8 & 9 \\\\\n",
        "        4 & 7 & 9 & 10\n",
        "        \\end{pmatrix}.\n",
        "\\end{align}"
      ],
      "metadata": {
        "id": "LijBxAB5Y1zu"
      }
    },
    {
      "cell_type": "markdown",
      "source": [
        "### Функция"
      ],
      "metadata": {
        "id": "Gi5U5VfLZS8d"
      }
    },
    {
      "cell_type": "code",
      "source": [
        "def make_symmetric(matrix: np.array) -> np.array:\n",
        "    transposed_matrix = matrix.T.copy()\n",
        "    np.fill_diagonal((transposed_matrix), 0)\n",
        "\n",
        "    return matrix + transposed_matrix"
      ],
      "metadata": {
        "id": "JgNT0BhTMm9Q"
      },
      "execution_count": null,
      "outputs": []
    },
    {
      "cell_type": "markdown",
      "source": [
        "### Тесты"
      ],
      "metadata": {
        "id": "ScD0ZsC-ZUfc"
      }
    },
    {
      "cell_type": "code",
      "source": [
        "matrix = np.array([[1, 2, 3, 4], [0, 5, 6, 7], [0, 0, 8, 9], [0, 0, 0, 10]])\n",
        "\n",
        "assert np.allclose(\n",
        "    make_symmetric(matrix),\n",
        "    np.array([[ 1,  2,  3,  4],\n",
        "              [ 2,  5,  6,  7],\n",
        "              [ 3,  6,  8,  9],\n",
        "              [ 4,  7,  9, 10]])\n",
        ")"
      ],
      "metadata": {
        "id": "Y5_kQDyRMneP"
      },
      "execution_count": null,
      "outputs": []
    },
    {
      "cell_type": "code",
      "source": [
        "matrix = np.array([[10, 21, 32, 49], [0, 53, 62, 78], [0, 0, 82, 92], [0, 0, 0, 10]])\n",
        "\n",
        "assert np.allclose(\n",
        "    make_symmetric(matrix),\n",
        "    np.array([[10, 21, 32, 49],\n",
        "              [21, 53, 62, 78],\n",
        "              [32, 62, 82, 92],\n",
        "              [49, 78, 92, 10]])\n",
        ")"
      ],
      "metadata": {
        "id": "oVmeI42bMnlw"
      },
      "execution_count": null,
      "outputs": []
    },
    {
      "cell_type": "markdown",
      "source": [
        "## Задание 9"
      ],
      "metadata": {
        "id": "HtLyVmMmRkk8"
      }
    },
    {
      "cell_type": "markdown",
      "source": [
        "### Формулировка\n",
        "\n",
        "Напишите функцию, создающую прямоугольную матрицу из m одинаковых строк, заполненных последовательными натуральными числами от a до b включительно в возрастающем порядке. Например, если `m = 5, a = 3, b = 10`, то на выходе будет матрица\n",
        "\n",
        "\\begin{align}\n",
        "        answer = \\begin{pmatrix}\n",
        "        3 & 4 & 5 & 6 & 7 & 8 & 9 & 10\\\\\n",
        "        3 & 4 & 5 & 6 & 7 & 8 & 9 & 10\\\\\n",
        "        3 & 4 & 5 & 6 & 7 & 8 & 9 & 10\\\\\n",
        "        3 & 4 & 5 & 6 & 7 & 8 & 9 & 10\\\\\n",
        "        3 & 4 & 5 & 6 & 7 & 8 & 9 & 10\n",
        "        \\end{pmatrix}.\n",
        "\\end{align}"
      ],
      "metadata": {
        "id": "ahkfvPtiZV1y"
      }
    },
    {
      "cell_type": "markdown",
      "source": [
        "### Функция"
      ],
      "metadata": {
        "id": "vzIRmWJeZtp6"
      }
    },
    {
      "cell_type": "code",
      "source": [
        "def construct_matrix(m: int, a: int, b: int) -> np.array:\n",
        "    return np.tile(np.arange(a, b + 1), (m, 1))"
      ],
      "metadata": {
        "id": "CqzrG16sRkEl"
      },
      "execution_count": null,
      "outputs": []
    },
    {
      "cell_type": "markdown",
      "source": [
        "### Тесты"
      ],
      "metadata": {
        "id": "lfM8gwG4ZvNQ"
      }
    },
    {
      "cell_type": "code",
      "source": [
        "m = 5\n",
        "a = 3\n",
        "b = 10\n",
        "\n",
        "assert np.allclose(\n",
        "    construct_matrix(m, a, b),\n",
        "    np.array([[ 3,  4,  5,  6,  7,  8,  9, 10],\n",
        "              [ 3,  4,  5,  6,  7,  8,  9, 10],\n",
        "              [ 3,  4,  5,  6,  7,  8,  9, 10],\n",
        "              [ 3,  4,  5,  6,  7,  8,  9, 10],\n",
        "              [ 3,  4,  5,  6,  7,  8,  9, 10]])\n",
        ")"
      ],
      "metadata": {
        "id": "15n_DPo_RlDo"
      },
      "execution_count": null,
      "outputs": []
    },
    {
      "cell_type": "code",
      "source": [
        "m = 3\n",
        "a = 2\n",
        "b = 6\n",
        "\n",
        "assert np.allclose(\n",
        "    construct_matrix(m, a, b),\n",
        "    np.array([[2, 3, 4, 5, 6],\n",
        "              [2, 3, 4, 5, 6],\n",
        "              [2, 3, 4, 5, 6]])\n",
        ")"
      ],
      "metadata": {
        "id": "pGlUIAhxRlf8"
      },
      "execution_count": null,
      "outputs": []
    },
    {
      "cell_type": "markdown",
      "source": [
        "## Задание 10"
      ],
      "metadata": {
        "id": "tSW74oGoSUuP"
      }
    },
    {
      "cell_type": "markdown",
      "source": [
        "### Формулировка\n",
        "\n",
        "Напишите функцию, вычисляющую косинусную близость двух векторов. Более формально:\n",
        "\n",
        "\\begin{align}\n",
        "    cosine\\_similarity(vec1, vec2) = \\frac{\\sum_{i=1}^n vec1_i \\,vec2_i}{\\sqrt{\\sum_{i=1}^n vec1_i^2} \\, \\sqrt{\\sum_{i=1}^n vec2_i^2}}\n",
        "\\end{align}"
      ],
      "metadata": {
        "id": "seJ7vV3BZx3n"
      }
    },
    {
      "cell_type": "markdown",
      "source": [
        "### Функция"
      ],
      "metadata": {
        "id": "ffIFmHp8dpCQ"
      }
    },
    {
      "cell_type": "code",
      "source": [
        "def cosine_similarity(vec1: np.array, vec2: np.array) -> float:\n",
        "    return np.sum(vec1 * vec2) / (np.sqrt(np.sum(vec1 * vec1)) * np.sqrt(np.sum(vec2 * vec2)))"
      ],
      "metadata": {
        "id": "H7OAFdCLSX32"
      },
      "execution_count": null,
      "outputs": []
    },
    {
      "cell_type": "markdown",
      "source": [
        "### Тесты"
      ],
      "metadata": {
        "id": "Pml2UfLQdq6M"
      }
    },
    {
      "cell_type": "code",
      "source": [
        "vec1 = np.array([-2, 1,  0, -5, 4, 3, -3])\n",
        "vec2 = np.array([ 0, 2, -2, 10, 6, 0,  0])\n",
        "\n",
        "assert np.allclose(cosine_similarity(vec1, vec2), -0.25)"
      ],
      "metadata": {
        "id": "yQTQvTeGSXvD"
      },
      "execution_count": null,
      "outputs": []
    },
    {
      "cell_type": "code",
      "source": [
        "vec1 = np.array([-4, 2,  9, -8, 9, 0, -2])\n",
        "vec2 = np.array([ 3, 2, -4, -1, 3, 2,  2])\n",
        "\n",
        "assert np.allclose(cosine_similarity(vec1, vec2), -0.119929)"
      ],
      "metadata": {
        "id": "dljq1FscSXa4"
      },
      "execution_count": null,
      "outputs": []
    }
  ]
}