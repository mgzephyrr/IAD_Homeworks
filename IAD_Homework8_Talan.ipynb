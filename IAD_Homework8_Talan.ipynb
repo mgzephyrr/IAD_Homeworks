{
  "nbformat": 4,
  "nbformat_minor": 0,
  "metadata": {
    "colab": {
      "provenance": []
    },
    "kernelspec": {
      "name": "python3",
      "display_name": "Python 3"
    },
    "language_info": {
      "name": "python"
    }
  },
  "cells": [
    {
      "cell_type": "markdown",
      "source": [
        "# Домашнее задание №8. Бустинг и кластеризация."
      ],
      "metadata": {
        "id": "v9soSwTadx6Q"
      }
    },
    {
      "cell_type": "code",
      "source": [
        "import pandas as pd\n",
        "from sklearn.model_selection import train_test_split"
      ],
      "metadata": {
        "id": "NqBBh4u1d9k2"
      },
      "execution_count": null,
      "outputs": []
    },
    {
      "cell_type": "markdown",
      "source": [
        "## Часть 1 Бустинг (5 баллов)"
      ],
      "metadata": {
        "id": "LZf_J1Rtb5VQ"
      }
    },
    {
      "cell_type": "markdown",
      "source": [
        "В этой части будем предсказывать зарплату data scientist-ов в зависимости  от ряда факторов с помощью градиентного бустинга."
      ],
      "metadata": {
        "id": "AIcFFFtnb8uF"
      }
    },
    {
      "cell_type": "markdown",
      "source": [
        "В датасете есть следующие признаки:\n",
        "\n",
        "\n",
        "\n",
        "* work_year: The number of years of work experience in the field of data science.\n",
        "\n",
        "* experience_level: The level of experience, such as Junior, Senior, or Lead.\n",
        "\n",
        "* employment_type: The type of employment, such as Full-time or Contract.\n",
        "\n",
        "* job_title: The specific job title or role, such as Data Analyst or Data Scientist.\n",
        "\n",
        "* salary: The salary amount for the given job.\n",
        "\n",
        "* salary_currency: The currency in which the salary is denoted.\n",
        "\n",
        "* salary_in_usd: The equivalent salary amount converted to US dollars (USD) for comparison purposes.\n",
        "\n",
        "* employee_residence: The country or region where the employee resides.\n",
        "\n",
        "* remote_ratio: The percentage of remote work offered in the job.\n",
        "\n",
        "* company_location: The location of the company or organization.\n",
        "\n",
        "* company_size: The company's size is categorized as Small, Medium, or Large."
      ],
      "metadata": {
        "id": "VhManMmmb7V2"
      }
    },
    {
      "cell_type": "code",
      "source": [
        "link = 'https://raw.githubusercontent.com/hse-ds/iad-intro-ds/master/2024/homeworks/hw08_boosting_clustering/ds_salaries.csv'"
      ],
      "metadata": {
        "id": "58aTgwJycD0A"
      },
      "execution_count": null,
      "outputs": []
    },
    {
      "cell_type": "code",
      "source": [
        "df = pd.read_csv(link)\n",
        "df.head()"
      ],
      "metadata": {
        "colab": {
          "base_uri": "https://localhost:8080/",
          "height": 206
        },
        "id": "RaVNi6obcF6V",
        "outputId": "94ca47c2-c419-419e-b6a6-07f6e1bbd365"
      },
      "execution_count": null,
      "outputs": [
        {
          "output_type": "execute_result",
          "data": {
            "text/plain": [
              "   work_year experience_level employment_type                 job_title  \\\n",
              "0       2023               SE              FT  Principal Data Scientist   \n",
              "1       2023               MI              CT               ML Engineer   \n",
              "2       2023               MI              CT               ML Engineer   \n",
              "3       2023               SE              FT            Data Scientist   \n",
              "4       2023               SE              FT            Data Scientist   \n",
              "\n",
              "   salary salary_currency  salary_in_usd employee_residence  remote_ratio  \\\n",
              "0   80000             EUR          85847                 ES           100   \n",
              "1   30000             USD          30000                 US           100   \n",
              "2   25500             USD          25500                 US           100   \n",
              "3  175000             USD         175000                 CA           100   \n",
              "4  120000             USD         120000                 CA           100   \n",
              "\n",
              "  company_location company_size  \n",
              "0               ES            L  \n",
              "1               US            S  \n",
              "2               US            S  \n",
              "3               CA            M  \n",
              "4               CA            M  "
            ],
            "text/html": [
              "\n",
              "  <div id=\"df-f069b3b1-1f6c-4d61-a427-72e9b4d64948\" class=\"colab-df-container\">\n",
              "    <div>\n",
              "<style scoped>\n",
              "    .dataframe tbody tr th:only-of-type {\n",
              "        vertical-align: middle;\n",
              "    }\n",
              "\n",
              "    .dataframe tbody tr th {\n",
              "        vertical-align: top;\n",
              "    }\n",
              "\n",
              "    .dataframe thead th {\n",
              "        text-align: right;\n",
              "    }\n",
              "</style>\n",
              "<table border=\"1\" class=\"dataframe\">\n",
              "  <thead>\n",
              "    <tr style=\"text-align: right;\">\n",
              "      <th></th>\n",
              "      <th>work_year</th>\n",
              "      <th>experience_level</th>\n",
              "      <th>employment_type</th>\n",
              "      <th>job_title</th>\n",
              "      <th>salary</th>\n",
              "      <th>salary_currency</th>\n",
              "      <th>salary_in_usd</th>\n",
              "      <th>employee_residence</th>\n",
              "      <th>remote_ratio</th>\n",
              "      <th>company_location</th>\n",
              "      <th>company_size</th>\n",
              "    </tr>\n",
              "  </thead>\n",
              "  <tbody>\n",
              "    <tr>\n",
              "      <th>0</th>\n",
              "      <td>2023</td>\n",
              "      <td>SE</td>\n",
              "      <td>FT</td>\n",
              "      <td>Principal Data Scientist</td>\n",
              "      <td>80000</td>\n",
              "      <td>EUR</td>\n",
              "      <td>85847</td>\n",
              "      <td>ES</td>\n",
              "      <td>100</td>\n",
              "      <td>ES</td>\n",
              "      <td>L</td>\n",
              "    </tr>\n",
              "    <tr>\n",
              "      <th>1</th>\n",
              "      <td>2023</td>\n",
              "      <td>MI</td>\n",
              "      <td>CT</td>\n",
              "      <td>ML Engineer</td>\n",
              "      <td>30000</td>\n",
              "      <td>USD</td>\n",
              "      <td>30000</td>\n",
              "      <td>US</td>\n",
              "      <td>100</td>\n",
              "      <td>US</td>\n",
              "      <td>S</td>\n",
              "    </tr>\n",
              "    <tr>\n",
              "      <th>2</th>\n",
              "      <td>2023</td>\n",
              "      <td>MI</td>\n",
              "      <td>CT</td>\n",
              "      <td>ML Engineer</td>\n",
              "      <td>25500</td>\n",
              "      <td>USD</td>\n",
              "      <td>25500</td>\n",
              "      <td>US</td>\n",
              "      <td>100</td>\n",
              "      <td>US</td>\n",
              "      <td>S</td>\n",
              "    </tr>\n",
              "    <tr>\n",
              "      <th>3</th>\n",
              "      <td>2023</td>\n",
              "      <td>SE</td>\n",
              "      <td>FT</td>\n",
              "      <td>Data Scientist</td>\n",
              "      <td>175000</td>\n",
              "      <td>USD</td>\n",
              "      <td>175000</td>\n",
              "      <td>CA</td>\n",
              "      <td>100</td>\n",
              "      <td>CA</td>\n",
              "      <td>M</td>\n",
              "    </tr>\n",
              "    <tr>\n",
              "      <th>4</th>\n",
              "      <td>2023</td>\n",
              "      <td>SE</td>\n",
              "      <td>FT</td>\n",
              "      <td>Data Scientist</td>\n",
              "      <td>120000</td>\n",
              "      <td>USD</td>\n",
              "      <td>120000</td>\n",
              "      <td>CA</td>\n",
              "      <td>100</td>\n",
              "      <td>CA</td>\n",
              "      <td>M</td>\n",
              "    </tr>\n",
              "  </tbody>\n",
              "</table>\n",
              "</div>\n",
              "    <div class=\"colab-df-buttons\">\n",
              "\n",
              "  <div class=\"colab-df-container\">\n",
              "    <button class=\"colab-df-convert\" onclick=\"convertToInteractive('df-f069b3b1-1f6c-4d61-a427-72e9b4d64948')\"\n",
              "            title=\"Convert this dataframe to an interactive table.\"\n",
              "            style=\"display:none;\">\n",
              "\n",
              "  <svg xmlns=\"http://www.w3.org/2000/svg\" height=\"24px\" viewBox=\"0 -960 960 960\">\n",
              "    <path d=\"M120-120v-720h720v720H120Zm60-500h600v-160H180v160Zm220 220h160v-160H400v160Zm0 220h160v-160H400v160ZM180-400h160v-160H180v160Zm440 0h160v-160H620v160ZM180-180h160v-160H180v160Zm440 0h160v-160H620v160Z\"/>\n",
              "  </svg>\n",
              "    </button>\n",
              "\n",
              "  <style>\n",
              "    .colab-df-container {\n",
              "      display:flex;\n",
              "      gap: 12px;\n",
              "    }\n",
              "\n",
              "    .colab-df-convert {\n",
              "      background-color: #E8F0FE;\n",
              "      border: none;\n",
              "      border-radius: 50%;\n",
              "      cursor: pointer;\n",
              "      display: none;\n",
              "      fill: #1967D2;\n",
              "      height: 32px;\n",
              "      padding: 0 0 0 0;\n",
              "      width: 32px;\n",
              "    }\n",
              "\n",
              "    .colab-df-convert:hover {\n",
              "      background-color: #E2EBFA;\n",
              "      box-shadow: 0px 1px 2px rgba(60, 64, 67, 0.3), 0px 1px 3px 1px rgba(60, 64, 67, 0.15);\n",
              "      fill: #174EA6;\n",
              "    }\n",
              "\n",
              "    .colab-df-buttons div {\n",
              "      margin-bottom: 4px;\n",
              "    }\n",
              "\n",
              "    [theme=dark] .colab-df-convert {\n",
              "      background-color: #3B4455;\n",
              "      fill: #D2E3FC;\n",
              "    }\n",
              "\n",
              "    [theme=dark] .colab-df-convert:hover {\n",
              "      background-color: #434B5C;\n",
              "      box-shadow: 0px 1px 3px 1px rgba(0, 0, 0, 0.15);\n",
              "      filter: drop-shadow(0px 1px 2px rgba(0, 0, 0, 0.3));\n",
              "      fill: #FFFFFF;\n",
              "    }\n",
              "  </style>\n",
              "\n",
              "    <script>\n",
              "      const buttonEl =\n",
              "        document.querySelector('#df-f069b3b1-1f6c-4d61-a427-72e9b4d64948 button.colab-df-convert');\n",
              "      buttonEl.style.display =\n",
              "        google.colab.kernel.accessAllowed ? 'block' : 'none';\n",
              "\n",
              "      async function convertToInteractive(key) {\n",
              "        const element = document.querySelector('#df-f069b3b1-1f6c-4d61-a427-72e9b4d64948');\n",
              "        const dataTable =\n",
              "          await google.colab.kernel.invokeFunction('convertToInteractive',\n",
              "                                                    [key], {});\n",
              "        if (!dataTable) return;\n",
              "\n",
              "        const docLinkHtml = 'Like what you see? Visit the ' +\n",
              "          '<a target=\"_blank\" href=https://colab.research.google.com/notebooks/data_table.ipynb>data table notebook</a>'\n",
              "          + ' to learn more about interactive tables.';\n",
              "        element.innerHTML = '';\n",
              "        dataTable['output_type'] = 'display_data';\n",
              "        await google.colab.output.renderOutput(dataTable, element);\n",
              "        const docLink = document.createElement('div');\n",
              "        docLink.innerHTML = docLinkHtml;\n",
              "        element.appendChild(docLink);\n",
              "      }\n",
              "    </script>\n",
              "  </div>\n",
              "\n",
              "\n",
              "<div id=\"df-a8ec988b-f743-4d5a-9906-e876903800f6\">\n",
              "  <button class=\"colab-df-quickchart\" onclick=\"quickchart('df-a8ec988b-f743-4d5a-9906-e876903800f6')\"\n",
              "            title=\"Suggest charts\"\n",
              "            style=\"display:none;\">\n",
              "\n",
              "<svg xmlns=\"http://www.w3.org/2000/svg\" height=\"24px\"viewBox=\"0 0 24 24\"\n",
              "     width=\"24px\">\n",
              "    <g>\n",
              "        <path d=\"M19 3H5c-1.1 0-2 .9-2 2v14c0 1.1.9 2 2 2h14c1.1 0 2-.9 2-2V5c0-1.1-.9-2-2-2zM9 17H7v-7h2v7zm4 0h-2V7h2v10zm4 0h-2v-4h2v4z\"/>\n",
              "    </g>\n",
              "</svg>\n",
              "  </button>\n",
              "\n",
              "<style>\n",
              "  .colab-df-quickchart {\n",
              "      --bg-color: #E8F0FE;\n",
              "      --fill-color: #1967D2;\n",
              "      --hover-bg-color: #E2EBFA;\n",
              "      --hover-fill-color: #174EA6;\n",
              "      --disabled-fill-color: #AAA;\n",
              "      --disabled-bg-color: #DDD;\n",
              "  }\n",
              "\n",
              "  [theme=dark] .colab-df-quickchart {\n",
              "      --bg-color: #3B4455;\n",
              "      --fill-color: #D2E3FC;\n",
              "      --hover-bg-color: #434B5C;\n",
              "      --hover-fill-color: #FFFFFF;\n",
              "      --disabled-bg-color: #3B4455;\n",
              "      --disabled-fill-color: #666;\n",
              "  }\n",
              "\n",
              "  .colab-df-quickchart {\n",
              "    background-color: var(--bg-color);\n",
              "    border: none;\n",
              "    border-radius: 50%;\n",
              "    cursor: pointer;\n",
              "    display: none;\n",
              "    fill: var(--fill-color);\n",
              "    height: 32px;\n",
              "    padding: 0;\n",
              "    width: 32px;\n",
              "  }\n",
              "\n",
              "  .colab-df-quickchart:hover {\n",
              "    background-color: var(--hover-bg-color);\n",
              "    box-shadow: 0 1px 2px rgba(60, 64, 67, 0.3), 0 1px 3px 1px rgba(60, 64, 67, 0.15);\n",
              "    fill: var(--button-hover-fill-color);\n",
              "  }\n",
              "\n",
              "  .colab-df-quickchart-complete:disabled,\n",
              "  .colab-df-quickchart-complete:disabled:hover {\n",
              "    background-color: var(--disabled-bg-color);\n",
              "    fill: var(--disabled-fill-color);\n",
              "    box-shadow: none;\n",
              "  }\n",
              "\n",
              "  .colab-df-spinner {\n",
              "    border: 2px solid var(--fill-color);\n",
              "    border-color: transparent;\n",
              "    border-bottom-color: var(--fill-color);\n",
              "    animation:\n",
              "      spin 1s steps(1) infinite;\n",
              "  }\n",
              "\n",
              "  @keyframes spin {\n",
              "    0% {\n",
              "      border-color: transparent;\n",
              "      border-bottom-color: var(--fill-color);\n",
              "      border-left-color: var(--fill-color);\n",
              "    }\n",
              "    20% {\n",
              "      border-color: transparent;\n",
              "      border-left-color: var(--fill-color);\n",
              "      border-top-color: var(--fill-color);\n",
              "    }\n",
              "    30% {\n",
              "      border-color: transparent;\n",
              "      border-left-color: var(--fill-color);\n",
              "      border-top-color: var(--fill-color);\n",
              "      border-right-color: var(--fill-color);\n",
              "    }\n",
              "    40% {\n",
              "      border-color: transparent;\n",
              "      border-right-color: var(--fill-color);\n",
              "      border-top-color: var(--fill-color);\n",
              "    }\n",
              "    60% {\n",
              "      border-color: transparent;\n",
              "      border-right-color: var(--fill-color);\n",
              "    }\n",
              "    80% {\n",
              "      border-color: transparent;\n",
              "      border-right-color: var(--fill-color);\n",
              "      border-bottom-color: var(--fill-color);\n",
              "    }\n",
              "    90% {\n",
              "      border-color: transparent;\n",
              "      border-bottom-color: var(--fill-color);\n",
              "    }\n",
              "  }\n",
              "</style>\n",
              "\n",
              "  <script>\n",
              "    async function quickchart(key) {\n",
              "      const quickchartButtonEl =\n",
              "        document.querySelector('#' + key + ' button');\n",
              "      quickchartButtonEl.disabled = true;  // To prevent multiple clicks.\n",
              "      quickchartButtonEl.classList.add('colab-df-spinner');\n",
              "      try {\n",
              "        const charts = await google.colab.kernel.invokeFunction(\n",
              "            'suggestCharts', [key], {});\n",
              "      } catch (error) {\n",
              "        console.error('Error during call to suggestCharts:', error);\n",
              "      }\n",
              "      quickchartButtonEl.classList.remove('colab-df-spinner');\n",
              "      quickchartButtonEl.classList.add('colab-df-quickchart-complete');\n",
              "    }\n",
              "    (() => {\n",
              "      let quickchartButtonEl =\n",
              "        document.querySelector('#df-a8ec988b-f743-4d5a-9906-e876903800f6 button');\n",
              "      quickchartButtonEl.style.display =\n",
              "        google.colab.kernel.accessAllowed ? 'block' : 'none';\n",
              "    })();\n",
              "  </script>\n",
              "</div>\n",
              "    </div>\n",
              "  </div>\n"
            ],
            "application/vnd.google.colaboratory.intrinsic+json": {
              "type": "dataframe",
              "variable_name": "df",
              "summary": "{\n  \"name\": \"df\",\n  \"rows\": 3755,\n  \"fields\": [\n    {\n      \"column\": \"work_year\",\n      \"properties\": {\n        \"dtype\": \"number\",\n        \"std\": 0,\n        \"min\": 2020,\n        \"max\": 2023,\n        \"num_unique_values\": 4,\n        \"samples\": [\n          2022,\n          2021,\n          2023\n        ],\n        \"semantic_type\": \"\",\n        \"description\": \"\"\n      }\n    },\n    {\n      \"column\": \"experience_level\",\n      \"properties\": {\n        \"dtype\": \"category\",\n        \"num_unique_values\": 4,\n        \"samples\": [\n          \"MI\",\n          \"EX\",\n          \"SE\"\n        ],\n        \"semantic_type\": \"\",\n        \"description\": \"\"\n      }\n    },\n    {\n      \"column\": \"employment_type\",\n      \"properties\": {\n        \"dtype\": \"category\",\n        \"num_unique_values\": 4,\n        \"samples\": [\n          \"CT\",\n          \"PT\",\n          \"FT\"\n        ],\n        \"semantic_type\": \"\",\n        \"description\": \"\"\n      }\n    },\n    {\n      \"column\": \"job_title\",\n      \"properties\": {\n        \"dtype\": \"category\",\n        \"num_unique_values\": 93,\n        \"samples\": [\n          \"Cloud Database Engineer\",\n          \"Staff Data Analyst\",\n          \"Insight Analyst\"\n        ],\n        \"semantic_type\": \"\",\n        \"description\": \"\"\n      }\n    },\n    {\n      \"column\": \"salary\",\n      \"properties\": {\n        \"dtype\": \"number\",\n        \"std\": 671676,\n        \"min\": 6000,\n        \"max\": 30400000,\n        \"num_unique_values\": 815,\n        \"samples\": [\n          84570,\n          138000,\n          370000\n        ],\n        \"semantic_type\": \"\",\n        \"description\": \"\"\n      }\n    },\n    {\n      \"column\": \"salary_currency\",\n      \"properties\": {\n        \"dtype\": \"category\",\n        \"num_unique_values\": 20,\n        \"samples\": [\n          \"EUR\",\n          \"MXN\",\n          \"DKK\"\n        ],\n        \"semantic_type\": \"\",\n        \"description\": \"\"\n      }\n    },\n    {\n      \"column\": \"salary_in_usd\",\n      \"properties\": {\n        \"dtype\": \"number\",\n        \"std\": 63055,\n        \"min\": 5132,\n        \"max\": 450000,\n        \"num_unique_values\": 1035,\n        \"samples\": [\n          205600,\n          375000,\n          140700\n        ],\n        \"semantic_type\": \"\",\n        \"description\": \"\"\n      }\n    },\n    {\n      \"column\": \"employee_residence\",\n      \"properties\": {\n        \"dtype\": \"category\",\n        \"num_unique_values\": 78,\n        \"samples\": [\n          \"AR\",\n          \"ES\",\n          \"AM\"\n        ],\n        \"semantic_type\": \"\",\n        \"description\": \"\"\n      }\n    },\n    {\n      \"column\": \"remote_ratio\",\n      \"properties\": {\n        \"dtype\": \"number\",\n        \"std\": 48,\n        \"min\": 0,\n        \"max\": 100,\n        \"num_unique_values\": 3,\n        \"samples\": [\n          100,\n          0,\n          50\n        ],\n        \"semantic_type\": \"\",\n        \"description\": \"\"\n      }\n    },\n    {\n      \"column\": \"company_location\",\n      \"properties\": {\n        \"dtype\": \"category\",\n        \"num_unique_values\": 72,\n        \"samples\": [\n          \"GB\",\n          \"MY\",\n          \"SG\"\n        ],\n        \"semantic_type\": \"\",\n        \"description\": \"\"\n      }\n    },\n    {\n      \"column\": \"company_size\",\n      \"properties\": {\n        \"dtype\": \"category\",\n        \"num_unique_values\": 3,\n        \"samples\": [\n          \"L\",\n          \"S\",\n          \"M\"\n        ],\n        \"semantic_type\": \"\",\n        \"description\": \"\"\n      }\n    }\n  ]\n}"
            }
          },
          "metadata": {},
          "execution_count": 3
        }
      ]
    },
    {
      "cell_type": "markdown",
      "source": [
        "### Задание 1 (0.5 балла) Подготовка"
      ],
      "metadata": {
        "id": "ERrlZfsQcLbA"
      }
    },
    {
      "cell_type": "markdown",
      "source": [
        "\n",
        "\n",
        "*   Разделите выборку на train, val, test (80%, 10%, 10%)\n",
        "*   Выдерите salary_in_usd в качестве таргета\n",
        "*   Найдите и удалите признак, из-за которого возможен лик в данных\n"
      ],
      "metadata": {
        "id": "sFMm5Zt7cMk4"
      }
    },
    {
      "cell_type": "code",
      "source": [
        "df = df.drop('salary', axis=1)"
      ],
      "metadata": {
        "id": "WR4nlmVZc4bs"
      },
      "execution_count": null,
      "outputs": []
    },
    {
      "cell_type": "code",
      "source": [
        "X, y = df.drop('salary_in_usd', axis=1), df['salary_in_usd']"
      ],
      "metadata": {
        "id": "RwyGRF8_dFOl"
      },
      "execution_count": null,
      "outputs": []
    },
    {
      "cell_type": "code",
      "source": [
        "X_train, X_val_and_test, y_train, y_val_and_test = train_test_split(X, y, test_size=0.2, random_state=42)"
      ],
      "metadata": {
        "id": "l4MCpKCqcjh_"
      },
      "execution_count": null,
      "outputs": []
    },
    {
      "cell_type": "code",
      "source": [
        "X_val, X_test, y_val, y_test = train_test_split(X_val_and_test, y_val_and_test, test_size=0.5, random_state=42)"
      ],
      "metadata": {
        "id": "IjdIZeMtcuBC"
      },
      "execution_count": null,
      "outputs": []
    },
    {
      "cell_type": "code",
      "source": [
        "X_train"
      ],
      "metadata": {
        "colab": {
          "base_uri": "https://localhost:8080/",
          "height": 424
        },
        "id": "L5OdB15ChmEh",
        "outputId": "7bcd2888-2add-4208-e4fa-023fd4be2f14"
      },
      "execution_count": null,
      "outputs": [
        {
          "output_type": "execute_result",
          "data": {
            "text/plain": [
              "      work_year experience_level employment_type                  job_title  \\\n",
              "2238       2022               SE              FT              Data Engineer   \n",
              "485        2023               MI              FT         Research Scientist   \n",
              "2177       2022               SE              FT               Data Analyst   \n",
              "3305       2022               SE              FT              Data Engineer   \n",
              "1769       2023               SE              FT              Data Engineer   \n",
              "...         ...              ...             ...                        ...   \n",
              "1130       2023               SE              FT  Machine Learning Engineer   \n",
              "1294       2023               SE              FT               Data Analyst   \n",
              "860        2023               EX              FT              Data Engineer   \n",
              "3507       2021               MI              FT         Research Scientist   \n",
              "3174       2022               MI              FT  Machine Learning Engineer   \n",
              "\n",
              "     salary_currency employee_residence  remote_ratio company_location  \\\n",
              "2238             EUR                 ES             0               ES   \n",
              "485              USD                 US           100               US   \n",
              "2177             USD                 US             0               US   \n",
              "3305             USD                 US           100               US   \n",
              "1769             USD                 US           100               US   \n",
              "...              ...                ...           ...              ...   \n",
              "1130             USD                 US           100               US   \n",
              "1294             USD                 US             0               US   \n",
              "860              USD                 US           100               US   \n",
              "3507             EUR                 FR            50               FR   \n",
              "3174             EUR                 FR           100               DE   \n",
              "\n",
              "     company_size  \n",
              "2238            M  \n",
              "485             M  \n",
              "2177            M  \n",
              "3305            M  \n",
              "1769            M  \n",
              "...           ...  \n",
              "1130            M  \n",
              "1294            M  \n",
              "860             M  \n",
              "3507            M  \n",
              "3174            M  \n",
              "\n",
              "[3004 rows x 9 columns]"
            ],
            "text/html": [
              "\n",
              "  <div id=\"df-6976d3b5-34f7-41fc-b56e-eb00b46fee1e\" class=\"colab-df-container\">\n",
              "    <div>\n",
              "<style scoped>\n",
              "    .dataframe tbody tr th:only-of-type {\n",
              "        vertical-align: middle;\n",
              "    }\n",
              "\n",
              "    .dataframe tbody tr th {\n",
              "        vertical-align: top;\n",
              "    }\n",
              "\n",
              "    .dataframe thead th {\n",
              "        text-align: right;\n",
              "    }\n",
              "</style>\n",
              "<table border=\"1\" class=\"dataframe\">\n",
              "  <thead>\n",
              "    <tr style=\"text-align: right;\">\n",
              "      <th></th>\n",
              "      <th>work_year</th>\n",
              "      <th>experience_level</th>\n",
              "      <th>employment_type</th>\n",
              "      <th>job_title</th>\n",
              "      <th>salary_currency</th>\n",
              "      <th>employee_residence</th>\n",
              "      <th>remote_ratio</th>\n",
              "      <th>company_location</th>\n",
              "      <th>company_size</th>\n",
              "    </tr>\n",
              "  </thead>\n",
              "  <tbody>\n",
              "    <tr>\n",
              "      <th>2238</th>\n",
              "      <td>2022</td>\n",
              "      <td>SE</td>\n",
              "      <td>FT</td>\n",
              "      <td>Data Engineer</td>\n",
              "      <td>EUR</td>\n",
              "      <td>ES</td>\n",
              "      <td>0</td>\n",
              "      <td>ES</td>\n",
              "      <td>M</td>\n",
              "    </tr>\n",
              "    <tr>\n",
              "      <th>485</th>\n",
              "      <td>2023</td>\n",
              "      <td>MI</td>\n",
              "      <td>FT</td>\n",
              "      <td>Research Scientist</td>\n",
              "      <td>USD</td>\n",
              "      <td>US</td>\n",
              "      <td>100</td>\n",
              "      <td>US</td>\n",
              "      <td>M</td>\n",
              "    </tr>\n",
              "    <tr>\n",
              "      <th>2177</th>\n",
              "      <td>2022</td>\n",
              "      <td>SE</td>\n",
              "      <td>FT</td>\n",
              "      <td>Data Analyst</td>\n",
              "      <td>USD</td>\n",
              "      <td>US</td>\n",
              "      <td>0</td>\n",
              "      <td>US</td>\n",
              "      <td>M</td>\n",
              "    </tr>\n",
              "    <tr>\n",
              "      <th>3305</th>\n",
              "      <td>2022</td>\n",
              "      <td>SE</td>\n",
              "      <td>FT</td>\n",
              "      <td>Data Engineer</td>\n",
              "      <td>USD</td>\n",
              "      <td>US</td>\n",
              "      <td>100</td>\n",
              "      <td>US</td>\n",
              "      <td>M</td>\n",
              "    </tr>\n",
              "    <tr>\n",
              "      <th>1769</th>\n",
              "      <td>2023</td>\n",
              "      <td>SE</td>\n",
              "      <td>FT</td>\n",
              "      <td>Data Engineer</td>\n",
              "      <td>USD</td>\n",
              "      <td>US</td>\n",
              "      <td>100</td>\n",
              "      <td>US</td>\n",
              "      <td>M</td>\n",
              "    </tr>\n",
              "    <tr>\n",
              "      <th>...</th>\n",
              "      <td>...</td>\n",
              "      <td>...</td>\n",
              "      <td>...</td>\n",
              "      <td>...</td>\n",
              "      <td>...</td>\n",
              "      <td>...</td>\n",
              "      <td>...</td>\n",
              "      <td>...</td>\n",
              "      <td>...</td>\n",
              "    </tr>\n",
              "    <tr>\n",
              "      <th>1130</th>\n",
              "      <td>2023</td>\n",
              "      <td>SE</td>\n",
              "      <td>FT</td>\n",
              "      <td>Machine Learning Engineer</td>\n",
              "      <td>USD</td>\n",
              "      <td>US</td>\n",
              "      <td>100</td>\n",
              "      <td>US</td>\n",
              "      <td>M</td>\n",
              "    </tr>\n",
              "    <tr>\n",
              "      <th>1294</th>\n",
              "      <td>2023</td>\n",
              "      <td>SE</td>\n",
              "      <td>FT</td>\n",
              "      <td>Data Analyst</td>\n",
              "      <td>USD</td>\n",
              "      <td>US</td>\n",
              "      <td>0</td>\n",
              "      <td>US</td>\n",
              "      <td>M</td>\n",
              "    </tr>\n",
              "    <tr>\n",
              "      <th>860</th>\n",
              "      <td>2023</td>\n",
              "      <td>EX</td>\n",
              "      <td>FT</td>\n",
              "      <td>Data Engineer</td>\n",
              "      <td>USD</td>\n",
              "      <td>US</td>\n",
              "      <td>100</td>\n",
              "      <td>US</td>\n",
              "      <td>M</td>\n",
              "    </tr>\n",
              "    <tr>\n",
              "      <th>3507</th>\n",
              "      <td>2021</td>\n",
              "      <td>MI</td>\n",
              "      <td>FT</td>\n",
              "      <td>Research Scientist</td>\n",
              "      <td>EUR</td>\n",
              "      <td>FR</td>\n",
              "      <td>50</td>\n",
              "      <td>FR</td>\n",
              "      <td>M</td>\n",
              "    </tr>\n",
              "    <tr>\n",
              "      <th>3174</th>\n",
              "      <td>2022</td>\n",
              "      <td>MI</td>\n",
              "      <td>FT</td>\n",
              "      <td>Machine Learning Engineer</td>\n",
              "      <td>EUR</td>\n",
              "      <td>FR</td>\n",
              "      <td>100</td>\n",
              "      <td>DE</td>\n",
              "      <td>M</td>\n",
              "    </tr>\n",
              "  </tbody>\n",
              "</table>\n",
              "<p>3004 rows × 9 columns</p>\n",
              "</div>\n",
              "    <div class=\"colab-df-buttons\">\n",
              "\n",
              "  <div class=\"colab-df-container\">\n",
              "    <button class=\"colab-df-convert\" onclick=\"convertToInteractive('df-6976d3b5-34f7-41fc-b56e-eb00b46fee1e')\"\n",
              "            title=\"Convert this dataframe to an interactive table.\"\n",
              "            style=\"display:none;\">\n",
              "\n",
              "  <svg xmlns=\"http://www.w3.org/2000/svg\" height=\"24px\" viewBox=\"0 -960 960 960\">\n",
              "    <path d=\"M120-120v-720h720v720H120Zm60-500h600v-160H180v160Zm220 220h160v-160H400v160Zm0 220h160v-160H400v160ZM180-400h160v-160H180v160Zm440 0h160v-160H620v160ZM180-180h160v-160H180v160Zm440 0h160v-160H620v160Z\"/>\n",
              "  </svg>\n",
              "    </button>\n",
              "\n",
              "  <style>\n",
              "    .colab-df-container {\n",
              "      display:flex;\n",
              "      gap: 12px;\n",
              "    }\n",
              "\n",
              "    .colab-df-convert {\n",
              "      background-color: #E8F0FE;\n",
              "      border: none;\n",
              "      border-radius: 50%;\n",
              "      cursor: pointer;\n",
              "      display: none;\n",
              "      fill: #1967D2;\n",
              "      height: 32px;\n",
              "      padding: 0 0 0 0;\n",
              "      width: 32px;\n",
              "    }\n",
              "\n",
              "    .colab-df-convert:hover {\n",
              "      background-color: #E2EBFA;\n",
              "      box-shadow: 0px 1px 2px rgba(60, 64, 67, 0.3), 0px 1px 3px 1px rgba(60, 64, 67, 0.15);\n",
              "      fill: #174EA6;\n",
              "    }\n",
              "\n",
              "    .colab-df-buttons div {\n",
              "      margin-bottom: 4px;\n",
              "    }\n",
              "\n",
              "    [theme=dark] .colab-df-convert {\n",
              "      background-color: #3B4455;\n",
              "      fill: #D2E3FC;\n",
              "    }\n",
              "\n",
              "    [theme=dark] .colab-df-convert:hover {\n",
              "      background-color: #434B5C;\n",
              "      box-shadow: 0px 1px 3px 1px rgba(0, 0, 0, 0.15);\n",
              "      filter: drop-shadow(0px 1px 2px rgba(0, 0, 0, 0.3));\n",
              "      fill: #FFFFFF;\n",
              "    }\n",
              "  </style>\n",
              "\n",
              "    <script>\n",
              "      const buttonEl =\n",
              "        document.querySelector('#df-6976d3b5-34f7-41fc-b56e-eb00b46fee1e button.colab-df-convert');\n",
              "      buttonEl.style.display =\n",
              "        google.colab.kernel.accessAllowed ? 'block' : 'none';\n",
              "\n",
              "      async function convertToInteractive(key) {\n",
              "        const element = document.querySelector('#df-6976d3b5-34f7-41fc-b56e-eb00b46fee1e');\n",
              "        const dataTable =\n",
              "          await google.colab.kernel.invokeFunction('convertToInteractive',\n",
              "                                                    [key], {});\n",
              "        if (!dataTable) return;\n",
              "\n",
              "        const docLinkHtml = 'Like what you see? Visit the ' +\n",
              "          '<a target=\"_blank\" href=https://colab.research.google.com/notebooks/data_table.ipynb>data table notebook</a>'\n",
              "          + ' to learn more about interactive tables.';\n",
              "        element.innerHTML = '';\n",
              "        dataTable['output_type'] = 'display_data';\n",
              "        await google.colab.output.renderOutput(dataTable, element);\n",
              "        const docLink = document.createElement('div');\n",
              "        docLink.innerHTML = docLinkHtml;\n",
              "        element.appendChild(docLink);\n",
              "      }\n",
              "    </script>\n",
              "  </div>\n",
              "\n",
              "\n",
              "<div id=\"df-cd0a28f5-257b-4c6b-86a2-31c477129ae1\">\n",
              "  <button class=\"colab-df-quickchart\" onclick=\"quickchart('df-cd0a28f5-257b-4c6b-86a2-31c477129ae1')\"\n",
              "            title=\"Suggest charts\"\n",
              "            style=\"display:none;\">\n",
              "\n",
              "<svg xmlns=\"http://www.w3.org/2000/svg\" height=\"24px\"viewBox=\"0 0 24 24\"\n",
              "     width=\"24px\">\n",
              "    <g>\n",
              "        <path d=\"M19 3H5c-1.1 0-2 .9-2 2v14c0 1.1.9 2 2 2h14c1.1 0 2-.9 2-2V5c0-1.1-.9-2-2-2zM9 17H7v-7h2v7zm4 0h-2V7h2v10zm4 0h-2v-4h2v4z\"/>\n",
              "    </g>\n",
              "</svg>\n",
              "  </button>\n",
              "\n",
              "<style>\n",
              "  .colab-df-quickchart {\n",
              "      --bg-color: #E8F0FE;\n",
              "      --fill-color: #1967D2;\n",
              "      --hover-bg-color: #E2EBFA;\n",
              "      --hover-fill-color: #174EA6;\n",
              "      --disabled-fill-color: #AAA;\n",
              "      --disabled-bg-color: #DDD;\n",
              "  }\n",
              "\n",
              "  [theme=dark] .colab-df-quickchart {\n",
              "      --bg-color: #3B4455;\n",
              "      --fill-color: #D2E3FC;\n",
              "      --hover-bg-color: #434B5C;\n",
              "      --hover-fill-color: #FFFFFF;\n",
              "      --disabled-bg-color: #3B4455;\n",
              "      --disabled-fill-color: #666;\n",
              "  }\n",
              "\n",
              "  .colab-df-quickchart {\n",
              "    background-color: var(--bg-color);\n",
              "    border: none;\n",
              "    border-radius: 50%;\n",
              "    cursor: pointer;\n",
              "    display: none;\n",
              "    fill: var(--fill-color);\n",
              "    height: 32px;\n",
              "    padding: 0;\n",
              "    width: 32px;\n",
              "  }\n",
              "\n",
              "  .colab-df-quickchart:hover {\n",
              "    background-color: var(--hover-bg-color);\n",
              "    box-shadow: 0 1px 2px rgba(60, 64, 67, 0.3), 0 1px 3px 1px rgba(60, 64, 67, 0.15);\n",
              "    fill: var(--button-hover-fill-color);\n",
              "  }\n",
              "\n",
              "  .colab-df-quickchart-complete:disabled,\n",
              "  .colab-df-quickchart-complete:disabled:hover {\n",
              "    background-color: var(--disabled-bg-color);\n",
              "    fill: var(--disabled-fill-color);\n",
              "    box-shadow: none;\n",
              "  }\n",
              "\n",
              "  .colab-df-spinner {\n",
              "    border: 2px solid var(--fill-color);\n",
              "    border-color: transparent;\n",
              "    border-bottom-color: var(--fill-color);\n",
              "    animation:\n",
              "      spin 1s steps(1) infinite;\n",
              "  }\n",
              "\n",
              "  @keyframes spin {\n",
              "    0% {\n",
              "      border-color: transparent;\n",
              "      border-bottom-color: var(--fill-color);\n",
              "      border-left-color: var(--fill-color);\n",
              "    }\n",
              "    20% {\n",
              "      border-color: transparent;\n",
              "      border-left-color: var(--fill-color);\n",
              "      border-top-color: var(--fill-color);\n",
              "    }\n",
              "    30% {\n",
              "      border-color: transparent;\n",
              "      border-left-color: var(--fill-color);\n",
              "      border-top-color: var(--fill-color);\n",
              "      border-right-color: var(--fill-color);\n",
              "    }\n",
              "    40% {\n",
              "      border-color: transparent;\n",
              "      border-right-color: var(--fill-color);\n",
              "      border-top-color: var(--fill-color);\n",
              "    }\n",
              "    60% {\n",
              "      border-color: transparent;\n",
              "      border-right-color: var(--fill-color);\n",
              "    }\n",
              "    80% {\n",
              "      border-color: transparent;\n",
              "      border-right-color: var(--fill-color);\n",
              "      border-bottom-color: var(--fill-color);\n",
              "    }\n",
              "    90% {\n",
              "      border-color: transparent;\n",
              "      border-bottom-color: var(--fill-color);\n",
              "    }\n",
              "  }\n",
              "</style>\n",
              "\n",
              "  <script>\n",
              "    async function quickchart(key) {\n",
              "      const quickchartButtonEl =\n",
              "        document.querySelector('#' + key + ' button');\n",
              "      quickchartButtonEl.disabled = true;  // To prevent multiple clicks.\n",
              "      quickchartButtonEl.classList.add('colab-df-spinner');\n",
              "      try {\n",
              "        const charts = await google.colab.kernel.invokeFunction(\n",
              "            'suggestCharts', [key], {});\n",
              "      } catch (error) {\n",
              "        console.error('Error during call to suggestCharts:', error);\n",
              "      }\n",
              "      quickchartButtonEl.classList.remove('colab-df-spinner');\n",
              "      quickchartButtonEl.classList.add('colab-df-quickchart-complete');\n",
              "    }\n",
              "    (() => {\n",
              "      let quickchartButtonEl =\n",
              "        document.querySelector('#df-cd0a28f5-257b-4c6b-86a2-31c477129ae1 button');\n",
              "      quickchartButtonEl.style.display =\n",
              "        google.colab.kernel.accessAllowed ? 'block' : 'none';\n",
              "    })();\n",
              "  </script>\n",
              "</div>\n",
              "    </div>\n",
              "  </div>\n"
            ],
            "application/vnd.google.colaboratory.intrinsic+json": {
              "type": "dataframe",
              "variable_name": "X_train",
              "summary": "{\n  \"name\": \"X_train\",\n  \"rows\": 3004,\n  \"fields\": [\n    {\n      \"column\": \"work_year\",\n      \"properties\": {\n        \"dtype\": \"number\",\n        \"std\": 0,\n        \"min\": 2020,\n        \"max\": 2023,\n        \"num_unique_values\": 4,\n        \"samples\": [\n          2023,\n          2020,\n          2022\n        ],\n        \"semantic_type\": \"\",\n        \"description\": \"\"\n      }\n    },\n    {\n      \"column\": \"experience_level\",\n      \"properties\": {\n        \"dtype\": \"category\",\n        \"num_unique_values\": 4,\n        \"samples\": [\n          \"MI\",\n          \"EX\",\n          \"SE\"\n        ],\n        \"semantic_type\": \"\",\n        \"description\": \"\"\n      }\n    },\n    {\n      \"column\": \"employment_type\",\n      \"properties\": {\n        \"dtype\": \"category\",\n        \"num_unique_values\": 4,\n        \"samples\": [\n          \"PT\",\n          \"FL\",\n          \"FT\"\n        ],\n        \"semantic_type\": \"\",\n        \"description\": \"\"\n      }\n    },\n    {\n      \"column\": \"job_title\",\n      \"properties\": {\n        \"dtype\": \"category\",\n        \"num_unique_values\": 85,\n        \"samples\": [\n          \"Compliance Data Analyst\",\n          \"Data Engineer\",\n          \"Data Science Engineer\"\n        ],\n        \"semantic_type\": \"\",\n        \"description\": \"\"\n      }\n    },\n    {\n      \"column\": \"salary_currency\",\n      \"properties\": {\n        \"dtype\": \"category\",\n        \"num_unique_values\": 19,\n        \"samples\": [\n          \"EUR\",\n          \"CAD\",\n          \"JPY\"\n        ],\n        \"semantic_type\": \"\",\n        \"description\": \"\"\n      }\n    },\n    {\n      \"column\": \"employee_residence\",\n      \"properties\": {\n        \"dtype\": \"category\",\n        \"num_unique_values\": 74,\n        \"samples\": [\n          \"BO\",\n          \"DZ\",\n          \"FI\"\n        ],\n        \"semantic_type\": \"\",\n        \"description\": \"\"\n      }\n    },\n    {\n      \"column\": \"remote_ratio\",\n      \"properties\": {\n        \"dtype\": \"number\",\n        \"std\": 48,\n        \"min\": 0,\n        \"max\": 100,\n        \"num_unique_values\": 3,\n        \"samples\": [\n          0,\n          100,\n          50\n        ],\n        \"semantic_type\": \"\",\n        \"description\": \"\"\n      }\n    },\n    {\n      \"column\": \"company_location\",\n      \"properties\": {\n        \"dtype\": \"category\",\n        \"num_unique_values\": 68,\n        \"samples\": [\n          \"PL\",\n          \"FI\",\n          \"AU\"\n        ],\n        \"semantic_type\": \"\",\n        \"description\": \"\"\n      }\n    },\n    {\n      \"column\": \"company_size\",\n      \"properties\": {\n        \"dtype\": \"category\",\n        \"num_unique_values\": 3,\n        \"samples\": [\n          \"M\",\n          \"S\",\n          \"L\"\n        ],\n        \"semantic_type\": \"\",\n        \"description\": \"\"\n      }\n    }\n  ]\n}"
            }
          },
          "metadata": {},
          "execution_count": 8
        }
      ]
    },
    {
      "cell_type": "markdown",
      "source": [
        "### Задание 2 (0.5 балла) Линейная модель"
      ],
      "metadata": {
        "id": "dScRzZifduf1"
      }
    },
    {
      "cell_type": "markdown",
      "source": [
        "*   Закодируйте категориальные  признаки с помощью OneHotEncoder\n",
        "*   Обучите модель линейной регрессии\n",
        "*   Оцените  качество через MAPE и RMSE\n"
      ],
      "metadata": {
        "id": "b_GQaDRgeCyA"
      }
    },
    {
      "cell_type": "code",
      "source": [
        "from sklearn.linear_model import LinearRegression\n",
        "from sklearn.metrics import mean_absolute_percentage_error, mean_squared_error\n",
        "from sklearn.preprocessing import OneHotEncoder"
      ],
      "metadata": {
        "id": "6OQ2QKuUfDrE"
      },
      "execution_count": null,
      "outputs": []
    },
    {
      "cell_type": "code",
      "source": [
        "enc = OneHotEncoder(drop='first', sparse_output=False, handle_unknown='ignore')\n",
        "categorical_features = df.select_dtypes(include=['object']).columns.tolist()"
      ],
      "metadata": {
        "id": "7ayYbvi9fBQT"
      },
      "execution_count": null,
      "outputs": []
    },
    {
      "cell_type": "code",
      "source": [
        "one_hot_encoded = enc.fit_transform(X_train[categorical_features])\n",
        "one_hot_df = pd.DataFrame(one_hot_encoded, columns=enc.get_feature_names_out(categorical_features))"
      ],
      "metadata": {
        "id": "WZPRZs5VfE6x"
      },
      "execution_count": null,
      "outputs": []
    },
    {
      "cell_type": "code",
      "source": [
        "X_train['temp'] = range(X_train.shape[0])"
      ],
      "metadata": {
        "id": "oBUURK-Sis1Q"
      },
      "execution_count": null,
      "outputs": []
    },
    {
      "cell_type": "code",
      "source": [
        "X_train_encoded = pd.merge(X_train, one_hot_df, left_on='temp', right_index=True)\n",
        "X_train_encoded = X_train_encoded.drop(categorical_features + ['temp'], axis=1)"
      ],
      "metadata": {
        "id": "Gek3R8LPgjfP"
      },
      "execution_count": null,
      "outputs": []
    },
    {
      "cell_type": "code",
      "source": [
        "X_train = X_train.drop('temp', axis=1)"
      ],
      "metadata": {
        "id": "W980PPJFjlBJ"
      },
      "execution_count": null,
      "outputs": []
    },
    {
      "cell_type": "code",
      "source": [
        "one_hot_encoded = enc.transform(X_val[categorical_features])\n",
        "one_hot_df = pd.DataFrame(one_hot_encoded, columns=enc.get_feature_names_out(categorical_features))"
      ],
      "metadata": {
        "colab": {
          "base_uri": "https://localhost:8080/"
        },
        "id": "BeUSsGX-fS3C",
        "outputId": "a4529202-f81c-495f-94a1-f613712c824c"
      },
      "execution_count": null,
      "outputs": [
        {
          "output_type": "stream",
          "name": "stderr",
          "text": [
            "/usr/local/lib/python3.10/dist-packages/sklearn/preprocessing/_encoders.py:202: UserWarning: Found unknown categories in columns [2, 3, 4, 5] during transform. These unknown categories will be encoded as all zeros\n",
            "  warnings.warn(\n"
          ]
        }
      ]
    },
    {
      "cell_type": "code",
      "source": [
        "X_val['temp'] = range(X_val.shape[0])"
      ],
      "metadata": {
        "id": "i5QkFRuQkh_b"
      },
      "execution_count": null,
      "outputs": []
    },
    {
      "cell_type": "code",
      "source": [
        "X_val_encoded = pd.merge(X_val, one_hot_df, left_on='temp', right_index=True)\n",
        "X_val_encoded = X_val_encoded.drop(categorical_features + ['temp'], axis=1)"
      ],
      "metadata": {
        "id": "JbUowG4IkkaD"
      },
      "execution_count": null,
      "outputs": []
    },
    {
      "cell_type": "code",
      "source": [
        "X_val = X_val.drop('temp', axis=1)"
      ],
      "metadata": {
        "id": "XtR5iexTks98"
      },
      "execution_count": null,
      "outputs": []
    },
    {
      "cell_type": "code",
      "source": [
        "one_hot_encoded = enc.transform(X_test[categorical_features])\n",
        "one_hot_df = pd.DataFrame(one_hot_encoded, columns=enc.get_feature_names_out(categorical_features))"
      ],
      "metadata": {
        "colab": {
          "base_uri": "https://localhost:8080/"
        },
        "id": "8EvRaIdJkxEV",
        "outputId": "c9402c21-775e-4aca-b706-4065b8acf122"
      },
      "execution_count": null,
      "outputs": [
        {
          "output_type": "stream",
          "name": "stderr",
          "text": [
            "/usr/local/lib/python3.10/dist-packages/sklearn/preprocessing/_encoders.py:202: UserWarning: Found unknown categories in columns [2, 4, 5] during transform. These unknown categories will be encoded as all zeros\n",
            "  warnings.warn(\n"
          ]
        }
      ]
    },
    {
      "cell_type": "code",
      "source": [
        "X_test['temp'] = range(X_test.shape[0])"
      ],
      "metadata": {
        "id": "pH4Uw0qvk007"
      },
      "execution_count": null,
      "outputs": []
    },
    {
      "cell_type": "code",
      "source": [
        "X_test_encoded = pd.merge(X_test, one_hot_df, left_on='temp', right_index=True)\n",
        "X_test_encoded = X_test_encoded.drop(categorical_features + ['temp'], axis=1)"
      ],
      "metadata": {
        "id": "ynzNm_gEk33F"
      },
      "execution_count": null,
      "outputs": []
    },
    {
      "cell_type": "code",
      "source": [
        "X_test = X_test.drop('temp', axis=1)"
      ],
      "metadata": {
        "id": "deiP8hILk7On"
      },
      "execution_count": null,
      "outputs": []
    },
    {
      "cell_type": "code",
      "source": [
        "lin_reg = LinearRegression()"
      ],
      "metadata": {
        "id": "EZcmAJNDlM8B"
      },
      "execution_count": null,
      "outputs": []
    },
    {
      "cell_type": "code",
      "source": [
        "lin_reg = lin_reg.fit(X_train_encoded, y_train)"
      ],
      "metadata": {
        "id": "xAOekTNflQyO"
      },
      "execution_count": null,
      "outputs": []
    },
    {
      "cell_type": "code",
      "source": [
        "y_val_pred = lin_reg.predict(X_val_encoded)\n",
        "y_test_pred = lin_reg.predict(X_test_encoded)"
      ],
      "metadata": {
        "id": "2W2xc2VKlY1h"
      },
      "execution_count": null,
      "outputs": []
    },
    {
      "cell_type": "code",
      "source": [
        "print('MAPE on Validation:', mean_absolute_percentage_error(y_val_pred, y_val))\n",
        "print('RMSE on Validation:', mean_squared_error(y_val_pred, y_val) ** 0.5)\n",
        "print('\\nMAPE on Test:', mean_absolute_percentage_error(y_test_pred, y_test))\n",
        "print('RMSE on Test:', mean_squared_error(y_test_pred, y_test) ** 0.5)"
      ],
      "metadata": {
        "colab": {
          "base_uri": "https://localhost:8080/"
        },
        "id": "9da_lwkweFMs",
        "outputId": "4232075b-2b1f-4d0a-beb2-37befc38402f"
      },
      "execution_count": null,
      "outputs": [
        {
          "output_type": "stream",
          "name": "stdout",
          "text": [
            "MAPE on Validation: 0.551802382221792\n",
            "RMSE on Validation: 45854219321146.02\n",
            "\n",
            "MAPE on Test: 0.32827032661916294\n",
            "RMSE on Test: 1976742065465.0422\n"
          ]
        }
      ]
    },
    {
      "cell_type": "markdown",
      "source": [
        "### Задание 3 (0.5 балла) XGboost"
      ],
      "metadata": {
        "id": "oTZumTv6mixg"
      }
    },
    {
      "cell_type": "markdown",
      "source": [
        "Начнем с библиотеки xgboost.\n",
        "\n",
        "Обучите модель `XGBRegressor` на тех же данных, что линейную модель, подобрав оптимальные гиперпараметры (`max_depth, learning_rate, n_estimators, gamma`, etc.) по валидационной выборке. Оцените качество итоговой модели (MAPE, RMSE), скорость обучения и скорость предсказания."
      ],
      "metadata": {
        "id": "JUR3KRd3mkof"
      }
    },
    {
      "cell_type": "code",
      "source": [
        "!pip install optuna"
      ],
      "metadata": {
        "colab": {
          "base_uri": "https://localhost:8080/"
        },
        "id": "kICoH-01pqjr",
        "outputId": "4bc35abe-09cd-43ed-b34f-63b6ef12e4cf"
      },
      "execution_count": null,
      "outputs": [
        {
          "output_type": "stream",
          "name": "stdout",
          "text": [
            "Collecting optuna\n",
            "  Downloading optuna-3.6.1-py3-none-any.whl (380 kB)\n",
            "\u001b[2K     \u001b[90m━━━━━━━━━━━━━━━━━━━━━━━━━━━━━━━━━━━━━━━━\u001b[0m \u001b[32m380.1/380.1 kB\u001b[0m \u001b[31m4.6 MB/s\u001b[0m eta \u001b[36m0:00:00\u001b[0m\n",
            "\u001b[?25hCollecting alembic>=1.5.0 (from optuna)\n",
            "  Downloading alembic-1.13.1-py3-none-any.whl (233 kB)\n",
            "\u001b[2K     \u001b[90m━━━━━━━━━━━━━━━━━━━━━━━━━━━━━━━━━━━━━━━━\u001b[0m \u001b[32m233.4/233.4 kB\u001b[0m \u001b[31m8.7 MB/s\u001b[0m eta \u001b[36m0:00:00\u001b[0m\n",
            "\u001b[?25hCollecting colorlog (from optuna)\n",
            "  Downloading colorlog-6.8.2-py3-none-any.whl (11 kB)\n",
            "Requirement already satisfied: numpy in /usr/local/lib/python3.10/dist-packages (from optuna) (1.25.2)\n",
            "Requirement already satisfied: packaging>=20.0 in /usr/local/lib/python3.10/dist-packages (from optuna) (24.0)\n",
            "Requirement already satisfied: sqlalchemy>=1.3.0 in /usr/local/lib/python3.10/dist-packages (from optuna) (2.0.30)\n",
            "Requirement already satisfied: tqdm in /usr/local/lib/python3.10/dist-packages (from optuna) (4.66.4)\n",
            "Requirement already satisfied: PyYAML in /usr/local/lib/python3.10/dist-packages (from optuna) (6.0.1)\n",
            "Collecting Mako (from alembic>=1.5.0->optuna)\n",
            "  Downloading Mako-1.3.5-py3-none-any.whl (78 kB)\n",
            "\u001b[2K     \u001b[90m━━━━━━━━━━━━━━━━━━━━━━━━━━━━━━━━━━━━━━━━\u001b[0m \u001b[32m78.6/78.6 kB\u001b[0m \u001b[31m7.6 MB/s\u001b[0m eta \u001b[36m0:00:00\u001b[0m\n",
            "\u001b[?25hRequirement already satisfied: typing-extensions>=4 in /usr/local/lib/python3.10/dist-packages (from alembic>=1.5.0->optuna) (4.12.1)\n",
            "Requirement already satisfied: greenlet!=0.4.17 in /usr/local/lib/python3.10/dist-packages (from sqlalchemy>=1.3.0->optuna) (3.0.3)\n",
            "Requirement already satisfied: MarkupSafe>=0.9.2 in /usr/local/lib/python3.10/dist-packages (from Mako->alembic>=1.5.0->optuna) (2.1.5)\n",
            "Installing collected packages: Mako, colorlog, alembic, optuna\n",
            "Successfully installed Mako-1.3.5 alembic-1.13.1 colorlog-6.8.2 optuna-3.6.1\n"
          ]
        }
      ]
    },
    {
      "cell_type": "code",
      "source": [
        "import optuna\n",
        "from xgboost.sklearn import XGBRegressor"
      ],
      "metadata": {
        "id": "vEhJUpMQquWB"
      },
      "execution_count": null,
      "outputs": []
    },
    {
      "cell_type": "code",
      "source": [
        "def objective(trial):\n",
        "    param = {\n",
        "        'max_depth': trial.suggest_int('max_depth', 1, 10),\n",
        "        'learning_rate': trial.suggest_float('learning_rate', 0.01, 1.0),\n",
        "        'n_estimators': trial.suggest_int('n_estimators', 50, 1000),\n",
        "        'min_child_weight': trial.suggest_int('min_child_weight', 1, 10),\n",
        "        'gamma': trial.suggest_float('gamma', 0.01, 1.0),\n",
        "        'subsample': trial.suggest_float('subsample', 0.01, 1.0),\n",
        "        'colsample_bytree': trial.suggest_float('colsample_bytree', 0.01, 1.0),\n",
        "        'reg_alpha': trial.suggest_float('reg_alpha', 0.01, 1.0),\n",
        "        'reg_lambda': trial.suggest_float('reg_lambda', 0.01, 1.0),\n",
        "        'random_state': trial.suggest_int('random_state', 1, 1000)\n",
        "    }\n",
        "\n",
        "    model = XGBRegressor(**param)\n",
        "    model.fit(X_train_encoded, y_train)\n",
        "    y_pred = model.predict(X_val_encoded)\n",
        "    return mean_squared_error(y_pred, y_val)"
      ],
      "metadata": {
        "id": "7Q1l9WshpoFb"
      },
      "execution_count": null,
      "outputs": []
    },
    {
      "cell_type": "code",
      "source": [
        "study = optuna.create_study(direction='minimize', study_name='regression')\n",
        "study.optimize(objective, n_trials=200)"
      ],
      "metadata": {
        "colab": {
          "base_uri": "https://localhost:8080/"
        },
        "id": "sO-A6l1WmiaM",
        "outputId": "6ffab35e-af6c-42d7-c54a-f000698875b3"
      },
      "execution_count": null,
      "outputs": [
        {
          "output_type": "stream",
          "name": "stderr",
          "text": [
            "[I 2024-06-08 16:35:23,191] A new study created in memory with name: regression\n",
            "[I 2024-06-08 16:35:24,291] Trial 0 finished with value: 2337899218.3700037 and parameters: {'max_depth': 4, 'learning_rate': 0.8696786436937256, 'n_estimators': 170, 'min_child_weight': 6, 'gamma': 0.05244629602289512, 'subsample': 0.9423944087867498, 'colsample_bytree': 0.9907940667983337, 'reg_alpha': 0.16061900575252558, 'reg_lambda': 0.2913959098186366, 'random_state': 988}. Best is trial 0 with value: 2337899218.3700037.\n",
            "[I 2024-06-08 16:35:26,477] Trial 1 finished with value: 2797635287.5305066 and parameters: {'max_depth': 6, 'learning_rate': 0.5958265531404647, 'n_estimators': 469, 'min_child_weight': 7, 'gamma': 0.5194257371786687, 'subsample': 0.24272917648863923, 'colsample_bytree': 0.6382877686834338, 'reg_alpha': 0.35263506693335395, 'reg_lambda': 0.9666325552264446, 'random_state': 664}. Best is trial 0 with value: 2337899218.3700037.\n",
            "[I 2024-06-08 16:35:28,053] Trial 2 finished with value: 2034674301.4012413 and parameters: {'max_depth': 1, 'learning_rate': 0.11989922234307404, 'n_estimators': 905, 'min_child_weight': 7, 'gamma': 0.502631787035879, 'subsample': 0.8539854026816229, 'colsample_bytree': 0.9886431401846844, 'reg_alpha': 0.6112023679839099, 'reg_lambda': 0.07982753750093752, 'random_state': 486}. Best is trial 2 with value: 2034674301.4012413.\n",
            "[I 2024-06-08 16:35:32,442] Trial 3 finished with value: 3038162769.575124 and parameters: {'max_depth': 5, 'learning_rate': 0.7905184449571291, 'n_estimators': 797, 'min_child_weight': 2, 'gamma': 0.28063530804119846, 'subsample': 0.3712842930632057, 'colsample_bytree': 0.8703909850576437, 'reg_alpha': 0.7870566950689798, 'reg_lambda': 0.610604959224908, 'random_state': 646}. Best is trial 2 with value: 2034674301.4012413.\n",
            "[I 2024-06-08 16:35:34,895] Trial 4 finished with value: 2536644608.325756 and parameters: {'max_depth': 8, 'learning_rate': 0.8746788176590824, 'n_estimators': 814, 'min_child_weight': 5, 'gamma': 0.5382107099040851, 'subsample': 0.8424652942778006, 'colsample_bytree': 0.5257297547602149, 'reg_alpha': 0.5738715444399024, 'reg_lambda': 0.7446637519918624, 'random_state': 884}. Best is trial 2 with value: 2034674301.4012413.\n",
            "[I 2024-06-08 16:35:35,949] Trial 5 finished with value: 2781902665.7488947 and parameters: {'max_depth': 10, 'learning_rate': 0.4436411025708489, 'n_estimators': 287, 'min_child_weight': 6, 'gamma': 0.8882737222223054, 'subsample': 0.14710298591645005, 'colsample_bytree': 0.6425458010338364, 'reg_alpha': 0.24319873699027325, 'reg_lambda': 0.36099980116158037, 'random_state': 513}. Best is trial 2 with value: 2034674301.4012413.\n",
            "[I 2024-06-08 16:35:36,506] Trial 6 finished with value: 2449931374.839564 and parameters: {'max_depth': 6, 'learning_rate': 0.6134619637568669, 'n_estimators': 207, 'min_child_weight': 1, 'gamma': 0.5054952252751445, 'subsample': 0.5064846366193178, 'colsample_bytree': 0.21124877166053319, 'reg_alpha': 0.5840361449879691, 'reg_lambda': 0.15380114492539734, 'random_state': 590}. Best is trial 2 with value: 2034674301.4012413.\n",
            "[I 2024-06-08 16:35:38,874] Trial 7 finished with value: 2081952870.9002135 and parameters: {'max_depth': 3, 'learning_rate': 0.1020794471878771, 'n_estimators': 944, 'min_child_weight': 2, 'gamma': 0.39175937420735013, 'subsample': 0.30411031524105436, 'colsample_bytree': 0.1363338765571333, 'reg_alpha': 0.17990994703037574, 'reg_lambda': 0.5374689212371546, 'random_state': 845}. Best is trial 2 with value: 2034674301.4012413.\n",
            "[I 2024-06-08 16:35:40,974] Trial 8 finished with value: 2565816020.4810395 and parameters: {'max_depth': 4, 'learning_rate': 0.9890792063182752, 'n_estimators': 956, 'min_child_weight': 6, 'gamma': 0.7695613819577543, 'subsample': 0.795215717382289, 'colsample_bytree': 0.40746156274061207, 'reg_alpha': 0.34312020473511573, 'reg_lambda': 0.09470372857504039, 'random_state': 616}. Best is trial 2 with value: 2034674301.4012413.\n",
            "[I 2024-06-08 16:35:41,236] Trial 9 finished with value: 2174014374.0649505 and parameters: {'max_depth': 1, 'learning_rate': 0.14566370580832036, 'n_estimators': 78, 'min_child_weight': 6, 'gamma': 0.329430140638621, 'subsample': 0.9219305645978262, 'colsample_bytree': 0.585180079169156, 'reg_alpha': 0.75891730437877, 'reg_lambda': 0.906940381580052, 'random_state': 796}. Best is trial 2 with value: 2034674301.4012413.\n",
            "[I 2024-06-08 16:35:43,178] Trial 10 finished with value: 2067654246.693534 and parameters: {'max_depth': 1, 'learning_rate': 0.31238104982845133, 'n_estimators': 607, 'min_child_weight': 10, 'gamma': 0.7200937304585343, 'subsample': 0.6214822395813575, 'colsample_bytree': 0.8019051628857912, 'reg_alpha': 0.9932985441098159, 'reg_lambda': 0.05263429162182221, 'random_state': 216}. Best is trial 2 with value: 2034674301.4012413.\n",
            "[I 2024-06-08 16:35:45,809] Trial 11 finished with value: 2076872346.7507234 and parameters: {'max_depth': 1, 'learning_rate': 0.3071155561626984, 'n_estimators': 608, 'min_child_weight': 10, 'gamma': 0.7279595453325933, 'subsample': 0.6559793780327825, 'colsample_bytree': 0.8735849330503687, 'reg_alpha': 0.9918863594584826, 'reg_lambda': 0.022257641155746563, 'random_state': 213}. Best is trial 2 with value: 2034674301.4012413.\n",
            "[I 2024-06-08 16:35:47,083] Trial 12 finished with value: 2191615085.025905 and parameters: {'max_depth': 2, 'learning_rate': 0.2762992254036731, 'n_estimators': 631, 'min_child_weight': 10, 'gamma': 0.9948580137313641, 'subsample': 0.6502165991005127, 'colsample_bytree': 0.8354493641050724, 'reg_alpha': 0.9821013556177769, 'reg_lambda': 0.28403713086838667, 'random_state': 256}. Best is trial 2 with value: 2034674301.4012413.\n",
            "[I 2024-06-08 16:35:47,973] Trial 13 finished with value: 2089846890.0504029 and parameters: {'max_depth': 2, 'learning_rate': 0.03644958492253268, 'n_estimators': 412, 'min_child_weight': 8, 'gamma': 0.6819096336432515, 'subsample': 0.6855706968585815, 'colsample_bytree': 0.9912101952015558, 'reg_alpha': 0.7562612603224046, 'reg_lambda': 0.1696997265713866, 'random_state': 51}. Best is trial 2 with value: 2034674301.4012413.\n",
            "[I 2024-06-08 16:35:49,385] Trial 14 finished with value: 2078218654.8919668 and parameters: {'max_depth': 1, 'learning_rate': 0.25332419676375717, 'n_estimators': 728, 'min_child_weight': 9, 'gamma': 0.6183556818866813, 'subsample': 0.5554938987726308, 'colsample_bytree': 0.7218142296766431, 'reg_alpha': 0.8659466991756415, 'reg_lambda': 0.41789113482536994, 'random_state': 374}. Best is trial 2 with value: 2034674301.4012413.\n",
            "[I 2024-06-08 16:35:51,348] Trial 15 finished with value: 2156535893.0728602 and parameters: {'max_depth': 3, 'learning_rate': 0.46016398584453966, 'n_estimators': 996, 'min_child_weight': 4, 'gamma': 0.12195157959132913, 'subsample': 0.7871350199239886, 'colsample_bytree': 0.37569306760625554, 'reg_alpha': 0.46350426154426017, 'reg_lambda': 0.03210387591730244, 'random_state': 14}. Best is trial 2 with value: 2034674301.4012413.\n",
            "[I 2024-06-08 16:35:53,086] Trial 16 finished with value: 2539270969.989943 and parameters: {'max_depth': 7, 'learning_rate': 0.36290272897256504, 'n_estimators': 574, 'min_child_weight': 8, 'gamma': 0.8173601814404461, 'subsample': 0.4493320339685398, 'colsample_bytree': 0.7475395771607608, 'reg_alpha': 0.058670584738101494, 'reg_lambda': 0.20957068056658712, 'random_state': 383}. Best is trial 2 with value: 2034674301.4012413.\n",
            "[I 2024-06-08 16:35:53,972] Trial 17 finished with value: 2127776121.9925475 and parameters: {'max_depth': 3, 'learning_rate': 0.1924494649079156, 'n_estimators': 372, 'min_child_weight': 8, 'gamma': 0.40583288723832167, 'subsample': 0.9657236282700051, 'colsample_bytree': 0.7661777761012029, 'reg_alpha': 0.6368099332427625, 'reg_lambda': 0.4628795036985914, 'random_state': 166}. Best is trial 2 with value: 2034674301.4012413.\n",
            "[I 2024-06-08 16:35:57,716] Trial 18 finished with value: 2310760766.8998594 and parameters: {'max_depth': 10, 'learning_rate': 0.07619996489224382, 'n_estimators': 705, 'min_child_weight': 4, 'gamma': 0.6298473026832719, 'subsample': 0.017639600033699687, 'colsample_bytree': 0.9184694358325683, 'reg_alpha': 0.8799047479361889, 'reg_lambda': 0.6779558229510194, 'random_state': 353}. Best is trial 2 with value: 2034674301.4012413.\n",
            "[I 2024-06-08 16:36:00,004] Trial 19 finished with value: 2209522182.6972313 and parameters: {'max_depth': 2, 'learning_rate': 0.37262791230674586, 'n_estimators': 815, 'min_child_weight': 9, 'gamma': 0.23458991113320565, 'subsample': 0.7225820097777419, 'colsample_bytree': 0.3292475689857687, 'reg_alpha': 0.47128286565172367, 'reg_lambda': 0.27554082349998554, 'random_state': 457}. Best is trial 2 with value: 2034674301.4012413.\n",
            "[I 2024-06-08 16:36:01,677] Trial 20 finished with value: 2092958359.64057 and parameters: {'max_depth': 8, 'learning_rate': 0.5708861787653321, 'n_estimators': 887, 'min_child_weight': 9, 'gamma': 0.8571847367442178, 'subsample': 0.5597388442825045, 'colsample_bytree': 0.012912880367469681, 'reg_alpha': 0.6746177963951152, 'reg_lambda': 0.10786690579416813, 'random_state': 116}. Best is trial 2 with value: 2034674301.4012413.\n",
            "[I 2024-06-08 16:36:02,742] Trial 21 finished with value: 2067657928.7005084 and parameters: {'max_depth': 1, 'learning_rate': 0.2864436102740997, 'n_estimators': 544, 'min_child_weight': 10, 'gamma': 0.7246295381349516, 'subsample': 0.6474125190088671, 'colsample_bytree': 0.89827183241246, 'reg_alpha': 0.99905865858895, 'reg_lambda': 0.026309731905062028, 'random_state': 253}. Best is trial 2 with value: 2034674301.4012413.\n",
            "[I 2024-06-08 16:36:03,654] Trial 22 finished with value: 2073527131.9677103 and parameters: {'max_depth': 1, 'learning_rate': 0.1965622249210441, 'n_estimators': 467, 'min_child_weight': 10, 'gamma': 0.6228987303074067, 'subsample': 0.8610645738973062, 'colsample_bytree': 0.9454629117298312, 'reg_alpha': 0.9221662784224739, 'reg_lambda': 0.018397376324169233, 'random_state': 278}. Best is trial 2 with value: 2034674301.4012413.\n",
            "[I 2024-06-08 16:36:05,034] Trial 23 finished with value: 2196806966.077788 and parameters: {'max_depth': 2, 'learning_rate': 0.344896617936294, 'n_estimators': 694, 'min_child_weight': 7, 'gamma': 0.9374300981482184, 'subsample': 0.5844168558952496, 'colsample_bytree': 0.8052431829541621, 'reg_alpha': 0.8214816096288919, 'reg_lambda': 0.228811835393823, 'random_state': 303}. Best is trial 2 with value: 2034674301.4012413.\n",
            "[I 2024-06-08 16:36:06,269] Trial 24 finished with value: 2212825664.098141 and parameters: {'max_depth': 4, 'learning_rate': 0.2134001724222617, 'n_estimators': 516, 'min_child_weight': 9, 'gamma': 0.7044056127051791, 'subsample': 0.4328155351181536, 'colsample_bytree': 0.6779072898370572, 'reg_alpha': 0.9366944280883658, 'reg_lambda': 0.10950947182134321, 'random_state': 468}. Best is trial 2 with value: 2034674301.4012413.\n",
            "[I 2024-06-08 16:36:07,337] Trial 25 finished with value: 2064102049.2120118 and parameters: {'max_depth': 1, 'learning_rate': 0.12709156217170986, 'n_estimators': 548, 'min_child_weight': 10, 'gamma': 0.5837275497028573, 'subsample': 0.7367748814857369, 'colsample_bytree': 0.8964537059202426, 'reg_alpha': 0.7102520413314988, 'reg_lambda': 0.35422190963930794, 'random_state': 108}. Best is trial 2 with value: 2034674301.4012413.\n",
            "[I 2024-06-08 16:36:08,176] Trial 26 finished with value: 2066393731.645391 and parameters: {'max_depth': 2, 'learning_rate': 0.12266472274390866, 'n_estimators': 364, 'min_child_weight': 7, 'gamma': 0.46376861048732754, 'subsample': 0.7798995386850628, 'colsample_bytree': 0.9480005545852354, 'reg_alpha': 0.6725053812876182, 'reg_lambda': 0.3529916719019475, 'random_state': 108}. Best is trial 2 with value: 2034674301.4012413.\n",
            "[I 2024-06-08 16:36:10,251] Trial 27 finished with value: 2129733986.321201 and parameters: {'max_depth': 3, 'learning_rate': 0.015266968636593686, 'n_estimators': 327, 'min_child_weight': 7, 'gamma': 0.4339881366479133, 'subsample': 0.7576837955001251, 'colsample_bytree': 0.9783440877426735, 'reg_alpha': 0.676490451529193, 'reg_lambda': 0.34322089843602915, 'random_state': 93}. Best is trial 2 with value: 2034674301.4012413.\n",
            "[I 2024-06-08 16:36:11,741] Trial 28 finished with value: 2076031164.1085052 and parameters: {'max_depth': 2, 'learning_rate': 0.12132478384619592, 'n_estimators': 225, 'min_child_weight': 5, 'gamma': 0.47341403327927845, 'subsample': 0.8093869410764143, 'colsample_bytree': 0.9104704777897368, 'reg_alpha': 0.5318018675819957, 'reg_lambda': 0.5443533261818791, 'random_state': 143}. Best is trial 2 with value: 2034674301.4012413.\n",
            "[I 2024-06-08 16:36:12,138] Trial 29 finished with value: 2086175130.7696571 and parameters: {'max_depth': 4, 'learning_rate': 0.15593817763791912, 'n_estimators': 95, 'min_child_weight': 4, 'gamma': 0.5734337902029698, 'subsample': 0.8785761486509069, 'colsample_bytree': 0.9773791407972351, 'reg_alpha': 0.40851424094970884, 'reg_lambda': 0.3843162598165421, 'random_state': 986}. Best is trial 2 with value: 2034674301.4012413.\n",
            "[I 2024-06-08 16:36:12,902] Trial 30 finished with value: 2374311633.29797 and parameters: {'max_depth': 5, 'learning_rate': 0.6995064896279362, 'n_estimators': 290, 'min_child_weight': 7, 'gamma': 0.21816145859957203, 'subsample': 0.9851748907992636, 'colsample_bytree': 0.49281519032670285, 'reg_alpha': 0.7095179967164678, 'reg_lambda': 0.4600707649433481, 'random_state': 731}. Best is trial 2 with value: 2034674301.4012413.\n",
            "[I 2024-06-08 16:36:13,796] Trial 31 finished with value: 2072233208.6213017 and parameters: {'max_depth': 1, 'learning_rate': 0.07453950421837112, 'n_estimators': 435, 'min_child_weight': 8, 'gamma': 0.5672063227446787, 'subsample': 0.7343419370643941, 'colsample_bytree': 0.8190194295200954, 'reg_alpha': 0.6210974348637592, 'reg_lambda': 0.30378679395114655, 'random_state': 192}. Best is trial 2 with value: 2034674301.4012413.\n",
            "[I 2024-06-08 16:36:14,823] Trial 32 finished with value: 2170644011.7307525 and parameters: {'max_depth': 2, 'learning_rate': 0.22961418826494506, 'n_estimators': 493, 'min_child_weight': 9, 'gamma': 0.33528181396574075, 'subsample': 0.8995804475653074, 'colsample_bytree': 0.7955129890288142, 'reg_alpha': 0.5391874041633822, 'reg_lambda': 0.19536226540563317, 'random_state': 74}. Best is trial 2 with value: 2034674301.4012413.\n",
            "[I 2024-06-08 16:36:16,015] Trial 33 finished with value: 2052305817.5597727 and parameters: {'max_depth': 1, 'learning_rate': 0.1544922520792373, 'n_estimators': 624, 'min_child_weight': 8, 'gamma': 0.46103079503084754, 'subsample': 0.7135059987216406, 'colsample_bytree': 0.9961921493056185, 'reg_alpha': 0.7068855358200152, 'reg_lambda': 0.24895183782694214, 'random_state': 21}. Best is trial 2 with value: 2034674301.4012413.\n",
            "[I 2024-06-08 16:36:16,942] Trial 34 finished with value: 2116153352.7149882 and parameters: {'max_depth': 3, 'learning_rate': 0.014487755104662353, 'n_estimators': 382, 'min_child_weight': 7, 'gamma': 0.4652901697281718, 'subsample': 0.7308580284875454, 'colsample_bytree': 0.9936225585773494, 'reg_alpha': 0.7216441569567615, 'reg_lambda': 0.25722473903737225, 'random_state': 28}. Best is trial 2 with value: 2034674301.4012413.\n",
            "[I 2024-06-08 16:36:18,296] Trial 35 finished with value: 2137744312.5607672 and parameters: {'max_depth': 2, 'learning_rate': 0.15617082380518751, 'n_estimators': 660, 'min_child_weight': 8, 'gamma': 0.5207159473844859, 'subsample': 0.8231846037708235, 'colsample_bytree': 0.867338420602149, 'reg_alpha': 0.8144345154105794, 'reg_lambda': 0.34374639285974046, 'random_state': 97}. Best is trial 2 with value: 2034674301.4012413.\n",
            "[I 2024-06-08 16:36:19,725] Trial 36 finished with value: 2044233806.5969133 and parameters: {'max_depth': 1, 'learning_rate': 0.08039517351822359, 'n_estimators': 759, 'min_child_weight': 6, 'gamma': 0.34315704535173275, 'subsample': 0.9246580426346446, 'colsample_bytree': 0.9408523235141508, 'reg_alpha': 0.6013407600454717, 'reg_lambda': 0.4179423821348384, 'random_state': 14}. Best is trial 2 with value: 2034674301.4012413.\n",
            "[I 2024-06-08 16:36:21,119] Trial 37 finished with value: 2060704409.6849282 and parameters: {'max_depth': 1, 'learning_rate': 0.06953659098542045, 'n_estimators': 763, 'min_child_weight': 5, 'gamma': 0.3521846947824069, 'subsample': 0.9378004790746105, 'colsample_bytree': 0.6942591968379208, 'reg_alpha': 0.6069502401423869, 'reg_lambda': 0.5937531441376285, 'random_state': 42}. Best is trial 2 with value: 2034674301.4012413.\n",
            "[I 2024-06-08 16:36:25,088] Trial 38 finished with value: 2099611881.652308 and parameters: {'max_depth': 5, 'learning_rate': 0.06565893610560075, 'n_estimators': 778, 'min_child_weight': 5, 'gamma': 0.34803083887817193, 'subsample': 0.9150713577847039, 'colsample_bytree': 0.6133474743678604, 'reg_alpha': 0.5986277470644854, 'reg_lambda': 0.7963000579794105, 'random_state': 1}. Best is trial 2 with value: 2034674301.4012413.\n",
            "[I 2024-06-08 16:36:26,897] Trial 39 finished with value: 2284486845.8789396 and parameters: {'max_depth': 3, 'learning_rate': 0.4086414376987002, 'n_estimators': 898, 'min_child_weight': 3, 'gamma': 0.25091618667647964, 'subsample': 0.9505559883840988, 'colsample_bytree': 0.7125610439610229, 'reg_alpha': 0.39291668469388263, 'reg_lambda': 0.6035494723829185, 'random_state': 528}. Best is trial 2 with value: 2034674301.4012413.\n",
            "[I 2024-06-08 16:36:28,772] Trial 40 finished with value: 2318783885.9217167 and parameters: {'max_depth': 4, 'learning_rate': 0.5280824277023696, 'n_estimators': 850, 'min_child_weight': 6, 'gamma': 0.16638569536991946, 'subsample': 0.858695309575868, 'colsample_bytree': 0.6581882632712397, 'reg_alpha': 0.5761700706305658, 'reg_lambda': 0.6721727046130312, 'random_state': 699}. Best is trial 2 with value: 2034674301.4012413.\n",
            "[I 2024-06-08 16:36:30,258] Trial 41 finished with value: 2045598959.782969 and parameters: {'max_depth': 1, 'learning_rate': 0.08275820552611662, 'n_estimators': 793, 'min_child_weight': 6, 'gamma': 0.37605711311227114, 'subsample': 0.9710100901225905, 'colsample_bytree': 0.8734150943257311, 'reg_alpha': 0.48847173733740945, 'reg_lambda': 0.5075426229960629, 'random_state': 64}. Best is trial 2 with value: 2034674301.4012413.\n",
            "[I 2024-06-08 16:36:31,670] Trial 42 finished with value: 2049723010.7991478 and parameters: {'max_depth': 1, 'learning_rate': 0.06442504536761218, 'n_estimators': 764, 'min_child_weight': 6, 'gamma': 0.30130281614044785, 'subsample': 0.9375319171155453, 'colsample_bytree': 0.8503740258015399, 'reg_alpha': 0.3127247162105033, 'reg_lambda': 0.5229363577453638, 'random_state': 47}. Best is trial 2 with value: 2034674301.4012413.\n",
            "[I 2024-06-08 16:36:33,273] Trial 43 finished with value: 2041977696.016033 and parameters: {'max_depth': 1, 'learning_rate': 0.176582483487596, 'n_estimators': 854, 'min_child_weight': 6, 'gamma': 0.28290589077200873, 'subsample': 0.977821453432964, 'colsample_bytree': 0.8514633767099598, 'reg_alpha': 0.32589034746328416, 'reg_lambda': 0.5121880148080313, 'random_state': 148}. Best is trial 2 with value: 2034674301.4012413.\n",
            "[I 2024-06-08 16:36:35,651] Trial 44 finished with value: 2152430353.463513 and parameters: {'max_depth': 2, 'learning_rate': 0.19052727267345881, 'n_estimators': 851, 'min_child_weight': 6, 'gamma': 0.28855962959472364, 'subsample': 0.9838116658207472, 'colsample_bytree': 0.8281726822690718, 'reg_alpha': 0.28075177858975386, 'reg_lambda': 0.5237834843321982, 'random_state': 153}. Best is trial 2 with value: 2034674301.4012413.\n",
            "[I 2024-06-08 16:36:38,553] Trial 45 finished with value: 2064358532.0217416 and parameters: {'max_depth': 1, 'learning_rate': 0.04915588633635885, 'n_estimators': 944, 'min_child_weight': 6, 'gamma': 0.042440734470134966, 'subsample': 0.9137091470087032, 'colsample_bytree': 0.861408624574599, 'reg_alpha': 0.24161352181065426, 'reg_lambda': 0.47642825575033926, 'random_state': 555}. Best is trial 2 with value: 2034674301.4012413.\n",
            "[I 2024-06-08 16:36:39,993] Trial 46 finished with value: 2057018034.4735084 and parameters: {'max_depth': 1, 'learning_rate': 0.8295816782339676, 'n_estimators': 743, 'min_child_weight': 6, 'gamma': 0.2980247129018079, 'subsample': 0.8439657773859205, 'colsample_bytree': 0.9345886717010679, 'reg_alpha': 0.31730685353685484, 'reg_lambda': 0.4190382385426674, 'random_state': 211}. Best is trial 2 with value: 2034674301.4012413.\n",
            "[I 2024-06-08 16:36:41,707] Trial 47 finished with value: 2059281080.5404017 and parameters: {'max_depth': 2, 'learning_rate': 0.24804166627017013, 'n_estimators': 906, 'min_child_weight': 5, 'gamma': 0.17209783163889153, 'subsample': 0.9965794827227182, 'colsample_bytree': 0.5387776905858233, 'reg_alpha': 0.41489177000842464, 'reg_lambda': 0.6697550090465769, 'random_state': 67}. Best is trial 2 with value: 2034674301.4012413.\n",
            "[I 2024-06-08 16:36:43,189] Trial 48 finished with value: 2072027580.6868763 and parameters: {'max_depth': 1, 'learning_rate': 0.9687795009952511, 'n_estimators': 805, 'min_child_weight': 6, 'gamma': 0.38148720278514786, 'subsample': 0.8937066393074504, 'colsample_bytree': 0.7578642821296345, 'reg_alpha': 0.20658849469674082, 'reg_lambda': 0.5676423050199562, 'random_state': 317}. Best is trial 2 with value: 2034674301.4012413.\n",
            "[I 2024-06-08 16:36:46,638] Trial 49 finished with value: 2355957676.2397866 and parameters: {'max_depth': 9, 'learning_rate': 0.10068663384231624, 'n_estimators': 999, 'min_child_weight': 7, 'gamma': 0.09951299332585001, 'subsample': 0.2359904462414743, 'colsample_bytree': 0.866835237149376, 'reg_alpha': 0.09786866457976467, 'reg_lambda': 0.8301255872442184, 'random_state': 428}. Best is trial 2 with value: 2034674301.4012413.\n",
            "[I 2024-06-08 16:36:51,318] Trial 50 finished with value: 2283919357.9010534 and parameters: {'max_depth': 7, 'learning_rate': 0.6778537225164852, 'n_estimators': 823, 'min_child_weight': 4, 'gamma': 0.40134367865475457, 'subsample': 0.9498202945081577, 'colsample_bytree': 0.7743625120375692, 'reg_alpha': 0.45421506971949593, 'reg_lambda': 0.5030721250193703, 'random_state': 178}. Best is trial 2 with value: 2034674301.4012413.\n",
            "[I 2024-06-08 16:36:52,617] Trial 51 finished with value: 2039820333.9466588 and parameters: {'max_depth': 1, 'learning_rate': 0.09450791267476293, 'n_estimators': 679, 'min_child_weight': 7, 'gamma': 0.30090805492823064, 'subsample': 0.936866616771179, 'colsample_bytree': 0.9545741696408664, 'reg_alpha': 0.35824664841642023, 'reg_lambda': 0.4247105429677277, 'random_state': 2}. Best is trial 2 with value: 2034674301.4012413.\n",
            "[I 2024-06-08 16:36:53,886] Trial 52 finished with value: 2035119145.443616 and parameters: {'max_depth': 1, 'learning_rate': 0.09409640037643134, 'n_estimators': 672, 'min_child_weight': 7, 'gamma': 0.2683383131741264, 'subsample': 0.9284903374879333, 'colsample_bytree': 0.944457635737679, 'reg_alpha': 0.29010548814716247, 'reg_lambda': 0.9982659761378088, 'random_state': 60}. Best is trial 2 with value: 2034674301.4012413.\n",
            "[I 2024-06-08 16:36:55,185] Trial 53 finished with value: 2122035937.9070342 and parameters: {'max_depth': 2, 'learning_rate': 0.17180771960907676, 'n_estimators': 672, 'min_child_weight': 7, 'gamma': 0.2618382300760976, 'subsample': 0.8727755463720289, 'colsample_bytree': 0.9506568439179013, 'reg_alpha': 0.3495518734706767, 'reg_lambda': 0.8946505588912188, 'random_state': 134}. Best is trial 2 with value: 2034674301.4012413.\n",
            "[I 2024-06-08 16:36:56,755] Trial 54 finished with value: 2039654339.0928028 and parameters: {'max_depth': 1, 'learning_rate': 0.11053214033234723, 'n_estimators': 856, 'min_child_weight': 5, 'gamma': 0.2000904250096489, 'subsample': 0.826437194979216, 'colsample_bytree': 0.9085340597177914, 'reg_alpha': 0.3780184452163763, 'reg_lambda': 0.9899161787053273, 'random_state': 10}. Best is trial 2 with value: 2034674301.4012413.\n",
            "[I 2024-06-08 16:36:58,300] Trial 55 finished with value: 2034676845.60553 and parameters: {'max_depth': 1, 'learning_rate': 0.10849186192205441, 'n_estimators': 859, 'min_child_weight': 5, 'gamma': 0.21003602926358309, 'subsample': 0.9050591458494338, 'colsample_bytree': 0.9077468456459938, 'reg_alpha': 0.26446561627105275, 'reg_lambda': 0.9639685025353605, 'random_state': 37}. Best is trial 2 with value: 2034674301.4012413.\n",
            "[I 2024-06-08 16:37:00,155] Trial 56 finished with value: 2141213712.9376569 and parameters: {'max_depth': 2, 'learning_rate': 0.26863509403959834, 'n_estimators': 958, 'min_child_weight': 5, 'gamma': 0.2022415905829653, 'subsample': 0.833135079011527, 'colsample_bytree': 0.9069610513418871, 'reg_alpha': 0.25877246424886075, 'reg_lambda': 0.9990849059041815, 'random_state': 238}. Best is trial 2 with value: 2034674301.4012413.\n",
            "[I 2024-06-08 16:37:04,320] Trial 57 finished with value: 2200126752.9474764 and parameters: {'max_depth': 3, 'learning_rate': 0.2167942718215406, 'n_estimators': 862, 'min_child_weight': 5, 'gamma': 0.12944625105773477, 'subsample': 0.7827058493153441, 'colsample_bytree': 0.9559146211793574, 'reg_alpha': 0.1498729635860756, 'reg_lambda': 0.9132307635947166, 'random_state': 72}. Best is trial 2 with value: 2034674301.4012413.\n",
            "[I 2024-06-08 16:37:05,996] Trial 58 finished with value: 2084135173.8314528 and parameters: {'max_depth': 1, 'learning_rate': 0.32525813456562236, 'n_estimators': 926, 'min_child_weight': 3, 'gamma': 0.07622134366374836, 'subsample': 0.8245262871189085, 'colsample_bytree': 0.2119371527900039, 'reg_alpha': 0.378728838777892, 'reg_lambda': 0.9382756292615918, 'random_state': 895}. Best is trial 2 with value: 2034674301.4012413.\n",
            "[I 2024-06-08 16:37:07,412] Trial 59 finished with value: 2122718616.8445797 and parameters: {'max_depth': 2, 'learning_rate': 0.11679785187564586, 'n_estimators': 726, 'min_child_weight': 7, 'gamma': 0.17068191100256158, 'subsample': 0.8845467167819085, 'colsample_bytree': 0.8937839699082951, 'reg_alpha': 0.20297829742714363, 'reg_lambda': 0.8598356368275686, 'random_state': 3}. Best is trial 2 with value: 2034674301.4012413.\n",
            "[I 2024-06-08 16:37:09,129] Trial 60 finished with value: 2074427688.952267 and parameters: {'max_depth': 2, 'learning_rate': 0.02993104472035954, 'n_estimators': 880, 'min_child_weight': 1, 'gamma': 0.020471763811463095, 'subsample': 0.3478796645188035, 'colsample_bytree': 0.9149002512071455, 'reg_alpha': 0.42900683557955666, 'reg_lambda': 0.9663499914413618, 'random_state': 134}. Best is trial 2 with value: 2034674301.4012413.\n",
            "[I 2024-06-08 16:37:11,005] Trial 61 finished with value: 2037272753.0432358 and parameters: {'max_depth': 1, 'learning_rate': 0.10931002097988149, 'n_estimators': 830, 'min_child_weight': 5, 'gamma': 0.20760783773977795, 'subsample': 0.9269151310400856, 'colsample_bytree': 0.9623255333483001, 'reg_alpha': 0.31431230925190745, 'reg_lambda': 0.7493971799486375, 'random_state': 2}. Best is trial 2 with value: 2034674301.4012413.\n",
            "[I 2024-06-08 16:37:12,510] Trial 62 finished with value: 2038370489.8748367 and parameters: {'max_depth': 1, 'learning_rate': 0.18148946697024176, 'n_estimators': 824, 'min_child_weight': 4, 'gamma': 0.20197359928270056, 'subsample': 0.9613154597243238, 'colsample_bytree': 0.9760561840752242, 'reg_alpha': 0.30425993094218157, 'reg_lambda': 0.7401971847965856, 'random_state': 41}. Best is trial 2 with value: 2034674301.4012413.\n",
            "[I 2024-06-08 16:37:16,417] Trial 63 finished with value: 2050903074.676412 and parameters: {'max_depth': 1, 'learning_rate': 0.1363076015146122, 'n_estimators': 818, 'min_child_weight': 3, 'gamma': 0.20861312691436926, 'subsample': 0.8507347068324593, 'colsample_bytree': 0.9781656188941488, 'reg_alpha': 0.37076656014184295, 'reg_lambda': 0.7414793321528793, 'random_state': 42}. Best is trial 2 with value: 2034674301.4012413.\n",
            "[I 2024-06-08 16:37:17,564] Trial 64 finished with value: 2043770066.9573936 and parameters: {'max_depth': 1, 'learning_rate': 0.10189461016136268, 'n_estimators': 592, 'min_child_weight': 4, 'gamma': 0.1362737788752342, 'subsample': 0.9053242873995784, 'colsample_bytree': 0.9626750169693609, 'reg_alpha': 0.2860969205598456, 'reg_lambda': 0.9881486939365344, 'random_state': 94}. Best is trial 2 with value: 2034674301.4012413.\n",
            "[I 2024-06-08 16:37:19,290] Trial 65 finished with value: 2071230040.481046 and parameters: {'max_depth': 1, 'learning_rate': 0.036692269505322575, 'n_estimators': 958, 'min_child_weight': 4, 'gamma': 0.23605629697536584, 'subsample': 0.8045724869165684, 'colsample_bytree': 0.9989741000687006, 'reg_alpha': 0.1722091453780405, 'reg_lambda': 0.8836467868185878, 'random_state': 44}. Best is trial 2 with value: 2034674301.4012413.\n",
            "[I 2024-06-08 16:37:20,688] Trial 66 finished with value: 2079813379.0139446 and parameters: {'max_depth': 2, 'learning_rate': 0.2306976770006019, 'n_estimators': 712, 'min_child_weight': 5, 'gamma': 0.18357836338141253, 'subsample': 0.9542295045287563, 'colsample_bytree': 0.934635512678478, 'reg_alpha': 0.12703155551754547, 'reg_lambda': 0.7502755680144523, 'random_state': 2}. Best is trial 2 with value: 2034674301.4012413.\n",
            "[I 2024-06-08 16:37:22,450] Trial 67 finished with value: 2232343605.6651373 and parameters: {'max_depth': 6, 'learning_rate': 0.13779572977617477, 'n_estimators': 656, 'min_child_weight': 4, 'gamma': 0.09754471434557127, 'subsample': 0.6771931311265282, 'colsample_bytree': 0.8944349410228687, 'reg_alpha': 0.2309083679243809, 'reg_lambda': 0.9479193819073155, 'random_state': 631}. Best is trial 2 with value: 2034674301.4012413.\n",
            "[I 2024-06-08 16:37:24,036] Trial 68 finished with value: 2116979120.2757978 and parameters: {'max_depth': 2, 'learning_rate': 0.2971298470463423, 'n_estimators': 833, 'min_child_weight': 5, 'gamma': 0.14848499514609448, 'subsample': 0.8747428485642786, 'colsample_bytree': 0.8175379172289973, 'reg_alpha': 0.5349176343861979, 'reg_lambda': 0.8028405631915211, 'random_state': 84}. Best is trial 2 with value: 2034674301.4012413.\n",
            "[I 2024-06-08 16:37:25,696] Trial 69 finished with value: 2064441407.1059284 and parameters: {'max_depth': 1, 'learning_rate': 0.1980595042745298, 'n_estimators': 919, 'min_child_weight': 3, 'gamma': 0.2532645022841342, 'subsample': 0.9989152195393226, 'colsample_bytree': 0.923284489087682, 'reg_alpha': 0.27339967833959616, 'reg_lambda': 0.7301350434044676, 'random_state': 177}. Best is trial 2 with value: 2034674301.4012413.\n",
            "[I 2024-06-08 16:37:29,660] Trial 70 finished with value: 2055191483.639228 and parameters: {'max_depth': 2, 'learning_rate': 0.09426358189801198, 'n_estimators': 973, 'min_child_weight': 4, 'gamma': 0.20593474880778462, 'subsample': 0.7762591943772912, 'colsample_bytree': 0.9616166998529555, 'reg_alpha': 0.3436429247507301, 'reg_lambda': 0.9287319515201318, 'random_state': 116}. Best is trial 2 with value: 2034674301.4012413.\n",
            "[I 2024-06-08 16:37:31,246] Trial 71 finished with value: 2034109771.6461015 and parameters: {'max_depth': 1, 'learning_rate': 0.1773727017420451, 'n_estimators': 881, 'min_child_weight': 7, 'gamma': 0.31947518165372824, 'subsample': 0.9316966631856831, 'colsample_bytree': 0.8866101029090347, 'reg_alpha': 0.3187734029645775, 'reg_lambda': 0.8506992630577884, 'random_state': 37}. Best is trial 71 with value: 2034109771.6461015.\n",
            "[I 2024-06-08 16:37:32,832] Trial 72 finished with value: 2034005855.20383 and parameters: {'max_depth': 1, 'learning_rate': 0.16609834469622545, 'n_estimators': 877, 'min_child_weight': 8, 'gamma': 0.31163385502250496, 'subsample': 0.9259424815063688, 'colsample_bytree': 0.9984476746820177, 'reg_alpha': 0.30268211757153224, 'reg_lambda': 0.8631729384452513, 'random_state': 32}. Best is trial 72 with value: 2034005855.20383.\n",
            "[I 2024-06-08 16:37:34,414] Trial 73 finished with value: 2044901901.4208577 and parameters: {'max_depth': 1, 'learning_rate': 0.17222673409865885, 'n_estimators': 885, 'min_child_weight': 8, 'gamma': 0.26623208448980135, 'subsample': 0.9175801056889165, 'colsample_bytree': 0.8799729590411035, 'reg_alpha': 0.30920742889663133, 'reg_lambda': 0.8533298934542681, 'random_state': 38}. Best is trial 72 with value: 2034005855.20383.\n",
            "[I 2024-06-08 16:37:36,117] Trial 74 finished with value: 2510978181.3471932 and parameters: {'max_depth': 1, 'learning_rate': 0.2607374508897806, 'n_estimators': 921, 'min_child_weight': 8, 'gamma': 0.22169058077107498, 'subsample': 0.01761961714650484, 'colsample_bytree': 0.9968252692869101, 'reg_alpha': 0.19850278381385278, 'reg_lambda': 0.9638830249140835, 'random_state': 56}. Best is trial 72 with value: 2034005855.20383.\n",
            "[I 2024-06-08 16:37:37,833] Trial 75 finished with value: 2184105466.935814 and parameters: {'max_depth': 2, 'learning_rate': 0.13279618713142197, 'n_estimators': 874, 'min_child_weight': 9, 'gamma': 0.10400551565415136, 'subsample': 0.4990551028852545, 'colsample_bytree': 0.924275716851749, 'reg_alpha': 0.22981218043247464, 'reg_lambda': 0.7861778122146277, 'random_state': 103}. Best is trial 72 with value: 2034005855.20383.\n",
            "[I 2024-06-08 16:37:39,692] Trial 76 finished with value: 2072812100.490647 and parameters: {'max_depth': 1, 'learning_rate': 0.05084502557120304, 'n_estimators': 796, 'min_child_weight': 5, 'gamma': 0.6684399246868604, 'subsample': 0.8869563102773044, 'colsample_bytree': 0.9754219797568994, 'reg_alpha': 0.303226772410937, 'reg_lambda': 0.8699045104630578, 'random_state': 833}. Best is trial 72 with value: 2034005855.20383.\n",
            "[I 2024-06-08 16:37:43,956] Trial 77 finished with value: 2182727561.579351 and parameters: {'max_depth': 3, 'learning_rate': 0.15373349852632506, 'n_estimators': 826, 'min_child_weight': 7, 'gamma': 0.3244751852364588, 'subsample': 0.959642642100694, 'colsample_bytree': 0.7867342377297728, 'reg_alpha': 0.2580735186379948, 'reg_lambda': 0.7120756804233768, 'random_state': 592}. Best is trial 72 with value: 2034005855.20383.\n",
            "[I 2024-06-08 16:37:47,298] Trial 78 finished with value: 2038406236.455078 and parameters: {'max_depth': 1, 'learning_rate': 0.21364709524205422, 'n_estimators': 977, 'min_child_weight': 8, 'gamma': 0.4235211441356981, 'subsample': 0.8484707910985396, 'colsample_bytree': 0.44447257404749635, 'reg_alpha': 0.43723797901958583, 'reg_lambda': 0.8216434511636334, 'random_state': 73}. Best is trial 72 with value: 2034005855.20383.\n",
            "[I 2024-06-08 16:37:51,633] Trial 79 finished with value: 2155727504.2562695 and parameters: {'max_depth': 2, 'learning_rate': 0.23252919805367722, 'n_estimators': 928, 'min_child_weight': 8, 'gamma': 0.41836667797140503, 'subsample': 0.919766809572967, 'colsample_bytree': 0.41295215142040687, 'reg_alpha': 0.4414164702579185, 'reg_lambda': 0.8286195432017002, 'random_state': 123}. Best is trial 72 with value: 2034005855.20383.\n",
            "[I 2024-06-08 16:38:01,096] Trial 80 finished with value: 2120652892.022582 and parameters: {'max_depth': 1, 'learning_rate': 0.20724142964868975, 'n_estimators': 974, 'min_child_weight': 9, 'gamma': 0.49627899800547737, 'subsample': 0.09627290758549606, 'colsample_bytree': 0.4983794738406402, 'reg_alpha': 0.40963787613779806, 'reg_lambda': 0.7835092504362908, 'random_state': 200}. Best is trial 72 with value: 2034005855.20383.\n",
            "[I 2024-06-08 16:38:03,876] Trial 81 finished with value: 2033814531.9806921 and parameters: {'max_depth': 1, 'learning_rate': 0.12033740810007071, 'n_estimators': 890, 'min_child_weight': 8, 'gamma': 0.3642894355162454, 'subsample': 0.8562352065074536, 'colsample_bytree': 0.46461637464272154, 'reg_alpha': 0.3862341513760304, 'reg_lambda': 0.6426911866202419, 'random_state': 35}. Best is trial 81 with value: 2033814531.9806921.\n",
            "[I 2024-06-08 16:38:08,467] Trial 82 finished with value: 2043230183.7390878 and parameters: {'max_depth': 1, 'learning_rate': 0.1832654436062715, 'n_estimators': 909, 'min_child_weight': 8, 'gamma': 0.4467632806000182, 'subsample': 0.8464196452394176, 'colsample_bytree': 0.4360667723418577, 'reg_alpha': 0.5025094213622647, 'reg_lambda': 0.648636755674251, 'random_state': 73}. Best is trial 81 with value: 2033814531.9806921.\n",
            "[I 2024-06-08 16:38:12,879] Trial 83 finished with value: 2048409989.529902 and parameters: {'max_depth': 1, 'learning_rate': 0.15924474712471268, 'n_estimators': 892, 'min_child_weight': 8, 'gamma': 0.3669706524367946, 'subsample': 0.8979654285448008, 'colsample_bytree': 0.4655413215008865, 'reg_alpha': 0.4731593130797451, 'reg_lambda': 0.7655044809056903, 'random_state': 85}. Best is trial 81 with value: 2033814531.9806921.\n",
            "[I 2024-06-08 16:38:14,590] Trial 84 finished with value: 2074643247.6078172 and parameters: {'max_depth': 1, 'learning_rate': 0.13558152675947496, 'n_estimators': 941, 'min_child_weight': 9, 'gamma': 0.33463088790110046, 'subsample': 0.7662609024961489, 'colsample_bytree': 0.29543591207422626, 'reg_alpha': 0.33017257515599013, 'reg_lambda': 0.7059661146825146, 'random_state': 22}. Best is trial 81 with value: 2033814531.9806921.\n",
            "[I 2024-06-08 16:38:16,414] Trial 85 finished with value: 2177922082.8681564 and parameters: {'max_depth': 2, 'learning_rate': 0.24650076995088155, 'n_estimators': 979, 'min_child_weight': 8, 'gamma': 0.5457108119982377, 'subsample': 0.975071594522462, 'colsample_bytree': 0.5418374385418019, 'reg_alpha': 0.28893484157378424, 'reg_lambda': 0.8258468719018209, 'random_state': 33}. Best is trial 81 with value: 2033814531.9806921.\n",
            "[I 2024-06-08 16:38:17,882] Trial 86 finished with value: 2046752671.2380364 and parameters: {'max_depth': 1, 'learning_rate': 0.388239249396896, 'n_estimators': 779, 'min_child_weight': 7, 'gamma': 0.42118746342674646, 'subsample': 0.8667523815985015, 'colsample_bytree': 0.45072381424974645, 'reg_alpha': 0.39607778707620983, 'reg_lambda': 0.917231752277955, 'random_state': 61}. Best is trial 81 with value: 2033814531.9806921.\n",
            "[I 2024-06-08 16:38:19,506] Trial 87 finished with value: 2117526144.955806 and parameters: {'max_depth': 2, 'learning_rate': 0.013275218987209972, 'n_estimators': 841, 'min_child_weight': 2, 'gamma': 0.31479436395700633, 'subsample': 0.8116079964958285, 'colsample_bytree': 0.34661363458123795, 'reg_alpha': 0.3583883712541207, 'reg_lambda': 0.643968156014708, 'random_state': 109}. Best is trial 81 with value: 2033814531.9806921.\n",
            "[I 2024-06-08 16:38:23,407] Trial 88 finished with value: 2039289508.2104526 and parameters: {'max_depth': 1, 'learning_rate': 0.4669729233366827, 'n_estimators': 879, 'min_child_weight': 7, 'gamma': 0.48920531089226765, 'subsample': 0.9359199362668383, 'colsample_bytree': 0.5760500366603883, 'reg_alpha': 0.33274558004093596, 'reg_lambda': 0.8106361381195871, 'random_state': 166}. Best is trial 81 with value: 2033814531.9806921.\n",
            "[I 2024-06-08 16:38:25,483] Trial 89 finished with value: 2096498270.8489766 and parameters: {'max_depth': 9, 'learning_rate': 0.049581364089255564, 'n_estimators': 746, 'min_child_weight': 8, 'gamma': 0.36447248869549775, 'subsample': 0.9646008484573156, 'colsample_bytree': 0.3926757844236469, 'reg_alpha': 0.2489309489470533, 'reg_lambda': 0.8434173473460743, 'random_state': 36}. Best is trial 81 with value: 2033814531.9806921.\n",
            "[I 2024-06-08 16:38:27,137] Trial 90 finished with value: 2038140438.468858 and parameters: {'max_depth': 1, 'learning_rate': 0.11850568759226676, 'n_estimators': 898, 'min_child_weight': 7, 'gamma': 0.3896844042146356, 'subsample': 0.6212346017782018, 'colsample_bytree': 0.8371676415560593, 'reg_alpha': 0.22218306276643168, 'reg_lambda': 0.8867474223469559, 'random_state': 401}. Best is trial 81 with value: 2033814531.9806921.\n",
            "[I 2024-06-08 16:38:28,820] Trial 91 finished with value: 2049411937.0703642 and parameters: {'max_depth': 1, 'learning_rate': 0.11604753731893178, 'n_estimators': 942, 'min_child_weight': 7, 'gamma': 0.4065170940785469, 'subsample': 0.6101100701301776, 'colsample_bytree': 0.47626232646001876, 'reg_alpha': 0.2955867752262485, 'reg_lambda': 0.8949767771127567, 'random_state': 484}. Best is trial 81 with value: 2033814531.9806921.\n",
            "[I 2024-06-08 16:38:30,502] Trial 92 finished with value: 2054494593.334018 and parameters: {'max_depth': 1, 'learning_rate': 0.07814788747233196, 'n_estimators': 870, 'min_child_weight': 8, 'gamma': 0.43937475451038843, 'subsample': 0.7472297345992401, 'colsample_bytree': 0.8321631126788254, 'reg_alpha': 0.22046203142162465, 'reg_lambda': 0.7670026292900749, 'random_state': 410}. Best is trial 81 with value: 2033814531.9806921.\n",
            "[I 2024-06-08 16:38:32,163] Trial 93 finished with value: 2045153439.973041 and parameters: {'max_depth': 1, 'learning_rate': 0.1761378787118684, 'n_estimators': 904, 'min_child_weight': 7, 'gamma': 0.23609243585892156, 'subsample': 0.6957557692782939, 'colsample_bytree': 0.9722858468265615, 'reg_alpha': 0.5596134581316597, 'reg_lambda': 0.8753831702369517, 'random_state': 524}. Best is trial 81 with value: 2033814531.9806921.\n",
            "[I 2024-06-08 16:38:37,938] Trial 94 finished with value: 2162193829.502086 and parameters: {'max_depth': 2, 'learning_rate': 0.2081550755199189, 'n_estimators': 808, 'min_child_weight': 6, 'gamma': 0.28045231075103905, 'subsample': 0.5230890212032133, 'colsample_bytree': 0.9408344963236036, 'reg_alpha': 0.14965141126923698, 'reg_lambda': 0.6994816209999546, 'random_state': 435}. Best is trial 81 with value: 2033814531.9806921.\n",
            "[I 2024-06-08 16:38:40,026] Trial 95 finished with value: 2072848889.7217357 and parameters: {'max_depth': 1, 'learning_rate': 0.0963206397342765, 'n_estimators': 842, 'min_child_weight': 8, 'gamma': 0.3885360317961468, 'subsample': 0.425210799324788, 'colsample_bytree': 0.8829913388072425, 'reg_alpha': 0.2640016799073246, 'reg_lambda': 0.9350346450116338, 'random_state': 340}. Best is trial 81 with value: 2033814531.9806921.\n",
            "[I 2024-06-08 16:38:42,269] Trial 96 finished with value: 2041227339.3884146 and parameters: {'max_depth': 1, 'learning_rate': 0.15722778654714087, 'n_estimators': 784, 'min_child_weight': 7, 'gamma': 0.31410530280915, 'subsample': 0.8973950208878334, 'colsample_bytree': 0.5165489723423626, 'reg_alpha': 0.18641368250922033, 'reg_lambda': 0.9555674211476596, 'random_state': 568}. Best is trial 81 with value: 2033814531.9806921.\n",
            "[I 2024-06-08 16:38:46,588] Trial 97 finished with value: 2064369948.3635652 and parameters: {'max_depth': 1, 'learning_rate': 0.06488854480836087, 'n_estimators': 974, 'min_child_weight': 9, 'gamma': 0.3551076544155745, 'subsample': 0.8573648798377411, 'colsample_bytree': 0.851740566217611, 'reg_alpha': 0.3196870330925158, 'reg_lambda': 0.9032972898699982, 'random_state': 283}. Best is trial 81 with value: 2033814531.9806921.\n",
            "[I 2024-06-08 16:38:52,581] Trial 98 finished with value: 2100582013.1640954 and parameters: {'max_depth': 2, 'learning_rate': 0.1361525535451833, 'n_estimators': 901, 'min_child_weight': 7, 'gamma': 0.5155967428106243, 'subsample': 0.9332544516272632, 'colsample_bytree': 0.4255631049330582, 'reg_alpha': 0.42887742806840073, 'reg_lambda': 0.9775610227551745, 'random_state': 61}. Best is trial 81 with value: 2033814531.9806921.\n",
            "[I 2024-06-08 16:38:54,319] Trial 99 finished with value: 2068699376.5428371 and parameters: {'max_depth': 1, 'learning_rate': 0.11524940548750548, 'n_estimators': 936, 'min_child_weight': 8, 'gamma': 0.2729695343077532, 'subsample': 0.7934671890619477, 'colsample_bytree': 0.051078873824428606, 'reg_alpha': 0.6429154904141856, 'reg_lambda': 0.8453625371370751, 'random_state': 20}. Best is trial 81 with value: 2033814531.9806921.\n",
            "[I 2024-06-08 16:38:55,998] Trial 100 finished with value: 2080745436.469249 and parameters: {'max_depth': 2, 'learning_rate': 0.03068734218002961, 'n_estimators': 864, 'min_child_weight': 6, 'gamma': 0.15432362347292855, 'subsample': 0.9127437561284311, 'colsample_bytree': 0.9802790877885253, 'reg_alpha': 0.38931473803981165, 'reg_lambda': 0.815673705113972, 'random_state': 502}. Best is trial 81 with value: 2033814531.9806921.\n",
            "[I 2024-06-08 16:38:57,559] Trial 101 finished with value: 2049769650.2497084 and parameters: {'max_depth': 1, 'learning_rate': 0.6436884993852366, 'n_estimators': 875, 'min_child_weight': 7, 'gamma': 0.5409988064958993, 'subsample': 0.930581765371616, 'colsample_bytree': 0.3586475153155062, 'reg_alpha': 0.3361983139437756, 'reg_lambda': 0.8022172995228396, 'random_state': 163}. Best is trial 81 with value: 2033814531.9806921.\n",
            "[I 2024-06-08 16:38:59,255] Trial 102 finished with value: 2050301105.5792897 and parameters: {'max_depth': 1, 'learning_rate': 0.5085760890724715, 'n_estimators': 888, 'min_child_weight': 7, 'gamma': 0.4929973442996668, 'subsample': 0.9492405234069006, 'colsample_bytree': 0.5624529966752887, 'reg_alpha': 0.36514650990865605, 'reg_lambda': 0.7723350128223718, 'random_state': 79}. Best is trial 81 with value: 2033814531.9806921.\n",
            "[I 2024-06-08 16:39:03,244] Trial 103 finished with value: 2053413177.6689267 and parameters: {'max_depth': 1, 'learning_rate': 0.446416252344773, 'n_estimators': 952, 'min_child_weight': 6, 'gamma': 0.47080553813562526, 'subsample': 0.9814678918967861, 'colsample_bytree': 0.2656707125403403, 'reg_alpha': 0.27590415711139626, 'reg_lambda': 0.056435825446982134, 'random_state': 395}. Best is trial 81 with value: 2033814531.9806921.\n",
            "[I 2024-06-08 16:39:04,743] Trial 104 finished with value: 2058256551.5446572 and parameters: {'max_depth': 1, 'learning_rate': 0.5404014823749776, 'n_estimators': 825, 'min_child_weight': 7, 'gamma': 0.3794955987838937, 'subsample': 0.880787212964407, 'colsample_bytree': 0.5883622211125712, 'reg_alpha': 0.3406931018346814, 'reg_lambda': 0.7229267513613518, 'random_state': 129}. Best is trial 81 with value: 2033814531.9806921.\n",
            "[I 2024-06-08 16:39:06,528] Trial 105 finished with value: 2047035632.9790103 and parameters: {'max_depth': 1, 'learning_rate': 0.28528175314419335, 'n_estimators': 989, 'min_child_weight': 8, 'gamma': 0.4886074274209717, 'subsample': 0.9966426934727965, 'colsample_bytree': 0.933546247302219, 'reg_alpha': 0.30192223335723734, 'reg_lambda': 0.75321270170364, 'random_state': 23}. Best is trial 81 with value: 2033814531.9806921.\n",
            "[I 2024-06-08 16:39:09,652] Trial 106 finished with value: 2255960619.521931 and parameters: {'max_depth': 2, 'learning_rate': 0.7575511946216575, 'n_estimators': 845, 'min_child_weight': 7, 'gamma': 0.2479104915305303, 'subsample': 0.8398212560873115, 'colsample_bytree': 0.906066179367109, 'reg_alpha': 0.2561092855238449, 'reg_lambda': 0.8772534897466818, 'random_state': 670}. Best is trial 81 with value: 2033814531.9806921.\n",
            "[I 2024-06-08 16:39:15,744] Trial 107 finished with value: 2327651476.8659787 and parameters: {'max_depth': 7, 'learning_rate': 0.1898653861626259, 'n_estimators': 915, 'min_child_weight': 8, 'gamma': 0.426845752867528, 'subsample': 0.9416908810513974, 'colsample_bytree': 0.6454519984056547, 'reg_alpha': 0.21981543027941536, 'reg_lambda': 0.8138697616259513, 'random_state': 50}. Best is trial 81 with value: 2033814531.9806921.\n",
            "[I 2024-06-08 16:39:18,026] Trial 108 finished with value: 2059889663.0935807 and parameters: {'max_depth': 1, 'learning_rate': 0.584551220373025, 'n_estimators': 802, 'min_child_weight': 6, 'gamma': 0.5843678846923335, 'subsample': 0.864961240870276, 'colsample_bytree': 0.958620232044779, 'reg_alpha': 0.32366775579583945, 'reg_lambda': 0.6346198467878239, 'random_state': 236}. Best is trial 81 with value: 2033814531.9806921.\n",
            "[I 2024-06-08 16:39:21,238] Trial 109 finished with value: 2135915545.0637178 and parameters: {'max_depth': 2, 'learning_rate': 0.08624152551730406, 'n_estimators': 865, 'min_child_weight': 4, 'gamma': 0.1870949223694738, 'subsample': 0.23618266300089918, 'colsample_bytree': 0.923342894321628, 'reg_alpha': 0.2846891470760915, 'reg_lambda': 0.855427122851289, 'random_state': 90}. Best is trial 81 with value: 2033814531.9806921.\n",
            "[I 2024-06-08 16:39:22,985] Trial 110 finished with value: 2045752542.2550263 and parameters: {'max_depth': 1, 'learning_rate': 0.3384764364988495, 'n_estimators': 959, 'min_child_weight': 7, 'gamma': 0.452442254550813, 'subsample': 0.9029013604553128, 'colsample_bytree': 0.7384529911371367, 'reg_alpha': 0.3564359430313434, 'reg_lambda': 0.6891054921334836, 'random_state': 142}. Best is trial 81 with value: 2033814531.9806921.\n",
            "[I 2024-06-08 16:39:24,554] Trial 111 finished with value: 2038501363.0526361 and parameters: {'max_depth': 1, 'learning_rate': 0.11002703021298696, 'n_estimators': 852, 'min_child_weight': 5, 'gamma': 0.19612725624062752, 'subsample': 0.8413970562722048, 'colsample_bytree': 0.887960341271283, 'reg_alpha': 0.3809727467153464, 'reg_lambda': 0.9924701919719828, 'random_state': 5}. Best is trial 81 with value: 2033814531.9806921.\n",
            "[I 2024-06-08 16:39:34,391] Trial 112 finished with value: 2048655542.524211 and parameters: {'max_depth': 1, 'learning_rate': 0.15310796217579037, 'n_estimators': 889, 'min_child_weight': 5, 'gamma': 0.2915725656841802, 'subsample': 0.8165661402603713, 'colsample_bytree': 0.847946919619696, 'reg_alpha': 0.45109619858428857, 'reg_lambda': 0.9999723169430962, 'random_state': 55}. Best is trial 81 with value: 2033814531.9806921.\n",
            "[I 2024-06-08 16:39:35,997] Trial 113 finished with value: 2041304599.0417888 and parameters: {'max_depth': 1, 'learning_rate': 0.10459017289957159, 'n_estimators': 828, 'min_child_weight': 5, 'gamma': 0.23011222289633193, 'subsample': 0.9624389357560146, 'colsample_bytree': 0.8828351222249017, 'reg_alpha': 0.42011729548413035, 'reg_lambda': 0.9228091557779114, 'random_state': 23}. Best is trial 81 with value: 2033814531.9806921.\n",
            "[I 2024-06-08 16:39:37,724] Trial 114 finished with value: 2052235907.0182114 and parameters: {'max_depth': 1, 'learning_rate': 0.2203054519843892, 'n_estimators': 921, 'min_child_weight': 5, 'gamma': 0.34059443450392696, 'subsample': 0.9206929524034696, 'colsample_bytree': 0.9902413497702504, 'reg_alpha': 0.3944215082121982, 'reg_lambda': 0.9757485962657767, 'random_state': 101}. Best is trial 81 with value: 2033814531.9806921.\n",
            "[I 2024-06-08 16:39:41,139] Trial 115 finished with value: 2246502243.7812185 and parameters: {'max_depth': 6, 'learning_rate': 0.12441226204723688, 'n_estimators': 765, 'min_child_weight': 4, 'gamma': 0.3082488354677042, 'subsample': 0.8769452819080626, 'colsample_bytree': 0.9657222161969795, 'reg_alpha': 0.507639751932221, 'reg_lambda': 0.9489807675044349, 'random_state': 9}. Best is trial 81 with value: 2033814531.9806921.\n",
            "[I 2024-06-08 16:39:43,891] Trial 116 finished with value: 2047384734.5690398 and parameters: {'max_depth': 1, 'learning_rate': 0.17251827322193827, 'n_estimators': 999, 'min_child_weight': 6, 'gamma': 0.18632430976611908, 'subsample': 0.8940107175175143, 'colsample_bytree': 0.38858312454559396, 'reg_alpha': 0.3830167059019561, 'reg_lambda': 0.567468972809711, 'random_state': 38}. Best is trial 81 with value: 2033814531.9806921.\n",
            "[I 2024-06-08 16:39:45,433] Trial 117 finished with value: 2042844110.983138 and parameters: {'max_depth': 1, 'learning_rate': 0.4831723955333799, 'n_estimators': 847, 'min_child_weight': 5, 'gamma': 0.39983209165141104, 'subsample': 0.8353308491822433, 'colsample_bytree': 0.9477629332210689, 'reg_alpha': 0.24194353832568352, 'reg_lambda': 0.8400853733552742, 'random_state': 69}. Best is trial 81 with value: 2033814531.9806921.\n",
            "[I 2024-06-08 16:39:47,165] Trial 118 finished with value: 2079537488.8554437 and parameters: {'max_depth': 2, 'learning_rate': 0.051680419633451685, 'n_estimators': 897, 'min_child_weight': 8, 'gamma': 0.2592637677662169, 'subsample': 0.8555584444893864, 'colsample_bytree': 0.8116460229881343, 'reg_alpha': 0.310885443843616, 'reg_lambda': 0.7929130033213623, 'random_state': 114}. Best is trial 81 with value: 2033814531.9806921.\n",
            "[I 2024-06-08 16:39:48,764] Trial 119 finished with value: 2054928734.134986 and parameters: {'max_depth': 1, 'learning_rate': 0.9305256316346011, 'n_estimators': 874, 'min_child_weight': 7, 'gamma': 0.32552746273826405, 'subsample': 0.9389040527048161, 'colsample_bytree': 0.8953656714727483, 'reg_alpha': 0.34810370883176606, 'reg_lambda': 0.9010160972993096, 'random_state': 50}. Best is trial 81 with value: 2033814531.9806921.\n",
            "[I 2024-06-08 16:39:50,268] Trial 120 finished with value: 2037484728.753211 and parameters: {'max_depth': 1, 'learning_rate': 0.14555283142811015, 'n_estimators': 808, 'min_child_weight': 7, 'gamma': 0.2130366340523667, 'subsample': 0.801231325810025, 'colsample_bytree': 0.4743200522884522, 'reg_alpha': 0.2768780095476899, 'reg_lambda': 0.7349809799325779, 'random_state': 367}. Best is trial 81 with value: 2033814531.9806921.\n",
            "[I 2024-06-08 16:39:51,764] Trial 121 finished with value: 2034184790.793595 and parameters: {'max_depth': 1, 'learning_rate': 0.14569141135368754, 'n_estimators': 807, 'min_child_weight': 7, 'gamma': 0.2171939538344449, 'subsample': 0.8015989101993602, 'colsample_bytree': 0.4496522256031231, 'reg_alpha': 0.2722347356785948, 'reg_lambda': 0.7322861915633089, 'random_state': 355}. Best is trial 81 with value: 2033814531.9806921.\n",
            "[I 2024-06-08 16:39:55,550] Trial 122 finished with value: 2034606827.0005362 and parameters: {'max_depth': 1, 'learning_rate': 0.15709370213165913, 'n_estimators': 738, 'min_child_weight': 7, 'gamma': 0.22464566984987588, 'subsample': 0.7961108784602182, 'colsample_bytree': 0.4439737794497243, 'reg_alpha': 0.27984516331841175, 'reg_lambda': 0.6633171193021138, 'random_state': 337}. Best is trial 81 with value: 2033814531.9806921.\n",
            "[I 2024-06-08 16:39:57,012] Trial 123 finished with value: 2035502237.2105248 and parameters: {'max_depth': 1, 'learning_rate': 0.14198466701748572, 'n_estimators': 796, 'min_child_weight': 7, 'gamma': 0.22023013748727185, 'subsample': 0.7997792800756109, 'colsample_bytree': 0.474688886884476, 'reg_alpha': 0.2735914790016765, 'reg_lambda': 0.6673850604928369, 'random_state': 377}. Best is trial 81 with value: 2033814531.9806921.\n",
            "[I 2024-06-08 16:39:58,392] Trial 124 finished with value: 2037341612.6348393 and parameters: {'max_depth': 1, 'learning_rate': 0.14668747341727628, 'n_estimators': 738, 'min_child_weight': 7, 'gamma': 0.2249463490485727, 'subsample': 0.7551793568940887, 'colsample_bytree': 0.4753924709928573, 'reg_alpha': 0.2710133778956533, 'reg_lambda': 0.6693179095862504, 'random_state': 344}. Best is trial 81 with value: 2033814531.9806921.\n",
            "[I 2024-06-08 16:39:59,773] Trial 125 finished with value: 2036184788.6971376 and parameters: {'max_depth': 1, 'learning_rate': 0.14744051308656736, 'n_estimators': 748, 'min_child_weight': 7, 'gamma': 0.2259796425537101, 'subsample': 0.7667438353271736, 'colsample_bytree': 0.46887934354672534, 'reg_alpha': 0.21413781647487734, 'reg_lambda': 0.6571236649516944, 'random_state': 370}. Best is trial 81 with value: 2033814531.9806921.\n",
            "[I 2024-06-08 16:40:01,242] Trial 126 finished with value: 2104992043.2969198 and parameters: {'max_depth': 2, 'learning_rate': 0.1418877644241488, 'n_estimators': 712, 'min_child_weight': 7, 'gamma': 0.2214558355419136, 'subsample': 0.7101995041683102, 'colsample_bytree': 0.4790509695232148, 'reg_alpha': 0.2677422527850799, 'reg_lambda': 0.6579700576585158, 'random_state': 308}. Best is trial 81 with value: 2033814531.9806921.\n",
            "[I 2024-06-08 16:40:02,599] Trial 127 finished with value: 2036667787.046965 and parameters: {'max_depth': 1, 'learning_rate': 0.16568517444846353, 'n_estimators': 734, 'min_child_weight': 7, 'gamma': 0.15945814067032285, 'subsample': 0.7534012138733254, 'colsample_bytree': 0.5111609774280576, 'reg_alpha': 0.18209065413104342, 'reg_lambda': 0.6173794004120464, 'random_state': 365}. Best is trial 81 with value: 2033814531.9806921.\n",
            "[I 2024-06-08 16:40:03,988] Trial 128 finished with value: 2041385348.5758653 and parameters: {'max_depth': 1, 'learning_rate': 0.08438686839780216, 'n_estimators': 731, 'min_child_weight': 7, 'gamma': 0.15591014038969453, 'subsample': 0.7561176854465415, 'colsample_bytree': 0.5073786632258824, 'reg_alpha': 0.2043582577369275, 'reg_lambda': 0.628366604130573, 'random_state': 340}. Best is trial 81 with value: 2033814531.9806921.\n",
            "[I 2024-06-08 16:40:05,361] Trial 129 finished with value: 2113497223.729412 and parameters: {'max_depth': 2, 'learning_rate': 0.19534526213160555, 'n_estimators': 692, 'min_child_weight': 6, 'gamma': 0.2397577021110933, 'subsample': 0.7368224863521813, 'colsample_bytree': 0.41612667561559935, 'reg_alpha': 0.11528738147891747, 'reg_lambda': 0.6121196388886878, 'random_state': 445}. Best is trial 81 with value: 2033814531.9806921.\n",
            "[I 2024-06-08 16:40:08,671] Trial 130 finished with value: 2035590285.2185225 and parameters: {'max_depth': 1, 'learning_rate': 0.1608263030472973, 'n_estimators': 630, 'min_child_weight': 7, 'gamma': 0.12531102378964376, 'subsample': 0.7826488147706029, 'colsample_bytree': 0.4456733067938314, 'reg_alpha': 0.1659701377442717, 'reg_lambda': 0.679750113901753, 'random_state': 369}. Best is trial 81 with value: 2033814531.9806921.\n",
            "[I 2024-06-08 16:40:10,064] Trial 131 finished with value: 2034610451.5368948 and parameters: {'max_depth': 1, 'learning_rate': 0.16169465149777798, 'n_estimators': 754, 'min_child_weight': 7, 'gamma': 0.07555635341121265, 'subsample': 0.7646709263141158, 'colsample_bytree': 0.490662382660923, 'reg_alpha': 0.16625824550687526, 'reg_lambda': 0.6848919615898263, 'random_state': 374}. Best is trial 81 with value: 2033814531.9806921.\n",
            "[I 2024-06-08 16:40:11,509] Trial 132 finished with value: 2034983760.421032 and parameters: {'max_depth': 1, 'learning_rate': 0.23623048588625523, 'n_estimators': 749, 'min_child_weight': 7, 'gamma': 0.06776407553808542, 'subsample': 0.7947684120660767, 'colsample_bytree': 0.5339338571221593, 'reg_alpha': 0.147169639754417, 'reg_lambda': 0.5793993218357211, 'random_state': 372}. Best is trial 81 with value: 2033814531.9806921.\n",
            "[I 2024-06-08 16:40:12,749] Trial 133 finished with value: 2041977554.5082338 and parameters: {'max_depth': 1, 'learning_rate': 0.17140771138950578, 'n_estimators': 637, 'min_child_weight': 7, 'gamma': 0.05344705110151049, 'subsample': 0.7819622863322041, 'colsample_bytree': 0.5322442410202715, 'reg_alpha': 0.08565153954804033, 'reg_lambda': 0.610664640756608, 'random_state': 372}. Best is trial 81 with value: 2033814531.9806921.\n",
            "[I 2024-06-08 16:40:14,156] Trial 134 finished with value: 2036186614.5794141 and parameters: {'max_depth': 1, 'learning_rate': 0.2368208097951663, 'n_estimators': 759, 'min_child_weight': 7, 'gamma': 0.11303238574414709, 'subsample': 0.6679774804442165, 'colsample_bytree': 0.45016668852834846, 'reg_alpha': 0.028254286125498712, 'reg_lambda': 0.5914398738648415, 'random_state': 417}. Best is trial 81 with value: 2033814531.9806921.\n",
            "[I 2024-06-08 16:40:15,588] Trial 135 finished with value: 2050758979.5636175 and parameters: {'max_depth': 1, 'learning_rate': 0.2437109525834448, 'n_estimators': 771, 'min_child_weight': 7, 'gamma': 0.0730595697246864, 'subsample': 0.803870514385262, 'colsample_bytree': 0.43399059504926935, 'reg_alpha': 0.15347892534810903, 'reg_lambda': 0.582379917368069, 'random_state': 464}. Best is trial 81 with value: 2033814531.9806921.\n",
            "[I 2024-06-08 16:40:16,998] Trial 136 finished with value: 2034697567.395907 and parameters: {'max_depth': 1, 'learning_rate': 0.2032494141454227, 'n_estimators': 750, 'min_child_weight': 7, 'gamma': 0.024897385995753175, 'subsample': 0.7729634352754453, 'colsample_bytree': 0.45336590899378354, 'reg_alpha': 0.08452219229802603, 'reg_lambda': 0.6855414675784921, 'random_state': 417}. Best is trial 81 with value: 2033814531.9806921.\n",
            "[I 2024-06-08 16:40:19,132] Trial 137 finished with value: 2209954212.599481 and parameters: {'max_depth': 5, 'learning_rate': 0.19784573113158863, 'n_estimators': 704, 'min_child_weight': 7, 'gamma': 0.01574680300503868, 'subsample': 0.7152659977331607, 'colsample_bytree': 0.39281952509531637, 'reg_alpha': 0.09905911823076917, 'reg_lambda': 0.6873142372852438, 'random_state': 387}. Best is trial 81 with value: 2033814531.9806921.\n",
            "[I 2024-06-08 16:40:22,181] Trial 138 finished with value: 2092859251.3966281 and parameters: {'max_depth': 2, 'learning_rate': 0.12886630075218053, 'n_estimators': 570, 'min_child_weight': 6, 'gamma': 0.04953965263463565, 'subsample': 0.7693624753646586, 'colsample_bytree': 0.4577781421676196, 'reg_alpha': 0.12855222905219474, 'reg_lambda': 0.658571144452043, 'random_state': 319}. Best is trial 81 with value: 2033814531.9806921.\n",
            "[I 2024-06-08 16:40:23,428] Trial 139 finished with value: 2042166160.2411902 and parameters: {'max_depth': 1, 'learning_rate': 0.1921986478710775, 'n_estimators': 655, 'min_child_weight': 7, 'gamma': 0.09255253686454547, 'subsample': 0.7879952486134543, 'colsample_bytree': 0.4936238799750727, 'reg_alpha': 0.16581245280873172, 'reg_lambda': 0.5444862091438664, 'random_state': 279}. Best is trial 81 with value: 2033814531.9806921.\n",
            "[I 2024-06-08 16:40:24,745] Trial 140 finished with value: 2051804050.6908014 and parameters: {'max_depth': 1, 'learning_rate': 0.21952029358915437, 'n_estimators': 680, 'min_child_weight': 8, 'gamma': 0.1337863301852631, 'subsample': 0.8181226151753722, 'colsample_bytree': 0.36993242019842637, 'reg_alpha': 0.0590427287994332, 'reg_lambda': 0.7136043152752333, 'random_state': 422}. Best is trial 81 with value: 2033814531.9806921.\n",
            "[I 2024-06-08 16:40:26,581] Trial 141 finished with value: 2042319055.9650514 and parameters: {'max_depth': 1, 'learning_rate': 0.2322979246268575, 'n_estimators': 788, 'min_child_weight': 7, 'gamma': 0.031423559242582555, 'subsample': 0.7362486818060899, 'colsample_bytree': 0.41266911827226116, 'reg_alpha': 0.011475843511618056, 'reg_lambda': 0.5895078240881955, 'random_state': 412}. Best is trial 81 with value: 2033814531.9806921.\n",
            "[I 2024-06-08 16:40:27,975] Trial 142 finished with value: 2031974896.1004353 and parameters: {'max_depth': 1, 'learning_rate': 0.1657911764042161, 'n_estimators': 746, 'min_child_weight': 7, 'gamma': 0.12136414363742597, 'subsample': 0.6495572025085012, 'colsample_bytree': 0.4535798088979399, 'reg_alpha': 0.023877883789838097, 'reg_lambda': 0.6783868839128658, 'random_state': 387}. Best is trial 142 with value: 2031974896.1004353.\n",
            "[I 2024-06-08 16:40:29,392] Trial 143 finished with value: 2039232087.0395393 and parameters: {'max_depth': 1, 'learning_rate': 0.1605398792031374, 'n_estimators': 754, 'min_child_weight': 7, 'gamma': 0.06904755144202557, 'subsample': 0.6887788388439485, 'colsample_bytree': 0.4871513050722913, 'reg_alpha': 0.08010791866600617, 'reg_lambda': 0.6727254554744917, 'random_state': 480}. Best is trial 142 with value: 2031974896.1004353.\n",
            "[I 2024-06-08 16:40:30,806] Trial 144 finished with value: 2034622005.9861517 and parameters: {'max_depth': 1, 'learning_rate': 0.18181640851477796, 'n_estimators': 724, 'min_child_weight': 7, 'gamma': 0.11223039915017138, 'subsample': 0.7832622025442465, 'colsample_bytree': 0.4330452809440995, 'reg_alpha': 0.13149702945859293, 'reg_lambda': 0.6917565522192585, 'random_state': 450}. Best is trial 142 with value: 2031974896.1004353.\n",
            "[I 2024-06-08 16:40:33,882] Trial 145 finished with value: 2045043467.894755 and parameters: {'max_depth': 1, 'learning_rate': 0.18126722366623788, 'n_estimators': 714, 'min_child_weight': 7, 'gamma': 0.1148887319894884, 'subsample': 0.788738458510806, 'colsample_bytree': 0.4385014041002446, 'reg_alpha': 0.06254448104432045, 'reg_lambda': 0.6861719072725072, 'random_state': 447}. Best is trial 142 with value: 2031974896.1004353.\n",
            "[I 2024-06-08 16:40:35,736] Trial 146 finished with value: 2056572175.4396672 and parameters: {'max_depth': 1, 'learning_rate': 0.25802096005650604, 'n_estimators': 691, 'min_child_weight': 8, 'gamma': 0.0850920239547408, 'subsample': 0.826135599045523, 'colsample_bytree': 0.327808521423702, 'reg_alpha': 0.11616769654006784, 'reg_lambda': 0.7018500592334981, 'random_state': 331}. Best is trial 142 with value: 2031974896.1004353.\n",
            "[I 2024-06-08 16:40:36,937] Trial 147 finished with value: 2042389057.2986856 and parameters: {'max_depth': 1, 'learning_rate': 0.12766472574721172, 'n_estimators': 620, 'min_child_weight': 6, 'gamma': 0.06801880929000415, 'subsample': 0.7964448885967674, 'colsample_bytree': 0.5534247547109693, 'reg_alpha': 0.05213654796575609, 'reg_lambda': 0.7235367624449006, 'random_state': 395}. Best is trial 142 with value: 2031974896.1004353.\n",
            "[I 2024-06-08 16:40:38,372] Trial 148 finished with value: 2047838782.019067 and parameters: {'max_depth': 1, 'learning_rate': 0.20937277068198817, 'n_estimators': 778, 'min_child_weight': 8, 'gamma': 0.03430178643751332, 'subsample': 0.8189148051133135, 'colsample_bytree': 0.39248202017249423, 'reg_alpha': 0.037148658792536246, 'reg_lambda': 0.6330344102993547, 'random_state': 299}. Best is trial 142 with value: 2031974896.1004353.\n",
            "[I 2024-06-08 16:40:40,579] Trial 149 finished with value: 2369698261.7375574 and parameters: {'max_depth': 10, 'learning_rate': 0.17720104245355753, 'n_estimators': 671, 'min_child_weight': 7, 'gamma': 0.1345199163249957, 'subsample': 0.7221754418358393, 'colsample_bytree': 0.45221665885648965, 'reg_alpha': 0.13005858824036917, 'reg_lambda': 0.648080483772415, 'random_state': 476}. Best is trial 142 with value: 2031974896.1004353.\n",
            "[I 2024-06-08 16:40:42,119] Trial 150 finished with value: 2090743607.2321868 and parameters: {'max_depth': 2, 'learning_rate': 0.10064191312940834, 'n_estimators': 793, 'min_child_weight': 7, 'gamma': 0.11328330600426972, 'subsample': 0.6517833688751192, 'colsample_bytree': 0.521123065990289, 'reg_alpha': 0.14644107216137564, 'reg_lambda': 0.6923495506408055, 'random_state': 361}. Best is trial 142 with value: 2031974896.1004353.\n",
            "[I 2024-06-08 16:40:43,523] Trial 151 finished with value: 2042007167.8495204 and parameters: {'max_depth': 1, 'learning_rate': 0.14827590809097932, 'n_estimators': 731, 'min_child_weight': 7, 'gamma': 0.010201227263520423, 'subsample': 0.7654020028002887, 'colsample_bytree': 0.45668372772367727, 'reg_alpha': 0.18185681592615685, 'reg_lambda': 0.6616615705813437, 'random_state': 382}. Best is trial 142 with value: 2031974896.1004353.\n",
            "[I 2024-06-08 16:40:45,006] Trial 152 finished with value: 2043911682.8417864 and parameters: {'max_depth': 1, 'learning_rate': 0.0704231175498896, 'n_estimators': 718, 'min_child_weight': 7, 'gamma': 0.27714807318356405, 'subsample': 0.7759418364308043, 'colsample_bytree': 0.42592164133348565, 'reg_alpha': 0.23922746370504147, 'reg_lambda': 0.17315236146963825, 'random_state': 426}. Best is trial 142 with value: 2031974896.1004353.\n",
            "[I 2024-06-08 16:40:48,285] Trial 153 finished with value: 2029712021.1815548 and parameters: {'max_depth': 1, 'learning_rate': 0.16107162630693014, 'n_estimators': 645, 'min_child_weight': 7, 'gamma': 0.05565451192981419, 'subsample': 0.8092248748280914, 'colsample_bytree': 0.49279136389517836, 'reg_alpha': 0.16862591188664675, 'reg_lambda': 0.3184634064939915, 'random_state': 350}. Best is trial 153 with value: 2029712021.1815548.\n",
            "[I 2024-06-08 16:40:49,453] Trial 154 finished with value: 2049236979.9445212 and parameters: {'max_depth': 1, 'learning_rate': 0.16193478595748934, 'n_estimators': 601, 'min_child_weight': 8, 'gamma': 0.048527955047020746, 'subsample': 0.8042638052524211, 'colsample_bytree': 0.5091354377380161, 'reg_alpha': 0.1969603554560988, 'reg_lambda': 0.11969209562840888, 'random_state': 458}. Best is trial 153 with value: 2029712021.1815548.\n",
            "[I 2024-06-08 16:40:50,688] Trial 155 finished with value: 2035787096.6164114 and parameters: {'max_depth': 1, 'learning_rate': 0.13119603105587319, 'n_estimators': 640, 'min_child_weight': 7, 'gamma': 0.0888274950996082, 'subsample': 0.8199405217098371, 'colsample_bytree': 0.48889760224585205, 'reg_alpha': 0.08995837518643116, 'reg_lambda': 0.6770207203345903, 'random_state': 348}. Best is trial 153 with value: 2029712021.1815548.\n",
            "[I 2024-06-08 16:40:51,732] Trial 156 finished with value: 2041062174.617921 and parameters: {'max_depth': 1, 'learning_rate': 0.19927756038930663, 'n_estimators': 511, 'min_child_weight': 7, 'gamma': 0.17614113550634058, 'subsample': 0.8628900367234579, 'colsample_bytree': 0.4114538209220604, 'reg_alpha': 0.1622566473576642, 'reg_lambda': 0.7100124238924524, 'random_state': 504}. Best is trial 153 with value: 2029712021.1815548.\n",
            "[I 2024-06-08 16:40:52,197] Trial 157 finished with value: 2163723820.8721876 and parameters: {'max_depth': 1, 'learning_rate': 0.09675611837539909, 'n_estimators': 154, 'min_child_weight': 6, 'gamma': 0.1457810947957713, 'subsample': 0.87618337934952, 'colsample_bytree': 0.4343711036982567, 'reg_alpha': 0.10545343151162134, 'reg_lambda': 0.23764070533449888, 'random_state': 322}. Best is trial 153 with value: 2029712021.1815548.\n",
            "[I 2024-06-08 16:40:53,441] Trial 158 finished with value: 2033104849.9627826 and parameters: {'max_depth': 1, 'learning_rate': 0.11346562969680618, 'n_estimators': 652, 'min_child_weight': 7, 'gamma': 0.058442395927434256, 'subsample': 0.8467409943268476, 'colsample_bytree': 0.4972791022689442, 'reg_alpha': 0.13553605970914923, 'reg_lambda': 0.3312008811650634, 'random_state': 534}. Best is trial 153 with value: 2029712021.1815548.\n",
            "[I 2024-06-08 16:40:54,824] Trial 159 finished with value: 2081215678.5044634 and parameters: {'max_depth': 2, 'learning_rate': 0.11507689340802237, 'n_estimators': 698, 'min_child_weight': 6, 'gamma': 0.0617561474313547, 'subsample': 0.8329557581768943, 'colsample_bytree': 0.6100259978925149, 'reg_alpha': 0.07895666812798424, 'reg_lambda': 0.3218655151521769, 'random_state': 537}. Best is trial 153 with value: 2029712021.1815548.\n",
            "[I 2024-06-08 16:40:56,096] Trial 160 finished with value: 2048084060.5069606 and parameters: {'max_depth': 1, 'learning_rate': 0.08101378192277425, 'n_estimators': 665, 'min_child_weight': 7, 'gamma': 0.03633713295304418, 'subsample': 0.5864795808105089, 'colsample_bytree': 0.4674852849815962, 'reg_alpha': 0.010190600569009804, 'reg_lambda': 0.2820851340645133, 'random_state': 399}. Best is trial 153 with value: 2029712021.1815548.\n",
            "[I 2024-06-08 16:40:57,285] Trial 161 finished with value: 2038114024.6418228 and parameters: {'max_depth': 1, 'learning_rate': 0.17199702927640578, 'n_estimators': 620, 'min_child_weight': 7, 'gamma': 0.757268735773267, 'subsample': 0.8516736339342806, 'colsample_bytree': 0.5303023548444947, 'reg_alpha': 0.13551364353140477, 'reg_lambda': 0.4912324521187111, 'random_state': 574}. Best is trial 153 with value: 2029712021.1815548.\n",
            "[I 2024-06-08 16:41:01,124] Trial 162 finished with value: 2037787764.9465873 and parameters: {'max_depth': 1, 'learning_rate': 0.13528594342859163, 'n_estimators': 751, 'min_child_weight': 7, 'gamma': 0.09724786842075367, 'subsample': 0.788533698565328, 'colsample_bytree': 0.4985680947849637, 'reg_alpha': 0.1509088577764057, 'reg_lambda': 0.21243494485482006, 'random_state': 434}. Best is trial 153 with value: 2029712021.1815548.\n",
            "[I 2024-06-08 16:41:02,398] Trial 163 finished with value: 2048058931.0131705 and parameters: {'max_depth': 1, 'learning_rate': 0.15478320073780938, 'n_estimators': 656, 'min_child_weight': 8, 'gamma': 0.07940748466119113, 'subsample': 0.8116824334421897, 'colsample_bytree': 0.5505052261982811, 'reg_alpha': 0.17165945285367715, 'reg_lambda': 0.5701321450606737, 'random_state': 384}. Best is trial 153 with value: 2029712021.1815548.\n",
            "[I 2024-06-08 16:41:03,524] Trial 164 finished with value: 2036841829.8548992 and parameters: {'max_depth': 1, 'learning_rate': 0.1877435899748776, 'n_estimators': 572, 'min_child_weight': 7, 'gamma': 0.052049375060156715, 'subsample': 0.8374555330621979, 'colsample_bytree': 0.12344165924875317, 'reg_alpha': 0.18879194232856478, 'reg_lambda': 0.08386043901089324, 'random_state': 538}. Best is trial 153 with value: 2029712021.1815548.\n",
            "[I 2024-06-08 16:41:04,882] Trial 165 finished with value: 2030046543.1095676 and parameters: {'max_depth': 1, 'learning_rate': 0.1132186489431721, 'n_estimators': 723, 'min_child_weight': 7, 'gamma': 0.12760264461398702, 'subsample': 0.8868181338475154, 'colsample_bytree': 0.4461562417056029, 'reg_alpha': 0.7591402893175153, 'reg_lambda': 0.4619333219582936, 'random_state': 348}. Best is trial 153 with value: 2029712021.1815548.\n",
            "[I 2024-06-08 16:41:06,303] Trial 166 finished with value: 2033365638.676463 and parameters: {'max_depth': 1, 'learning_rate': 0.11024344436585697, 'n_estimators': 769, 'min_child_weight': 7, 'gamma': 0.2543354604485211, 'subsample': 0.8865267011619535, 'colsample_bytree': 0.4913207803341058, 'reg_alpha': 0.7541963609507973, 'reg_lambda': 0.32469445284714193, 'random_state': 295}. Best is trial 153 with value: 2029712021.1815548.\n",
            "[I 2024-06-08 16:41:07,716] Trial 167 finished with value: 2058826746.142455 and parameters: {'max_depth': 1, 'learning_rate': 0.05956198705190941, 'n_estimators': 721, 'min_child_weight': 7, 'gamma': 0.2589889328284542, 'subsample': 0.8976854741650939, 'colsample_bytree': 0.4915735369892645, 'reg_alpha': 0.7531621742564911, 'reg_lambda': 0.3974175818211412, 'random_state': 303}. Best is trial 153 with value: 2029712021.1815548.\n",
            "[I 2024-06-08 16:41:09,142] Trial 168 finished with value: 2063429493.4815273 and parameters: {'max_depth': 1, 'learning_rate': 0.1129185680136675, 'n_estimators': 770, 'min_child_weight': 9, 'gamma': 0.2938120399343111, 'subsample': 0.9133373308177597, 'colsample_bytree': 0.40066697811898816, 'reg_alpha': 0.8529660010431365, 'reg_lambda': 0.37024112302838286, 'random_state': 264}. Best is trial 153 with value: 2029712021.1815548.\n",
            "[I 2024-06-08 16:41:10,754] Trial 169 finished with value: 2141122197.6674912 and parameters: {'max_depth': 4, 'learning_rate': 0.09030437394110791, 'n_estimators': 741, 'min_child_weight': 8, 'gamma': 0.027121890136377613, 'subsample': 0.876260772100243, 'colsample_bytree': 0.4282451379228706, 'reg_alpha': 0.7692147984797023, 'reg_lambda': 0.33631795511202184, 'random_state': 513}. Best is trial 153 with value: 2029712021.1815548.\n",
            "[I 2024-06-08 16:41:14,278] Trial 170 finished with value: 2036639429.9549687 and parameters: {'max_depth': 1, 'learning_rate': 0.11556834167794977, 'n_estimators': 697, 'min_child_weight': 7, 'gamma': 0.10541882423073727, 'subsample': 0.8936641460032545, 'colsample_bytree': 0.5212555212023795, 'reg_alpha': 0.8132798554273686, 'reg_lambda': 0.6222341615483986, 'random_state': 351}. Best is trial 153 with value: 2029712021.1815548.\n",
            "[I 2024-06-08 16:41:15,742] Trial 171 finished with value: 2035994760.8190737 and parameters: {'max_depth': 1, 'learning_rate': 0.13834489182463225, 'n_estimators': 795, 'min_child_weight': 7, 'gamma': 0.2719486553483361, 'subsample': 0.8572384951855778, 'colsample_bytree': 0.46320312546619846, 'reg_alpha': 0.7271410721874212, 'reg_lambda': 0.30646290814888333, 'random_state': 334}. Best is trial 153 with value: 2029712021.1815548.\n",
            "[I 2024-06-08 16:41:17,185] Trial 172 finished with value: 2039434338.4327457 and parameters: {'max_depth': 1, 'learning_rate': 0.09580677552105878, 'n_estimators': 764, 'min_child_weight': 7, 'gamma': 0.17008481824338273, 'subsample': 0.8659635424352172, 'colsample_bytree': 0.4831930629961431, 'reg_alpha': 0.9500110997897582, 'reg_lambda': 0.2740401006391051, 'random_state': 409}. Best is trial 153 with value: 2029712021.1815548.\n",
            "[I 2024-06-08 16:41:18,696] Trial 173 finished with value: 2034430688.957336 and parameters: {'max_depth': 1, 'learning_rate': 0.1242701562012862, 'n_estimators': 809, 'min_child_weight': 7, 'gamma': 0.08064588599963962, 'subsample': 0.8329217406062106, 'colsample_bytree': 0.44619377433939095, 'reg_alpha': 0.6508048867884833, 'reg_lambda': 0.37293953866724466, 'random_state': 390}. Best is trial 153 with value: 2029712021.1815548.\n",
            "[I 2024-06-08 16:41:20,069] Trial 174 finished with value: 2035949525.9864433 and parameters: {'max_depth': 1, 'learning_rate': 0.12706924894625907, 'n_estimators': 730, 'min_child_weight': 7, 'gamma': 0.0788388770541236, 'subsample': 0.8830626470577175, 'colsample_bytree': 0.3753882382186319, 'reg_alpha': 0.7407700447734795, 'reg_lambda': 0.4640180296359535, 'random_state': 485}. Best is trial 153 with value: 2029712021.1815548.\n",
            "[I 2024-06-08 16:41:24,070] Trial 175 finished with value: 2068801983.0086887 and parameters: {'max_depth': 1, 'learning_rate': 0.04445491196610969, 'n_estimators': 815, 'min_child_weight': 7, 'gamma': 0.05973411228522381, 'subsample': 0.8325163572956056, 'colsample_bytree': 0.4497610201250273, 'reg_alpha': 0.5747491813661141, 'reg_lambda': 0.4012773605698698, 'random_state': 358}. Best is trial 153 with value: 2029712021.1815548.\n",
            "[I 2024-06-08 16:41:30,863] Trial 176 finished with value: 2058658256.9079545 and parameters: {'max_depth': 1, 'learning_rate': 0.07416172880504907, 'n_estimators': 684, 'min_child_weight': 6, 'gamma': 0.1187569767133822, 'subsample': 0.910437789094562, 'colsample_bytree': 0.5062097799387085, 'reg_alpha': 0.6950166293780408, 'reg_lambda': 0.35589656455495206, 'random_state': 397}. Best is trial 153 with value: 2029712021.1815548.\n",
            "[I 2024-06-08 16:41:33,913] Trial 177 finished with value: 2052469722.8397331 and parameters: {'max_depth': 1, 'learning_rate': 0.18265726680592592, 'n_estimators': 754, 'min_child_weight': 8, 'gamma': 0.24832815910033895, 'subsample': 0.7453658834195823, 'colsample_bytree': 0.43159190670123254, 'reg_alpha': 0.6310788920510539, 'reg_lambda': 0.2992967427164644, 'random_state': 446}. Best is trial 153 with value: 2029712021.1815548.\n",
            "[I 2024-06-08 16:41:35,354] Trial 178 finished with value: 2037517725.5387883 and parameters: {'max_depth': 1, 'learning_rate': 0.1140296156786963, 'n_estimators': 780, 'min_child_weight': 7, 'gamma': 0.9495572282093128, 'subsample': 0.8431481822842157, 'colsample_bytree': 0.41655209435691776, 'reg_alpha': 0.6654812836945831, 'reg_lambda': 0.33448329195022614, 'random_state': 293}. Best is trial 153 with value: 2029712021.1815548.\n",
            "[I 2024-06-08 16:41:36,778] Trial 179 finished with value: 2138659929.375311 and parameters: {'max_depth': 2, 'learning_rate': 0.21209696732697117, 'n_estimators': 711, 'min_child_weight': 7, 'gamma': 0.09465020302564123, 'subsample': 0.919854506337338, 'colsample_bytree': 0.9994332443752956, 'reg_alpha': 0.5932802106842906, 'reg_lambda': 0.3792925449792558, 'random_state': 334}. Best is trial 153 with value: 2029712021.1815548.\n",
            "[I 2024-06-08 16:41:40,697] Trial 180 finished with value: 2039212228.212707 and parameters: {'max_depth': 1, 'learning_rate': 0.15040640567331448, 'n_estimators': 836, 'min_child_weight': 6, 'gamma': 0.03445916667790273, 'subsample': 0.8759519222127348, 'colsample_bytree': 0.4608143954739042, 'reg_alpha': 0.11070452144447354, 'reg_lambda': 0.5425192296741728, 'random_state': 321}. Best is trial 153 with value: 2029712021.1815548.\n",
            "[I 2024-06-08 16:41:42,202] Trial 181 finished with value: 2041076421.2492034 and parameters: {'max_depth': 1, 'learning_rate': 0.1671248387934891, 'n_estimators': 810, 'min_child_weight': 7, 'gamma': 0.30080170480604423, 'subsample': 0.8093981775020844, 'colsample_bytree': 0.4745107260368294, 'reg_alpha': 0.30250259676321173, 'reg_lambda': 0.6402497585931145, 'random_state': 382}. Best is trial 153 with value: 2029712021.1815548.\n",
            "[I 2024-06-08 16:41:43,643] Trial 182 finished with value: 2026289076.370283 and parameters: {'max_depth': 1, 'learning_rate': 0.1343932961304097, 'n_estimators': 785, 'min_child_weight': 7, 'gamma': 0.19827897943187806, 'subsample': 0.8042782830425772, 'colsample_bytree': 0.4876998507744853, 'reg_alpha': 0.6543431659397815, 'reg_lambda': 0.2683718729242715, 'random_state': 352}. Best is trial 182 with value: 2026289076.370283.\n",
            "[I 2024-06-08 16:41:45,087] Trial 183 finished with value: 2038790422.2732346 and parameters: {'max_depth': 1, 'learning_rate': 0.09388737406129034, 'n_estimators': 774, 'min_child_weight': 7, 'gamma': 0.19374298198697176, 'subsample': 0.8496326164660155, 'colsample_bytree': 0.4991780101337892, 'reg_alpha': 0.6138313853011126, 'reg_lambda': 0.4466165116327608, 'random_state': 351}. Best is trial 182 with value: 2026289076.370283.\n",
            "[I 2024-06-08 16:41:46,480] Trial 184 finished with value: 2037397029.7427557 and parameters: {'max_depth': 1, 'learning_rate': 0.1272856991275579, 'n_estimators': 745, 'min_child_weight': 7, 'gamma': 0.13744628877064197, 'subsample': 0.820487887710942, 'colsample_bytree': 0.6794739330642985, 'reg_alpha': 0.7282997820839827, 'reg_lambda': 0.3080721446145074, 'random_state': 419}. Best is trial 182 with value: 2026289076.370283.\n",
            "[I 2024-06-08 16:41:47,840] Trial 185 finished with value: 2037144482.535306 and parameters: {'max_depth': 1, 'learning_rate': 0.10726095553672882, 'n_estimators': 725, 'min_child_weight': 7, 'gamma': 0.06784368756907304, 'subsample': 0.8952475978711953, 'colsample_bytree': 0.5312421102932536, 'reg_alpha': 0.6584962062895163, 'reg_lambda': 0.35563153677689996, 'random_state': 601}. Best is trial 182 with value: 2026289076.370283.\n",
            "[I 2024-06-08 16:41:50,005] Trial 186 finished with value: 2296006309.4111967 and parameters: {'max_depth': 8, 'learning_rate': 0.1460472116613068, 'n_estimators': 760, 'min_child_weight': 7, 'gamma': 0.24578126804964887, 'subsample': 0.7732048226240963, 'colsample_bytree': 0.44641451640865304, 'reg_alpha': 0.6882544121863564, 'reg_lambda': 0.1363576250193103, 'random_state': 356}. Best is trial 182 with value: 2026289076.370283.\n",
            "[I 2024-06-08 16:41:54,023] Trial 187 finished with value: 2034523564.5029082 and parameters: {'max_depth': 1, 'learning_rate': 0.1889484962899592, 'n_estimators': 856, 'min_child_weight': 7, 'gamma': 0.16471060833290588, 'subsample': 0.7972891348889679, 'colsample_bytree': 0.5719063663636489, 'reg_alpha': 0.7687397107565062, 'reg_lambda': 0.26476324736012014, 'random_state': 458}. Best is trial 182 with value: 2026289076.370283.\n",
            "[I 2024-06-08 16:41:55,616] Trial 188 finished with value: 2052910097.4288483 and parameters: {'max_depth': 1, 'learning_rate': 0.19987410329098465, 'n_estimators': 849, 'min_child_weight': 8, 'gamma': 0.16609788879209883, 'subsample': 0.7977973928522234, 'colsample_bytree': 0.4894111021755557, 'reg_alpha': 0.7635060111834457, 'reg_lambda': 0.2855676143410571, 'random_state': 444}. Best is trial 182 with value: 2026289076.370283.\n",
            "[I 2024-06-08 16:41:57,124] Trial 189 finished with value: 2031245791.8493593 and parameters: {'max_depth': 1, 'learning_rate': 0.1744839547992098, 'n_estimators': 821, 'min_child_weight': 7, 'gamma': 0.14236383373918313, 'subsample': 0.8310472945035426, 'colsample_bytree': 0.5777432938577427, 'reg_alpha': 0.7675425754885544, 'reg_lambda': 0.22726647484341944, 'random_state': 555}. Best is trial 182 with value: 2026289076.370283.\n",
            "[I 2024-06-08 16:41:58,728] Trial 190 finished with value: 2039074960.000769 and parameters: {'max_depth': 1, 'learning_rate': 0.173610201381179, 'n_estimators': 864, 'min_child_weight': 7, 'gamma': 0.15114292886095215, 'subsample': 0.834984381028208, 'colsample_bytree': 0.5943960875015886, 'reg_alpha': 0.7920648211616546, 'reg_lambda': 0.2619282166483091, 'random_state': 554}. Best is trial 182 with value: 2026289076.370283.\n",
            "[I 2024-06-08 16:42:00,215] Trial 191 finished with value: 2043027073.1647947 and parameters: {'max_depth': 1, 'learning_rate': 0.18873979738830823, 'n_estimators': 808, 'min_child_weight': 7, 'gamma': 0.18214665203003222, 'subsample': 0.8129397882988816, 'colsample_bytree': 0.6225240048940924, 'reg_alpha': 0.711787637655983, 'reg_lambda': 0.24930426075818973, 'random_state': 488}. Best is trial 182 with value: 2026289076.370283.\n",
            "[I 2024-06-08 16:42:01,815] Trial 192 finished with value: 2045436033.782822 and parameters: {'max_depth': 1, 'learning_rate': 0.15974529489695327, 'n_estimators': 824, 'min_child_weight': 7, 'gamma': 0.1305554047953593, 'subsample': 0.764479499165193, 'colsample_bytree': 0.5523660841003225, 'reg_alpha': 0.7721051487879693, 'reg_lambda': 0.31916524689576536, 'random_state': 524}. Best is trial 182 with value: 2026289076.370283.\n",
            "[I 2024-06-08 16:42:03,277] Trial 193 finished with value: 2029329387.4323132 and parameters: {'max_depth': 1, 'learning_rate': 0.21526526730263346, 'n_estimators': 781, 'min_child_weight': 7, 'gamma': 0.11644270421374474, 'subsample': 0.8613259314495343, 'colsample_bytree': 0.5739902539076447, 'reg_alpha': 0.758416850266947, 'reg_lambda': 0.2109796109440739, 'random_state': 465}. Best is trial 182 with value: 2026289076.370283.\n",
            "[I 2024-06-08 16:42:06,992] Trial 194 finished with value: 2043279073.249021 and parameters: {'max_depth': 1, 'learning_rate': 0.2205637114756755, 'n_estimators': 798, 'min_child_weight': 7, 'gamma': 0.11068857912227778, 'subsample': 0.8578396461836316, 'colsample_bytree': 0.5630427231169979, 'reg_alpha': 0.7783964216442414, 'reg_lambda': 0.20682220608778806, 'random_state': 467}. Best is trial 182 with value: 2026289076.370283.\n",
            "[I 2024-06-08 16:42:08,519] Trial 195 finished with value: 2035155905.0620177 and parameters: {'max_depth': 1, 'learning_rate': 0.13302066330621665, 'n_estimators': 835, 'min_child_weight': 7, 'gamma': 0.20311412872316753, 'subsample': 0.8315663679803897, 'colsample_bytree': 0.5796058055279979, 'reg_alpha': 0.7975013497862351, 'reg_lambda': 0.17119394995260684, 'random_state': 494}. Best is trial 182 with value: 2026289076.370283.\n",
            "[I 2024-06-08 16:42:10,141] Trial 196 finished with value: 2040178483.6667845 and parameters: {'max_depth': 1, 'learning_rate': 0.1702389358832609, 'n_estimators': 869, 'min_child_weight': 7, 'gamma': 0.16182543927745927, 'subsample': 0.8629009081988971, 'colsample_bytree': 0.5124799009201395, 'reg_alpha': 0.828296970673505, 'reg_lambda': 0.26825693642465737, 'random_state': 554}. Best is trial 182 with value: 2026289076.370283.\n",
            "[I 2024-06-08 16:42:11,594] Trial 197 finished with value: 2060080623.4735312 and parameters: {'max_depth': 1, 'learning_rate': 0.19711999605691066, 'n_estimators': 783, 'min_child_weight': 8, 'gamma': 0.13999521054944764, 'subsample': 0.8427854828684949, 'colsample_bytree': 0.46332195424018296, 'reg_alpha': 0.7415961852156654, 'reg_lambda': 0.24266483528982902, 'random_state': 511}. Best is trial 182 with value: 2026289076.370283.\n",
            "[I 2024-06-08 16:42:13,109] Trial 198 finished with value: 2020973233.9059641 and parameters: {'max_depth': 1, 'learning_rate': 0.1514582057908884, 'n_estimators': 817, 'min_child_weight': 7, 'gamma': 0.1012889421408612, 'subsample': 0.8920316112387824, 'colsample_bytree': 0.4406936158248896, 'reg_alpha': 0.7488939245442084, 'reg_lambda': 0.33225764793617774, 'random_state': 458}. Best is trial 198 with value: 2020973233.9059641.\n",
            "[I 2024-06-08 16:42:14,691] Trial 199 finished with value: 2043891398.7999787 and parameters: {'max_depth': 1, 'learning_rate': 0.14401612983371342, 'n_estimators': 850, 'min_child_weight': 6, 'gamma': 0.12228283860072767, 'subsample': 0.8860553318099745, 'colsample_bytree': 0.4230399878779404, 'reg_alpha': 0.8051178024405079, 'reg_lambda': 0.18931876656927632, 'random_state': 461}. Best is trial 198 with value: 2020973233.9059641.\n"
          ]
        }
      ]
    },
    {
      "cell_type": "code",
      "source": [
        "print('Best MSE on Validation', study.best_value)"
      ],
      "metadata": {
        "colab": {
          "base_uri": "https://localhost:8080/"
        },
        "id": "3sHc6wIJq_KS",
        "outputId": "98a80f8d-bacc-4a3a-aa20-4b06b132beb7"
      },
      "execution_count": null,
      "outputs": [
        {
          "output_type": "stream",
          "name": "stdout",
          "text": [
            "Best MSE on Validation 2020973233.9059641\n"
          ]
        }
      ]
    },
    {
      "cell_type": "code",
      "source": [
        "xgboost_reg = XGBRegressor(**study.best_params)"
      ],
      "metadata": {
        "id": "2WrZzAswr5zc"
      },
      "execution_count": null,
      "outputs": []
    },
    {
      "cell_type": "code",
      "source": [
        "xgboost_reg = xgboost_reg.fit(X_train_encoded, y_train)"
      ],
      "metadata": {
        "id": "dzq9d09CsH3H"
      },
      "execution_count": null,
      "outputs": []
    },
    {
      "cell_type": "code",
      "source": [
        "y_pred = xgboost_reg.predict(X_test_encoded)"
      ],
      "metadata": {
        "id": "1YQ7BeWLsPz3"
      },
      "execution_count": null,
      "outputs": []
    },
    {
      "cell_type": "code",
      "source": [
        "print('MAPE on Test:', mean_absolute_percentage_error(y_pred, y_test))\n",
        "print('RMSE on Test:', mean_squared_error(y_pred, y_test) ** 0.5)"
      ],
      "metadata": {
        "colab": {
          "base_uri": "https://localhost:8080/"
        },
        "id": "6LSsmmzRsUbI",
        "outputId": "250657a7-2ab0-471a-e314-5a572bbec2e0"
      },
      "execution_count": null,
      "outputs": [
        {
          "output_type": "stream",
          "name": "stdout",
          "text": [
            "MAPE on Test: 0.29924642148198927\n",
            "RMSE on Test: 50718.48055617091\n"
          ]
        }
      ]
    },
    {
      "cell_type": "markdown",
      "source": [
        "Скорость обучения (оптимального подбора гиперпараметров) занимает около 5 минут, скорость предсказания почти моментальная, чуть-чуть медленнее, чем в обычной лин. регрессии (по-крайней мере я не заметил).\n",
        "\n",
        "Само же обучение модели, после подбора гиперпараметров, является чуть более заметным, в сравнении с той же линейной моделью. Обучается порядка 1-2 секунд."
      ],
      "metadata": {
        "id": "gPIgHAUewDZ6"
      }
    },
    {
      "cell_type": "markdown",
      "source": [
        "P.S. вдохновился идеей такого подбора гиперпараметров [отсюда](https://practicaldatascience.co.uk/machine-learning/how-to-tune-an-xgbregressor-model-with-optuna) :)"
      ],
      "metadata": {
        "id": "lCY3Mpp-toLr"
      }
    },
    {
      "cell_type": "markdown",
      "source": [
        "### Задание 4 (1 балл) CatBoost"
      ],
      "metadata": {
        "id": "_Yj0X_2Fv5fo"
      }
    },
    {
      "cell_type": "markdown",
      "source": [
        "Теперь библиотека CatBoost.\n",
        "\n",
        "Обучите модель `CatBoostRegressor`, подобрав оптимальные гиперпараметры (`depth, learning_rate, iterations`, etc.) по валидационной выборке. Оцените качество итоговой модели (MAPE, RMSE), скорость обучения и скорость предсказания."
      ],
      "metadata": {
        "id": "iBBeOWV7v7Kx"
      }
    },
    {
      "cell_type": "code",
      "source": [
        "!pip install catboost"
      ],
      "metadata": {
        "colab": {
          "base_uri": "https://localhost:8080/"
        },
        "id": "9_Usbz6Owvw2",
        "outputId": "52ea52e3-8b3e-4398-b6cf-eb0c147cf244"
      },
      "execution_count": null,
      "outputs": [
        {
          "output_type": "stream",
          "name": "stdout",
          "text": [
            "Collecting catboost\n",
            "  Downloading catboost-1.2.5-cp310-cp310-manylinux2014_x86_64.whl (98.2 MB)\n",
            "\u001b[2K     \u001b[90m━━━━━━━━━━━━━━━━━━━━━━━━━━━━━━━━━━━━━━━━\u001b[0m \u001b[32m98.2/98.2 MB\u001b[0m \u001b[31m2.7 MB/s\u001b[0m eta \u001b[36m0:00:00\u001b[0m\n",
            "\u001b[?25hRequirement already satisfied: graphviz in /usr/local/lib/python3.10/dist-packages (from catboost) (0.20.3)\n",
            "Requirement already satisfied: matplotlib in /usr/local/lib/python3.10/dist-packages (from catboost) (3.7.1)\n",
            "Requirement already satisfied: numpy>=1.16.0 in /usr/local/lib/python3.10/dist-packages (from catboost) (1.25.2)\n",
            "Requirement already satisfied: pandas>=0.24 in /usr/local/lib/python3.10/dist-packages (from catboost) (2.0.3)\n",
            "Requirement already satisfied: scipy in /usr/local/lib/python3.10/dist-packages (from catboost) (1.11.4)\n",
            "Requirement already satisfied: plotly in /usr/local/lib/python3.10/dist-packages (from catboost) (5.15.0)\n",
            "Requirement already satisfied: six in /usr/local/lib/python3.10/dist-packages (from catboost) (1.16.0)\n",
            "Requirement already satisfied: python-dateutil>=2.8.2 in /usr/local/lib/python3.10/dist-packages (from pandas>=0.24->catboost) (2.8.2)\n",
            "Requirement already satisfied: pytz>=2020.1 in /usr/local/lib/python3.10/dist-packages (from pandas>=0.24->catboost) (2023.4)\n",
            "Requirement already satisfied: tzdata>=2022.1 in /usr/local/lib/python3.10/dist-packages (from pandas>=0.24->catboost) (2024.1)\n",
            "Requirement already satisfied: contourpy>=1.0.1 in /usr/local/lib/python3.10/dist-packages (from matplotlib->catboost) (1.2.1)\n",
            "Requirement already satisfied: cycler>=0.10 in /usr/local/lib/python3.10/dist-packages (from matplotlib->catboost) (0.12.1)\n",
            "Requirement already satisfied: fonttools>=4.22.0 in /usr/local/lib/python3.10/dist-packages (from matplotlib->catboost) (4.53.0)\n",
            "Requirement already satisfied: kiwisolver>=1.0.1 in /usr/local/lib/python3.10/dist-packages (from matplotlib->catboost) (1.4.5)\n",
            "Requirement already satisfied: packaging>=20.0 in /usr/local/lib/python3.10/dist-packages (from matplotlib->catboost) (24.0)\n",
            "Requirement already satisfied: pillow>=6.2.0 in /usr/local/lib/python3.10/dist-packages (from matplotlib->catboost) (9.4.0)\n",
            "Requirement already satisfied: pyparsing>=2.3.1 in /usr/local/lib/python3.10/dist-packages (from matplotlib->catboost) (3.1.2)\n",
            "Requirement already satisfied: tenacity>=6.2.0 in /usr/local/lib/python3.10/dist-packages (from plotly->catboost) (8.3.0)\n",
            "Installing collected packages: catboost\n",
            "Successfully installed catboost-1.2.5\n"
          ]
        }
      ]
    },
    {
      "cell_type": "code",
      "source": [
        "from catboost import CatBoostRegressor"
      ],
      "metadata": {
        "id": "CVwZG7qCwt8H"
      },
      "execution_count": null,
      "outputs": []
    },
    {
      "cell_type": "code",
      "source": [
        "def objective(trial):\n",
        "    params = {\n",
        "        \"iterations\": 1000,\n",
        "        \"learning_rate\": trial.suggest_float(\"learning_rate\", 1e-3, 0.1, log=True),\n",
        "        \"depth\": trial.suggest_int(\"depth\", 1, 10),\n",
        "        \"subsample\": trial.suggest_float(\"subsample\", 0.05, 1.0),\n",
        "        \"colsample_bylevel\": trial.suggest_float(\"colsample_bylevel\", 0.05, 1.0),\n",
        "        \"min_data_in_leaf\": trial.suggest_int(\"min_data_in_leaf\", 1, 100),\n",
        "    }\n",
        "    model = CatBoostRegressor(**params, silent=True)\n",
        "    model.fit(X_train_encoded, y_train)\n",
        "    y_pred = model.predict(X_val_encoded)\n",
        "    return mean_squared_error(y_pred, y_val)"
      ],
      "metadata": {
        "id": "o5G3DmvYwCRh"
      },
      "execution_count": null,
      "outputs": []
    },
    {
      "cell_type": "code",
      "source": [
        "study = optuna.create_study(direction='minimize', study_name='regression')\n",
        "study.optimize(objective, n_trials=200)"
      ],
      "metadata": {
        "colab": {
          "base_uri": "https://localhost:8080/"
        },
        "id": "0uTH9sdPw-wu",
        "outputId": "0de2f0c1-2dae-4f09-ec13-34fe01c9f602"
      },
      "execution_count": null,
      "outputs": [
        {
          "output_type": "stream",
          "name": "stderr",
          "text": [
            "[I 2024-06-08 16:53:40,186] A new study created in memory with name: regression\n",
            "[I 2024-06-08 16:53:50,937] Trial 0 finished with value: 2108834617.328911 and parameters: {'learning_rate': 0.005748589230872894, 'depth': 10, 'subsample': 0.34551261123867516, 'colsample_bylevel': 0.10737970897355106, 'min_data_in_leaf': 33}. Best is trial 0 with value: 2108834617.328911.\n",
            "[I 2024-06-08 16:53:55,146] Trial 1 finished with value: 2041818914.0988815 and parameters: {'learning_rate': 0.024118027618617963, 'depth': 9, 'subsample': 0.14175827225507664, 'colsample_bylevel': 0.2921044282931491, 'min_data_in_leaf': 91}. Best is trial 1 with value: 2041818914.0988815.\n",
            "[I 2024-06-08 16:53:55,771] Trial 2 finished with value: 2099010162.6183598 and parameters: {'learning_rate': 0.021734822627858735, 'depth': 2, 'subsample': 0.35088225010864466, 'colsample_bylevel': 0.9313715443997924, 'min_data_in_leaf': 91}. Best is trial 1 with value: 2041818914.0988815.\n",
            "[I 2024-06-08 16:53:56,620] Trial 3 finished with value: 2347643169.100483 and parameters: {'learning_rate': 0.001943949191893915, 'depth': 3, 'subsample': 0.8002393624103152, 'colsample_bylevel': 0.6453171776221025, 'min_data_in_leaf': 41}. Best is trial 1 with value: 2041818914.0988815.\n",
            "[I 2024-06-08 16:53:58,154] Trial 4 finished with value: 2049939474.669872 and parameters: {'learning_rate': 0.01812687179045358, 'depth': 6, 'subsample': 0.6102496536758844, 'colsample_bylevel': 0.9930528601927809, 'min_data_in_leaf': 5}. Best is trial 1 with value: 2041818914.0988815.\n",
            "[I 2024-06-08 16:54:00,266] Trial 5 finished with value: 2155551803.3656406 and parameters: {'learning_rate': 0.004582735254801493, 'depth': 7, 'subsample': 0.9252164421787759, 'colsample_bylevel': 0.15500487719459421, 'min_data_in_leaf': 24}. Best is trial 1 with value: 2041818914.0988815.\n",
            "[I 2024-06-08 16:54:03,436] Trial 6 finished with value: 2133158975.6830645 and parameters: {'learning_rate': 0.006217434888708582, 'depth': 6, 'subsample': 0.6688615453469361, 'colsample_bylevel': 0.551029318961449, 'min_data_in_leaf': 37}. Best is trial 1 with value: 2041818914.0988815.\n",
            "[I 2024-06-08 16:54:04,773] Trial 7 finished with value: 2077664844.7857702 and parameters: {'learning_rate': 0.019475265076827418, 'depth': 4, 'subsample': 0.14719758380601702, 'colsample_bylevel': 0.988507121372268, 'min_data_in_leaf': 46}. Best is trial 1 with value: 2041818914.0988815.\n",
            "[I 2024-06-08 16:54:11,533] Trial 8 finished with value: 2105184397.162457 and parameters: {'learning_rate': 0.0073425974988779175, 'depth': 10, 'subsample': 0.2736718574330273, 'colsample_bylevel': 0.9313810679228605, 'min_data_in_leaf': 37}. Best is trial 1 with value: 2041818914.0988815.\n",
            "[I 2024-06-08 16:54:12,192] Trial 9 finished with value: 2223313617.2219696 and parameters: {'learning_rate': 0.006030856375828724, 'depth': 2, 'subsample': 0.5890253500445859, 'colsample_bylevel': 0.7329388679990644, 'min_data_in_leaf': 56}. Best is trial 1 with value: 2041818914.0988815.\n",
            "[I 2024-06-08 16:54:16,886] Trial 10 finished with value: 2106834932.2880788 and parameters: {'learning_rate': 0.09290972639195551, 'depth': 8, 'subsample': 0.08606517321411224, 'colsample_bylevel': 0.3243770694703436, 'min_data_in_leaf': 99}. Best is trial 1 with value: 2041818914.0988815.\n",
            "[I 2024-06-08 16:54:19,742] Trial 11 finished with value: 2016986913.573287 and parameters: {'learning_rate': 0.038110584374937966, 'depth': 8, 'subsample': 0.45256417052590103, 'colsample_bylevel': 0.34086649971073724, 'min_data_in_leaf': 2}. Best is trial 11 with value: 2016986913.573287.\n",
            "[I 2024-06-08 16:54:22,548] Trial 12 finished with value: 2047065413.2417233 and parameters: {'learning_rate': 0.06347741802015482, 'depth': 8, 'subsample': 0.4183427385483155, 'colsample_bylevel': 0.36533997295055887, 'min_data_in_leaf': 72}. Best is trial 11 with value: 2016986913.573287.\n",
            "[I 2024-06-08 16:54:30,221] Trial 13 finished with value: 2040974700.449673 and parameters: {'learning_rate': 0.038734580292229474, 'depth': 9, 'subsample': 0.17370229053809552, 'colsample_bylevel': 0.3168651911843797, 'min_data_in_leaf': 4}. Best is trial 11 with value: 2016986913.573287.\n",
            "[I 2024-06-08 16:54:34,143] Trial 14 finished with value: 2035690049.0997136 and parameters: {'learning_rate': 0.04383628630695833, 'depth': 8, 'subsample': 0.4713088447876971, 'colsample_bylevel': 0.4491948366721714, 'min_data_in_leaf': 1}. Best is trial 11 with value: 2016986913.573287.\n",
            "[I 2024-06-08 16:54:35,350] Trial 15 finished with value: 2029396541.4030447 and parameters: {'learning_rate': 0.045800007376796265, 'depth': 5, 'subsample': 0.4839940131355537, 'colsample_bylevel': 0.4546916953775916, 'min_data_in_leaf': 17}. Best is trial 11 with value: 2016986913.573287.\n",
            "[I 2024-06-08 16:54:36,398] Trial 16 finished with value: 2023265220.1188972 and parameters: {'learning_rate': 0.09948392045811667, 'depth': 4, 'subsample': 0.7324283153540702, 'colsample_bylevel': 0.5105329348849487, 'min_data_in_leaf': 19}. Best is trial 11 with value: 2016986913.573287.\n",
            "[I 2024-06-08 16:54:36,977] Trial 17 finished with value: 2071084403.5007625 and parameters: {'learning_rate': 0.0801827263577235, 'depth': 1, 'subsample': 0.7938485459445747, 'colsample_bylevel': 0.7550822059238079, 'min_data_in_leaf': 18}. Best is trial 11 with value: 2016986913.573287.\n",
            "[I 2024-06-08 16:54:37,968] Trial 18 finished with value: 2106356884.1569877 and parameters: {'learning_rate': 0.012432113731615865, 'depth': 4, 'subsample': 0.9948403119958046, 'colsample_bylevel': 0.20556299608703127, 'min_data_in_leaf': 59}. Best is trial 11 with value: 2016986913.573287.\n",
            "[I 2024-06-08 16:54:39,240] Trial 19 finished with value: 2032980137.133514 and parameters: {'learning_rate': 0.09799429102622066, 'depth': 5, 'subsample': 0.7362657102534966, 'colsample_bylevel': 0.5482243327696263, 'min_data_in_leaf': 17}. Best is trial 11 with value: 2016986913.573287.\n",
            "[I 2024-06-08 16:54:41,843] Trial 20 finished with value: 2358840283.6845937 and parameters: {'learning_rate': 0.0014623257614783695, 'depth': 7, 'subsample': 0.5631581968769286, 'colsample_bylevel': 0.441355193890912, 'min_data_in_leaf': 26}. Best is trial 11 with value: 2016986913.573287.\n",
            "[I 2024-06-08 16:54:44,240] Trial 21 finished with value: 2030157190.504524 and parameters: {'learning_rate': 0.041807331134840024, 'depth': 5, 'subsample': 0.4743509505087873, 'colsample_bylevel': 0.4578935447630431, 'min_data_in_leaf': 12}. Best is trial 11 with value: 2016986913.573287.\n",
            "[I 2024-06-08 16:54:45,308] Trial 22 finished with value: 2043275327.976871 and parameters: {'learning_rate': 0.054438950666424936, 'depth': 4, 'subsample': 0.6766894911836084, 'colsample_bylevel': 0.6525502890695801, 'min_data_in_leaf': 11}. Best is trial 11 with value: 2016986913.573287.\n",
            "[I 2024-06-08 16:54:46,120] Trial 23 finished with value: 2041733608.5702727 and parameters: {'learning_rate': 0.03146202499186457, 'depth': 3, 'subsample': 0.4931123683017996, 'colsample_bylevel': 0.22529537983642373, 'min_data_in_leaf': 27}. Best is trial 11 with value: 2016986913.573287.\n",
            "[I 2024-06-08 16:54:47,314] Trial 24 finished with value: 2029476034.9862032 and parameters: {'learning_rate': 0.06227302231886047, 'depth': 5, 'subsample': 0.3771926096709586, 'colsample_bylevel': 0.40802963794985375, 'min_data_in_leaf': 12}. Best is trial 11 with value: 2016986913.573287.\n",
            "[I 2024-06-08 16:54:49,265] Trial 25 finished with value: 2061567780.670304 and parameters: {'learning_rate': 0.011933898744623877, 'depth': 7, 'subsample': 0.2695771515300645, 'colsample_bylevel': 0.49797655585715167, 'min_data_in_leaf': 19}. Best is trial 11 with value: 2016986913.573287.\n",
            "[I 2024-06-08 16:54:50,836] Trial 26 finished with value: 2022768894.1669414 and parameters: {'learning_rate': 0.06185593323571614, 'depth': 6, 'subsample': 0.8883754598791349, 'colsample_bylevel': 0.6078161892760201, 'min_data_in_leaf': 29}. Best is trial 11 with value: 2016986913.573287.\n",
            "[I 2024-06-08 16:54:52,420] Trial 27 finished with value: 2026148261.681539 and parameters: {'learning_rate': 0.028965801119501436, 'depth': 6, 'subsample': 0.8786642175535602, 'colsample_bylevel': 0.6372063559843183, 'min_data_in_leaf': 30}. Best is trial 11 with value: 2016986913.573287.\n",
            "[I 2024-06-08 16:54:54,764] Trial 28 finished with value: 2037112842.8295898 and parameters: {'learning_rate': 0.07334418389659371, 'depth': 7, 'subsample': 0.8765790097896902, 'colsample_bylevel': 0.7833533058614407, 'min_data_in_leaf': 50}. Best is trial 11 with value: 2016986913.573287.\n",
            "[I 2024-06-08 16:55:02,158] Trial 29 finished with value: 2227811378.90814 and parameters: {'learning_rate': 0.00276337321866891, 'depth': 10, 'subsample': 0.7772536597881188, 'colsample_bylevel': 0.05767277249087471, 'min_data_in_leaf': 67}. Best is trial 11 with value: 2016986913.573287.\n",
            "[I 2024-06-08 16:55:08,787] Trial 30 finished with value: 2054169862.5114388 and parameters: {'learning_rate': 0.015296729688637767, 'depth': 9, 'subsample': 0.9749987649497284, 'colsample_bylevel': 0.6102275823442994, 'min_data_in_leaf': 33}. Best is trial 11 with value: 2016986913.573287.\n",
            "[I 2024-06-08 16:55:11,856] Trial 31 finished with value: 2033281248.379776 and parameters: {'learning_rate': 0.029998364699320126, 'depth': 6, 'subsample': 0.8660160179789742, 'colsample_bylevel': 0.5894059154361071, 'min_data_in_leaf': 29}. Best is trial 11 with value: 2016986913.573287.\n",
            "[I 2024-06-08 16:55:13,429] Trial 32 finished with value: 2039131357.8832026 and parameters: {'learning_rate': 0.028869461778628966, 'depth': 6, 'subsample': 0.8585059133182563, 'colsample_bylevel': 0.7113902041632284, 'min_data_in_leaf': 8}. Best is trial 11 with value: 2016986913.573287.\n",
            "[I 2024-06-08 16:55:14,315] Trial 33 finished with value: 2052016006.2008362 and parameters: {'learning_rate': 0.054497569427691815, 'depth': 3, 'subsample': 0.7092135872736798, 'colsample_bylevel': 0.8192636768879694, 'min_data_in_leaf': 23}. Best is trial 11 with value: 2016986913.573287.\n",
            "[I 2024-06-08 16:55:15,351] Trial 34 finished with value: 2050396134.2723203 and parameters: {'learning_rate': 0.025068983419918384, 'depth': 4, 'subsample': 0.9243282837140939, 'colsample_bylevel': 0.5271246800609201, 'min_data_in_leaf': 32}. Best is trial 11 with value: 2016986913.573287.\n",
            "[I 2024-06-08 16:55:18,330] Trial 35 finished with value: 2046996627.2533174 and parameters: {'learning_rate': 0.035301606566954406, 'depth': 8, 'subsample': 0.8195726702816146, 'colsample_bylevel': 0.6811776431886295, 'min_data_in_leaf': 42}. Best is trial 11 with value: 2016986913.573287.\n",
            "[I 2024-06-08 16:55:19,901] Trial 36 finished with value: 2026463755.0648985 and parameters: {'learning_rate': 0.07271446968062663, 'depth': 6, 'subsample': 0.9450942038937155, 'colsample_bylevel': 0.6362839516201202, 'min_data_in_leaf': 1}. Best is trial 11 with value: 2016986913.573287.\n",
            "[I 2024-06-08 16:55:22,386] Trial 37 finished with value: 2036594329.0036485 and parameters: {'learning_rate': 0.05315595074184988, 'depth': 7, 'subsample': 0.643074371655952, 'colsample_bylevel': 0.8284576156417977, 'min_data_in_leaf': 22}. Best is trial 11 with value: 2016986913.573287.\n",
            "[I 2024-06-08 16:55:25,018] Trial 38 finished with value: 2047282552.0702534 and parameters: {'learning_rate': 0.022633925633692795, 'depth': 5, 'subsample': 0.7353911747533383, 'colsample_bylevel': 0.2579763559372191, 'min_data_in_leaf': 41}. Best is trial 11 with value: 2016986913.573287.\n",
            "[I 2024-06-08 16:55:29,351] Trial 39 finished with value: 2099968803.1572604 and parameters: {'learning_rate': 0.008259960370523988, 'depth': 9, 'subsample': 0.8976683879498959, 'colsample_bylevel': 0.5906490171360048, 'min_data_in_leaf': 8}. Best is trial 11 with value: 2016986913.573287.\n",
            "[I 2024-06-08 16:55:30,188] Trial 40 finished with value: 2055971015.8052108 and parameters: {'learning_rate': 0.09989800030722547, 'depth': 3, 'subsample': 0.5506999428967093, 'colsample_bylevel': 0.38127869165571077, 'min_data_in_leaf': 36}. Best is trial 11 with value: 2016986913.573287.\n",
            "[I 2024-06-08 16:55:31,764] Trial 41 finished with value: 2038537925.6544664 and parameters: {'learning_rate': 0.0736141551542901, 'depth': 6, 'subsample': 0.9512168612332865, 'colsample_bylevel': 0.6611846479392951, 'min_data_in_leaf': 2}. Best is trial 11 with value: 2016986913.573287.\n",
            "[I 2024-06-08 16:55:33,357] Trial 42 finished with value: 2047700529.8420203 and parameters: {'learning_rate': 0.07545075485992148, 'depth': 6, 'subsample': 0.8114463228550572, 'colsample_bylevel': 0.619844815627027, 'min_data_in_leaf': 14}. Best is trial 11 with value: 2016986913.573287.\n",
            "[I 2024-06-08 16:55:34,998] Trial 43 finished with value: 2023028715.0045333 and parameters: {'learning_rate': 0.06015899909837513, 'depth': 6, 'subsample': 0.9220608779316525, 'colsample_bylevel': 0.6971885339111865, 'min_data_in_leaf': 1}. Best is trial 11 with value: 2016986913.573287.\n",
            "[I 2024-06-08 16:55:39,051] Trial 44 finished with value: 2036861173.4060245 and parameters: {'learning_rate': 0.05174540542702291, 'depth': 7, 'subsample': 0.8512876528940221, 'colsample_bylevel': 0.6942872738158736, 'min_data_in_leaf': 6}. Best is trial 11 with value: 2016986913.573287.\n",
            "[I 2024-06-08 16:55:40,114] Trial 45 finished with value: 2027518746.2615833 and parameters: {'learning_rate': 0.03745585247064566, 'depth': 4, 'subsample': 0.9142448365326762, 'colsample_bylevel': 0.8941121132107727, 'min_data_in_leaf': 84}. Best is trial 11 with value: 2016986913.573287.\n",
            "[I 2024-06-08 16:55:41,381] Trial 46 finished with value: 2060456290.2505124 and parameters: {'learning_rate': 0.016909668307508726, 'depth': 5, 'subsample': 0.6296513470916061, 'colsample_bylevel': 0.4966875811709166, 'min_data_in_leaf': 22}. Best is trial 11 with value: 2016986913.573287.\n",
            "[I 2024-06-08 16:55:44,230] Trial 47 finished with value: 2162302340.077695 and parameters: {'learning_rate': 0.00398252280341652, 'depth': 8, 'subsample': 0.9999438703026158, 'colsample_bylevel': 0.5807368105252331, 'min_data_in_leaf': 29}. Best is trial 11 with value: 2016986913.573287.\n",
            "[I 2024-06-08 16:55:46,268] Trial 48 finished with value: 2038544998.8720264 and parameters: {'learning_rate': 0.026500030216361718, 'depth': 7, 'subsample': 0.408599234100377, 'colsample_bylevel': 0.7553830215901016, 'min_data_in_leaf': 46}. Best is trial 11 with value: 2016986913.573287.\n",
            "[I 2024-06-08 16:55:46,906] Trial 49 finished with value: 2051992102.9347475 and parameters: {'learning_rate': 0.061216833321676864, 'depth': 2, 'subsample': 0.28832063136830616, 'colsample_bylevel': 0.13520769792229365, 'min_data_in_leaf': 8}. Best is trial 11 with value: 2016986913.573287.\n",
            "[I 2024-06-08 16:55:47,963] Trial 50 finished with value: 2054307782.0313282 and parameters: {'learning_rate': 0.019695886783948683, 'depth': 4, 'subsample': 0.7653238824589721, 'colsample_bylevel': 0.3415069041484631, 'min_data_in_leaf': 16}. Best is trial 11 with value: 2016986913.573287.\n",
            "[I 2024-06-08 16:55:51,332] Trial 51 finished with value: 2035621586.2825089 and parameters: {'learning_rate': 0.07940032869538842, 'depth': 6, 'subsample': 0.9521481041499028, 'colsample_bylevel': 0.641430050876257, 'min_data_in_leaf': 2}. Best is trial 11 with value: 2016986913.573287.\n",
            "[I 2024-06-08 16:55:53,121] Trial 52 finished with value: 2027331319.087159 and parameters: {'learning_rate': 0.048259062637602844, 'depth': 6, 'subsample': 0.8271237018943659, 'colsample_bylevel': 0.7289264669942485, 'min_data_in_leaf': 1}. Best is trial 11 with value: 2016986913.573287.\n",
            "[I 2024-06-08 16:55:54,708] Trial 53 finished with value: 2031501243.88029 and parameters: {'learning_rate': 0.06545947352704228, 'depth': 6, 'subsample': 0.8884661136281501, 'colsample_bylevel': 0.5572278592045651, 'min_data_in_leaf': 6}. Best is trial 11 with value: 2016986913.573287.\n",
            "[I 2024-06-08 16:55:55,952] Trial 54 finished with value: 2032749967.3795755 and parameters: {'learning_rate': 0.08913799594051802, 'depth': 5, 'subsample': 0.948202194454646, 'colsample_bylevel': 0.5025238816632509, 'min_data_in_leaf': 11}. Best is trial 11 with value: 2016986913.573287.\n",
            "[I 2024-06-08 16:55:58,030] Trial 55 finished with value: 2025983846.5206282 and parameters: {'learning_rate': 0.06621042722276349, 'depth': 7, 'subsample': 0.8371312520363992, 'colsample_bylevel': 0.6203177690725818, 'min_data_in_leaf': 10}. Best is trial 11 with value: 2016986913.573287.\n",
            "[I 2024-06-08 16:56:00,964] Trial 56 finished with value: 2040993516.4549017 and parameters: {'learning_rate': 0.04226286753797329, 'depth': 8, 'subsample': 0.6962722066865952, 'colsample_bylevel': 0.6800526915452344, 'min_data_in_leaf': 20}. Best is trial 11 with value: 2016986913.573287.\n",
            "[I 2024-06-08 16:56:04,137] Trial 57 finished with value: 2024950170.96022 and parameters: {'learning_rate': 0.03227354945074169, 'depth': 7, 'subsample': 0.753818237570931, 'colsample_bylevel': 0.414042985023655, 'min_data_in_leaf': 14}. Best is trial 11 with value: 2016986913.573287.\n",
            "[I 2024-06-08 16:56:06,917] Trial 58 finished with value: 2020165065.6286337 and parameters: {'learning_rate': 0.03351694157967915, 'depth': 7, 'subsample': 0.7513268911213598, 'colsample_bylevel': 0.28063805395375907, 'min_data_in_leaf': 14}. Best is trial 11 with value: 2016986913.573287.\n",
            "[I 2024-06-08 16:56:11,594] Trial 59 finished with value: 2031318973.1902955 and parameters: {'learning_rate': 0.03259306217437502, 'depth': 9, 'subsample': 0.7348897624191648, 'colsample_bylevel': 0.3035486442036093, 'min_data_in_leaf': 15}. Best is trial 11 with value: 2016986913.573287.\n",
            "[I 2024-06-08 16:56:14,501] Trial 60 finished with value: 2021907972.4787722 and parameters: {'learning_rate': 0.038841232424033374, 'depth': 8, 'subsample': 0.5965978222681114, 'colsample_bylevel': 0.4245698679456615, 'min_data_in_leaf': 14}. Best is trial 11 with value: 2016986913.573287.\n",
            "[I 2024-06-08 16:56:19,643] Trial 61 finished with value: 2033550752.444114 and parameters: {'learning_rate': 0.038856241610669334, 'depth': 8, 'subsample': 0.5839423878184784, 'colsample_bylevel': 0.4102775140582237, 'min_data_in_leaf': 5}. Best is trial 11 with value: 2016986913.573287.\n",
            "[I 2024-06-08 16:56:21,689] Trial 62 finished with value: 2025196443.6923528 and parameters: {'learning_rate': 0.04499195782184009, 'depth': 7, 'subsample': 0.6577094619407281, 'colsample_bylevel': 0.35850262455918247, 'min_data_in_leaf': 14}. Best is trial 11 with value: 2016986913.573287.\n",
            "[I 2024-06-08 16:56:23,627] Trial 63 finished with value: 2016847910.7453935 and parameters: {'learning_rate': 0.058144107682441944, 'depth': 7, 'subsample': 0.5115860905540905, 'colsample_bylevel': 0.19524357876941867, 'min_data_in_leaf': 24}. Best is trial 63 with value: 2016847910.7453935.\n",
            "[I 2024-06-08 16:56:26,438] Trial 64 finished with value: 2036152258.640504 and parameters: {'learning_rate': 0.05833785275495063, 'depth': 8, 'subsample': 0.5244288766860716, 'colsample_bylevel': 0.27385022807497567, 'min_data_in_leaf': 25}. Best is trial 63 with value: 2016847910.7453935.\n",
            "[I 2024-06-08 16:56:29,274] Trial 65 finished with value: 2053716079.881099 and parameters: {'learning_rate': 0.0877028192875869, 'depth': 8, 'subsample': 0.4444651431708515, 'colsample_bylevel': 0.21578951372422345, 'min_data_in_leaf': 19}. Best is trial 63 with value: 2016847910.7453935.\n",
            "[I 2024-06-08 16:56:33,641] Trial 66 finished with value: 2026553211.9796178 and parameters: {'learning_rate': 0.046829505124690175, 'depth': 8, 'subsample': 0.6073312598656913, 'colsample_bylevel': 0.26476911780597, 'min_data_in_leaf': 25}. Best is trial 63 with value: 2016847910.7453935.\n",
            "[I 2024-06-08 16:56:35,618] Trial 67 finished with value: 2034706092.3019466 and parameters: {'learning_rate': 0.05871816864872605, 'depth': 7, 'subsample': 0.31928243817380764, 'colsample_bylevel': 0.18627110836801303, 'min_data_in_leaf': 19}. Best is trial 63 with value: 2016847910.7453935.\n",
            "[I 2024-06-08 16:56:39,946] Trial 68 finished with value: 2050752962.6048386 and parameters: {'learning_rate': 0.08274842044261373, 'depth': 9, 'subsample': 0.5123778362005672, 'colsample_bylevel': 0.17433131714704672, 'min_data_in_leaf': 9}. Best is trial 63 with value: 2016847910.7453935.\n",
            "[I 2024-06-08 16:56:40,471] Trial 69 finished with value: 2084052461.6206312 and parameters: {'learning_rate': 0.048563696459706526, 'depth': 1, 'subsample': 0.568667911409855, 'colsample_bylevel': 0.23216799547707512, 'min_data_in_leaf': 33}. Best is trial 63 with value: 2016847910.7453935.\n",
            "[I 2024-06-08 16:56:48,505] Trial 70 finished with value: 2025157855.3154109 and parameters: {'learning_rate': 0.03670371675790739, 'depth': 10, 'subsample': 0.3888630688997639, 'colsample_bylevel': 0.12491532439053475, 'min_data_in_leaf': 5}. Best is trial 63 with value: 2016847910.7453935.\n",
            "[I 2024-06-08 16:56:50,627] Trial 71 finished with value: 2032804033.393013 and parameters: {'learning_rate': 0.03471455355087021, 'depth': 7, 'subsample': 0.761299511685188, 'colsample_bylevel': 0.4315531562570838, 'min_data_in_leaf': 12}. Best is trial 63 with value: 2016847910.7453935.\n",
            "[I 2024-06-08 16:56:52,647] Trial 72 finished with value: 2023502710.5264099 and parameters: {'learning_rate': 0.027506554042286184, 'depth': 7, 'subsample': 0.44613212453390483, 'colsample_bylevel': 0.39479917975881357, 'min_data_in_leaf': 15}. Best is trial 63 with value: 2016847910.7453935.\n",
            "[I 2024-06-08 16:56:54,696] Trial 73 finished with value: 2037911532.9866347 and parameters: {'learning_rate': 0.02460159220166552, 'depth': 7, 'subsample': 0.4564937196786546, 'colsample_bylevel': 0.47921455370977795, 'min_data_in_leaf': 22}. Best is trial 63 with value: 2016847910.7453935.\n",
            "[I 2024-06-08 16:56:59,394] Trial 74 finished with value: 2028884701.736948 and parameters: {'learning_rate': 0.041882977416717176, 'depth': 8, 'subsample': 0.5348639337685845, 'colsample_bylevel': 0.37940909533600287, 'min_data_in_leaf': 27}. Best is trial 63 with value: 2016847910.7453935.\n",
            "[I 2024-06-08 16:57:00,924] Trial 75 finished with value: 2032340548.6530359 and parameters: {'learning_rate': 0.06562052477630176, 'depth': 6, 'subsample': 0.500897945884658, 'colsample_bylevel': 0.32888783086449946, 'min_data_in_leaf': 17}. Best is trial 63 with value: 2016847910.7453935.\n",
            "[I 2024-06-08 16:57:02,130] Trial 76 finished with value: 2030279870.1900551 and parameters: {'learning_rate': 0.027835871072424172, 'depth': 5, 'subsample': 0.43485770644151633, 'colsample_bylevel': 0.3536468637085178, 'min_data_in_leaf': 4}. Best is trial 63 with value: 2016847910.7453935.\n",
            "[I 2024-06-08 16:57:04,016] Trial 77 finished with value: 2042430338.5403662 and parameters: {'learning_rate': 0.02052617333490637, 'depth': 7, 'subsample': 0.3459766458997706, 'colsample_bylevel': 0.08049689241774932, 'min_data_in_leaf': 60}. Best is trial 63 with value: 2016847910.7453935.\n",
            "[I 2024-06-08 16:57:09,143] Trial 78 finished with value: 2039118668.7463417 and parameters: {'learning_rate': 0.05085460309560219, 'depth': 9, 'subsample': 0.48123620753930096, 'colsample_bylevel': 0.4682084965354705, 'min_data_in_leaf': 12}. Best is trial 63 with value: 2016847910.7453935.\n",
            "[I 2024-06-08 16:57:12,265] Trial 79 finished with value: 2060828422.2465377 and parameters: {'learning_rate': 0.012935747329360314, 'depth': 6, 'subsample': 0.6178465385034282, 'colsample_bylevel': 0.5266734587874132, 'min_data_in_leaf': 21}. Best is trial 63 with value: 2016847910.7453935.\n",
            "[I 2024-06-08 16:57:14,323] Trial 80 finished with value: 2032156068.7053313 and parameters: {'learning_rate': 0.05647255974931928, 'depth': 7, 'subsample': 0.7964545077178169, 'colsample_bylevel': 0.3126815380703199, 'min_data_in_leaf': 35}. Best is trial 63 with value: 2016847910.7453935.\n",
            "[I 2024-06-08 16:57:16,385] Trial 81 finished with value: 2468395750.1314487 and parameters: {'learning_rate': 0.0011341478825683583, 'depth': 7, 'subsample': 0.6676603231864447, 'colsample_bylevel': 0.3876774615984251, 'min_data_in_leaf': 14}. Best is trial 63 with value: 2016847910.7453935.\n",
            "[I 2024-06-08 16:57:19,328] Trial 82 finished with value: 2032975666.696831 and parameters: {'learning_rate': 0.031303016157609054, 'depth': 8, 'subsample': 0.7077842034865937, 'colsample_bylevel': 0.4186520353466345, 'min_data_in_leaf': 17}. Best is trial 63 with value: 2016847910.7453935.\n",
            "[I 2024-06-08 16:57:21,318] Trial 83 finished with value: 2027991961.9983356 and parameters: {'learning_rate': 0.03940729300855223, 'depth': 7, 'subsample': 0.5427364316497325, 'colsample_bylevel': 0.2846013991967801, 'min_data_in_leaf': 8}. Best is trial 63 with value: 2016847910.7453935.\n",
            "[I 2024-06-08 16:57:23,343] Trial 84 finished with value: 2036317259.3638508 and parameters: {'learning_rate': 0.02271642678487476, 'depth': 6, 'subsample': 0.4166666169505399, 'colsample_bylevel': 0.23397512298099354, 'min_data_in_leaf': 14}. Best is trial 63 with value: 2016847910.7453935.\n",
            "[I 2024-06-08 16:57:26,701] Trial 85 finished with value: 2033934198.7757227 and parameters: {'learning_rate': 0.03339653702903619, 'depth': 7, 'subsample': 0.22551187732472983, 'colsample_bylevel': 0.4405290798695217, 'min_data_in_leaf': 24}. Best is trial 63 with value: 2016847910.7453935.\n",
            "[I 2024-06-08 16:57:29,617] Trial 86 finished with value: 2043209070.2300742 and parameters: {'learning_rate': 0.07023059960222114, 'depth': 8, 'subsample': 0.7843543986059378, 'colsample_bylevel': 0.398630313464881, 'min_data_in_leaf': 28}. Best is trial 63 with value: 2016847910.7453935.\n",
            "[I 2024-06-08 16:57:30,419] Trial 87 finished with value: 2086669422.4929407 and parameters: {'learning_rate': 0.017041857202760982, 'depth': 3, 'subsample': 0.36699359524162684, 'colsample_bylevel': 0.5479548478614972, 'min_data_in_leaf': 40}. Best is trial 63 with value: 2016847910.7453935.\n",
            "[I 2024-06-08 16:57:31,979] Trial 88 finished with value: 2032417171.8587415 and parameters: {'learning_rate': 0.09450601080318667, 'depth': 6, 'subsample': 0.5925960772256866, 'colsample_bylevel': 0.3369824496472717, 'min_data_in_leaf': 4}. Best is trial 63 with value: 2016847910.7453935.\n",
            "[I 2024-06-08 16:57:34,007] Trial 89 finished with value: 2038504607.4188957 and parameters: {'learning_rate': 0.02879672898814205, 'depth': 7, 'subsample': 0.693604398084438, 'colsample_bylevel': 0.24885026000028837, 'min_data_in_leaf': 30}. Best is trial 63 with value: 2016847910.7453935.\n",
            "[I 2024-06-08 16:57:35,300] Trial 90 finished with value: 2033421727.9125154 and parameters: {'learning_rate': 0.04543296278080696, 'depth': 5, 'subsample': 0.7519200638444967, 'colsample_bylevel': 0.29404648963738067, 'min_data_in_leaf': 7}. Best is trial 63 with value: 2016847910.7453935.\n",
            "[I 2024-06-08 16:57:43,393] Trial 91 finished with value: 2015765503.7654498 and parameters: {'learning_rate': 0.037622819808118727, 'depth': 10, 'subsample': 0.37908831205246024, 'colsample_bylevel': 0.13323267957531904, 'min_data_in_leaf': 4}. Best is trial 91 with value: 2015765503.7654498.\n",
            "[I 2024-06-08 16:57:50,897] Trial 92 finished with value: 2014999040.694843 and parameters: {'learning_rate': 0.04001522137284209, 'depth': 10, 'subsample': 0.38770516310260417, 'colsample_bylevel': 0.1550192050228063, 'min_data_in_leaf': 10}. Best is trial 92 with value: 2014999040.694843.\n",
            "[I 2024-06-08 16:57:58,262] Trial 93 finished with value: 2031465618.9526296 and parameters: {'learning_rate': 0.03962067462348626, 'depth': 10, 'subsample': 0.4042338331721099, 'colsample_bylevel': 0.17537857803220103, 'min_data_in_leaf': 10}. Best is trial 92 with value: 2014999040.694843.\n",
            "[I 2024-06-08 16:58:06,498] Trial 94 finished with value: 2034973240.8391914 and parameters: {'learning_rate': 0.05355842152721215, 'depth': 10, 'subsample': 0.32984827228992036, 'colsample_bylevel': 0.09951011952682967, 'min_data_in_leaf': 1}. Best is trial 92 with value: 2014999040.694843.\n",
            "[I 2024-06-08 16:58:13,121] Trial 95 finished with value: 2026497862.1497917 and parameters: {'learning_rate': 0.04370884497652618, 'depth': 10, 'subsample': 0.46257857650988987, 'colsample_bylevel': 0.14883976000920368, 'min_data_in_leaf': 3}. Best is trial 92 with value: 2014999040.694843.\n",
            "[I 2024-06-08 16:58:19,348] Trial 96 finished with value: 2031979989.3083093 and parameters: {'learning_rate': 0.07919067178757878, 'depth': 9, 'subsample': 0.9121628978848468, 'colsample_bylevel': 0.20234357106621606, 'min_data_in_leaf': 100}. Best is trial 92 with value: 2014999040.694843.\n",
            "[I 2024-06-08 16:58:23,621] Trial 97 finished with value: 2025602995.5845644 and parameters: {'learning_rate': 0.03670036741623211, 'depth': 9, 'subsample': 0.4287204452941189, 'colsample_bylevel': 0.15826010913731128, 'min_data_in_leaf': 10}. Best is trial 92 with value: 2014999040.694843.\n",
            "[I 2024-06-08 16:58:31,753] Trial 98 finished with value: 2020638832.8464293 and parameters: {'learning_rate': 0.0265415242310018, 'depth': 10, 'subsample': 0.3690745798332341, 'colsample_bylevel': 0.06366884457578437, 'min_data_in_leaf': 6}. Best is trial 92 with value: 2014999040.694843.\n",
            "[I 2024-06-08 16:58:37,565] Trial 99 finished with value: 2010166374.1968672 and parameters: {'learning_rate': 0.0627973317446243, 'depth': 9, 'subsample': 0.29898222375576955, 'colsample_bylevel': 0.05619781243418533, 'min_data_in_leaf': 6}. Best is trial 99 with value: 2010166374.1968672.\n",
            "[I 2024-06-08 16:58:43,988] Trial 100 finished with value: 2012677741.2185183 and parameters: {'learning_rate': 0.0515581705630421, 'depth': 10, 'subsample': 0.27611587459133613, 'colsample_bylevel': 0.06803335793787613, 'min_data_in_leaf': 6}. Best is trial 99 with value: 2010166374.1968672.\n",
            "[I 2024-06-08 16:58:52,188] Trial 101 finished with value: 2032623868.932502 and parameters: {'learning_rate': 0.06023838477154989, 'depth': 10, 'subsample': 0.21548873565321788, 'colsample_bylevel': 0.0925224989483213, 'min_data_in_leaf': 6}. Best is trial 99 with value: 2010166374.1968672.\n",
            "[I 2024-06-08 16:58:58,921] Trial 102 finished with value: 2009758687.6218443 and parameters: {'learning_rate': 0.05011303748715113, 'depth': 10, 'subsample': 0.2883107224146464, 'colsample_bylevel': 0.07949371822878423, 'min_data_in_leaf': 3}. Best is trial 102 with value: 2009758687.6218443.\n",
            "[I 2024-06-08 16:59:06,404] Trial 103 finished with value: 2023149077.1298106 and parameters: {'learning_rate': 0.049910716952368143, 'depth': 10, 'subsample': 0.2765805878966433, 'colsample_bylevel': 0.05043609388565351, 'min_data_in_leaf': 3}. Best is trial 102 with value: 2009758687.6218443.\n",
            "[I 2024-06-08 16:59:14,076] Trial 104 finished with value: 2010777081.7261608 and parameters: {'learning_rate': 0.04142791765009482, 'depth': 10, 'subsample': 0.30928387259718226, 'colsample_bylevel': 0.07474455171927082, 'min_data_in_leaf': 7}. Best is trial 102 with value: 2009758687.6218443.\n",
            "[I 2024-06-08 16:59:20,602] Trial 105 finished with value: 2013976208.2148633 and parameters: {'learning_rate': 0.040817381264757216, 'depth': 10, 'subsample': 0.24397242960770205, 'colsample_bylevel': 0.07017965276868397, 'min_data_in_leaf': 7}. Best is trial 102 with value: 2009758687.6218443.\n",
            "[I 2024-06-08 16:59:28,666] Trial 106 finished with value: 2009008004.0855644 and parameters: {'learning_rate': 0.034536939393147045, 'depth': 10, 'subsample': 0.22508194496446743, 'colsample_bylevel': 0.07855718966962336, 'min_data_in_leaf': 7}. Best is trial 106 with value: 2009008004.0855644.\n",
            "[I 2024-06-08 16:59:35,208] Trial 107 finished with value: 2026616726.671188 and parameters: {'learning_rate': 0.034558048347331026, 'depth': 10, 'subsample': 0.22037716908780086, 'colsample_bylevel': 0.11659203903175788, 'min_data_in_leaf': 8}. Best is trial 106 with value: 2009008004.0855644.\n",
            "[I 2024-06-08 16:59:43,352] Trial 108 finished with value: 2009455808.0357702 and parameters: {'learning_rate': 0.04246999068961791, 'depth': 10, 'subsample': 0.24259930274454594, 'colsample_bylevel': 0.07743394137945979, 'min_data_in_leaf': 4}. Best is trial 106 with value: 2009008004.0855644.\n",
            "[I 2024-06-08 16:59:49,767] Trial 109 finished with value: 2012557370.985975 and parameters: {'learning_rate': 0.045511814286871725, 'depth': 10, 'subsample': 0.1724832374481668, 'colsample_bylevel': 0.07614218541329723, 'min_data_in_leaf': 3}. Best is trial 106 with value: 2009008004.0855644.\n",
            "[I 2024-06-08 16:59:57,842] Trial 110 finished with value: 2022159646.762728 and parameters: {'learning_rate': 0.052861189291423694, 'depth': 10, 'subsample': 0.14543404941351007, 'colsample_bylevel': 0.07420234688345018, 'min_data_in_leaf': 4}. Best is trial 106 with value: 2009008004.0855644.\n",
            "[I 2024-06-08 17:00:04,386] Trial 111 finished with value: 2036321717.6695893 and parameters: {'learning_rate': 0.042748240559287984, 'depth': 10, 'subsample': 0.24257898341103273, 'colsample_bylevel': 0.10548572679545437, 'min_data_in_leaf': 3}. Best is trial 106 with value: 2009008004.0855644.\n",
            "[I 2024-06-08 17:00:12,662] Trial 112 finished with value: 2032453854.9153874 and parameters: {'learning_rate': 0.044617203949205146, 'depth': 10, 'subsample': 0.18331551209847405, 'colsample_bylevel': 0.13360068413743764, 'min_data_in_leaf': 7}. Best is trial 106 with value: 2009008004.0855644.\n",
            "[I 2024-06-08 17:00:16,760] Trial 113 finished with value: 2009835416.6981647 and parameters: {'learning_rate': 0.04862889806837007, 'depth': 9, 'subsample': 0.29886711688282386, 'colsample_bylevel': 0.07802339175387189, 'min_data_in_leaf': 1}. Best is trial 106 with value: 2009008004.0855644.\n",
            "[I 2024-06-08 17:00:22,813] Trial 114 finished with value: 2010494990.131614 and parameters: {'learning_rate': 0.04927321454774841, 'depth': 9, 'subsample': 0.2983845388137597, 'colsample_bylevel': 0.08215886543152995, 'min_data_in_leaf': 1}. Best is trial 106 with value: 2009008004.0855644.\n",
            "[I 2024-06-08 17:00:26,984] Trial 115 finished with value: 2021051780.0004008 and parameters: {'learning_rate': 0.04005531801986006, 'depth': 9, 'subsample': 0.3039511845219163, 'colsample_bylevel': 0.08848538471954755, 'min_data_in_leaf': 5}. Best is trial 106 with value: 2009008004.0855644.\n",
            "[I 2024-06-08 17:00:31,086] Trial 116 finished with value: 2022678193.8098814 and parameters: {'learning_rate': 0.04800852616142783, 'depth': 9, 'subsample': 0.25929320914883275, 'colsample_bylevel': 0.06913204069360385, 'min_data_in_leaf': 1}. Best is trial 106 with value: 2009008004.0855644.\n",
            "[I 2024-06-08 17:00:39,226] Trial 117 finished with value: 2030474171.8410242 and parameters: {'learning_rate': 0.05404470930775607, 'depth': 10, 'subsample': 0.16832423371383368, 'colsample_bylevel': 0.1164849861587719, 'min_data_in_leaf': 9}. Best is trial 106 with value: 2009008004.0855644.\n",
            "[I 2024-06-08 17:00:46,105] Trial 118 finished with value: 2017785093.90256 and parameters: {'learning_rate': 0.06827984441757991, 'depth': 10, 'subsample': 0.1899362628157657, 'colsample_bylevel': 0.05372445326025131, 'min_data_in_leaf': 3}. Best is trial 106 with value: 2009008004.0855644.\n",
            "[I 2024-06-08 17:00:51,497] Trial 119 finished with value: 2045701334.784258 and parameters: {'learning_rate': 0.0481250919188369, 'depth': 9, 'subsample': 0.08500667215877522, 'colsample_bylevel': 0.13873130908610337, 'min_data_in_leaf': 11}. Best is trial 106 with value: 2009008004.0855644.\n",
            "[I 2024-06-08 17:00:57,884] Trial 120 finished with value: 2006505994.9484942 and parameters: {'learning_rate': 0.03689174287872318, 'depth': 10, 'subsample': 0.2997950045460138, 'colsample_bylevel': 0.08350266973500352, 'min_data_in_leaf': 78}. Best is trial 120 with value: 2006505994.9484942.\n",
            "[I 2024-06-08 17:01:05,530] Trial 121 finished with value: 2126064661.9416978 and parameters: {'learning_rate': 0.004824802357487236, 'depth': 10, 'subsample': 0.2975979984535146, 'colsample_bylevel': 0.09904788209139485, 'min_data_in_leaf': 88}. Best is trial 120 with value: 2006505994.9484942.\n",
            "[I 2024-06-08 17:01:12,037] Trial 122 finished with value: 2020013099.6430364 and parameters: {'learning_rate': 0.042270459937763835, 'depth': 10, 'subsample': 0.2523011986532567, 'colsample_bylevel': 0.07941058184512205, 'min_data_in_leaf': 6}. Best is trial 120 with value: 2006505994.9484942.\n",
            "[I 2024-06-08 17:01:20,098] Trial 123 finished with value: 2027785816.034407 and parameters: {'learning_rate': 0.03677601899850994, 'depth': 10, 'subsample': 0.3223630136655229, 'colsample_bylevel': 0.1577491427379643, 'min_data_in_leaf': 69}. Best is trial 120 with value: 2006505994.9484942.\n",
            "[I 2024-06-08 17:01:24,277] Trial 124 finished with value: 2019678362.7973063 and parameters: {'learning_rate': 0.030868279174249853, 'depth': 9, 'subsample': 0.27800222031377253, 'colsample_bylevel': 0.11241120591233386, 'min_data_in_leaf': 74}. Best is trial 120 with value: 2006505994.9484942.\n",
            "[I 2024-06-08 17:01:31,778] Trial 125 finished with value: 2268251010.3141623 and parameters: {'learning_rate': 0.002663674615535954, 'depth': 10, 'subsample': 0.055906557951363844, 'colsample_bylevel': 0.05010371274337605, 'min_data_in_leaf': 1}. Best is trial 120 with value: 2006505994.9484942.\n",
            "[I 2024-06-08 17:01:38,210] Trial 126 finished with value: 2011606859.7274804 and parameters: {'learning_rate': 0.04921317009743825, 'depth': 10, 'subsample': 0.23888421456675218, 'colsample_bylevel': 0.0763546160152215, 'min_data_in_leaf': 9}. Best is trial 120 with value: 2006505994.9484942.\n",
            "[I 2024-06-08 17:01:44,283] Trial 127 finished with value: 2010655803.69647 and parameters: {'learning_rate': 0.05046578789413831, 'depth': 9, 'subsample': 0.12193496827030481, 'colsample_bylevel': 0.08186260349761654, 'min_data_in_leaf': 12}. Best is trial 120 with value: 2006505994.9484942.\n",
            "[I 2024-06-08 17:01:48,422] Trial 128 finished with value: 2012821383.2301934 and parameters: {'learning_rate': 0.06334638376074463, 'depth': 9, 'subsample': 0.11514584796369257, 'colsample_bylevel': 0.07830304015113894, 'min_data_in_leaf': 54}. Best is trial 120 with value: 2006505994.9484942.\n",
            "[I 2024-06-08 17:01:53,182] Trial 129 finished with value: 2025321091.1299407 and parameters: {'learning_rate': 0.06767378996397244, 'depth': 9, 'subsample': 0.12213265855631189, 'colsample_bylevel': 0.0858755858312508, 'min_data_in_leaf': 80}. Best is trial 120 with value: 2006505994.9484942.\n",
            "[I 2024-06-08 17:02:00,415] Trial 130 finished with value: 2027961004.2711732 and parameters: {'learning_rate': 0.06172388116477403, 'depth': 9, 'subsample': 0.1152011577574399, 'colsample_bylevel': 0.10068600093098429, 'min_data_in_leaf': 55}. Best is trial 120 with value: 2006505994.9484942.\n",
            "[I 2024-06-08 17:02:04,528] Trial 131 finished with value: 2017375393.6654346 and parameters: {'learning_rate': 0.05290421032097096, 'depth': 9, 'subsample': 0.20016660752799909, 'colsample_bylevel': 0.07245683297240799, 'min_data_in_leaf': 50}. Best is trial 120 with value: 2006505994.9484942.\n",
            "[I 2024-06-08 17:02:09,407] Trial 132 finished with value: 2019997666.958461 and parameters: {'learning_rate': 0.04801396374705002, 'depth': 9, 'subsample': 0.1594985191532732, 'colsample_bylevel': 0.0649724460780434, 'min_data_in_leaf': 8}. Best is trial 120 with value: 2006505994.9484942.\n",
            "[I 2024-06-08 17:02:16,543] Trial 133 finished with value: 2037944420.3404427 and parameters: {'learning_rate': 0.05682772010655273, 'depth': 9, 'subsample': 0.24163741234326264, 'colsample_bylevel': 0.11653312557043408, 'min_data_in_leaf': 97}. Best is trial 120 with value: 2006505994.9484942.\n",
            "[I 2024-06-08 17:02:24,400] Trial 134 finished with value: 2019919019.9796226 and parameters: {'learning_rate': 0.04540046977927866, 'depth': 10, 'subsample': 0.2630317495941903, 'colsample_bylevel': 0.08893212220954734, 'min_data_in_leaf': 12}. Best is trial 120 with value: 2006505994.9484942.\n",
            "[I 2024-06-08 17:02:31,663] Trial 135 finished with value: 2021965180.9082177 and parameters: {'learning_rate': 0.062158598219760816, 'depth': 10, 'subsample': 0.12781560337661024, 'colsample_bylevel': 0.05033424724470073, 'min_data_in_leaf': 59}. Best is trial 120 with value: 2006505994.9484942.\n",
            "[I 2024-06-08 17:02:39,562] Trial 136 finished with value: 2033050717.6983917 and parameters: {'learning_rate': 0.0738651994672138, 'depth': 10, 'subsample': 0.3072148933739352, 'colsample_bylevel': 0.07592072410877959, 'min_data_in_leaf': 6}. Best is trial 120 with value: 2006505994.9484942.\n",
            "[I 2024-06-08 17:02:43,974] Trial 137 finished with value: 2032930465.1531816 and parameters: {'learning_rate': 0.050841959582829506, 'depth': 9, 'subsample': 0.20191458825839456, 'colsample_bylevel': 0.12711086620731835, 'min_data_in_leaf': 3}. Best is trial 120 with value: 2006505994.9484942.\n",
            "[I 2024-06-08 17:02:51,274] Trial 138 finished with value: 2042669924.648068 and parameters: {'learning_rate': 0.056133322858554234, 'depth': 10, 'subsample': 0.2349845622114256, 'colsample_bylevel': 0.10343458509792747, 'min_data_in_leaf': 7}. Best is trial 120 with value: 2006505994.9484942.\n",
            "[I 2024-06-08 17:02:58,547] Trial 139 finished with value: 2026320103.2480779 and parameters: {'learning_rate': 0.04340483457141074, 'depth': 10, 'subsample': 0.3463485756067456, 'colsample_bylevel': 0.07172254273808518, 'min_data_in_leaf': 1}. Best is trial 120 with value: 2006505994.9484942.\n",
            "[I 2024-06-08 17:03:02,711] Trial 140 finished with value: 2018590948.7555723 and parameters: {'learning_rate': 0.034678829440126256, 'depth': 9, 'subsample': 0.33077156217193415, 'colsample_bylevel': 0.09080893131800327, 'min_data_in_leaf': 63}. Best is trial 120 with value: 2006505994.9484942.\n",
            "[I 2024-06-08 17:03:11,096] Trial 141 finished with value: 2040982098.8858788 and parameters: {'learning_rate': 0.04913862629116156, 'depth': 10, 'subsample': 0.2854382448734623, 'colsample_bylevel': 0.14610624511157133, 'min_data_in_leaf': 10}. Best is trial 120 with value: 2006505994.9484942.\n",
            "[I 2024-06-08 17:03:19,307] Trial 142 finished with value: 2026870318.8943334 and parameters: {'learning_rate': 0.039695862865830996, 'depth': 10, 'subsample': 0.2640814029545711, 'colsample_bylevel': 0.16511893235029357, 'min_data_in_leaf': 5}. Best is trial 120 with value: 2006505994.9484942.\n",
            "[I 2024-06-08 17:03:26,012] Trial 143 finished with value: 2044104966.1716397 and parameters: {'learning_rate': 0.0409751744643006, 'depth': 10, 'subsample': 0.09051373133205984, 'colsample_bylevel': 0.11625016476777084, 'min_data_in_leaf': 46}. Best is trial 120 with value: 2006505994.9484942.\n",
            "[I 2024-06-08 17:03:34,219] Trial 144 finished with value: 2010900936.1353312 and parameters: {'learning_rate': 0.04540149817185569, 'depth': 10, 'subsample': 0.29428856576387946, 'colsample_bylevel': 0.06587446067717194, 'min_data_in_leaf': 9}. Best is trial 120 with value: 2006505994.9484942.\n",
            "[I 2024-06-08 17:03:40,750] Trial 145 finished with value: 2025624220.6034636 and parameters: {'learning_rate': 0.06294411009774746, 'depth': 10, 'subsample': 0.20959380409275377, 'colsample_bylevel': 0.06745510673367994, 'min_data_in_leaf': 12}. Best is trial 120 with value: 2006505994.9484942.\n",
            "[I 2024-06-08 17:03:46,678] Trial 146 finished with value: 2089805330.4629753 and parameters: {'learning_rate': 0.007793892494912415, 'depth': 9, 'subsample': 0.294879179708126, 'colsample_bylevel': 0.0913618886774063, 'min_data_in_leaf': 8}. Best is trial 120 with value: 2006505994.9484942.\n",
            "[I 2024-06-08 17:03:50,748] Trial 147 finished with value: 2014047569.84192 and parameters: {'learning_rate': 0.055041162743261166, 'depth': 9, 'subsample': 0.22758159094799457, 'colsample_bylevel': 0.05058765316649723, 'min_data_in_leaf': 4}. Best is trial 120 with value: 2006505994.9484942.\n",
            "[I 2024-06-08 17:03:58,040] Trial 148 finished with value: 2079964371.2635756 and parameters: {'learning_rate': 0.08456428024008222, 'depth': 10, 'subsample': 0.1568159433758452, 'colsample_bylevel': 0.13137330682652465, 'min_data_in_leaf': 9}. Best is trial 120 with value: 2006505994.9484942.\n",
            "[I 2024-06-08 17:04:05,561] Trial 149 finished with value: 2021637646.2223356 and parameters: {'learning_rate': 0.05017473188210814, 'depth': 10, 'subsample': 0.31109039232894964, 'colsample_bylevel': 0.07969614459518498, 'min_data_in_leaf': 53}. Best is trial 120 with value: 2006505994.9484942.\n",
            "[I 2024-06-08 17:04:13,695] Trial 150 finished with value: 2034779646.5206928 and parameters: {'learning_rate': 0.04611135793152668, 'depth': 10, 'subsample': 0.24886616215612206, 'colsample_bylevel': 0.10607513399878525, 'min_data_in_leaf': 5}. Best is trial 120 with value: 2006505994.9484942.\n",
            "[I 2024-06-08 17:04:17,784] Trial 151 finished with value: 2019751089.41043 and parameters: {'learning_rate': 0.05625406828188033, 'depth': 9, 'subsample': 0.2313664271965797, 'colsample_bylevel': 0.05460836156668808, 'min_data_in_leaf': 4}. Best is trial 120 with value: 2006505994.9484942.\n",
            "[I 2024-06-08 17:04:21,961] Trial 152 finished with value: 2018620308.895235 and parameters: {'learning_rate': 0.06983769595380523, 'depth': 9, 'subsample': 0.2779006290327224, 'colsample_bylevel': 0.0681991970205592, 'min_data_in_leaf': 76}. Best is trial 120 with value: 2006505994.9484942.\n",
            "[I 2024-06-08 17:04:28,132] Trial 153 finished with value: 2030916681.6512852 and parameters: {'learning_rate': 0.0527611994148518, 'depth': 9, 'subsample': 0.18287943715099406, 'colsample_bylevel': 0.08940758874221859, 'min_data_in_leaf': 2}. Best is trial 120 with value: 2006505994.9484942.\n",
            "[I 2024-06-08 17:04:34,484] Trial 154 finished with value: 2018238519.0805318 and parameters: {'learning_rate': 0.044216000940859514, 'depth': 10, 'subsample': 0.3355793209675323, 'colsample_bylevel': 0.053994583816797725, 'min_data_in_leaf': 7}. Best is trial 120 with value: 2006505994.9484942.\n",
            "[I 2024-06-08 17:04:42,760] Trial 155 finished with value: 2037631181.231646 and parameters: {'learning_rate': 0.0587741983809572, 'depth': 10, 'subsample': 0.22183020443228943, 'colsample_bylevel': 0.10837928044698318, 'min_data_in_leaf': 3}. Best is trial 120 with value: 2006505994.9484942.\n",
            "[I 2024-06-08 17:04:46,877] Trial 156 finished with value: 2009710702.3379343 and parameters: {'learning_rate': 0.037311699806170294, 'depth': 9, 'subsample': 0.28926571747030794, 'colsample_bylevel': 0.07573734739390887, 'min_data_in_leaf': 5}. Best is trial 120 with value: 2006505994.9484942.\n",
            "[I 2024-06-08 17:04:52,004] Trial 157 finished with value: 2021324433.3689537 and parameters: {'learning_rate': 0.03533079141517502, 'depth': 9, 'subsample': 0.2942427197348808, 'colsample_bylevel': 0.12312603703680634, 'min_data_in_leaf': 9}. Best is trial 120 with value: 2006505994.9484942.\n",
            "[I 2024-06-08 17:04:59,223] Trial 158 finished with value: 2022537460.408255 and parameters: {'learning_rate': 0.037343834652581204, 'depth': 10, 'subsample': 0.26334697040690114, 'colsample_bylevel': 0.08019468707438261, 'min_data_in_leaf': 1}. Best is trial 120 with value: 2006505994.9484942.\n",
            "[I 2024-06-08 17:05:07,400] Trial 159 finished with value: 2013425425.178989 and parameters: {'learning_rate': 0.03184422588741948, 'depth': 10, 'subsample': 0.3504557363700596, 'colsample_bylevel': 0.10347970855850691, 'min_data_in_leaf': 12}. Best is trial 120 with value: 2006505994.9484942.\n",
            "[I 2024-06-08 17:05:13,840] Trial 160 finished with value: 2010635718.511341 and parameters: {'learning_rate': 0.03134334144950354, 'depth': 10, 'subsample': 0.3554689821005176, 'colsample_bylevel': 0.10042725979013167, 'min_data_in_leaf': 12}. Best is trial 120 with value: 2006505994.9484942.\n",
            "[I 2024-06-08 17:05:23,855] Trial 161 finished with value: 2020177071.5792444 and parameters: {'learning_rate': 0.030624884395795318, 'depth': 10, 'subsample': 0.3492763842529471, 'colsample_bylevel': 0.09391959194078865, 'min_data_in_leaf': 13}. Best is trial 120 with value: 2006505994.9484942.\n",
            "[I 2024-06-08 17:05:30,254] Trial 162 finished with value: 2015521118.357886 and parameters: {'learning_rate': 0.03278821217013387, 'depth': 10, 'subsample': 0.3158636190334392, 'colsample_bylevel': 0.13544067079093042, 'min_data_in_leaf': 16}. Best is trial 120 with value: 2006505994.9484942.\n",
            "[I 2024-06-08 17:05:37,969] Trial 163 finished with value: 2063954950.0066783 and parameters: {'learning_rate': 0.010258816264770305, 'depth': 10, 'subsample': 0.3580767940507332, 'colsample_bylevel': 0.11023011195690506, 'min_data_in_leaf': 10}. Best is trial 120 with value: 2006505994.9484942.\n",
            "[I 2024-06-08 17:05:42,090] Trial 164 finished with value: 2016726627.3767974 and parameters: {'learning_rate': 0.025991265773217403, 'depth': 9, 'subsample': 0.28668464857354387, 'colsample_bylevel': 0.08016609548781793, 'min_data_in_leaf': 12}. Best is trial 120 with value: 2006505994.9484942.\n",
            "[I 2024-06-08 17:05:50,037] Trial 165 finished with value: 2018495192.9774413 and parameters: {'learning_rate': 0.029941270256001174, 'depth': 10, 'subsample': 0.3160728920144525, 'colsample_bylevel': 0.0968628346559776, 'min_data_in_leaf': 6}. Best is trial 120 with value: 2006505994.9484942.\n",
            "[I 2024-06-08 17:05:54,158] Trial 166 finished with value: 2016045792.197817 and parameters: {'learning_rate': 0.04476006738440325, 'depth': 9, 'subsample': 0.09427267287618052, 'colsample_bylevel': 0.06930328040680629, 'min_data_in_leaf': 8}. Best is trial 120 with value: 2006505994.9484942.\n",
            "[I 2024-06-08 17:06:02,338] Trial 167 finished with value: 2025054280.8273277 and parameters: {'learning_rate': 0.03736224990447762, 'depth': 10, 'subsample': 0.28121977373625084, 'colsample_bylevel': 0.14143149115002784, 'min_data_in_leaf': 5}. Best is trial 120 with value: 2006505994.9484942.\n",
            "[I 2024-06-08 17:06:08,956] Trial 168 finished with value: 2026022957.3001862 and parameters: {'learning_rate': 0.04847609441307132, 'depth': 10, 'subsample': 0.33508338106393915, 'colsample_bylevel': 0.12172029256856476, 'min_data_in_leaf': 3}. Best is trial 120 with value: 2006505994.9484942.\n",
            "[I 2024-06-08 17:06:14,348] Trial 169 finished with value: 2021148141.5399983 and parameters: {'learning_rate': 0.03339500551218015, 'depth': 9, 'subsample': 0.25681609616414813, 'colsample_bylevel': 0.10087357077522877, 'min_data_in_leaf': 11}. Best is trial 120 with value: 2006505994.9484942.\n",
            "[I 2024-06-08 17:06:21,243] Trial 170 finished with value: 2015929225.8876686 and parameters: {'learning_rate': 0.022564023202764367, 'depth': 10, 'subsample': 0.30111565155123754, 'colsample_bylevel': 0.06583853690511489, 'min_data_in_leaf': 1}. Best is trial 120 with value: 2006505994.9484942.\n",
            "[I 2024-06-08 17:06:29,157] Trial 171 finished with value: 2006314853.3958874 and parameters: {'learning_rate': 0.04164979036093623, 'depth': 10, 'subsample': 0.26969238941550305, 'colsample_bylevel': 0.07090684827864249, 'min_data_in_leaf': 7}. Best is trial 171 with value: 2006314853.3958874.\n",
            "[I 2024-06-08 17:06:35,537] Trial 172 finished with value: 2018692496.908608 and parameters: {'learning_rate': 0.04086155130060172, 'depth': 10, 'subsample': 0.26643294191834344, 'colsample_bylevel': 0.08558662593097249, 'min_data_in_leaf': 6}. Best is trial 171 with value: 2006314853.3958874.\n",
            "[I 2024-06-08 17:06:43,568] Trial 173 finished with value: 2008998936.8543258 and parameters: {'learning_rate': 0.04668929927318754, 'depth': 10, 'subsample': 0.29896024272113875, 'colsample_bylevel': 0.05206907893683699, 'min_data_in_leaf': 95}. Best is trial 171 with value: 2006314853.3958874.\n",
            "[I 2024-06-08 17:06:49,805] Trial 174 finished with value: 2016107210.5509129 and parameters: {'learning_rate': 0.045956613010709135, 'depth': 10, 'subsample': 0.3005940268140186, 'colsample_bylevel': 0.050188156695010484, 'min_data_in_leaf': 96}. Best is trial 171 with value: 2006314853.3958874.\n",
            "[I 2024-06-08 17:06:55,847] Trial 175 finished with value: 2010250143.8070025 and parameters: {'learning_rate': 0.05099087748373289, 'depth': 9, 'subsample': 0.2739420118098681, 'colsample_bylevel': 0.0682534619705425, 'min_data_in_leaf': 85}. Best is trial 171 with value: 2006314853.3958874.\n",
            "[I 2024-06-08 17:07:02,238] Trial 176 finished with value: 2015611255.5390468 and parameters: {'learning_rate': 0.042379569020462846, 'depth': 10, 'subsample': 0.27657684001687965, 'colsample_bylevel': 0.06797206616423024, 'min_data_in_leaf': 83}. Best is trial 171 with value: 2006314853.3958874.\n",
            "[I 2024-06-08 17:07:10,284] Trial 177 finished with value: 2005377187.4440355 and parameters: {'learning_rate': 0.04977592420401544, 'depth': 10, 'subsample': 0.32213977373818986, 'colsample_bylevel': 0.05125475592868908, 'min_data_in_leaf': 91}. Best is trial 177 with value: 2005377187.4440355.\n",
            "[I 2024-06-08 17:07:14,355] Trial 178 finished with value: 2016738071.635272 and parameters: {'learning_rate': 0.04634651655593288, 'depth': 9, 'subsample': 0.32143714724895966, 'colsample_bylevel': 0.05088353755794682, 'min_data_in_leaf': 89}. Best is trial 177 with value: 2005377187.4440355.\n",
            "[I 2024-06-08 17:07:22,347] Trial 179 finished with value: 2015232988.9197652 and parameters: {'learning_rate': 0.03725179318523938, 'depth': 10, 'subsample': 0.24205947942599493, 'colsample_bylevel': 0.08568872940510168, 'min_data_in_leaf': 93}. Best is trial 177 with value: 2005377187.4440355.\n",
            "[I 2024-06-08 17:07:28,816] Trial 180 finished with value: 2019973493.82639 and parameters: {'learning_rate': 0.05223702028334351, 'depth': 10, 'subsample': 0.30789968753059127, 'colsample_bylevel': 0.05005798953824055, 'min_data_in_leaf': 93}. Best is trial 177 with value: 2005377187.4440355.\n",
            "[I 2024-06-08 17:07:36,719] Trial 181 finished with value: 2018131466.7343328 and parameters: {'learning_rate': 0.04975917874768846, 'depth': 10, 'subsample': 0.28768591840004976, 'colsample_bylevel': 0.07140217586308326, 'min_data_in_leaf': 88}. Best is trial 177 with value: 2005377187.4440355.\n",
            "[I 2024-06-08 17:07:43,145] Trial 182 finished with value: 2020894179.7443776 and parameters: {'learning_rate': 0.041452992092605626, 'depth': 10, 'subsample': 0.2581222089240341, 'colsample_bylevel': 0.093985025692489, 'min_data_in_leaf': 86}. Best is trial 177 with value: 2005377187.4440355.\n",
            "[I 2024-06-08 17:07:51,435] Trial 183 finished with value: 2041665086.7545362 and parameters: {'learning_rate': 0.05675523187121112, 'depth': 10, 'subsample': 0.2796785848488121, 'colsample_bylevel': 0.11738876405856946, 'min_data_in_leaf': 4}. Best is trial 177 with value: 2005377187.4440355.\n",
            "[I 2024-06-08 17:07:57,795] Trial 184 finished with value: 2005260290.9176452 and parameters: {'learning_rate': 0.05134107603295446, 'depth': 10, 'subsample': 0.3308956136177017, 'colsample_bylevel': 0.0734889015571684, 'min_data_in_leaf': 90}. Best is trial 184 with value: 2005260290.9176452.\n",
            "[I 2024-06-08 17:08:05,822] Trial 185 finished with value: 2012507416.516841 and parameters: {'learning_rate': 0.04552288925569692, 'depth': 10, 'subsample': 0.322748304607001, 'colsample_bylevel': 0.08416843603511867, 'min_data_in_leaf': 82}. Best is trial 184 with value: 2005260290.9176452.\n",
            "[I 2024-06-08 17:08:10,034] Trial 186 finished with value: 2032703642.5805416 and parameters: {'learning_rate': 0.047773433308459214, 'depth': 9, 'subsample': 0.36698812225002075, 'colsample_bylevel': 0.10939540676474699, 'min_data_in_leaf': 83}. Best is trial 184 with value: 2005260290.9176452.\n",
            "[I 2024-06-08 17:08:18,046] Trial 187 finished with value: 2020439064.4824889 and parameters: {'learning_rate': 0.03931762207923226, 'depth': 10, 'subsample': 0.33235664166796824, 'colsample_bylevel': 0.08909885546860755, 'min_data_in_leaf': 93}. Best is trial 184 with value: 2005260290.9176452.\n",
            "[I 2024-06-08 17:08:24,470] Trial 188 finished with value: 2015372768.9399683 and parameters: {'learning_rate': 0.04386069076724851, 'depth': 10, 'subsample': 0.3018862271870096, 'colsample_bylevel': 0.06635169006629599, 'min_data_in_leaf': 91}. Best is trial 184 with value: 2005260290.9176452.\n",
            "[I 2024-06-08 17:08:30,582] Trial 189 finished with value: 2035954868.78461 and parameters: {'learning_rate': 0.05322262198180313, 'depth': 9, 'subsample': 0.320525582968805, 'colsample_bylevel': 0.12405250019163783, 'min_data_in_leaf': 78}. Best is trial 184 with value: 2005260290.9176452.\n",
            "[I 2024-06-08 17:08:38,318] Trial 190 finished with value: 2053806857.6798303 and parameters: {'learning_rate': 0.035654070148226504, 'depth': 10, 'subsample': 0.3938007574309749, 'colsample_bylevel': 0.9104169394879185, 'min_data_in_leaf': 81}. Best is trial 184 with value: 2005260290.9176452.\n",
            "[I 2024-06-08 17:08:47,308] Trial 191 finished with value: 2007097299.0979664 and parameters: {'learning_rate': 0.04588516914876588, 'depth': 10, 'subsample': 0.3472008243694126, 'colsample_bylevel': 0.08288991523485503, 'min_data_in_leaf': 86}. Best is trial 184 with value: 2005260290.9176452.\n",
            "[I 2024-06-08 17:08:54,083] Trial 192 finished with value: 2034118583.0340493 and parameters: {'learning_rate': 0.05000145713957663, 'depth': 10, 'subsample': 0.3431454286116703, 'colsample_bylevel': 0.08912103869379454, 'min_data_in_leaf': 85}. Best is trial 184 with value: 2005260290.9176452.\n",
            "[I 2024-06-08 17:09:01,750] Trial 193 finished with value: 2010977819.3704302 and parameters: {'learning_rate': 0.04187169288881796, 'depth': 10, 'subsample': 0.32466883351953907, 'colsample_bylevel': 0.06704124129616304, 'min_data_in_leaf': 87}. Best is trial 184 with value: 2005260290.9176452.\n",
            "[I 2024-06-08 17:09:09,357] Trial 194 finished with value: 2021483267.3055203 and parameters: {'learning_rate': 0.040961373337731304, 'depth': 10, 'subsample': 0.3603312214605681, 'colsample_bylevel': 0.05118470134805829, 'min_data_in_leaf': 90}. Best is trial 184 with value: 2005260290.9176452.\n",
            "[I 2024-06-08 17:09:16,040] Trial 195 finished with value: 2026787234.1501846 and parameters: {'learning_rate': 0.060437573843533945, 'depth': 10, 'subsample': 0.2949821294183, 'colsample_bylevel': 0.0741817846002216, 'min_data_in_leaf': 91}. Best is trial 184 with value: 2005260290.9176452.\n",
            "[I 2024-06-08 17:09:20,642] Trial 196 finished with value: 2020867679.1254804 and parameters: {'learning_rate': 0.03842294142657822, 'depth': 9, 'subsample': 0.3366056345523105, 'colsample_bylevel': 0.10075077032583282, 'min_data_in_leaf': 96}. Best is trial 184 with value: 2005260290.9176452.\n",
            "[I 2024-06-08 17:09:28,400] Trial 197 finished with value: 2014514366.52695 and parameters: {'learning_rate': 0.05552847183523113, 'depth': 10, 'subsample': 0.316161385602614, 'colsample_bylevel': 0.06773269377780115, 'min_data_in_leaf': 85}. Best is trial 184 with value: 2005260290.9176452.\n",
            "[I 2024-06-08 17:09:36,438] Trial 198 finished with value: 2033900124.9710996 and parameters: {'learning_rate': 0.04310371575837434, 'depth': 10, 'subsample': 0.26875982184508806, 'colsample_bylevel': 0.10494407669764907, 'min_data_in_leaf': 87}. Best is trial 184 with value: 2005260290.9176452.\n",
            "[I 2024-06-08 17:09:40,671] Trial 199 finished with value: 2034711058.0289657 and parameters: {'learning_rate': 0.04928612893366184, 'depth': 9, 'subsample': 0.37642472526784937, 'colsample_bylevel': 0.05034829427103138, 'min_data_in_leaf': 93}. Best is trial 184 with value: 2005260290.9176452.\n"
          ]
        }
      ]
    },
    {
      "cell_type": "code",
      "source": [
        "print('Best MSE on Validation', study.best_value)"
      ],
      "metadata": {
        "colab": {
          "base_uri": "https://localhost:8080/"
        },
        "id": "qHb6vHu8xc8f",
        "outputId": "087df088-72e6-4ed9-9f2f-cb3ecf1d6b12"
      },
      "execution_count": null,
      "outputs": [
        {
          "output_type": "stream",
          "name": "stdout",
          "text": [
            "Best MSE on Validation 2005260290.9176452\n"
          ]
        }
      ]
    },
    {
      "cell_type": "code",
      "source": [
        "catboost_reg = CatBoostRegressor(**study.best_params, silent=True)"
      ],
      "metadata": {
        "id": "4G6nDRib10s5"
      },
      "execution_count": null,
      "outputs": []
    },
    {
      "cell_type": "code",
      "source": [
        "catboost_reg = catboost_reg.fit(X_train_encoded, y_train)"
      ],
      "metadata": {
        "id": "0f4a78_g1_xG"
      },
      "execution_count": null,
      "outputs": []
    },
    {
      "cell_type": "code",
      "source": [
        "y_pred = catboost_reg.predict(X_test_encoded)"
      ],
      "metadata": {
        "id": "e8xIs2A42FFc"
      },
      "execution_count": null,
      "outputs": []
    },
    {
      "cell_type": "code",
      "source": [
        "print('MAPE on Test:', mean_absolute_percentage_error(y_pred, y_test))\n",
        "print('RMSE on Test:', mean_squared_error(y_pred, y_test) ** 0.5)"
      ],
      "metadata": {
        "colab": {
          "base_uri": "https://localhost:8080/"
        },
        "id": "ADpzioEs2PDG",
        "outputId": "2a591a11-31f9-457a-b0d7-a0df5762aa2e"
      },
      "execution_count": null,
      "outputs": [
        {
          "output_type": "stream",
          "name": "stdout",
          "text": [
            "MAPE on Test: 0.33071333673237324\n",
            "RMSE on Test: 50184.417090324016\n"
          ]
        }
      ]
    },
    {
      "cell_type": "markdown",
      "source": [
        "Catboost учится значительно медленнее, чем XGBoost (примерно в 6-8 раз дольше), а предиктит с такой же скоростью."
      ],
      "metadata": {
        "id": "WTGPrziM2fvD"
      }
    },
    {
      "cell_type": "markdown",
      "source": [
        "Для применения catboost моделей не обязательно сначала кодировать категориальные признаки, модель может кодировать их сама. Обучите catboost с подбором оптимальных гиперпараметров снова, используя pool для передачи данных в модель с указанием какие признаки категориальные, а какие нет с помощью параметра cat_features. Оцените качество и время. Стало ли лучше?"
      ],
      "metadata": {
        "id": "3e_XN-462ern"
      }
    },
    {
      "cell_type": "code",
      "source": [
        "from catboost import Pool"
      ],
      "metadata": {
        "id": "CbQiWtYZ2_Y-"
      },
      "execution_count": null,
      "outputs": []
    },
    {
      "cell_type": "code",
      "source": [
        "train_data = Pool(data=X_train, label=y_train, cat_features=categorical_features)\n",
        "val_data = Pool(data=X_val, label=y_val, cat_features=categorical_features)\n",
        "test_data = Pool(data=X_test, label=y_test, cat_features=categorical_features)"
      ],
      "metadata": {
        "id": "XvlqJ7lk3Anr"
      },
      "execution_count": null,
      "outputs": []
    },
    {
      "cell_type": "code",
      "source": [
        "def objective(trial):\n",
        "    params = {\n",
        "        \"iterations\": 1000,\n",
        "        \"learning_rate\": trial.suggest_float(\"learning_rate\", 1e-3, 0.1, log=True),\n",
        "        \"depth\": trial.suggest_int(\"depth\", 1, 10),\n",
        "        \"subsample\": trial.suggest_float(\"subsample\", 0.05, 1.0),\n",
        "        \"colsample_bylevel\": trial.suggest_float(\"colsample_bylevel\", 0.05, 1.0),\n",
        "        \"min_data_in_leaf\": trial.suggest_int(\"min_data_in_leaf\", 1, 100),\n",
        "    }\n",
        "    model = CatBoostRegressor(**params, silent=True)\n",
        "    model.fit(train_data)\n",
        "    y_pred = model.predict(val_data)\n",
        "    return mean_squared_error(y_pred, y_val)"
      ],
      "metadata": {
        "id": "Mcv-DlIt2RsP"
      },
      "execution_count": null,
      "outputs": []
    },
    {
      "cell_type": "code",
      "source": [
        "study = optuna.create_study(direction='minimize', study_name='regression')\n",
        "study.optimize(objective, n_trials=200)"
      ],
      "metadata": {
        "colab": {
          "base_uri": "https://localhost:8080/"
        },
        "id": "1VVtGbw83P3e",
        "outputId": "7efd1564-3627-4074-a881-6dc10f22a66a"
      },
      "execution_count": null,
      "outputs": [
        {
          "output_type": "stream",
          "name": "stderr",
          "text": [
            "[I 2024-06-08 17:43:20,143] A new study created in memory with name: regression\n",
            "[I 2024-06-08 17:43:22,086] Trial 0 finished with value: 2706719550.856371 and parameters: {'learning_rate': 0.0015807441421211933, 'depth': 1, 'subsample': 0.8260222457483726, 'colsample_bylevel': 0.2379339068779528, 'min_data_in_leaf': 94}. Best is trial 0 with value: 2706719550.856371.\n",
            "[I 2024-06-08 17:43:29,951] Trial 1 finished with value: 2061931095.733998 and parameters: {'learning_rate': 0.0054403049205478254, 'depth': 6, 'subsample': 0.5081501256197366, 'colsample_bylevel': 0.5876036858877162, 'min_data_in_leaf': 86}. Best is trial 1 with value: 2061931095.733998.\n",
            "[I 2024-06-08 17:43:39,412] Trial 2 finished with value: 2111431979.4955776 and parameters: {'learning_rate': 0.002536284293702799, 'depth': 8, 'subsample': 0.6605164368587562, 'colsample_bylevel': 0.7358487368326524, 'min_data_in_leaf': 13}. Best is trial 1 with value: 2061931095.733998.\n",
            "[I 2024-06-08 17:43:41,704] Trial 3 finished with value: 2240975223.9306083 and parameters: {'learning_rate': 0.0015882463712953829, 'depth': 4, 'subsample': 0.3774655307312691, 'colsample_bylevel': 0.6903360257057848, 'min_data_in_leaf': 45}. Best is trial 1 with value: 2061931095.733998.\n",
            "[I 2024-06-08 17:44:06,327] Trial 4 finished with value: 2154496696.005439 and parameters: {'learning_rate': 0.045136619586477626, 'depth': 10, 'subsample': 0.7144865629728576, 'colsample_bylevel': 0.6735891322518331, 'min_data_in_leaf': 61}. Best is trial 1 with value: 2061931095.733998.\n",
            "[I 2024-06-08 17:44:07,211] Trial 5 finished with value: 2176578077.038835 and parameters: {'learning_rate': 0.005234368601041932, 'depth': 1, 'subsample': 0.6439213173372007, 'colsample_bylevel': 0.9752109562548104, 'min_data_in_leaf': 15}. Best is trial 1 with value: 2061931095.733998.\n",
            "[I 2024-06-08 17:44:07,770] Trial 6 finished with value: 2587635237.8710294 and parameters: {'learning_rate': 0.003925709909218054, 'depth': 1, 'subsample': 0.6182205261633095, 'colsample_bylevel': 0.0864358941492264, 'min_data_in_leaf': 2}. Best is trial 1 with value: 2061931095.733998.\n",
            "[I 2024-06-08 17:44:15,471] Trial 7 finished with value: 2124451417.6524339 and parameters: {'learning_rate': 0.0023159131051442845, 'depth': 8, 'subsample': 0.5124816599227748, 'colsample_bylevel': 0.6793460739881196, 'min_data_in_leaf': 59}. Best is trial 1 with value: 2061931095.733998.\n",
            "[I 2024-06-08 17:44:34,334] Trial 8 finished with value: 2105677713.6990845 and parameters: {'learning_rate': 0.012904779091417847, 'depth': 9, 'subsample': 0.3437568867071559, 'colsample_bylevel': 0.5282535774744332, 'min_data_in_leaf': 30}. Best is trial 1 with value: 2061931095.733998.\n",
            "[I 2024-06-08 17:44:34,970] Trial 9 finished with value: 2072566891.1219883 and parameters: {'learning_rate': 0.016201007172703275, 'depth': 4, 'subsample': 0.26794688479059764, 'colsample_bylevel': 0.06879561124013515, 'min_data_in_leaf': 82}. Best is trial 1 with value: 2061931095.733998.\n",
            "[I 2024-06-08 17:44:37,470] Trial 10 finished with value: 2183615749.1523247 and parameters: {'learning_rate': 0.09785579684027919, 'depth': 6, 'subsample': 0.05988221449614617, 'colsample_bylevel': 0.32537350459497644, 'min_data_in_leaf': 81}. Best is trial 1 with value: 2061931095.733998.\n",
            "[I 2024-06-08 17:44:38,953] Trial 11 finished with value: 2060116797.0605416 and parameters: {'learning_rate': 0.014171493976255464, 'depth': 4, 'subsample': 0.15172551647268318, 'colsample_bylevel': 0.4336292542867806, 'min_data_in_leaf': 81}. Best is trial 11 with value: 2060116797.0605416.\n",
            "[I 2024-06-08 17:44:41,662] Trial 12 finished with value: 2061920768.9186103 and parameters: {'learning_rate': 0.008284296717088295, 'depth': 5, 'subsample': 0.954164898740065, 'colsample_bylevel': 0.43584290376891704, 'min_data_in_leaf': 99}. Best is trial 11 with value: 2060116797.0605416.\n",
            "[I 2024-06-08 17:44:43,880] Trial 13 finished with value: 2068371841.7027695 and parameters: {'learning_rate': 0.024540311382316108, 'depth': 4, 'subsample': 0.976983471064936, 'colsample_bylevel': 0.378735593892625, 'min_data_in_leaf': 98}. Best is trial 11 with value: 2060116797.0605416.\n",
            "[I 2024-06-08 17:44:46,320] Trial 14 finished with value: 2062597343.7831004 and parameters: {'learning_rate': 0.00849602555355055, 'depth': 3, 'subsample': 0.07662631198336262, 'colsample_bylevel': 0.4146557814040211, 'min_data_in_leaf': 70}. Best is trial 11 with value: 2060116797.0605416.\n",
            "[I 2024-06-08 17:44:49,362] Trial 15 finished with value: 2086013641.012838 and parameters: {'learning_rate': 0.026535508628467232, 'depth': 5, 'subsample': 0.9663799674804275, 'colsample_bylevel': 0.4798046761337723, 'min_data_in_leaf': 71}. Best is trial 11 with value: 2060116797.0605416.\n",
            "[I 2024-06-08 17:44:52,198] Trial 16 finished with value: 2072210629.5325637 and parameters: {'learning_rate': 0.009070762904220995, 'depth': 7, 'subsample': 0.2062081293031055, 'colsample_bylevel': 0.2454287152612556, 'min_data_in_leaf': 99}. Best is trial 11 with value: 2060116797.0605416.\n",
            "[I 2024-06-08 17:44:54,127] Trial 17 finished with value: 2071550368.0992503 and parameters: {'learning_rate': 0.04525576612709503, 'depth': 3, 'subsample': 0.820136640670744, 'colsample_bylevel': 0.8466845987339352, 'min_data_in_leaf': 74}. Best is trial 11 with value: 2060116797.0605416.\n",
            "[I 2024-06-08 17:44:55,095] Trial 18 finished with value: 2059479849.4811275 and parameters: {'learning_rate': 0.020171754494336173, 'depth': 3, 'subsample': 0.40757141174611994, 'colsample_bylevel': 0.2113516202353657, 'min_data_in_leaf': 88}. Best is trial 18 with value: 2059479849.4811275.\n",
            "[I 2024-06-08 17:44:55,743] Trial 19 finished with value: 2050593767.3354163 and parameters: {'learning_rate': 0.023848348055636154, 'depth': 2, 'subsample': 0.1718806592485515, 'colsample_bylevel': 0.17496478211401445, 'min_data_in_leaf': 43}. Best is trial 19 with value: 2050593767.3354163.\n",
            "[I 2024-06-08 17:44:57,337] Trial 20 finished with value: 2061320696.0380163 and parameters: {'learning_rate': 0.08409571129571397, 'depth': 2, 'subsample': 0.35868387810014263, 'colsample_bylevel': 0.1789618119211383, 'min_data_in_leaf': 43}. Best is trial 19 with value: 2050593767.3354163.\n",
            "[I 2024-06-08 17:44:59,782] Trial 21 finished with value: 2066576353.2397084 and parameters: {'learning_rate': 0.022027682760154085, 'depth': 3, 'subsample': 0.17430084581538888, 'colsample_bylevel': 0.29999474363173073, 'min_data_in_leaf': 31}. Best is trial 19 with value: 2050593767.3354163.\n",
            "[I 2024-06-08 17:45:01,225] Trial 22 finished with value: 2066358609.6309683 and parameters: {'learning_rate': 0.03622617031211573, 'depth': 2, 'subsample': 0.15875501289777713, 'colsample_bylevel': 0.1554981750527018, 'min_data_in_leaf': 57}. Best is trial 19 with value: 2050593767.3354163.\n",
            "[I 2024-06-08 17:45:02,101] Trial 23 finished with value: 2054132045.025639 and parameters: {'learning_rate': 0.013999144010866953, 'depth': 2, 'subsample': 0.44498454615119587, 'colsample_bylevel': 0.3135799883397975, 'min_data_in_leaf': 36}. Best is trial 19 with value: 2050593767.3354163.\n",
            "[I 2024-06-08 17:45:02,820] Trial 24 finished with value: 2046786642.2282145 and parameters: {'learning_rate': 0.019786685491402396, 'depth': 2, 'subsample': 0.42103654805977664, 'colsample_bylevel': 0.1888054711001659, 'min_data_in_leaf': 35}. Best is trial 24 with value: 2046786642.2282145.\n",
            "[I 2024-06-08 17:45:03,630] Trial 25 finished with value: 2072484999.606165 and parameters: {'learning_rate': 0.06064641270520396, 'depth': 2, 'subsample': 0.47363483524702504, 'colsample_bylevel': 0.314732711198643, 'min_data_in_leaf': 36}. Best is trial 24 with value: 2046786642.2282145.\n",
            "[I 2024-06-08 17:45:04,268] Trial 26 finished with value: 2057209702.6830592 and parameters: {'learning_rate': 0.033702832835566514, 'depth': 2, 'subsample': 0.26817034300824355, 'colsample_bylevel': 0.1311995192697453, 'min_data_in_leaf': 22}. Best is trial 24 with value: 2046786642.2282145.\n",
            "[I 2024-06-08 17:45:04,877] Trial 27 finished with value: 2102642832.7175157 and parameters: {'learning_rate': 0.011632948904408066, 'depth': 1, 'subsample': 0.4398048959932097, 'colsample_bylevel': 0.2712898401597383, 'min_data_in_leaf': 51}. Best is trial 24 with value: 2046786642.2282145.\n",
            "[I 2024-06-08 17:45:05,752] Trial 28 finished with value: 2056768821.1297872 and parameters: {'learning_rate': 0.016792478938279898, 'depth': 2, 'subsample': 0.5636481815983774, 'colsample_bylevel': 0.3615937109946575, 'min_data_in_leaf': 40}. Best is trial 24 with value: 2046786642.2282145.\n",
            "[I 2024-06-08 17:45:06,333] Trial 29 finished with value: 2234676888.783111 and parameters: {'learning_rate': 0.006337406275374907, 'depth': 1, 'subsample': 0.2917766171843864, 'colsample_bylevel': 0.21136070310555413, 'min_data_in_leaf': 26}. Best is trial 24 with value: 2046786642.2282145.\n",
            "[I 2024-06-08 17:45:07,162] Trial 30 finished with value: 2069151447.989615 and parameters: {'learning_rate': 0.027554195767179622, 'depth': 3, 'subsample': 0.7459262357833496, 'colsample_bylevel': 0.10866919624493893, 'min_data_in_leaf': 18}. Best is trial 24 with value: 2046786642.2282145.\n",
            "[I 2024-06-08 17:45:08,041] Trial 31 finished with value: 2047403050.2867112 and parameters: {'learning_rate': 0.01737589752560281, 'depth': 2, 'subsample': 0.5837782569712493, 'colsample_bylevel': 0.3593299926924056, 'min_data_in_leaf': 39}. Best is trial 24 with value: 2046786642.2282145.\n",
            "[I 2024-06-08 17:45:08,842] Trial 32 finished with value: 2060030239.7239797 and parameters: {'learning_rate': 0.010585664021176281, 'depth': 2, 'subsample': 0.5432305383550378, 'colsample_bylevel': 0.25079881410164584, 'min_data_in_leaf': 49}. Best is trial 24 with value: 2046786642.2282145.\n",
            "[I 2024-06-08 17:45:09,540] Trial 33 finished with value: 2071973146.8318756 and parameters: {'learning_rate': 0.018213609790859644, 'depth': 1, 'subsample': 0.6024546101817657, 'colsample_bylevel': 0.515811405898671, 'min_data_in_leaf': 36}. Best is trial 24 with value: 2046786642.2282145.\n",
            "[I 2024-06-08 17:45:10,149] Trial 34 finished with value: 2065869346.4647734 and parameters: {'learning_rate': 0.03397878537907949, 'depth': 3, 'subsample': 0.46077716007605685, 'colsample_bylevel': 0.05172894078808002, 'min_data_in_leaf': 50}. Best is trial 24 with value: 2046786642.2282145.\n",
            "[I 2024-06-08 17:45:15,333] Trial 35 finished with value: 2100352892.175194 and parameters: {'learning_rate': 0.058804066964876535, 'depth': 5, 'subsample': 0.7034946987218921, 'colsample_bylevel': 0.5939067205293417, 'min_data_in_leaf': 36}. Best is trial 24 with value: 2046786642.2282145.\n",
            "[I 2024-06-08 17:45:16,033] Trial 36 finished with value: 2060034757.5467906 and parameters: {'learning_rate': 0.02051871163140931, 'depth': 2, 'subsample': 0.31316963840379514, 'colsample_bylevel': 0.17354141757928704, 'min_data_in_leaf': 7}. Best is trial 24 with value: 2046786642.2282145.\n",
            "[I 2024-06-08 17:45:16,650] Trial 37 finished with value: 2813278332.3979897 and parameters: {'learning_rate': 0.0011248612303773069, 'depth': 1, 'subsample': 0.40794469805833566, 'colsample_bylevel': 0.3538815775775697, 'min_data_in_leaf': 27}. Best is trial 24 with value: 2046786642.2282145.\n",
            "[I 2024-06-08 17:45:18,119] Trial 38 finished with value: 2062001920.8650348 and parameters: {'learning_rate': 0.005616008946165656, 'depth': 4, 'subsample': 0.49928944144102183, 'colsample_bylevel': 0.29738924175082626, 'min_data_in_leaf': 45}. Best is trial 24 with value: 2046786642.2282145.\n",
            "[I 2024-06-08 17:45:18,709] Trial 39 finished with value: 2117138213.7939825 and parameters: {'learning_rate': 0.013206801233246409, 'depth': 1, 'subsample': 0.2350033401694112, 'colsample_bylevel': 0.2025277823280477, 'min_data_in_leaf': 64}. Best is trial 24 with value: 2046786642.2282145.\n",
            "[I 2024-06-08 17:45:23,968] Trial 40 finished with value: 2070576125.2360458 and parameters: {'learning_rate': 0.0042565152698688285, 'depth': 7, 'subsample': 0.5569114462503745, 'colsample_bylevel': 0.5804542718399577, 'min_data_in_leaf': 40}. Best is trial 24 with value: 2046786642.2282145.\n",
            "[I 2024-06-08 17:45:24,909] Trial 41 finished with value: 2060157480.425879 and parameters: {'learning_rate': 0.016062023780134403, 'depth': 2, 'subsample': 0.5738697303313334, 'colsample_bylevel': 0.38770892212328256, 'min_data_in_leaf': 42}. Best is trial 24 with value: 2046786642.2282145.\n",
            "[I 2024-06-08 17:45:26,567] Trial 42 finished with value: 2057821807.492918 and parameters: {'learning_rate': 0.016762814608039953, 'depth': 2, 'subsample': 0.6728197391564745, 'colsample_bylevel': 0.3309806566038562, 'min_data_in_leaf': 34}. Best is trial 24 with value: 2046786642.2282145.\n",
            "[I 2024-06-08 17:45:28,625] Trial 43 finished with value: 2054853026.057274 and parameters: {'learning_rate': 0.006999451839524057, 'depth': 3, 'subsample': 0.6046766973721213, 'colsample_bylevel': 0.27270447227082384, 'min_data_in_leaf': 54}. Best is trial 24 with value: 2046786642.2282145.\n",
            "[I 2024-06-08 17:45:29,734] Trial 44 finished with value: 2090811944.772473 and parameters: {'learning_rate': 0.0038579186261752402, 'depth': 3, 'subsample': 0.6314762480862861, 'colsample_bylevel': 0.2591857660108679, 'min_data_in_leaf': 49}. Best is trial 24 with value: 2046786642.2282145.\n",
            "[I 2024-06-08 17:45:30,353] Trial 45 finished with value: 2261981480.4101887 and parameters: {'learning_rate': 0.007695687559381401, 'depth': 1, 'subsample': 0.8098411523521534, 'colsample_bylevel': 0.1310996811850173, 'min_data_in_leaf': 53}. Best is trial 24 with value: 2046786642.2282145.\n",
            "[I 2024-06-08 17:45:31,643] Trial 46 finished with value: 2059230685.2425625 and parameters: {'learning_rate': 0.007074366130388895, 'depth': 3, 'subsample': 0.5196642267129519, 'colsample_bylevel': 0.4689845349541756, 'min_data_in_leaf': 56}. Best is trial 24 with value: 2046786642.2282145.\n",
            "[I 2024-06-08 17:45:34,492] Trial 47 finished with value: 2059013982.2958984 and parameters: {'learning_rate': 0.009844162851289499, 'depth': 4, 'subsample': 0.7648660419685398, 'colsample_bylevel': 0.9979673512045202, 'min_data_in_leaf': 64}. Best is trial 24 with value: 2046786642.2282145.\n",
            "[I 2024-06-08 17:45:36,464] Trial 48 finished with value: 2076060983.3899293 and parameters: {'learning_rate': 0.013184455330895468, 'depth': 10, 'subsample': 0.39591101629301634, 'colsample_bylevel': 0.09091514063615641, 'min_data_in_leaf': 27}. Best is trial 24 with value: 2046786642.2282145.\n",
            "[I 2024-06-08 17:45:37,962] Trial 49 finished with value: 2133820129.529776 and parameters: {'learning_rate': 0.002603668312017247, 'depth': 4, 'subsample': 0.6733438699903085, 'colsample_bylevel': 0.2799169596638057, 'min_data_in_leaf': 20}. Best is trial 24 with value: 2046786642.2282145.\n",
            "[I 2024-06-08 17:45:38,909] Trial 50 finished with value: 2077225146.0779061 and parameters: {'learning_rate': 0.044268102701894255, 'depth': 1, 'subsample': 0.597467723931912, 'colsample_bylevel': 0.2229793245571625, 'min_data_in_leaf': 46}. Best is trial 24 with value: 2046786642.2282145.\n",
            "[I 2024-06-08 17:45:40,701] Trial 51 finished with value: 2063705409.1149576 and parameters: {'learning_rate': 0.028835153479973386, 'depth': 2, 'subsample': 0.48815473592437014, 'colsample_bylevel': 0.3702371169927027, 'min_data_in_leaf': 40}. Best is trial 24 with value: 2046786642.2282145.\n",
            "[I 2024-06-08 17:45:41,762] Trial 52 finished with value: 2057647934.9942255 and parameters: {'learning_rate': 0.015571664359537482, 'depth': 2, 'subsample': 0.10457634190257908, 'colsample_bylevel': 0.43078337337661593, 'min_data_in_leaf': 33}. Best is trial 24 with value: 2046786642.2282145.\n",
            "[I 2024-06-08 17:45:42,910] Trial 53 finished with value: 2057558155.5925844 and parameters: {'learning_rate': 0.022333183850776324, 'depth': 3, 'subsample': 0.4343879143775852, 'colsample_bylevel': 0.3469927280177929, 'min_data_in_leaf': 38}. Best is trial 24 with value: 2046786642.2282145.\n",
            "[I 2024-06-08 17:45:43,800] Trial 54 finished with value: 2057053783.1025379 and parameters: {'learning_rate': 0.011172725710976904, 'depth': 2, 'subsample': 0.5691808768297929, 'colsample_bylevel': 0.4021443624469224, 'min_data_in_leaf': 45}. Best is trial 24 with value: 2046786642.2282145.\n",
            "[I 2024-06-08 17:45:45,637] Trial 55 finished with value: 2067882377.5192266 and parameters: {'learning_rate': 0.018590561065977933, 'depth': 3, 'subsample': 0.8820221723609519, 'colsample_bylevel': 0.7583620894017419, 'min_data_in_leaf': 30}. Best is trial 24 with value: 2046786642.2282145.\n",
            "[I 2024-06-08 17:45:46,333] Trial 56 finished with value: 2055305337.813544 and parameters: {'learning_rate': 0.024858988228503465, 'depth': 2, 'subsample': 0.3409364697388401, 'colsample_bylevel': 0.1873033473448262, 'min_data_in_leaf': 54}. Best is trial 24 with value: 2046786642.2282145.\n",
            "[I 2024-06-08 17:45:46,925] Trial 57 finished with value: 2092173313.513543 and parameters: {'learning_rate': 0.024005012993310815, 'depth': 1, 'subsample': 0.3422070253730305, 'colsample_bylevel': 0.16010083746300946, 'min_data_in_leaf': 57}. Best is trial 24 with value: 2046786642.2282145.\n",
            "[I 2024-06-08 17:45:52,175] Trial 58 finished with value: 2120870386.1752276 and parameters: {'learning_rate': 0.03980967463020532, 'depth': 9, 'subsample': 0.11441028549039478, 'colsample_bylevel': 0.18811303134652657, 'min_data_in_leaf': 60}. Best is trial 24 with value: 2046786642.2282145.\n",
            "[I 2024-06-08 17:45:54,542] Trial 59 finished with value: 2053552617.9038074 and parameters: {'learning_rate': 0.025464425931386446, 'depth': 3, 'subsample': 0.3495779467499044, 'colsample_bylevel': 0.23860355888882703, 'min_data_in_leaf': 55}. Best is trial 24 with value: 2046786642.2282145.\n",
            "[I 2024-06-08 17:45:56,755] Trial 60 finished with value: 2092207925.5944047 and parameters: {'learning_rate': 0.02942539194243017, 'depth': 6, 'subsample': 0.23521150178031222, 'colsample_bylevel': 0.2460647079431407, 'min_data_in_leaf': 47}. Best is trial 24 with value: 2046786642.2282145.\n",
            "[I 2024-06-08 17:45:57,558] Trial 61 finished with value: 2048923863.1867783 and parameters: {'learning_rate': 0.02574686499450284, 'depth': 3, 'subsample': 0.35861081037995735, 'colsample_bylevel': 0.13102201156014032, 'min_data_in_leaf': 66}. Best is trial 24 with value: 2046786642.2282145.\n",
            "[I 2024-06-08 17:45:58,554] Trial 62 finished with value: 2087736411.543839 and parameters: {'learning_rate': 0.056039186755867595, 'depth': 4, 'subsample': 0.37690819734065134, 'colsample_bylevel': 0.1389713103659594, 'min_data_in_leaf': 67}. Best is trial 24 with value: 2046786642.2282145.\n",
            "[I 2024-06-08 17:45:59,313] Trial 63 finished with value: 2064691964.996485 and parameters: {'learning_rate': 0.020244595658835008, 'depth': 3, 'subsample': 0.4539855070238508, 'colsample_bylevel': 0.1034996194774884, 'min_data_in_leaf': 72}. Best is trial 24 with value: 2046786642.2282145.\n",
            "[I 2024-06-08 17:46:00,672] Trial 64 finished with value: 2066775441.7940922 and parameters: {'learning_rate': 0.014297139249032441, 'depth': 4, 'subsample': 0.5296807679550292, 'colsample_bylevel': 0.22872637176252378, 'min_data_in_leaf': 64}. Best is trial 24 with value: 2046786642.2282145.\n",
            "[I 2024-06-08 17:46:01,721] Trial 65 finished with value: 2058673468.5143151 and parameters: {'learning_rate': 0.009334016937209458, 'depth': 3, 'subsample': 0.41643454679549197, 'colsample_bylevel': 0.29169625525431453, 'min_data_in_leaf': 77}. Best is trial 24 with value: 2046786642.2282145.\n",
            "[I 2024-06-08 17:46:03,634] Trial 66 finished with value: 2086187893.0560768 and parameters: {'learning_rate': 0.031216329769911275, 'depth': 5, 'subsample': 0.3020862974239088, 'colsample_bylevel': 0.3148087605076323, 'min_data_in_leaf': 24}. Best is trial 24 with value: 2046786642.2282145.\n",
            "[I 2024-06-08 17:46:04,262] Trial 67 finished with value: 2088217469.5128734 and parameters: {'learning_rate': 0.011356708661288949, 'depth': 2, 'subsample': 0.1939775430017555, 'colsample_bylevel': 0.1267361501305067, 'min_data_in_leaf': 52}. Best is trial 24 with value: 2046786642.2282145.\n",
            "[I 2024-06-08 17:46:05,651] Trial 68 finished with value: 2062513206.556393 and parameters: {'learning_rate': 0.038039034572514945, 'depth': 3, 'subsample': 0.36441419344927095, 'colsample_bylevel': 0.15583737729205338, 'min_data_in_leaf': 61}. Best is trial 24 with value: 2046786642.2282145.\n",
            "[I 2024-06-08 17:46:06,672] Trial 69 finished with value: 2066926764.6881974 and parameters: {'learning_rate': 0.026523061431197377, 'depth': 2, 'subsample': 0.26351356760408406, 'colsample_bylevel': 0.07283598380971597, 'min_data_in_leaf': 68}. Best is trial 24 with value: 2046786642.2282145.\n",
            "[I 2024-06-08 17:46:08,340] Trial 70 finished with value: 2067434556.7115552 and parameters: {'learning_rate': 0.05111273915198353, 'depth': 3, 'subsample': 0.32068599901567485, 'colsample_bylevel': 0.26619418399907424, 'min_data_in_leaf': 42}. Best is trial 24 with value: 2046786642.2282145.\n",
            "[I 2024-06-08 17:46:09,048] Trial 71 finished with value: 2059951132.0785813 and parameters: {'learning_rate': 0.024577112189240708, 'depth': 2, 'subsample': 0.34617206628392955, 'colsample_bylevel': 0.19258858245975785, 'min_data_in_leaf': 55}. Best is trial 24 with value: 2046786642.2282145.\n",
            "[I 2024-06-08 17:46:09,801] Trial 72 finished with value: 2060580803.6326602 and parameters: {'learning_rate': 0.019593999509921193, 'depth': 2, 'subsample': 0.3896224936133381, 'colsample_bylevel': 0.22732975152764495, 'min_data_in_leaf': 48}. Best is trial 24 with value: 2046786642.2282145.\n",
            "[I 2024-06-08 17:46:10,374] Trial 73 finished with value: 2086126185.8393235 and parameters: {'learning_rate': 0.023166459359823144, 'depth': 1, 'subsample': 0.47589228997099015, 'colsample_bylevel': 0.17723706067955364, 'min_data_in_leaf': 54}. Best is trial 24 with value: 2046786642.2282145.\n",
            "[I 2024-06-08 17:46:11,090] Trial 74 finished with value: 2072401207.9466965 and parameters: {'learning_rate': 0.014293946242241002, 'depth': 2, 'subsample': 0.2804824729902538, 'colsample_bylevel': 0.2063204538915671, 'min_data_in_leaf': 30}. Best is trial 24 with value: 2046786642.2282145.\n",
            "[I 2024-06-08 17:46:12,126] Trial 75 finished with value: 2071290498.5250897 and parameters: {'learning_rate': 0.03169657894169577, 'depth': 3, 'subsample': 0.4238615474139286, 'colsample_bylevel': 0.24584021181095167, 'min_data_in_leaf': 59}. Best is trial 24 with value: 2046786642.2282145.\n",
            "[I 2024-06-08 17:46:12,893] Trial 76 finished with value: 2057551379.6638873 and parameters: {'learning_rate': 0.017771608708081157, 'depth': 2, 'subsample': 0.33037472868731493, 'colsample_bylevel': 0.2826667222680132, 'min_data_in_leaf': 33}. Best is trial 24 with value: 2046786642.2282145.\n",
            "[I 2024-06-08 17:46:13,471] Trial 77 finished with value: 2068665035.4410462 and parameters: {'learning_rate': 0.0261544893243201, 'depth': 1, 'subsample': 0.23608860092716988, 'colsample_bylevel': 0.31629776578225277, 'min_data_in_leaf': 38}. Best is trial 24 with value: 2046786642.2282145.\n",
            "[I 2024-06-08 17:46:14,280] Trial 78 finished with value: 2070136614.7159326 and parameters: {'learning_rate': 0.012347174791915461, 'depth': 3, 'subsample': 0.6517994665980049, 'colsample_bylevel': 0.11170989543895858, 'min_data_in_leaf': 52}. Best is trial 24 with value: 2046786642.2282145.\n",
            "[I 2024-06-08 17:46:16,942] Trial 79 finished with value: 2067629541.6529686 and parameters: {'learning_rate': 0.02212662130879225, 'depth': 4, 'subsample': 0.5009940752504856, 'colsample_bylevel': 0.9387227111917471, 'min_data_in_leaf': 44}. Best is trial 24 with value: 2046786642.2282145.\n",
            "[I 2024-06-08 17:46:17,541] Trial 80 finished with value: 2158189476.064415 and parameters: {'learning_rate': 0.015507472807479853, 'depth': 2, 'subsample': 0.596552229816333, 'colsample_bylevel': 0.06063154490129542, 'min_data_in_leaf': 77}. Best is trial 24 with value: 2046786642.2282145.\n",
            "[I 2024-06-08 17:46:19,054] Trial 81 finished with value: 2060151409.7379055 and parameters: {'learning_rate': 0.01840883357357307, 'depth': 2, 'subsample': 0.5321944385601886, 'colsample_bylevel': 0.3455671741060558, 'min_data_in_leaf': 40}. Best is trial 24 with value: 2046786642.2282145.\n",
            "[I 2024-06-08 17:46:20,386] Trial 82 finished with value: 2074041231.8408349 and parameters: {'learning_rate': 0.02106960607204583, 'depth': 1, 'subsample': 0.6260632650487863, 'colsample_bylevel': 0.3685504697203032, 'min_data_in_leaf': 36}. Best is trial 24 with value: 2046786642.2282145.\n",
            "[I 2024-06-08 17:46:21,538] Trial 83 finished with value: 2061102286.7579892 and parameters: {'learning_rate': 0.016891319504984428, 'depth': 2, 'subsample': 0.45519345257017596, 'colsample_bylevel': 0.46628845619260406, 'min_data_in_leaf': 42}. Best is trial 24 with value: 2046786642.2282145.\n",
            "[I 2024-06-08 17:46:22,476] Trial 84 finished with value: 2076312383.1816444 and parameters: {'learning_rate': 0.006520878324308707, 'depth': 3, 'subsample': 0.704142570651982, 'colsample_bylevel': 0.1610831237631504, 'min_data_in_leaf': 90}. Best is trial 24 with value: 2046786642.2282145.\n",
            "[I 2024-06-08 17:46:23,116] Trial 85 finished with value: 2076990691.8489213 and parameters: {'learning_rate': 0.034846736831131465, 'depth': 1, 'subsample': 0.5600029628255414, 'colsample_bylevel': 0.2699922517046774, 'min_data_in_leaf': 50}. Best is trial 24 with value: 2046786642.2282145.\n",
            "[I 2024-06-08 17:46:24,008] Trial 86 finished with value: 2090337843.0093484 and parameters: {'learning_rate': 0.00469997099376391, 'depth': 2, 'subsample': 0.5887071207789255, 'colsample_bylevel': 0.3975321394329929, 'min_data_in_leaf': 39}. Best is trial 24 with value: 2046786642.2282145.\n",
            "[I 2024-06-08 17:46:24,955] Trial 87 finished with value: 2055707817.4625156 and parameters: {'learning_rate': 0.014576688335983457, 'depth': 3, 'subsample': 0.39369482006878814, 'colsample_bylevel': 0.21049732035942725, 'min_data_in_leaf': 34}. Best is trial 24 with value: 2046786642.2282145.\n",
            "[I 2024-06-08 17:46:25,859] Trial 88 finished with value: 2063446155.0284219 and parameters: {'learning_rate': 0.007838462403426217, 'depth': 3, 'subsample': 0.37788584190941954, 'colsample_bylevel': 0.20404954131919095, 'min_data_in_leaf': 32}. Best is trial 24 with value: 2046786642.2282145.\n",
            "[I 2024-06-08 17:46:26,858] Trial 89 finished with value: 2060780865.0697076 and parameters: {'learning_rate': 0.008725794252649303, 'depth': 4, 'subsample': 0.403074459168558, 'colsample_bylevel': 0.14115963758618622, 'min_data_in_leaf': 62}. Best is trial 24 with value: 2046786642.2282145.\n",
            "[I 2024-06-08 17:46:27,760] Trial 90 finished with value: 2067398766.3659587 and parameters: {'learning_rate': 0.010201170496795399, 'depth': 3, 'subsample': 0.4377869528574156, 'colsample_bylevel': 0.17664058129555396, 'min_data_in_leaf': 13}. Best is trial 24 with value: 2046786642.2282145.\n",
            "[I 2024-06-08 17:46:28,536] Trial 91 finished with value: 2053001350.6553423 and parameters: {'learning_rate': 0.014090364634769285, 'depth': 2, 'subsample': 0.35215392363492715, 'colsample_bylevel': 0.329633921531894, 'min_data_in_leaf': 35}. Best is trial 24 with value: 2046786642.2282145.\n",
            "[I 2024-06-08 17:46:29,275] Trial 92 finished with value: 2062603966.4367604 and parameters: {'learning_rate': 0.012540441658008302, 'depth': 2, 'subsample': 0.35651003401716963, 'colsample_bylevel': 0.23719979041561653, 'min_data_in_leaf': 28}. Best is trial 24 with value: 2046786642.2282145.\n",
            "[I 2024-06-08 17:46:30,035] Trial 93 finished with value: 2054780259.3434205 and parameters: {'learning_rate': 0.015107256623524148, 'depth': 2, 'subsample': 0.3145876100636883, 'colsample_bylevel': 0.3100713816700368, 'min_data_in_leaf': 34}. Best is trial 24 with value: 2046786642.2282145.\n",
            "[I 2024-06-08 17:46:30,812] Trial 94 finished with value: 2057704372.4943216 and parameters: {'learning_rate': 0.02577449179952183, 'depth': 2, 'subsample': 0.30635888450808274, 'colsample_bylevel': 0.3293186420703403, 'min_data_in_leaf': 24}. Best is trial 24 with value: 2046786642.2282145.\n",
            "[I 2024-06-08 17:46:36,237] Trial 95 finished with value: 2130973399.2835755 and parameters: {'learning_rate': 0.028724756049296054, 'depth': 7, 'subsample': 0.25108163272865647, 'colsample_bylevel': 0.300107079229501, 'min_data_in_leaf': 36}. Best is trial 24 with value: 2046786642.2282145.\n",
            "[I 2024-06-08 17:46:37,013] Trial 96 finished with value: 2061267715.5547442 and parameters: {'learning_rate': 0.019858704184248312, 'depth': 2, 'subsample': 0.29122357876432126, 'colsample_bylevel': 0.2919737745507761, 'min_data_in_leaf': 47}. Best is trial 24 with value: 2046786642.2282145.\n",
            "[I 2024-06-08 17:46:37,630] Trial 97 finished with value: 2076168300.1937327 and parameters: {'learning_rate': 0.016396638200816903, 'depth': 1, 'subsample': 0.32556619043498713, 'colsample_bylevel': 0.3406979803578164, 'min_data_in_leaf': 43}. Best is trial 24 with value: 2046786642.2282145.\n",
            "[I 2024-06-08 17:46:38,200] Trial 98 finished with value: 2096195675.891314 and parameters: {'learning_rate': 0.013943111876063662, 'depth': 1, 'subsample': 0.14144874967825155, 'colsample_bylevel': 0.259977190734222, 'min_data_in_leaf': 58}. Best is trial 24 with value: 2046786642.2282145.\n",
            "[I 2024-06-08 17:46:39,042] Trial 99 finished with value: 2066879178.6287982 and parameters: {'learning_rate': 0.023175409860670366, 'depth': 2, 'subsample': 0.3709237537834361, 'colsample_bylevel': 0.4228870702631996, 'min_data_in_leaf': 38}. Best is trial 24 with value: 2046786642.2282145.\n",
            "[I 2024-06-08 17:46:39,680] Trial 100 finished with value: 2122779470.4707968 and parameters: {'learning_rate': 0.011307321465487224, 'depth': 2, 'subsample': 0.4875299803665035, 'colsample_bylevel': 0.08928707685580303, 'min_data_in_leaf': 29}. Best is trial 24 with value: 2046786642.2282145.\n",
            "[I 2024-06-08 17:46:40,640] Trial 101 finished with value: 2062441092.4175045 and parameters: {'learning_rate': 0.014808161291311897, 'depth': 3, 'subsample': 0.39165836662712133, 'colsample_bylevel': 0.21185141072343092, 'min_data_in_leaf': 35}. Best is trial 24 with value: 2046786642.2282145.\n",
            "[I 2024-06-08 17:46:41,633] Trial 102 finished with value: 2054227421.4829843 and parameters: {'learning_rate': 0.012860270910827403, 'depth': 3, 'subsample': 0.42039940681558235, 'colsample_bylevel': 0.22860489544750695, 'min_data_in_leaf': 32}. Best is trial 24 with value: 2046786642.2282145.\n",
            "[I 2024-06-08 17:46:42,599] Trial 103 finished with value: 2055977890.4086578 and parameters: {'learning_rate': 0.012994037210937184, 'depth': 3, 'subsample': 0.34055159031998383, 'colsample_bylevel': 0.24460305610748567, 'min_data_in_leaf': 32}. Best is trial 24 with value: 2046786642.2282145.\n",
            "[I 2024-06-08 17:46:43,990] Trial 104 finished with value: 2060273927.9433725 and parameters: {'learning_rate': 0.01784090633108216, 'depth': 4, 'subsample': 0.2064970620778349, 'colsample_bylevel': 0.3094698695834712, 'min_data_in_leaf': 45}. Best is trial 24 with value: 2046786642.2282145.\n",
            "[I 2024-06-08 17:46:45,253] Trial 105 finished with value: 2054365354.520824 and parameters: {'learning_rate': 0.021062892953184423, 'depth': 2, 'subsample': 0.42748721671633605, 'colsample_bylevel': 0.22618850639745033, 'min_data_in_leaf': 25}. Best is trial 24 with value: 2046786642.2282145.\n",
            "[I 2024-06-08 17:46:46,896] Trial 106 finished with value: 2062240856.7094462 and parameters: {'learning_rate': 0.010193840090030236, 'depth': 2, 'subsample': 0.44820883685568297, 'colsample_bylevel': 0.2824416608594253, 'min_data_in_leaf': 25}. Best is trial 24 with value: 2046786642.2282145.\n",
            "[I 2024-06-08 17:46:48,406] Trial 107 finished with value: 2067912964.0087612 and parameters: {'learning_rate': 0.02112811106345877, 'depth': 3, 'subsample': 0.4734595110424979, 'colsample_bylevel': 0.37551497742891893, 'min_data_in_leaf': 21}. Best is trial 24 with value: 2046786642.2282145.\n",
            "[I 2024-06-08 17:46:49,168] Trial 108 finished with value: 2060855319.2532675 and parameters: {'learning_rate': 0.018564143831801456, 'depth': 2, 'subsample': 0.4288328057585942, 'colsample_bylevel': 0.22141903010197173, 'min_data_in_leaf': 31}. Best is trial 24 with value: 2046786642.2282145.\n",
            "[I 2024-06-08 17:46:50,493] Trial 109 finished with value: 2063867614.1195903 and parameters: {'learning_rate': 0.0053658155996286466, 'depth': 3, 'subsample': 0.410489821725812, 'colsample_bylevel': 0.6405722017174647, 'min_data_in_leaf': 16}. Best is trial 24 with value: 2046786642.2282145.\n",
            "[I 2024-06-08 17:46:51,180] Trial 110 finished with value: 2078475370.441186 and parameters: {'learning_rate': 0.012114733251828304, 'depth': 2, 'subsample': 0.5450762600106976, 'colsample_bylevel': 0.11671019419343093, 'min_data_in_leaf': 27}. Best is trial 24 with value: 2046786642.2282145.\n",
            "[I 2024-06-08 17:46:51,867] Trial 111 finished with value: 2059334477.178914 and parameters: {'learning_rate': 0.03141162056730364, 'depth': 2, 'subsample': 0.3596969959490619, 'colsample_bylevel': 0.18936337284991672, 'min_data_in_leaf': 37}. Best is trial 24 with value: 2046786642.2282145.\n",
            "[I 2024-06-08 17:46:52,542] Trial 112 finished with value: 2053424003.845354 and parameters: {'learning_rate': 0.025232913073246706, 'depth': 2, 'subsample': 0.3787592232427873, 'colsample_bylevel': 0.15410625155015611, 'min_data_in_leaf': 41}. Best is trial 24 with value: 2046786642.2282145.\n",
            "[I 2024-06-08 17:46:53,239] Trial 113 finished with value: 2066253949.5328825 and parameters: {'learning_rate': 0.016507155627187034, 'depth': 2, 'subsample': 0.37780779118618857, 'colsample_bylevel': 0.1587259448694563, 'min_data_in_leaf': 41}. Best is trial 24 with value: 2046786642.2282145.\n",
            "[I 2024-06-08 17:46:53,840] Trial 114 finished with value: 2073844593.8229096 and parameters: {'learning_rate': 0.021679745695291623, 'depth': 1, 'subsample': 0.4201163107026335, 'colsample_bylevel': 0.25715548091854096, 'min_data_in_leaf': 33}. Best is trial 24 with value: 2046786642.2282145.\n",
            "[I 2024-06-08 17:46:54,685] Trial 115 finished with value: 2060259131.4417942 and parameters: {'learning_rate': 0.019646831157342958, 'depth': 3, 'subsample': 0.5107922275645493, 'colsample_bylevel': 0.1388468699327229, 'min_data_in_leaf': 39}. Best is trial 24 with value: 2046786642.2282145.\n",
            "[I 2024-06-08 17:46:55,451] Trial 116 finished with value: 2049214835.4639444 and parameters: {'learning_rate': 0.023433724512094425, 'depth': 2, 'subsample': 0.4738879189382287, 'colsample_bylevel': 0.22889092055242594, 'min_data_in_leaf': 23}. Best is trial 24 with value: 2046786642.2282145.\n",
            "[I 2024-06-08 17:46:56,074] Trial 117 finished with value: 2071544471.7805142 and parameters: {'learning_rate': 0.026884738267471772, 'depth': 1, 'subsample': 0.46851954917894195, 'colsample_bylevel': 0.23427607280924878, 'min_data_in_leaf': 8}. Best is trial 24 with value: 2046786642.2282145.\n",
            "[I 2024-06-08 17:46:56,782] Trial 118 finished with value: 2064738449.9388978 and parameters: {'learning_rate': 0.04198678484522745, 'depth': 2, 'subsample': 0.4458302937136664, 'colsample_bylevel': 0.16618085898520826, 'min_data_in_leaf': 22}. Best is trial 24 with value: 2046786642.2282145.\n",
            "[I 2024-06-08 17:46:57,487] Trial 119 finished with value: 2056154487.347528 and parameters: {'learning_rate': 0.024012342581490154, 'depth': 2, 'subsample': 0.3170646210631737, 'colsample_bylevel': 0.18236243677050007, 'min_data_in_leaf': 30}. Best is trial 24 with value: 2046786642.2282145.\n",
            "[I 2024-06-08 17:46:59,323] Trial 120 finished with value: 2057555969.7812498 and parameters: {'learning_rate': 0.030643472506463713, 'depth': 2, 'subsample': 0.2831201009948883, 'colsample_bylevel': 0.5383934352935957, 'min_data_in_leaf': 19}. Best is trial 24 with value: 2046786642.2282145.\n",
            "[I 2024-06-08 17:47:01,068] Trial 121 finished with value: 2062479072.2611475 and parameters: {'learning_rate': 0.015879712822077886, 'depth': 3, 'subsample': 0.4904412251803924, 'colsample_bylevel': 0.27508888820208494, 'min_data_in_leaf': 35}. Best is trial 24 with value: 2046786642.2282145.\n",
            "[I 2024-06-08 17:47:01,791] Trial 122 finished with value: 2054022683.8506331 and parameters: {'learning_rate': 0.013609247607135078, 'depth': 2, 'subsample': 0.06598278077372458, 'colsample_bylevel': 0.3223331510493141, 'min_data_in_leaf': 17}. Best is trial 24 with value: 2046786642.2282145.\n",
            "[I 2024-06-08 17:47:02,524] Trial 123 finished with value: 2057599588.9234433 and parameters: {'learning_rate': 0.017597157916516896, 'depth': 2, 'subsample': 0.0790368570579435, 'colsample_bylevel': 0.33443296361860025, 'min_data_in_leaf': 17}. Best is trial 24 with value: 2046786642.2282145.\n",
            "[I 2024-06-08 17:47:03,270] Trial 124 finished with value: 2053261507.3568442 and parameters: {'learning_rate': 0.013171152337989595, 'depth': 2, 'subsample': 0.05490232364642095, 'colsample_bylevel': 0.3618204192986018, 'min_data_in_leaf': 13}. Best is trial 24 with value: 2046786642.2282145.\n",
            "[I 2024-06-08 17:47:03,836] Trial 125 finished with value: 2090484815.0274417 and parameters: {'learning_rate': 0.013592745893216697, 'depth': 1, 'subsample': 0.06720042704446823, 'colsample_bylevel': 0.3564463444691243, 'min_data_in_leaf': 14}. Best is trial 24 with value: 2046786642.2282145.\n",
            "[I 2024-06-08 17:47:04,533] Trial 126 finished with value: 2073617005.820752 and parameters: {'learning_rate': 0.03593947815809439, 'depth': 2, 'subsample': 0.41693951622232484, 'colsample_bylevel': 0.14438330916934444, 'min_data_in_leaf': 1}. Best is trial 24 with value: 2046786642.2282145.\n",
            "[I 2024-06-08 17:47:10,448] Trial 127 finished with value: 2129540919.6661224 and parameters: {'learning_rate': 0.02838523103169712, 'depth': 8, 'subsample': 0.09148225663651124, 'colsample_bylevel': 0.4035425481302568, 'min_data_in_leaf': 11}. Best is trial 24 with value: 2046786642.2282145.\n",
            "[I 2024-06-08 17:47:11,330] Trial 128 finished with value: 2081883957.090697 and parameters: {'learning_rate': 0.022067421739663456, 'depth': 1, 'subsample': 0.05993998662769788, 'colsample_bylevel': 0.442682418981135, 'min_data_in_leaf': 8}. Best is trial 24 with value: 2046786642.2282145.\n",
            "[I 2024-06-08 17:47:12,828] Trial 129 finished with value: 2058693178.3974063 and parameters: {'learning_rate': 0.019104640211217914, 'depth': 2, 'subsample': 0.16592857866871003, 'colsample_bylevel': 0.38186100109160237, 'min_data_in_leaf': 11}. Best is trial 24 with value: 2046786642.2282145.\n",
            "[I 2024-06-08 17:47:14,056] Trial 130 finished with value: 2064125961.7124505 and parameters: {'learning_rate': 0.011233534300482018, 'depth': 2, 'subsample': 0.14520668431041653, 'colsample_bylevel': 0.2015085857412556, 'min_data_in_leaf': 4}. Best is trial 24 with value: 2046786642.2282145.\n",
            "[I 2024-06-08 17:47:14,788] Trial 131 finished with value: 2054713740.313735 and parameters: {'learning_rate': 0.014984133750479594, 'depth': 2, 'subsample': 0.11318399338590587, 'colsample_bylevel': 0.3261114644654874, 'min_data_in_leaf': 22}. Best is trial 24 with value: 2046786642.2282145.\n",
            "[I 2024-06-08 17:47:15,532] Trial 132 finished with value: 2061833628.3314192 and parameters: {'learning_rate': 0.012402997851154417, 'depth': 2, 'subsample': 0.11069427762308723, 'colsample_bylevel': 0.319405165875005, 'min_data_in_leaf': 22}. Best is trial 24 with value: 2046786642.2282145.\n",
            "[I 2024-06-08 17:47:18,106] Trial 133 finished with value: 2070574100.740245 and parameters: {'learning_rate': 0.025338482419435752, 'depth': 6, 'subsample': 0.051209531214542366, 'colsample_bylevel': 0.3565333033469991, 'min_data_in_leaf': 19}. Best is trial 24 with value: 2046786642.2282145.\n",
            "[I 2024-06-08 17:47:18,813] Trial 134 finished with value: 2056161545.6661477 and parameters: {'learning_rate': 0.015310534137166265, 'depth': 2, 'subsample': 0.11775033370786148, 'colsample_bylevel': 0.2281859035306127, 'min_data_in_leaf': 24}. Best is trial 24 with value: 2046786642.2282145.\n",
            "[I 2024-06-08 17:47:19,499] Trial 135 finished with value: 2061561291.015179 and parameters: {'learning_rate': 0.01721831727077572, 'depth': 2, 'subsample': 0.13359725587782267, 'colsample_bylevel': 0.26347375402685574, 'min_data_in_leaf': 26}. Best is trial 24 with value: 2046786642.2282145.\n",
            "[I 2024-06-08 17:47:21,190] Trial 136 finished with value: 2063772189.6204317 and parameters: {'learning_rate': 0.013938327285099842, 'depth': 5, 'subsample': 0.08370868957436925, 'colsample_bylevel': 0.2926663483787329, 'min_data_in_leaf': 16}. Best is trial 24 with value: 2046786642.2282145.\n",
            "[I 2024-06-08 17:47:21,713] Trial 137 finished with value: 2153524600.469379 and parameters: {'learning_rate': 0.02033886076534706, 'depth': 1, 'subsample': 0.09690448398726212, 'colsample_bylevel': 0.09779352954593752, 'min_data_in_leaf': 12}. Best is trial 24 with value: 2046786642.2282145.\n",
            "[I 2024-06-08 17:47:22,346] Trial 138 finished with value: 2079468150.5952244 and parameters: {'learning_rate': 0.023400629929863425, 'depth': 2, 'subsample': 0.11885766897455563, 'colsample_bylevel': 0.12096306613585422, 'min_data_in_leaf': 28}. Best is trial 24 with value: 2046786642.2282145.\n",
            "[I 2024-06-08 17:47:23,467] Trial 139 finished with value: 2063446725.186321 and parameters: {'learning_rate': 0.010805877061104903, 'depth': 3, 'subsample': 0.3931268428734299, 'colsample_bylevel': 0.33298835576167474, 'min_data_in_leaf': 22}. Best is trial 24 with value: 2046786642.2282145.\n",
            "[I 2024-06-08 17:47:24,463] Trial 140 finished with value: 2070141344.6117136 and parameters: {'learning_rate': 0.00908099636766365, 'depth': 2, 'subsample': 0.4614776677602008, 'colsample_bylevel': 0.19290700182819642, 'min_data_in_leaf': 84}. Best is trial 24 with value: 2046786642.2282145.\n",
            "[I 2024-06-08 17:47:25,984] Trial 141 finished with value: 2051384086.9035366 and parameters: {'learning_rate': 0.015197947157643964, 'depth': 2, 'subsample': 0.190989189058897, 'colsample_bylevel': 0.30562800765424836, 'min_data_in_leaf': 37}. Best is trial 24 with value: 2046786642.2282145.\n",
            "[I 2024-06-08 17:47:27,313] Trial 142 finished with value: 2054783699.7358835 and parameters: {'learning_rate': 0.013726840006200261, 'depth': 2, 'subsample': 0.1805821411537089, 'colsample_bylevel': 0.2992428517003577, 'min_data_in_leaf': 41}. Best is trial 24 with value: 2046786642.2282145.\n",
            "[I 2024-06-08 17:47:28,019] Trial 143 finished with value: 2059448633.192362 and parameters: {'learning_rate': 0.01585571908355568, 'depth': 2, 'subsample': 0.21944207774079053, 'colsample_bylevel': 0.23624529241122214, 'min_data_in_leaf': 37}. Best is trial 24 with value: 2046786642.2282145.\n",
            "[I 2024-06-08 17:47:28,782] Trial 144 finished with value: 2059484872.433994 and parameters: {'learning_rate': 0.01844946206408011, 'depth': 2, 'subsample': 0.1819131488674669, 'colsample_bylevel': 0.3480460357604094, 'min_data_in_leaf': 18}. Best is trial 24 with value: 2046786642.2282145.\n",
            "[I 2024-06-08 17:47:29,482] Trial 145 finished with value: 2068973109.2583334 and parameters: {'learning_rate': 0.012682243548847076, 'depth': 2, 'subsample': 0.07656006992307482, 'colsample_bylevel': 0.25300068483003335, 'min_data_in_leaf': 31}. Best is trial 24 with value: 2046786642.2282145.\n",
            "[I 2024-06-08 17:47:30,507] Trial 146 finished with value: 2063652369.2130406 and parameters: {'learning_rate': 0.02102507548133784, 'depth': 3, 'subsample': 0.131395291523549, 'colsample_bylevel': 0.3188227356325522, 'min_data_in_leaf': 44}. Best is trial 24 with value: 2046786642.2282145.\n",
            "[I 2024-06-08 17:47:31,371] Trial 147 finished with value: 2060704690.972004 and parameters: {'learning_rate': 0.02719568284249773, 'depth': 2, 'subsample': 0.4327486000918499, 'colsample_bylevel': 0.3921335213949383, 'min_data_in_leaf': 39}. Best is trial 24 with value: 2046786642.2282145.\n",
            "[I 2024-06-08 17:47:32,118] Trial 148 finished with value: 2062595438.885974 and parameters: {'learning_rate': 0.009708230794271367, 'depth': 2, 'subsample': 0.3768184864136181, 'colsample_bylevel': 0.2180419428495088, 'min_data_in_leaf': 35}. Best is trial 24 with value: 2046786642.2282145.\n",
            "[I 2024-06-08 17:47:32,953] Trial 149 finished with value: 2057148443.7756348 and parameters: {'learning_rate': 0.01497521456306326, 'depth': 3, 'subsample': 0.15631540064819163, 'colsample_bylevel': 0.17073067216061194, 'min_data_in_leaf': 43}. Best is trial 24 with value: 2046786642.2282145.\n",
            "[I 2024-06-08 17:47:33,592] Trial 150 finished with value: 2074681967.79161 and parameters: {'learning_rate': 0.017101961505793014, 'depth': 1, 'subsample': 0.3576823933965499, 'colsample_bylevel': 0.3654593082135394, 'min_data_in_leaf': 20}. Best is trial 24 with value: 2046786642.2282145.\n",
            "[I 2024-06-08 17:47:34,395] Trial 151 finished with value: 2051592153.1284962 and parameters: {'learning_rate': 0.015467204433515354, 'depth': 2, 'subsample': 0.4078529379680582, 'colsample_bylevel': 0.306310798592145, 'min_data_in_leaf': 33}. Best is trial 24 with value: 2046786642.2282145.\n",
            "[I 2024-06-08 17:47:35,180] Trial 152 finished with value: 2055067334.8877735 and parameters: {'learning_rate': 0.011728506836164053, 'depth': 2, 'subsample': 0.4146151008663466, 'colsample_bylevel': 0.28615724196535125, 'min_data_in_leaf': 33}. Best is trial 24 with value: 2046786642.2282145.\n",
            "[I 2024-06-08 17:47:45,306] Trial 153 finished with value: 2108625503.7117367 and parameters: {'learning_rate': 0.01357736515570031, 'depth': 9, 'subsample': 0.445353690738224, 'colsample_bylevel': 0.30896059515642654, 'min_data_in_leaf': 37}. Best is trial 24 with value: 2046786642.2282145.\n",
            "[I 2024-06-08 17:47:46,124] Trial 154 finished with value: 2380977478.1949596 and parameters: {'learning_rate': 0.0018097530453819169, 'depth': 2, 'subsample': 0.40184893622211393, 'colsample_bylevel': 0.26965327642230386, 'min_data_in_leaf': 30}. Best is trial 24 with value: 2046786642.2282145.\n",
            "[I 2024-06-08 17:47:46,955] Trial 155 finished with value: 2056947871.8306537 and parameters: {'learning_rate': 0.019499209034844783, 'depth': 2, 'subsample': 0.339839640989406, 'colsample_bylevel': 0.3424914644258229, 'min_data_in_leaf': 25}. Best is trial 24 with value: 2046786642.2282145.\n",
            "[I 2024-06-08 17:47:47,809] Trial 156 finished with value: 2059036907.2172127 and parameters: {'learning_rate': 0.01685000228805014, 'depth': 2, 'subsample': 0.51757849406185, 'colsample_bylevel': 0.32835311527177763, 'min_data_in_leaf': 67}. Best is trial 24 with value: 2046786642.2282145.\n",
            "[I 2024-06-08 17:47:48,881] Trial 157 finished with value: 2062104242.6182735 and parameters: {'learning_rate': 0.023878324138469256, 'depth': 3, 'subsample': 0.4805445555370329, 'colsample_bylevel': 0.24689218091861342, 'min_data_in_leaf': 40}. Best is trial 24 with value: 2046786642.2282145.\n",
            "[I 2024-06-08 17:47:49,615] Trial 158 finished with value: 2063737621.2538953 and parameters: {'learning_rate': 0.01231962161386138, 'depth': 2, 'subsample': 0.380161360790766, 'colsample_bylevel': 0.21041157408757818, 'min_data_in_leaf': 28}. Best is trial 24 with value: 2046786642.2282145.\n",
            "[I 2024-06-08 17:47:50,263] Trial 159 finished with value: 2080626875.7468085 and parameters: {'learning_rate': 0.015133611254326227, 'depth': 1, 'subsample': 0.051712236805572236, 'colsample_bylevel': 0.7487908336401116, 'min_data_in_leaf': 15}. Best is trial 24 with value: 2046786642.2282145.\n",
            "[I 2024-06-08 17:47:51,674] Trial 160 finished with value: 2062356235.5977068 and parameters: {'learning_rate': 0.022050726448910003, 'depth': 2, 'subsample': 0.43645200981406806, 'colsample_bylevel': 0.2880177896282764, 'min_data_in_leaf': 35}. Best is trial 24 with value: 2046786642.2282145.\n",
            "[I 2024-06-08 17:47:53,316] Trial 161 finished with value: 2057713571.7357347 and parameters: {'learning_rate': 0.014865446343738195, 'depth': 2, 'subsample': 0.3053358205064413, 'colsample_bylevel': 0.31923333081258737, 'min_data_in_leaf': 34}. Best is trial 24 with value: 2046786642.2282145.\n",
            "[I 2024-06-08 17:47:54,383] Trial 162 finished with value: 2055213773.1216125 and parameters: {'learning_rate': 0.018401528092407873, 'depth': 2, 'subsample': 0.3546896968705555, 'colsample_bylevel': 0.36756284953096374, 'min_data_in_leaf': 32}. Best is trial 24 with value: 2046786642.2282145.\n",
            "[I 2024-06-08 17:47:55,151] Trial 163 finished with value: 2052734240.0591989 and parameters: {'learning_rate': 0.013268736599141863, 'depth': 2, 'subsample': 0.26229756596302867, 'colsample_bylevel': 0.3056471192573551, 'min_data_in_leaf': 38}. Best is trial 24 with value: 2046786642.2282145.\n",
            "[I 2024-06-08 17:47:55,806] Trial 164 finished with value: 2067183030.9305007 and parameters: {'learning_rate': 0.013190304423383266, 'depth': 2, 'subsample': 0.2514947437728707, 'colsample_bylevel': 0.15930143738794972, 'min_data_in_leaf': 38}. Best is trial 24 with value: 2046786642.2282145.\n",
            "[I 2024-06-08 17:47:56,547] Trial 165 finished with value: 2063548938.2547805 and parameters: {'learning_rate': 0.010952802592287278, 'depth': 2, 'subsample': 0.09911251229504657, 'colsample_bylevel': 0.3017318839367497, 'min_data_in_leaf': 42}. Best is trial 24 with value: 2046786642.2282145.\n",
            "[I 2024-06-08 17:47:57,287] Trial 166 finished with value: 2059965112.2076573 and parameters: {'learning_rate': 0.016537803291464044, 'depth': 2, 'subsample': 0.19531002193595887, 'colsample_bylevel': 0.2766772720215735, 'min_data_in_leaf': 47}. Best is trial 24 with value: 2046786642.2282145.\n",
            "[I 2024-06-08 17:47:58,219] Trial 167 finished with value: 2062458982.2467494 and parameters: {'learning_rate': 0.02502613761492229, 'depth': 3, 'subsample': 0.4040856444721969, 'colsample_bylevel': 0.18872510670761458, 'min_data_in_leaf': 37}. Best is trial 24 with value: 2046786642.2282145.\n",
            "[I 2024-06-08 17:47:59,042] Trial 168 finished with value: 2047677682.7751436 and parameters: {'learning_rate': 0.020711722346329276, 'depth': 2, 'subsample': 0.46336989066312795, 'colsample_bylevel': 0.3404514667984126, 'min_data_in_leaf': 40}. Best is trial 24 with value: 2046786642.2282145.\n",
            "[I 2024-06-08 17:47:59,691] Trial 169 finished with value: 2078252639.8115437 and parameters: {'learning_rate': 0.07344277338910846, 'depth': 1, 'subsample': 0.4634469643380478, 'colsample_bylevel': 0.378588086628506, 'min_data_in_leaf': 40}. Best is trial 24 with value: 2046786642.2282145.\n",
            "[I 2024-06-08 17:48:01,152] Trial 170 finished with value: 2076524812.319828 and parameters: {'learning_rate': 0.03256806493380113, 'depth': 3, 'subsample': 0.21517348938266273, 'colsample_bylevel': 0.8376310125947506, 'min_data_in_leaf': 44}. Best is trial 24 with value: 2046786642.2282145.\n",
            "[I 2024-06-08 17:48:01,973] Trial 171 finished with value: 2057571824.0505404 and parameters: {'learning_rate': 0.020171625082963017, 'depth': 2, 'subsample': 0.4195388384370154, 'colsample_bylevel': 0.348197374514429, 'min_data_in_leaf': 36}. Best is trial 24 with value: 2046786642.2282145.\n",
            "[I 2024-06-08 17:48:02,813] Trial 172 finished with value: 2056206988.253918 and parameters: {'learning_rate': 0.021745250045450238, 'depth': 2, 'subsample': 0.4495547798774172, 'colsample_bylevel': 0.33166820952837545, 'min_data_in_leaf': 39}. Best is trial 24 with value: 2046786642.2282145.\n",
            "[I 2024-06-08 17:48:03,504] Trial 173 finished with value: 2071180902.9695163 and parameters: {'learning_rate': 0.014319957059410941, 'depth': 2, 'subsample': 0.3879567294346297, 'colsample_bylevel': 0.14724651543446404, 'min_data_in_leaf': 23}. Best is trial 24 with value: 2046786642.2282145.\n",
            "[I 2024-06-08 17:48:04,780] Trial 174 finished with value: 2054685434.9379258 and parameters: {'learning_rate': 0.02788829628022277, 'depth': 2, 'subsample': 0.4285754106480522, 'colsample_bylevel': 0.30271001677669007, 'min_data_in_leaf': 42}. Best is trial 24 with value: 2046786642.2282145.\n",
            "[I 2024-06-08 17:48:06,234] Trial 175 finished with value: 2061728482.33008 and parameters: {'learning_rate': 0.02828523061889951, 'depth': 2, 'subsample': 0.4633823092557856, 'colsample_bylevel': 0.2531103623237698, 'min_data_in_leaf': 42}. Best is trial 24 with value: 2046786642.2282145.\n",
            "[I 2024-06-08 17:48:07,702] Trial 176 finished with value: 2057336456.9916954 and parameters: {'learning_rate': 0.024229477207750785, 'depth': 2, 'subsample': 0.4934598573363215, 'colsample_bylevel': 0.29975035708806597, 'min_data_in_leaf': 46}. Best is trial 24 with value: 2046786642.2282145.\n",
            "[I 2024-06-08 17:48:08,721] Trial 177 finished with value: 2064134494.1734192 and parameters: {'learning_rate': 0.025741368793690923, 'depth': 3, 'subsample': 0.27550717390000257, 'colsample_bylevel': 0.2709929168413891, 'min_data_in_leaf': 49}. Best is trial 24 with value: 2046786642.2282145.\n",
            "[I 2024-06-08 17:48:10,002] Trial 178 finished with value: 2052242806.8967524 and parameters: {'learning_rate': 0.028337573923605936, 'depth': 2, 'subsample': 0.4294375639342861, 'colsample_bylevel': 0.226631353531639, 'min_data_in_leaf': 74}. Best is trial 24 with value: 2046786642.2282145.\n",
            "[I 2024-06-08 17:48:11,712] Trial 179 finished with value: 2057521807.1752558 and parameters: {'learning_rate': 0.018644706537927384, 'depth': 2, 'subsample': 0.3334919733337231, 'colsample_bylevel': 0.22500533933251077, 'min_data_in_leaf': 75}. Best is trial 24 with value: 2046786642.2282145.\n",
            "[I 2024-06-08 17:48:12,679] Trial 180 finished with value: 2056321772.8974674 and parameters: {'learning_rate': 0.022954102622447195, 'depth': 2, 'subsample': 0.37068694655893947, 'colsample_bylevel': 0.2002662535422265, 'min_data_in_leaf': 33}. Best is trial 24 with value: 2046786642.2282145.\n",
            "[I 2024-06-08 17:48:13,426] Trial 181 finished with value: 2057543116.3216152 and parameters: {'learning_rate': 0.02980915855479054, 'depth': 2, 'subsample': 0.4258224281922758, 'colsample_bylevel': 0.23397983367326072, 'min_data_in_leaf': 77}. Best is trial 24 with value: 2046786642.2282145.\n",
            "[I 2024-06-08 17:48:14,152] Trial 182 finished with value: 2057149530.134968 and parameters: {'learning_rate': 0.035260134032489954, 'depth': 2, 'subsample': 0.43192739868286883, 'colsample_bylevel': 0.18248948024635173, 'min_data_in_leaf': 38}. Best is trial 24 with value: 2046786642.2282145.\n",
            "[I 2024-06-08 17:48:14,933] Trial 183 finished with value: 2051753347.1358507 and parameters: {'learning_rate': 0.02744168257622036, 'depth': 2, 'subsample': 0.40853523312945267, 'colsample_bylevel': 0.2549500830646382, 'min_data_in_leaf': 68}. Best is trial 24 with value: 2046786642.2282145.\n",
            "[I 2024-06-08 17:48:15,719] Trial 184 finished with value: 2055335675.9581928 and parameters: {'learning_rate': 0.032643448093883434, 'depth': 2, 'subsample': 0.40168883490288687, 'colsample_bylevel': 0.2521442859280988, 'min_data_in_leaf': 71}. Best is trial 24 with value: 2046786642.2282145.\n",
            "[I 2024-06-08 17:48:16,448] Trial 185 finished with value: 2050995828.4423745 and parameters: {'learning_rate': 0.02634411320532467, 'depth': 2, 'subsample': 0.3898291154670563, 'colsample_bylevel': 0.21730313731309975, 'min_data_in_leaf': 74}. Best is trial 24 with value: 2046786642.2282145.\n",
            "[I 2024-06-08 17:48:17,119] Trial 186 finished with value: 2055158033.6190293 and parameters: {'learning_rate': 0.027285334027489148, 'depth': 2, 'subsample': 0.3690441540881697, 'colsample_bylevel': 0.12594465212055944, 'min_data_in_leaf': 80}. Best is trial 24 with value: 2046786642.2282145.\n",
            "[I 2024-06-08 17:48:18,172] Trial 187 finished with value: 2074592555.1597376 and parameters: {'learning_rate': 0.03032480285628108, 'depth': 1, 'subsample': 0.38971053052066024, 'colsample_bylevel': 0.2080090606243518, 'min_data_in_leaf': 69}. Best is trial 24 with value: 2046786642.2282145.\n",
            "[I 2024-06-08 17:48:19,486] Trial 188 finished with value: 2053720213.4681199 and parameters: {'learning_rate': 0.025649927526738576, 'depth': 2, 'subsample': 0.4448811855372663, 'colsample_bylevel': 0.17487300370849554, 'min_data_in_leaf': 74}. Best is trial 24 with value: 2046786642.2282145.\n",
            "[I 2024-06-08 17:48:20,868] Trial 189 finished with value: 2063994886.9132113 and parameters: {'learning_rate': 0.02545209690032633, 'depth': 2, 'subsample': 0.9286686462885216, 'colsample_bylevel': 0.17062041145623566, 'min_data_in_leaf': 74}. Best is trial 24 with value: 2046786642.2282145.\n",
            "[I 2024-06-08 17:48:21,568] Trial 190 finished with value: 2058638052.9250321 and parameters: {'learning_rate': 0.023811074692767352, 'depth': 2, 'subsample': 0.45193646145754635, 'colsample_bylevel': 0.15154485275853938, 'min_data_in_leaf': 65}. Best is trial 24 with value: 2046786642.2282145.\n",
            "[I 2024-06-08 17:48:22,309] Trial 191 finished with value: 2058563217.182667 and parameters: {'learning_rate': 0.026698357944756453, 'depth': 2, 'subsample': 0.4062206251462567, 'colsample_bylevel': 0.21935642545961045, 'min_data_in_leaf': 73}. Best is trial 24 with value: 2046786642.2282145.\n",
            "[I 2024-06-08 17:48:23,071] Trial 192 finished with value: 2054593304.8326166 and parameters: {'learning_rate': 0.0304122439276328, 'depth': 2, 'subsample': 0.4788159828001736, 'colsample_bylevel': 0.1985743634536433, 'min_data_in_leaf': 75}. Best is trial 24 with value: 2046786642.2282145.\n",
            "[I 2024-06-08 17:48:23,802] Trial 193 finished with value: 2055252889.7848613 and parameters: {'learning_rate': 0.012316268050838032, 'depth': 2, 'subsample': 0.3454729583484306, 'colsample_bylevel': 0.24249159541489457, 'min_data_in_leaf': 70}. Best is trial 24 with value: 2046786642.2282145.\n",
            "[I 2024-06-08 17:48:24,869] Trial 194 finished with value: 2076630323.9703581 and parameters: {'learning_rate': 0.0380504939994602, 'depth': 3, 'subsample': 0.4067230451981488, 'colsample_bylevel': 0.2651037006076301, 'min_data_in_leaf': 77}. Best is trial 24 with value: 2046786642.2282145.\n",
            "[I 2024-06-08 17:48:25,688] Trial 195 finished with value: 2062223772.8780227 and parameters: {'learning_rate': 0.02256564982439416, 'depth': 2, 'subsample': 0.4995609484534978, 'colsample_bylevel': 0.28264893068337554, 'min_data_in_leaf': 72}. Best is trial 24 with value: 2046786642.2282145.\n",
            "[I 2024-06-08 17:48:26,519] Trial 196 finished with value: 2057899482.8138235 and parameters: {'learning_rate': 0.016596111543879303, 'depth': 2, 'subsample': 0.3881701567874915, 'colsample_bylevel': 0.3434013010548087, 'min_data_in_leaf': 62}. Best is trial 24 with value: 2046786642.2282145.\n",
            "[I 2024-06-08 17:48:27,135] Trial 197 finished with value: 2097952643.0165424 and parameters: {'learning_rate': 0.020046679985310692, 'depth': 1, 'subsample': 0.4443638838117151, 'colsample_bylevel': 0.1704993874383412, 'min_data_in_leaf': 68}. Best is trial 24 with value: 2046786642.2282145.\n",
            "[I 2024-06-08 17:48:27,749] Trial 198 finished with value: 2117191639.0837016 and parameters: {'learning_rate': 0.01365467074067478, 'depth': 2, 'subsample': 0.47062776601539147, 'colsample_bylevel': 0.07941820538286071, 'min_data_in_leaf': 82}. Best is trial 24 with value: 2046786642.2282145.\n",
            "[I 2024-06-08 17:48:28,883] Trial 199 finished with value: 2053009135.6619892 and parameters: {'learning_rate': 0.027962843992759705, 'depth': 4, 'subsample': 0.23593889624318215, 'colsample_bylevel': 0.19077376818295488, 'min_data_in_leaf': 10}. Best is trial 24 with value: 2046786642.2282145.\n"
          ]
        }
      ]
    },
    {
      "cell_type": "code",
      "source": [
        "print('Best MSE on Validation', study.best_value)"
      ],
      "metadata": {
        "colab": {
          "base_uri": "https://localhost:8080/"
        },
        "id": "NkYBOtvl-N3W",
        "outputId": "8309d9e9-8a00-4088-dab2-9d7d8150344c"
      },
      "execution_count": null,
      "outputs": [
        {
          "output_type": "stream",
          "name": "stdout",
          "text": [
            "Best MSE on Validation 2046786642.2282145\n"
          ]
        }
      ]
    },
    {
      "cell_type": "code",
      "source": [
        "catboost_reg = CatBoostRegressor(**study.best_params, silent=True)"
      ],
      "metadata": {
        "id": "7P1VZpzi-UKH"
      },
      "execution_count": null,
      "outputs": []
    },
    {
      "cell_type": "code",
      "source": [
        "catboost_reg = catboost_reg.fit(train_data)"
      ],
      "metadata": {
        "id": "tifrJGm2-UKH"
      },
      "execution_count": null,
      "outputs": []
    },
    {
      "cell_type": "code",
      "source": [
        "y_pred = catboost_reg.predict(test_data)"
      ],
      "metadata": {
        "id": "fgClelKl-UKI"
      },
      "execution_count": null,
      "outputs": []
    },
    {
      "cell_type": "code",
      "source": [
        "print('MAPE on Test:', mean_absolute_percentage_error(y_pred, y_test))\n",
        "print('RMSE on Test:', mean_squared_error(y_pred, y_test) ** 0.5)"
      ],
      "metadata": {
        "colab": {
          "base_uri": "https://localhost:8080/"
        },
        "outputId": "bf940076-8793-4507-dc71-e0b1a3af6005",
        "id": "qouRYUbc-UKI"
      },
      "execution_count": null,
      "outputs": [
        {
          "output_type": "stream",
          "name": "stdout",
          "text": [
            "MAPE on Test: 0.2970282861818719\n",
            "RMSE on Test: 50594.025667795504\n"
          ]
        }
      ]
    },
    {
      "cell_type": "markdown",
      "source": [
        "С помощью Pool Catboost обучается значительно быстрее (чуть быстрее, чем XGBoost). При этом в качестве мы практически не потеряли (спишу эту потерю на то, что гиперпараметры каждый раз выбираются рандомно и в прошлый раз нам повезло чуть больше)."
      ],
      "metadata": {
        "id": "evnhhIcG-XIT"
      }
    },
    {
      "cell_type": "markdown",
      "source": [
        "### Задание 5 (0.5 балла) LightGBM"
      ],
      "metadata": {
        "id": "Y6nt5ljI_AVe"
      }
    },
    {
      "cell_type": "markdown",
      "source": [
        "И наконец библиотека LightGBM - используйте `LGBMRegressor`, снова подберите гиперпараметры, оцените качество и скорость."
      ],
      "metadata": {
        "id": "UjBe2m-1_CrQ"
      }
    },
    {
      "cell_type": "code",
      "source": [
        "from lightgbm import LGBMRegressor"
      ],
      "metadata": {
        "id": "nDadP5CpANMg"
      },
      "execution_count": null,
      "outputs": []
    },
    {
      "cell_type": "code",
      "source": [
        "def objective(trial):\n",
        "    params = {\n",
        "        \"n_estimators\": 1000,\n",
        "        \"verbosity\": -1,\n",
        "        \"bagging_freq\": 1,\n",
        "        \"learning_rate\": trial.suggest_float(\"learning_rate\", 1e-3, 0.1, log=True),\n",
        "        \"num_leaves\": trial.suggest_int(\"num_leaves\", 2, 2**10),\n",
        "        \"subsample\": trial.suggest_float(\"subsample\", 0.05, 1.0),\n",
        "        \"colsample_bytree\": trial.suggest_float(\"colsample_bytree\", 0.05, 1.0),\n",
        "        \"min_data_in_leaf\": trial.suggest_int(\"min_data_in_leaf\", 1, 100),\n",
        "    }\n",
        "\n",
        "    model = LGBMRegressor(**params)\n",
        "    model.fit(X_train_encoded, y_train)\n",
        "    y_pred = model.predict(X_val_encoded)\n",
        "    return mean_squared_error(y_pred, y_val)"
      ],
      "metadata": {
        "id": "wgIT8DUrAFV1"
      },
      "execution_count": null,
      "outputs": []
    },
    {
      "cell_type": "code",
      "source": [
        "study = optuna.create_study(direction='minimize', study_name='regression')\n",
        "study.optimize(objective, n_trials=200)"
      ],
      "metadata": {
        "colab": {
          "base_uri": "https://localhost:8080/"
        },
        "outputId": "980df74e-94c7-4023-a07a-8044b2188ebc",
        "id": "n6iWHLECAmNs"
      },
      "execution_count": null,
      "outputs": [
        {
          "output_type": "stream",
          "name": "stderr",
          "text": [
            "[I 2024-06-08 18:01:07,940] A new study created in memory with name: regression\n",
            "[I 2024-06-08 18:01:09,428] Trial 0 finished with value: 2313463029.382822 and parameters: {'learning_rate': 0.05181600784545532, 'num_leaves': 500, 'subsample': 0.7258439951556614, 'colsample_bytree': 0.852926886085999, 'min_data_in_leaf': 13}. Best is trial 0 with value: 2313463029.382822.\n",
            "[I 2024-06-08 18:01:10,552] Trial 1 finished with value: 2132259369.231388 and parameters: {'learning_rate': 0.006030515163026436, 'num_leaves': 502, 'subsample': 0.7031706222625088, 'colsample_bytree': 0.8343270795083182, 'min_data_in_leaf': 19}. Best is trial 1 with value: 2132259369.231388.\n",
            "[I 2024-06-08 18:01:10,973] Trial 2 finished with value: 2761675455.554679 and parameters: {'learning_rate': 0.0010798315877628619, 'num_leaves': 285, 'subsample': 0.9389494414687402, 'colsample_bytree': 0.18239128340216038, 'min_data_in_leaf': 44}. Best is trial 1 with value: 2132259369.231388.\n",
            "[I 2024-06-08 18:01:11,280] Trial 3 finished with value: 2323718440.366067 and parameters: {'learning_rate': 0.010632377418234326, 'num_leaves': 299, 'subsample': 0.7593083256439749, 'colsample_bytree': 0.17608523542958632, 'min_data_in_leaf': 88}. Best is trial 1 with value: 2132259369.231388.\n",
            "[I 2024-06-08 18:01:11,618] Trial 4 finished with value: 2512180204.921902 and parameters: {'learning_rate': 0.002336982331949774, 'num_leaves': 595, 'subsample': 0.8944705553004161, 'colsample_bytree': 0.14280056427621846, 'min_data_in_leaf': 53}. Best is trial 1 with value: 2132259369.231388.\n",
            "[I 2024-06-08 18:01:11,963] Trial 5 finished with value: 2354981143.472615 and parameters: {'learning_rate': 0.004529153168544793, 'num_leaves': 233, 'subsample': 0.13057653660809898, 'colsample_bytree': 0.3112678221107306, 'min_data_in_leaf': 44}. Best is trial 1 with value: 2132259369.231388.\n",
            "[I 2024-06-08 18:01:12,709] Trial 6 finished with value: 2175595326.9622407 and parameters: {'learning_rate': 0.008358813334782531, 'num_leaves': 730, 'subsample': 0.5074336907819444, 'colsample_bytree': 0.7012374861365559, 'min_data_in_leaf': 40}. Best is trial 1 with value: 2132259369.231388.\n",
            "[I 2024-06-08 18:01:13,922] Trial 7 finished with value: 2134967575.774833 and parameters: {'learning_rate': 0.005939749542195948, 'num_leaves': 989, 'subsample': 0.5286472376624592, 'colsample_bytree': 0.6712667916300772, 'min_data_in_leaf': 29}. Best is trial 1 with value: 2132259369.231388.\n",
            "[I 2024-06-08 18:01:14,863] Trial 8 finished with value: 2179796446.877682 and parameters: {'learning_rate': 0.005562460827546463, 'num_leaves': 284, 'subsample': 0.9267242701142948, 'colsample_bytree': 0.6650548962374642, 'min_data_in_leaf': 65}. Best is trial 1 with value: 2132259369.231388.\n",
            "[I 2024-06-08 18:01:15,669] Trial 9 finished with value: 2129333158.2788193 and parameters: {'learning_rate': 0.0372006632178596, 'num_leaves': 343, 'subsample': 0.2288455530732334, 'colsample_bytree': 0.28126627144000305, 'min_data_in_leaf': 17}. Best is trial 9 with value: 2129333158.2788193.\n",
            "[I 2024-06-08 18:01:16,398] Trial 10 finished with value: 2165167984.544618 and parameters: {'learning_rate': 0.05293239538156741, 'num_leaves': 52, 'subsample': 0.06208213930197709, 'colsample_bytree': 0.42458448682096683, 'min_data_in_leaf': 6}. Best is trial 9 with value: 2129333158.2788193.\n",
            "[I 2024-06-08 18:01:17,397] Trial 11 finished with value: 2149100011.672975 and parameters: {'learning_rate': 0.023222683043425778, 'num_leaves': 489, 'subsample': 0.27736488614392035, 'colsample_bytree': 0.9988436971500914, 'min_data_in_leaf': 19}. Best is trial 9 with value: 2129333158.2788193.\n",
            "[I 2024-06-08 18:01:23,491] Trial 12 finished with value: 2142807157.3800678 and parameters: {'learning_rate': 0.025020779963664738, 'num_leaves': 732, 'subsample': 0.4008389580326456, 'colsample_bytree': 0.45991854914683944, 'min_data_in_leaf': 1}. Best is trial 9 with value: 2129333158.2788193.\n",
            "[I 2024-06-08 18:01:24,171] Trial 13 finished with value: 2141882044.7441308 and parameters: {'learning_rate': 0.018050859720725215, 'num_leaves': 63, 'subsample': 0.6495684212910451, 'colsample_bytree': 0.35311982559854893, 'min_data_in_leaf': 25}. Best is trial 9 with value: 2129333158.2788193.\n",
            "[I 2024-06-08 18:01:24,686] Trial 14 finished with value: 2389763607.520812 and parameters: {'learning_rate': 0.08860371658157014, 'num_leaves': 432, 'subsample': 0.26654495544015766, 'colsample_bytree': 0.5726007772464665, 'min_data_in_leaf': 62}. Best is trial 9 with value: 2129333158.2788193.\n",
            "[I 2024-06-08 18:01:25,519] Trial 15 finished with value: 2183570323.916343 and parameters: {'learning_rate': 0.002291250935746885, 'num_leaves': 641, 'subsample': 0.5565626014526607, 'colsample_bytree': 0.8507182271691877, 'min_data_in_leaf': 31}. Best is trial 9 with value: 2129333158.2788193.\n",
            "[I 2024-06-08 18:01:27,524] Trial 16 finished with value: 2159897151.3953505 and parameters: {'learning_rate': 0.013938416173350825, 'num_leaves': 958, 'subsample': 0.35699218750372463, 'colsample_bytree': 0.99945597254792, 'min_data_in_leaf': 12}. Best is trial 9 with value: 2129333158.2788193.\n",
            "[I 2024-06-08 18:01:27,898] Trial 17 finished with value: 2365729520.979756 and parameters: {'learning_rate': 0.035073813469094696, 'num_leaves': 406, 'subsample': 0.8048095478681017, 'colsample_bytree': 0.06456547780663077, 'min_data_in_leaf': 98}. Best is trial 9 with value: 2129333158.2788193.\n",
            "[I 2024-06-08 18:01:29,350] Trial 18 finished with value: 2365581622.5833282 and parameters: {'learning_rate': 0.0032001973022215938, 'num_leaves': 128, 'subsample': 0.6414327255234045, 'colsample_bytree': 0.2813420262107828, 'min_data_in_leaf': 73}. Best is trial 9 with value: 2129333158.2788193.\n",
            "[I 2024-06-08 18:01:30,600] Trial 19 finished with value: 2514172433.118656 and parameters: {'learning_rate': 0.0013283701907576355, 'num_leaves': 842, 'subsample': 0.20149376251041745, 'colsample_bytree': 0.5472606398572825, 'min_data_in_leaf': 32}. Best is trial 9 with value: 2129333158.2788193.\n",
            "[I 2024-06-08 18:01:31,782] Trial 20 finished with value: 2128455791.8477702 and parameters: {'learning_rate': 0.00997730043102447, 'num_leaves': 373, 'subsample': 0.42198121473555616, 'colsample_bytree': 0.860935159271828, 'min_data_in_leaf': 19}. Best is trial 20 with value: 2128455791.8477702.\n",
            "[I 2024-06-08 18:01:32,987] Trial 21 finished with value: 2130893824.7694564 and parameters: {'learning_rate': 0.009157097033881442, 'num_leaves': 377, 'subsample': 0.40692317082688345, 'colsample_bytree': 0.8301663658272446, 'min_data_in_leaf': 18}. Best is trial 20 with value: 2128455791.8477702.\n",
            "[I 2024-06-08 18:01:34,290] Trial 22 finished with value: 2130747104.0344195 and parameters: {'learning_rate': 0.010740913308175094, 'num_leaves': 374, 'subsample': 0.4100879401232516, 'colsample_bytree': 0.7802343088721841, 'min_data_in_leaf': 13}. Best is trial 20 with value: 2128455791.8477702.\n",
            "[I 2024-06-08 18:01:39,670] Trial 23 finished with value: 2109905895.4665277 and parameters: {'learning_rate': 0.014441812115880163, 'num_leaves': 184, 'subsample': 0.3318486782649205, 'colsample_bytree': 0.7378051518582769, 'min_data_in_leaf': 1}. Best is trial 23 with value: 2109905895.4665277.\n",
            "[I 2024-06-08 18:01:46,430] Trial 24 finished with value: 2151394132.9017267 and parameters: {'learning_rate': 0.03665907785615659, 'num_leaves': 197, 'subsample': 0.3056890824124131, 'colsample_bytree': 0.9365283250687539, 'min_data_in_leaf': 1}. Best is trial 23 with value: 2109905895.4665277.\n",
            "[I 2024-06-08 18:01:47,390] Trial 25 finished with value: 2116908390.4360156 and parameters: {'learning_rate': 0.014917405070523833, 'num_leaves': 158, 'subsample': 0.1868590203673219, 'colsample_bytree': 0.7314126663658691, 'min_data_in_leaf': 9}. Best is trial 23 with value: 2109905895.4665277.\n",
            "[I 2024-06-08 18:01:48,695] Trial 26 finished with value: 2122038927.0184195 and parameters: {'learning_rate': 0.015515778710611942, 'num_leaves': 151, 'subsample': 0.16300071534354, 'colsample_bytree': 0.7227400429079417, 'min_data_in_leaf': 5}. Best is trial 23 with value: 2109905895.4665277.\n",
            "[I 2024-06-08 18:01:49,319] Trial 27 finished with value: 2144413199.8016453 and parameters: {'learning_rate': 0.01615247875675351, 'num_leaves': 10, 'subsample': 0.1634171323200031, 'colsample_bytree': 0.7472413517433304, 'min_data_in_leaf': 7}. Best is trial 23 with value: 2109905895.4665277.\n",
            "[I 2024-06-08 18:01:49,979] Trial 28 finished with value: 2127938847.9229746 and parameters: {'learning_rate': 0.022297479479008262, 'num_leaves': 162, 'subsample': 0.07305116587013756, 'colsample_bytree': 0.6230091323214174, 'min_data_in_leaf': 7}. Best is trial 23 with value: 2109905895.4665277.\n",
            "[I 2024-06-08 18:01:53,431] Trial 29 finished with value: 2128904530.374201 and parameters: {'learning_rate': 0.01440615689261725, 'num_leaves': 117, 'subsample': 0.13522557851855532, 'colsample_bytree': 0.7524665972286374, 'min_data_in_leaf': 1}. Best is trial 23 with value: 2109905895.4665277.\n",
            "[I 2024-06-08 18:01:54,585] Trial 30 finished with value: 2174559873.2832456 and parameters: {'learning_rate': 0.06343955223732363, 'num_leaves': 223, 'subsample': 0.325588511905069, 'colsample_bytree': 0.49676720304035343, 'min_data_in_leaf': 24}. Best is trial 23 with value: 2109905895.4665277.\n",
            "[I 2024-06-08 18:01:55,373] Trial 31 finished with value: 2218047753.1096406 and parameters: {'learning_rate': 0.023202650134130535, 'num_leaves': 150, 'subsample': 0.05707869750531144, 'colsample_bytree': 0.6214867174780818, 'min_data_in_leaf': 9}. Best is trial 23 with value: 2109905895.4665277.\n",
            "[I 2024-06-08 18:01:56,485] Trial 32 finished with value: 2119261974.2890623 and parameters: {'learning_rate': 0.019893911927796968, 'num_leaves': 186, 'subsample': 0.10635007075648174, 'colsample_bytree': 0.6091507047009393, 'min_data_in_leaf': 8}. Best is trial 23 with value: 2109905895.4665277.\n",
            "[I 2024-06-08 18:01:57,490] Trial 33 finished with value: 2119885194.3847096 and parameters: {'learning_rate': 0.029350244401545184, 'num_leaves': 62, 'subsample': 0.1970804150308887, 'colsample_bytree': 0.6007669485878759, 'min_data_in_leaf': 12}. Best is trial 23 with value: 2109905895.4665277.\n",
            "[I 2024-06-08 18:01:58,350] Trial 34 finished with value: 2157417455.773567 and parameters: {'learning_rate': 0.03110849288314266, 'num_leaves': 74, 'subsample': 0.21144365178509805, 'colsample_bytree': 0.6024342829516407, 'min_data_in_leaf': 13}. Best is trial 23 with value: 2109905895.4665277.\n",
            "[I 2024-06-08 18:01:58,758] Trial 35 finished with value: 2371137113.465118 and parameters: {'learning_rate': 0.04777168831399837, 'num_leaves': 270, 'subsample': 0.11427883992023215, 'colsample_bytree': 0.5103867384543443, 'min_data_in_leaf': 39}. Best is trial 23 with value: 2109905895.4665277.\n",
            "[I 2024-06-08 18:01:59,523] Trial 36 finished with value: 2185209874.041253 and parameters: {'learning_rate': 0.007254939623002229, 'num_leaves': 220, 'subsample': 0.244662317412772, 'colsample_bytree': 0.6651447468451789, 'min_data_in_leaf': 23}. Best is trial 23 with value: 2109905895.4665277.\n",
            "[I 2024-06-08 18:02:00,238] Trial 37 finished with value: 2143284121.7651517 and parameters: {'learning_rate': 0.012337613992991728, 'num_leaves': 16, 'subsample': 0.18691397723885855, 'colsample_bytree': 0.7982893555590056, 'min_data_in_leaf': 14}. Best is trial 23 with value: 2109905895.4665277.\n",
            "[I 2024-06-08 18:02:01,112] Trial 38 finished with value: 2239232647.358514 and parameters: {'learning_rate': 0.020533741624468523, 'num_leaves': 101, 'subsample': 0.4706915434127219, 'colsample_bytree': 0.8918744679726112, 'min_data_in_leaf': 50}. Best is trial 23 with value: 2109905895.4665277.\n",
            "[I 2024-06-08 18:02:01,498] Trial 39 finished with value: 2327947316.707727 and parameters: {'learning_rate': 0.0073315165431158645, 'num_leaves': 265, 'subsample': 0.10175289510955328, 'colsample_bytree': 0.4043808727642447, 'min_data_in_leaf': 37}. Best is trial 23 with value: 2109905895.4665277.\n",
            "[I 2024-06-08 18:02:02,029] Trial 40 finished with value: 2342396212.185681 and parameters: {'learning_rate': 0.004296916204165145, 'num_leaves': 189, 'subsample': 0.32596449271367833, 'colsample_bytree': 0.5649643940261345, 'min_data_in_leaf': 78}. Best is trial 23 with value: 2109905895.4665277.\n",
            "[I 2024-06-08 18:02:03,239] Trial 41 finished with value: 2153426337.189464 and parameters: {'learning_rate': 0.031151424081574983, 'num_leaves': 308, 'subsample': 0.15536785330162334, 'colsample_bytree': 0.7149986903657247, 'min_data_in_leaf': 5}. Best is trial 23 with value: 2109905895.4665277.\n",
            "[I 2024-06-08 18:02:04,427] Trial 42 finished with value: 2125214068.4003417 and parameters: {'learning_rate': 0.017851763373058497, 'num_leaves': 159, 'subsample': 0.24163705235167215, 'colsample_bytree': 0.7058576266435789, 'min_data_in_leaf': 8}. Best is trial 23 with value: 2109905895.4665277.\n",
            "[I 2024-06-08 18:02:05,271] Trial 43 finished with value: 2121407271.3813925 and parameters: {'learning_rate': 0.012732074818056825, 'num_leaves': 91, 'subsample': 0.1693190041359477, 'colsample_bytree': 0.6842158585292212, 'min_data_in_leaf': 11}. Best is trial 23 with value: 2109905895.4665277.\n",
            "[I 2024-06-08 18:02:05,897] Trial 44 finished with value: 2162736097.2220955 and parameters: {'learning_rate': 0.011944581926075473, 'num_leaves': 52, 'subsample': 0.09948718873520908, 'colsample_bytree': 0.6538806214432825, 'min_data_in_leaf': 11}. Best is trial 23 with value: 2109905895.4665277.\n",
            "[I 2024-06-08 18:02:06,715] Trial 45 finished with value: 2198510997.3908353 and parameters: {'learning_rate': 0.04401091526395748, 'num_leaves': 87, 'subsample': 0.28332735717790136, 'colsample_bytree': 0.7850263823014109, 'min_data_in_leaf': 23}. Best is trial 23 with value: 2109905895.4665277.\n",
            "[I 2024-06-08 18:02:07,251] Trial 46 finished with value: 2144549256.6475422 and parameters: {'learning_rate': 0.019184936083623982, 'num_leaves': 6, 'subsample': 0.20379129642867883, 'colsample_bytree': 0.6798121094986395, 'min_data_in_leaf': 16}. Best is trial 23 with value: 2109905895.4665277.\n",
            "[I 2024-06-08 18:02:08,034] Trial 47 finished with value: 2368366961.6585884 and parameters: {'learning_rate': 0.025859308294365096, 'num_leaves': 453, 'subsample': 0.13170768698529262, 'colsample_bytree': 0.6238506665755627, 'min_data_in_leaf': 28}. Best is trial 23 with value: 2109905895.4665277.\n",
            "[I 2024-06-08 18:02:11,618] Trial 48 finished with value: 2160053034.935454 and parameters: {'learning_rate': 0.012867694560284098, 'num_leaves': 322, 'subsample': 0.9828621586018009, 'colsample_bytree': 0.4817753686203156, 'min_data_in_leaf': 3}. Best is trial 23 with value: 2109905895.4665277.\n",
            "[I 2024-06-08 18:02:12,885] Trial 49 finished with value: 2120835741.8921664 and parameters: {'learning_rate': 0.00781282974251674, 'num_leaves': 263, 'subsample': 0.36608194693300394, 'colsample_bytree': 0.5918301046530567, 'min_data_in_leaf': 10}. Best is trial 23 with value: 2109905895.4665277.\n",
            "[I 2024-06-08 18:02:13,837] Trial 50 finished with value: 2124365912.8112838 and parameters: {'learning_rate': 0.004869111400048164, 'num_leaves': 572, 'subsample': 0.37794377255852546, 'colsample_bytree': 0.5462492155881206, 'min_data_in_leaf': 20}. Best is trial 23 with value: 2109905895.4665277.\n",
            "[I 2024-06-08 18:02:15,030] Trial 51 finished with value: 2100770180.8988645 and parameters: {'learning_rate': 0.008346001118387718, 'num_leaves': 261, 'subsample': 0.45028622611192937, 'colsample_bytree': 0.44059322723601124, 'min_data_in_leaf': 10}. Best is trial 51 with value: 2100770180.8988645.\n",
            "[I 2024-06-08 18:02:15,868] Trial 52 finished with value: 2125787231.8690553 and parameters: {'learning_rate': 0.007412132505038856, 'num_leaves': 245, 'subsample': 0.512775303528474, 'colsample_bytree': 0.4453280439734826, 'min_data_in_leaf': 16}. Best is trial 51 with value: 2100770180.8988645.\n",
            "[I 2024-06-08 18:02:16,965] Trial 53 finished with value: 2096232628.403332 and parameters: {'learning_rate': 0.006269849029838951, 'num_leaves': 186, 'subsample': 0.46891878611665055, 'colsample_bytree': 0.36757433495712505, 'min_data_in_leaf': 10}. Best is trial 53 with value: 2096232628.403332.\n",
            "[I 2024-06-08 18:02:18,830] Trial 54 finished with value: 2059606519.8629942 and parameters: {'learning_rate': 0.0036385674003385966, 'num_leaves': 199, 'subsample': 0.4557662651982102, 'colsample_bytree': 0.4239966498095505, 'min_data_in_leaf': 4}. Best is trial 54 with value: 2059606519.8629942.\n",
            "[I 2024-06-08 18:02:20,238] Trial 55 finished with value: 2121071503.9396842 and parameters: {'learning_rate': 0.0028924880548538688, 'num_leaves': 194, 'subsample': 0.4618233154866561, 'colsample_bytree': 0.3607021300298757, 'min_data_in_leaf': 5}. Best is trial 54 with value: 2059606519.8629942.\n",
            "[I 2024-06-08 18:02:22,626] Trial 56 finished with value: 2032877167.937932 and parameters: {'learning_rate': 0.005853766801329963, 'num_leaves': 341, 'subsample': 0.5606215444387554, 'colsample_bytree': 0.38030396454296145, 'min_data_in_leaf': 3}. Best is trial 56 with value: 2032877167.937932.\n",
            "[I 2024-06-08 18:02:25,491] Trial 57 finished with value: 2095419269.3484492 and parameters: {'learning_rate': 0.0038915295135836824, 'num_leaves': 335, 'subsample': 0.5889795660142162, 'colsample_bytree': 0.2049791345632827, 'min_data_in_leaf': 1}. Best is trial 56 with value: 2032877167.937932.\n",
            "[I 2024-06-08 18:02:27,779] Trial 58 finished with value: 2084659762.2165241 and parameters: {'learning_rate': 0.004097370547783876, 'num_leaves': 336, 'subsample': 0.5835718468489739, 'colsample_bytree': 0.21140566274471706, 'min_data_in_leaf': 1}. Best is trial 56 with value: 2032877167.937932.\n",
            "[I 2024-06-08 18:02:28,631] Trial 59 finished with value: 2239296430.7357254 and parameters: {'learning_rate': 0.003691449383028342, 'num_leaves': 337, 'subsample': 0.5834164232420536, 'colsample_bytree': 0.19137552207857145, 'min_data_in_leaf': 4}. Best is trial 56 with value: 2032877167.937932.\n",
            "[I 2024-06-08 18:02:29,122] Trial 60 finished with value: 2425526118.095807 and parameters: {'learning_rate': 0.0020765001384521584, 'num_leaves': 500, 'subsample': 0.6045808058809654, 'colsample_bytree': 0.22775994334061725, 'min_data_in_leaf': 53}. Best is trial 56 with value: 2032877167.937932.\n",
            "[I 2024-06-08 18:02:30,541] Trial 61 finished with value: 2132028427.1597552 and parameters: {'learning_rate': 0.005719303456719676, 'num_leaves': 424, 'subsample': 0.7020456064749329, 'colsample_bytree': 0.1232997952969427, 'min_data_in_leaf': 1}. Best is trial 56 with value: 2032877167.937932.\n",
            "[I 2024-06-08 18:02:35,664] Trial 62 finished with value: 2072246745.1533837 and parameters: {'learning_rate': 0.002755498380115517, 'num_leaves': 345, 'subsample': 0.464647172313997, 'colsample_bytree': 0.34760721868735933, 'min_data_in_leaf': 1}. Best is trial 56 with value: 2032877167.937932.\n",
            "[I 2024-06-08 18:02:37,993] Trial 63 finished with value: 2106314273.6410449 and parameters: {'learning_rate': 0.0031139783384354176, 'num_leaves': 357, 'subsample': 0.475235371399971, 'colsample_bytree': 0.3317124901359875, 'min_data_in_leaf': 4}. Best is trial 56 with value: 2032877167.937932.\n",
            "[I 2024-06-08 18:02:38,791] Trial 64 finished with value: 2259891155.6900926 and parameters: {'learning_rate': 0.0018732212669957385, 'num_leaves': 300, 'subsample': 0.5460081658423315, 'colsample_bytree': 0.38532951934053855, 'min_data_in_leaf': 15}. Best is trial 56 with value: 2032877167.937932.\n",
            "[I 2024-06-08 18:02:42,357] Trial 65 finished with value: 2041791249.5855074 and parameters: {'learning_rate': 0.004833416531154081, 'num_leaves': 387, 'subsample': 0.4368262926158915, 'colsample_bytree': 0.25971889143804294, 'min_data_in_leaf': 1}. Best is trial 56 with value: 2032877167.937932.\n",
            "[I 2024-06-08 18:02:43,624] Trial 66 finished with value: 2170866624.601652 and parameters: {'learning_rate': 0.0025990563355784858, 'num_leaves': 459, 'subsample': 0.6519111890383079, 'colsample_bytree': 0.25415668251307083, 'min_data_in_leaf': 3}. Best is trial 56 with value: 2032877167.937932.\n",
            "[I 2024-06-08 18:02:47,594] Trial 67 finished with value: 2032229206.361289 and parameters: {'learning_rate': 0.0044136167118330825, 'num_leaves': 554, 'subsample': 0.576378574534008, 'colsample_bytree': 0.3032516617461669, 'min_data_in_leaf': 1}. Best is trial 67 with value: 2032229206.361289.\n",
            "[I 2024-06-08 18:02:48,957] Trial 68 finished with value: 2112162541.905023 and parameters: {'learning_rate': 0.003784644523155804, 'num_leaves': 641, 'subsample': 0.5870760070953703, 'colsample_bytree': 0.29047017268344255, 'min_data_in_leaf': 7}. Best is trial 67 with value: 2032229206.361289.\n",
            "[I 2024-06-08 18:02:51,659] Trial 69 finished with value: 2518554080.14595 and parameters: {'learning_rate': 0.0015656988117730456, 'num_leaves': 566, 'subsample': 0.6831243823073672, 'colsample_bytree': 0.1544353488697762, 'min_data_in_leaf': 1}. Best is trial 67 with value: 2032229206.361289.\n",
            "[I 2024-06-08 18:02:52,275] Trial 70 finished with value: 2138074572.7018607 and parameters: {'learning_rate': 0.004975831371609077, 'num_leaves': 535, 'subsample': 0.7852436276048824, 'colsample_bytree': 0.21807081596404385, 'min_data_in_leaf': 20}. Best is trial 67 with value: 2032229206.361289.\n",
            "[I 2024-06-08 18:02:53,548] Trial 71 finished with value: 2100546555.0777926 and parameters: {'learning_rate': 0.0038950955646325867, 'num_leaves': 400, 'subsample': 0.4904036633828683, 'colsample_bytree': 0.3104738750428901, 'min_data_in_leaf': 6}. Best is trial 67 with value: 2032229206.361289.\n",
            "[I 2024-06-08 18:02:56,580] Trial 72 finished with value: 2019680279.961594 and parameters: {'learning_rate': 0.006519602592464045, 'num_leaves': 398, 'subsample': 0.5351806910363276, 'colsample_bytree': 0.2641044029397026, 'min_data_in_leaf': 1}. Best is trial 72 with value: 2019680279.961594.\n",
            "[I 2024-06-08 18:02:59,452] Trial 73 finished with value: 2078166256.4801579 and parameters: {'learning_rate': 0.00351752598288192, 'num_leaves': 471, 'subsample': 0.6214634130792455, 'colsample_bytree': 0.25136778191759646, 'min_data_in_leaf': 1}. Best is trial 72 with value: 2019680279.961594.\n",
            "[I 2024-06-08 18:03:00,650] Trial 74 finished with value: 2150029871.342287 and parameters: {'learning_rate': 0.002507337939018806, 'num_leaves': 471, 'subsample': 0.5415022225007051, 'colsample_bytree': 0.3229632329720556, 'min_data_in_leaf': 4}. Best is trial 72 with value: 2019680279.961594.\n",
            "[I 2024-06-08 18:03:01,571] Trial 75 finished with value: 2066941792.0469987 and parameters: {'learning_rate': 0.006486274708293537, 'num_leaves': 525, 'subsample': 0.634933822065906, 'colsample_bytree': 0.25458616135036377, 'min_data_in_leaf': 7}. Best is trial 72 with value: 2019680279.961594.\n",
            "[I 2024-06-08 18:03:02,870] Trial 76 finished with value: 2084449085.8335924 and parameters: {'learning_rate': 0.005347045772617708, 'num_leaves': 513, 'subsample': 0.6257989268803391, 'colsample_bytree': 0.25304356342507395, 'min_data_in_leaf': 7}. Best is trial 72 with value: 2019680279.961594.\n",
            "[I 2024-06-08 18:03:03,757] Trial 77 finished with value: 2185738726.5908785 and parameters: {'learning_rate': 0.006426738903673269, 'num_leaves': 667, 'subsample': 0.7488169856155525, 'colsample_bytree': 0.4111426554873304, 'min_data_in_leaf': 66}. Best is trial 72 with value: 2019680279.961594.\n",
            "[I 2024-06-08 18:03:05,035] Trial 78 finished with value: 2108449968.7671096 and parameters: {'learning_rate': 0.00972550851067451, 'num_leaves': 534, 'subsample': 0.4434609147732618, 'colsample_bytree': 0.24801805860543968, 'min_data_in_leaf': 13}. Best is trial 72 with value: 2019680279.961594.\n",
            "[I 2024-06-08 18:03:05,493] Trial 79 finished with value: 2391858789.0488005 and parameters: {'learning_rate': 0.003278313362443371, 'num_leaves': 392, 'subsample': 0.5173145718702019, 'colsample_bytree': 0.2851050562637618, 'min_data_in_leaf': 85}. Best is trial 72 with value: 2019680279.961594.\n",
            "[I 2024-06-08 18:03:06,933] Trial 80 finished with value: 2039493874.5460644 and parameters: {'learning_rate': 0.006571673261368127, 'num_leaves': 605, 'subsample': 0.6735747739436302, 'colsample_bytree': 0.3408409912959745, 'min_data_in_leaf': 4}. Best is trial 72 with value: 2019680279.961594.\n",
            "[I 2024-06-08 18:03:08,214] Trial 81 finished with value: 2052610134.021657 and parameters: {'learning_rate': 0.004599458060757586, 'num_leaves': 610, 'subsample': 0.6733751726244985, 'colsample_bytree': 0.3420492213859846, 'min_data_in_leaf': 5}. Best is trial 72 with value: 2019680279.961594.\n",
            "[I 2024-06-08 18:03:09,627] Trial 82 finished with value: 2049876773.9879487 and parameters: {'learning_rate': 0.004723675478035651, 'num_leaves': 572, 'subsample': 0.6619808242229673, 'colsample_bytree': 0.3399424237762183, 'min_data_in_leaf': 4}. Best is trial 72 with value: 2019680279.961594.\n",
            "[I 2024-06-08 18:03:10,779] Trial 83 finished with value: 2080493471.180761 and parameters: {'learning_rate': 0.004546465567915744, 'num_leaves': 708, 'subsample': 0.6820589630096145, 'colsample_bytree': 0.3918170375268016, 'min_data_in_leaf': 8}. Best is trial 72 with value: 2019680279.961594.\n",
            "[I 2024-06-08 18:03:11,277] Trial 84 finished with value: 2326000503.6044693 and parameters: {'learning_rate': 0.006542428714848054, 'num_leaves': 607, 'subsample': 0.8432204369056797, 'colsample_bytree': 0.34050092633009493, 'min_data_in_leaf': 99}. Best is trial 72 with value: 2019680279.961594.\n",
            "[I 2024-06-08 18:03:12,586] Trial 85 finished with value: 2049085475.9778423 and parameters: {'learning_rate': 0.005094118239080234, 'num_leaves': 601, 'subsample': 0.7265342267655402, 'colsample_bytree': 0.30223567119125055, 'min_data_in_leaf': 4}. Best is trial 72 with value: 2019680279.961594.\n",
            "[I 2024-06-08 18:03:13,985] Trial 86 finished with value: 2041400462.4498582 and parameters: {'learning_rate': 0.005179686469914287, 'num_leaves': 620, 'subsample': 0.7275968649405813, 'colsample_bytree': 0.37616729098494794, 'min_data_in_leaf': 5}. Best is trial 72 with value: 2019680279.961594.\n",
            "[I 2024-06-08 18:03:14,784] Trial 87 finished with value: 2094552517.2921412 and parameters: {'learning_rate': 0.005338443883947671, 'num_leaves': 628, 'subsample': 0.7317742047751584, 'colsample_bytree': 0.30195592947960365, 'min_data_in_leaf': 13}. Best is trial 72 with value: 2019680279.961594.\n",
            "[I 2024-06-08 18:03:15,942] Trial 88 finished with value: 2121207526.0427186 and parameters: {'learning_rate': 0.004569987196970706, 'num_leaves': 678, 'subsample': 0.6669092328016576, 'colsample_bytree': 0.3701660756531296, 'min_data_in_leaf': 18}. Best is trial 72 with value: 2019680279.961594.\n",
            "[I 2024-06-08 18:03:17,289] Trial 89 finished with value: 2093839102.6690147 and parameters: {'learning_rate': 0.005775898837448545, 'num_leaves': 766, 'subsample': 0.7875914000106412, 'colsample_bytree': 0.2751312532484263, 'min_data_in_leaf': 9}. Best is trial 72 with value: 2019680279.961594.\n",
            "[I 2024-06-08 18:03:19,305] Trial 90 finished with value: 2071464783.2201276 and parameters: {'learning_rate': 0.009120202019459974, 'num_leaves': 567, 'subsample': 0.7298315049101745, 'colsample_bytree': 0.4753413389350473, 'min_data_in_leaf': 6}. Best is trial 72 with value: 2019680279.961594.\n",
            "[I 2024-06-08 18:03:21,098] Trial 91 finished with value: 2039527348.754022 and parameters: {'learning_rate': 0.004940569511940604, 'num_leaves': 597, 'subsample': 0.7004379809048759, 'colsample_bytree': 0.43228347001840384, 'min_data_in_leaf': 4}. Best is trial 72 with value: 2019680279.961594.\n",
            "[I 2024-06-08 18:03:22,775] Trial 92 finished with value: 2037029887.422293 and parameters: {'learning_rate': 0.004789205931411745, 'num_leaves': 601, 'subsample': 0.8421550330004957, 'colsample_bytree': 0.3122206163877649, 'min_data_in_leaf': 3}. Best is trial 72 with value: 2019680279.961594.\n",
            "[I 2024-06-08 18:03:24,545] Trial 93 finished with value: 2033280071.154288 and parameters: {'learning_rate': 0.005183101598133101, 'num_leaves': 580, 'subsample': 0.8600764735953704, 'colsample_bytree': 0.3206566555445036, 'min_data_in_leaf': 3}. Best is trial 72 with value: 2019680279.961594.\n",
            "[I 2024-06-08 18:03:25,447] Trial 94 finished with value: 2082147939.8772764 and parameters: {'learning_rate': 0.007069268718570074, 'num_leaves': 595, 'subsample': 0.8769428915854632, 'colsample_bytree': 0.31791104267226805, 'min_data_in_leaf': 11}. Best is trial 72 with value: 2019680279.961594.\n",
            "[I 2024-06-08 18:03:27,493] Trial 95 finished with value: 2032291516.0183203 and parameters: {'learning_rate': 0.005358835946899595, 'num_leaves': 666, 'subsample': 0.8313348871415147, 'colsample_bytree': 0.38673339525585426, 'min_data_in_leaf': 3}. Best is trial 72 with value: 2019680279.961594.\n",
            "[I 2024-06-08 18:03:30,765] Trial 96 finished with value: 2053322499.3671186 and parameters: {'learning_rate': 0.008021328567326399, 'num_leaves': 773, 'subsample': 0.8305558331373897, 'colsample_bytree': 0.3770687788795667, 'min_data_in_leaf': 3}. Best is trial 72 with value: 2019680279.961594.\n",
            "[I 2024-06-08 18:03:32,451] Trial 97 finished with value: 2080296827.3533945 and parameters: {'learning_rate': 0.005675965539985971, 'num_leaves': 660, 'subsample': 0.9276958831049575, 'colsample_bytree': 0.4096576998587877, 'min_data_in_leaf': 10}. Best is trial 72 with value: 2019680279.961594.\n",
            "[I 2024-06-08 18:03:35,005] Trial 98 finished with value: 2038788775.3970215 and parameters: {'learning_rate': 0.004206116350165203, 'num_leaves': 697, 'subsample': 0.8259226822332402, 'colsample_bytree': 0.4587794741421325, 'min_data_in_leaf': 3}. Best is trial 72 with value: 2019680279.961594.\n",
            "[I 2024-06-08 18:03:36,037] Trial 99 finished with value: 2101383848.6025338 and parameters: {'learning_rate': 0.004237619752704234, 'num_leaves': 696, 'subsample': 0.8952252217417811, 'colsample_bytree': 0.4505549179494985, 'min_data_in_leaf': 15}. Best is trial 72 with value: 2019680279.961594.\n",
            "[I 2024-06-08 18:03:37,323] Trial 100 finished with value: 2055811574.7403574 and parameters: {'learning_rate': 0.006765685610381221, 'num_leaves': 735, 'subsample': 0.8369984061042754, 'colsample_bytree': 0.42730474362347287, 'min_data_in_leaf': 8}. Best is trial 72 with value: 2019680279.961594.\n",
            "[I 2024-06-08 18:03:39,500] Trial 101 finished with value: 2039899121.0488167 and parameters: {'learning_rate': 0.0060154801011906515, 'num_leaves': 643, 'subsample': 0.8934749177033722, 'colsample_bytree': 0.39780394966194527, 'min_data_in_leaf': 3}. Best is trial 72 with value: 2019680279.961594.\n",
            "[I 2024-06-08 18:03:42,139] Trial 102 finished with value: 2053891412.5271184 and parameters: {'learning_rate': 0.006003288050158386, 'num_leaves': 638, 'subsample': 0.8723191605659049, 'colsample_bytree': 0.4686297843958033, 'min_data_in_leaf': 3}. Best is trial 72 with value: 2019680279.961594.\n",
            "[I 2024-06-08 18:03:44,421] Trial 103 finished with value: 2053332424.2081244 and parameters: {'learning_rate': 0.008872288890057691, 'num_leaves': 556, 'subsample': 0.8145972441797145, 'colsample_bytree': 0.5002192286221023, 'min_data_in_leaf': 7}. Best is trial 72 with value: 2019680279.961594.\n",
            "[I 2024-06-08 18:03:46,331] Trial 104 finished with value: 2078236317.216593 and parameters: {'learning_rate': 0.003368892587091972, 'num_leaves': 710, 'subsample': 0.7795878256798369, 'colsample_bytree': 0.3946774517561518, 'min_data_in_leaf': 6}. Best is trial 72 with value: 2019680279.961594.\n",
            "[I 2024-06-08 18:03:47,086] Trial 105 finished with value: 2143389113.4693053 and parameters: {'learning_rate': 0.004172429369850941, 'num_leaves': 617, 'subsample': 0.9015673400572378, 'colsample_bytree': 0.5300998565491898, 'min_data_in_leaf': 46}. Best is trial 72 with value: 2019680279.961594.\n",
            "[I 2024-06-08 18:03:48,204] Trial 106 finished with value: 2100401647.653909 and parameters: {'learning_rate': 0.01104561405865989, 'num_leaves': 759, 'subsample': 0.9451473122271565, 'colsample_bytree': 0.43325794611911705, 'min_data_in_leaf': 12}. Best is trial 72 with value: 2019680279.961594.\n",
            "[I 2024-06-08 18:03:50,458] Trial 107 finished with value: 2035704499.7739906 and parameters: {'learning_rate': 0.005439727393175358, 'num_leaves': 819, 'subsample': 0.7646019405389628, 'colsample_bytree': 0.413101153725798, 'min_data_in_leaf': 3}. Best is trial 72 with value: 2019680279.961594.\n",
            "[I 2024-06-08 18:03:53,470] Trial 108 finished with value: 2030428966.8084764 and parameters: {'learning_rate': 0.007515730090877594, 'num_leaves': 876, 'subsample': 0.865254993978188, 'colsample_bytree': 0.3611742918155512, 'min_data_in_leaf': 2}. Best is trial 72 with value: 2019680279.961594.\n",
            "[I 2024-06-08 18:03:54,558] Trial 109 finished with value: 2078770948.91475 and parameters: {'learning_rate': 0.007507157302397515, 'num_leaves': 901, 'subsample': 0.7574014742450931, 'colsample_bytree': 0.35602563349238064, 'min_data_in_leaf': 9}. Best is trial 72 with value: 2019680279.961594.\n",
            "[I 2024-06-08 18:03:56,700] Trial 110 finished with value: 2042462122.0323112 and parameters: {'learning_rate': 0.008487995907004789, 'num_leaves': 882, 'subsample': 0.8451115611223301, 'colsample_bytree': 0.3251488381723953, 'min_data_in_leaf': 3}. Best is trial 72 with value: 2019680279.961594.\n",
            "[I 2024-06-08 18:04:00,197] Trial 111 finished with value: 2038305199.684605 and parameters: {'learning_rate': 0.005986964306603967, 'num_leaves': 939, 'subsample': 0.8615073586601021, 'colsample_bytree': 0.3987964948368618, 'min_data_in_leaf': 3}. Best is trial 72 with value: 2019680279.961594.\n",
            "[I 2024-06-08 18:04:04,483] Trial 112 finished with value: 2024453622.4868367 and parameters: {'learning_rate': 0.007111011174808911, 'num_leaves': 939, 'subsample': 0.8595507904132111, 'colsample_bytree': 0.3669935501171881, 'min_data_in_leaf': 2}. Best is trial 72 with value: 2019680279.961594.\n",
            "[I 2024-06-08 18:04:07,520] Trial 113 finished with value: 2023987960.1426327 and parameters: {'learning_rate': 0.0070853030289507336, 'num_leaves': 1014, 'subsample': 0.8560884188753635, 'colsample_bytree': 0.3604526722013609, 'min_data_in_leaf': 2}. Best is trial 72 with value: 2019680279.961594.\n",
            "[I 2024-06-08 18:04:11,757] Trial 114 finished with value: 2067394684.4725878 and parameters: {'learning_rate': 0.01029838307263765, 'num_leaves': 1011, 'subsample': 0.8610422690036212, 'colsample_bytree': 0.4129078590891011, 'min_data_in_leaf': 2}. Best is trial 72 with value: 2019680279.961594.\n",
            "[I 2024-06-08 18:04:13,794] Trial 115 finished with value: 2056055390.3653154 and parameters: {'learning_rate': 0.007923402505388354, 'num_leaves': 940, 'subsample': 0.9579073421338902, 'colsample_bytree': 0.35972573065064306, 'min_data_in_leaf': 6}. Best is trial 72 with value: 2019680279.961594.\n",
            "[I 2024-06-08 18:04:15,152] Trial 116 finished with value: 2075797493.0123212 and parameters: {'learning_rate': 0.0071812224096373944, 'num_leaves': 966, 'subsample': 0.9150095265879775, 'colsample_bytree': 0.46113239177332965, 'min_data_in_leaf': 9}. Best is trial 72 with value: 2019680279.961594.\n",
            "[I 2024-06-08 18:04:19,294] Trial 117 finished with value: 2032382727.484793 and parameters: {'learning_rate': 0.005410774897701177, 'num_leaves': 867, 'subsample': 0.8176260211080782, 'colsample_bytree': 0.2909786256330602, 'min_data_in_leaf': 1}. Best is trial 72 with value: 2019680279.961594.\n",
            "[I 2024-06-08 18:04:23,282] Trial 118 finished with value: 2029690927.9099252 and parameters: {'learning_rate': 0.0055110616327582705, 'num_leaves': 845, 'subsample': 0.8699004751270613, 'colsample_bytree': 0.27453423468557747, 'min_data_in_leaf': 1}. Best is trial 72 with value: 2019680279.961594.\n",
            "[I 2024-06-08 18:04:27,617] Trial 119 finished with value: 2039277818.5043645 and parameters: {'learning_rate': 0.005537367177560551, 'num_leaves': 826, 'subsample': 0.803709948601572, 'colsample_bytree': 0.23345750921326525, 'min_data_in_leaf': 1}. Best is trial 72 with value: 2019680279.961594.\n",
            "[I 2024-06-08 18:04:28,742] Trial 120 finished with value: 2052354854.411069 and parameters: {'learning_rate': 0.00660906927605885, 'num_leaves': 832, 'subsample': 0.9847090179483347, 'colsample_bytree': 0.27939305108530565, 'min_data_in_leaf': 6}. Best is trial 72 with value: 2019680279.961594.\n",
            "[I 2024-06-08 18:04:32,975] Trial 121 finished with value: 2026417949.6821153 and parameters: {'learning_rate': 0.006005504435735523, 'num_leaves': 868, 'subsample': 0.8697082851632523, 'colsample_bytree': 0.29650329946090703, 'min_data_in_leaf': 1}. Best is trial 72 with value: 2019680279.961594.\n",
            "[I 2024-06-08 18:04:37,656] Trial 122 finished with value: 2031488016.2675228 and parameters: {'learning_rate': 0.005225776094438142, 'num_leaves': 877, 'subsample': 0.8546363872823964, 'colsample_bytree': 0.3019768377852156, 'min_data_in_leaf': 1}. Best is trial 72 with value: 2019680279.961594.\n",
            "[I 2024-06-08 18:04:42,311] Trial 123 finished with value: 2530907603.418957 and parameters: {'learning_rate': 0.0010113801276382518, 'num_leaves': 874, 'subsample': 0.8041408477711733, 'colsample_bytree': 0.27534282286289224, 'min_data_in_leaf': 1}. Best is trial 72 with value: 2019680279.961594.\n",
            "[I 2024-06-08 18:04:43,356] Trial 124 finished with value: 2066929558.938806 and parameters: {'learning_rate': 0.0053088806192330695, 'num_leaves': 891, 'subsample': 0.8822063420720494, 'colsample_bytree': 0.30501126439550413, 'min_data_in_leaf': 8}. Best is trial 72 with value: 2019680279.961594.\n",
            "[I 2024-06-08 18:04:46,720] Trial 125 finished with value: 2025165944.2600586 and parameters: {'learning_rate': 0.007082819911502678, 'num_leaves': 915, 'subsample': 0.9231441463229745, 'colsample_bytree': 0.23475453700251658, 'min_data_in_leaf': 1}. Best is trial 72 with value: 2019680279.961594.\n",
            "[I 2024-06-08 18:04:51,821] Trial 126 finished with value: 2029926093.741896 and parameters: {'learning_rate': 0.007472738683042282, 'num_leaves': 854, 'subsample': 0.9561406176435292, 'colsample_bytree': 0.2935074505078821, 'min_data_in_leaf': 1}. Best is trial 72 with value: 2019680279.961594.\n",
            "[I 2024-06-08 18:04:53,001] Trial 127 finished with value: 2095618096.473767 and parameters: {'learning_rate': 0.00815083946132046, 'num_leaves': 856, 'subsample': 0.9627269820134674, 'colsample_bytree': 0.15671482542474396, 'min_data_in_leaf': 6}. Best is trial 72 with value: 2019680279.961594.\n",
            "[I 2024-06-08 18:04:55,817] Trial 128 finished with value: 2038071867.5956833 and parameters: {'learning_rate': 0.009285424818548485, 'num_leaves': 914, 'subsample': 0.9993359567344405, 'colsample_bytree': 0.1795104956498904, 'min_data_in_leaf': 1}. Best is trial 72 with value: 2019680279.961594.\n",
            "[I 2024-06-08 18:04:59,035] Trial 129 finished with value: 2028083676.1270256 and parameters: {'learning_rate': 0.0072227055534309186, 'num_leaves': 798, 'subsample': 0.9288721599239508, 'colsample_bytree': 0.23121706740987652, 'min_data_in_leaf': 1}. Best is trial 72 with value: 2019680279.961594.\n",
            "[I 2024-06-08 18:04:59,640] Trial 130 finished with value: 2139289229.308877 and parameters: {'learning_rate': 0.007195274332099735, 'num_leaves': 802, 'subsample': 0.9018138794549923, 'colsample_bytree': 0.23240070529495593, 'min_data_in_leaf': 35}. Best is trial 72 with value: 2019680279.961594.\n",
            "[I 2024-06-08 18:05:02,274] Trial 131 finished with value: 2043062150.2285025 and parameters: {'learning_rate': 0.006003813824544168, 'num_leaves': 985, 'subsample': 0.939770367108602, 'colsample_bytree': 0.19048362817376524, 'min_data_in_leaf': 1}. Best is trial 72 with value: 2019680279.961594.\n",
            "[I 2024-06-08 18:05:03,598] Trial 132 finished with value: 2048663945.7396555 and parameters: {'learning_rate': 0.011216968209310047, 'num_leaves': 859, 'subsample': 0.9329609039907452, 'colsample_bytree': 0.2940099489819486, 'min_data_in_leaf': 5}. Best is trial 72 with value: 2019680279.961594.\n",
            "[I 2024-06-08 18:05:08,894] Trial 133 finished with value: 2018889981.3767686 and parameters: {'learning_rate': 0.006833977455072198, 'num_leaves': 919, 'subsample': 0.9547278726573168, 'colsample_bytree': 0.2698661544550345, 'min_data_in_leaf': 1}. Best is trial 133 with value: 2018889981.3767686.\n",
            "[I 2024-06-08 18:05:12,705] Trial 134 finished with value: 2018935295.2492344 and parameters: {'learning_rate': 0.007658423198754548, 'num_leaves': 919, 'subsample': 0.915509075705157, 'colsample_bytree': 0.26323391970684473, 'min_data_in_leaf': 1}. Best is trial 133 with value: 2018889981.3767686.\n",
            "[I 2024-06-08 18:05:13,612] Trial 135 finished with value: 2066624527.797806 and parameters: {'learning_rate': 0.008646680034176782, 'num_leaves': 925, 'subsample': 0.9673739742576353, 'colsample_bytree': 0.20752957452532464, 'min_data_in_leaf': 6}. Best is trial 133 with value: 2018889981.3767686.\n",
            "[I 2024-06-08 18:05:14,835] Trial 136 finished with value: 2040819394.7186165 and parameters: {'learning_rate': 0.007705074867516233, 'num_leaves': 1021, 'subsample': 0.9138866125394868, 'colsample_bytree': 0.2657536328963923, 'min_data_in_leaf': 5}. Best is trial 133 with value: 2018889981.3767686.\n",
            "[I 2024-06-08 18:05:15,314] Trial 137 finished with value: 2206332111.411661 and parameters: {'learning_rate': 0.010009334463899386, 'num_leaves': 962, 'subsample': 0.9175712845912052, 'colsample_bytree': 0.23289061805299385, 'min_data_in_leaf': 56}. Best is trial 133 with value: 2018889981.3767686.\n",
            "[I 2024-06-08 18:05:16,154] Trial 138 finished with value: 2075978809.9503052 and parameters: {'learning_rate': 0.006891978169953396, 'num_leaves': 793, 'subsample': 0.9428087776923221, 'colsample_bytree': 0.24171388528408622, 'min_data_in_leaf': 8}. Best is trial 133 with value: 2018889981.3767686.\n",
            "[I 2024-06-08 18:05:16,694] Trial 139 finished with value: 2162652329.5239673 and parameters: {'learning_rate': 0.006459746242655969, 'num_leaves': 908, 'subsample': 0.8809131454750057, 'colsample_bytree': 0.12489065324625687, 'min_data_in_leaf': 11}. Best is trial 133 with value: 2018889981.3767686.\n",
            "[I 2024-06-08 18:05:17,217] Trial 140 finished with value: 2322227833.929957 and parameters: {'learning_rate': 0.008058410067253097, 'num_leaves': 982, 'subsample': 0.9736588138961284, 'colsample_bytree': 0.2668538369667136, 'min_data_in_leaf': 95}. Best is trial 133 with value: 2018889981.3767686.\n",
            "[I 2024-06-08 18:05:22,619] Trial 141 finished with value: 2029355097.1983757 and parameters: {'learning_rate': 0.007239153807070392, 'num_leaves': 860, 'subsample': 0.8599394139706505, 'colsample_bytree': 0.28516913807167094, 'min_data_in_leaf': 1}. Best is trial 133 with value: 2018889981.3767686.\n",
            "[I 2024-06-08 18:05:25,494] Trial 142 finished with value: 2032386039.7933652 and parameters: {'learning_rate': 0.006985990619131424, 'num_leaves': 936, 'subsample': 0.857004557009393, 'colsample_bytree': 0.21026094075830698, 'min_data_in_leaf': 1}. Best is trial 133 with value: 2018889981.3767686.\n",
            "[I 2024-06-08 18:05:26,740] Trial 143 finished with value: 2044773708.5034804 and parameters: {'learning_rate': 0.009376153960691025, 'num_leaves': 851, 'subsample': 0.8898358419888355, 'colsample_bytree': 0.27707518617760474, 'min_data_in_leaf': 5}. Best is trial 133 with value: 2018889981.3767686.\n",
            "[I 2024-06-08 18:05:32,186] Trial 144 finished with value: 2040938398.4831135 and parameters: {'learning_rate': 0.007308128620973613, 'num_leaves': 889, 'subsample': 0.9108790267303152, 'colsample_bytree': 0.33092600565239855, 'min_data_in_leaf': 1}. Best is trial 133 with value: 2018889981.3767686.\n",
            "[I 2024-06-08 18:05:34,759] Trial 145 finished with value: 2204861292.6177664 and parameters: {'learning_rate': 0.09332913510634111, 'num_leaves': 842, 'subsample': 0.9515276276144287, 'colsample_bytree': 0.29572334582746396, 'min_data_in_leaf': 3}. Best is trial 133 with value: 2018889981.3767686.\n",
            "[I 2024-06-08 18:05:35,928] Trial 146 finished with value: 2046077824.1631832 and parameters: {'learning_rate': 0.006223970267207688, 'num_leaves': 807, 'subsample': 0.8752230415937396, 'colsample_bytree': 0.2617197531189739, 'min_data_in_leaf': 5}. Best is trial 133 with value: 2018889981.3767686.\n",
            "[I 2024-06-08 18:05:36,963] Trial 147 finished with value: 2036681402.1324127 and parameters: {'learning_rate': 0.00837978149988101, 'num_leaves': 924, 'subsample': 0.9992096320232062, 'colsample_bytree': 0.30894519537972615, 'min_data_in_leaf': 8}. Best is trial 133 with value: 2018889981.3767686.\n",
            "[I 2024-06-08 18:05:38,295] Trial 148 finished with value: 2038222259.6339064 and parameters: {'learning_rate': 0.007583109640236132, 'num_leaves': 1004, 'subsample': 0.9322201921033493, 'colsample_bytree': 0.22007150714158388, 'min_data_in_leaf': 3}. Best is trial 133 with value: 2018889981.3767686.\n",
            "[I 2024-06-08 18:05:43,402] Trial 149 finished with value: 2035123537.096955 and parameters: {'learning_rate': 0.006309563823031647, 'num_leaves': 878, 'subsample': 0.8546121517331925, 'colsample_bytree': 0.34784263047377195, 'min_data_in_leaf': 1}. Best is trial 133 with value: 2018889981.3767686.\n",
            "[I 2024-06-08 18:05:44,504] Trial 150 finished with value: 2044280663.8131797 and parameters: {'learning_rate': 0.009251776283857835, 'num_leaves': 953, 'subsample': 0.9243254904197117, 'colsample_bytree': 0.2849201023926709, 'min_data_in_leaf': 7}. Best is trial 133 with value: 2018889981.3767686.\n",
            "[I 2024-06-08 18:05:47,474] Trial 151 finished with value: 2034642132.369319 and parameters: {'learning_rate': 0.005703871335845174, 'num_leaves': 867, 'subsample': 0.8211268652205579, 'colsample_bytree': 0.24829620194537852, 'min_data_in_leaf': 2}. Best is trial 133 with value: 2018889981.3767686.\n",
            "[I 2024-06-08 18:05:49,104] Trial 152 finished with value: 2038678950.914224 and parameters: {'learning_rate': 0.006880530054408822, 'num_leaves': 914, 'subsample': 0.895362684596441, 'colsample_bytree': 0.2942172611594631, 'min_data_in_leaf': 4}. Best is trial 133 with value: 2018889981.3767686.\n",
            "[I 2024-06-08 18:05:53,755] Trial 153 finished with value: 2037511747.3157923 and parameters: {'learning_rate': 0.004419946617572149, 'num_leaves': 848, 'subsample': 0.828429190712532, 'colsample_bytree': 0.3212932588428909, 'min_data_in_leaf': 1}. Best is trial 133 with value: 2018889981.3767686.\n",
            "[I 2024-06-08 18:05:54,921] Trial 154 finished with value: 2052804150.2210526 and parameters: {'learning_rate': 0.005626413538710459, 'num_leaves': 893, 'subsample': 0.8702685804762732, 'colsample_bytree': 0.2679993998704953, 'min_data_in_leaf': 5}. Best is trial 133 with value: 2018889981.3767686.\n",
            "[I 2024-06-08 18:05:58,416] Trial 155 finished with value: 2043827988.8313289 and parameters: {'learning_rate': 0.0049652831233783995, 'num_leaves': 831, 'subsample': 0.8002965373221533, 'colsample_bytree': 0.24284502717376327, 'min_data_in_leaf': 1}. Best is trial 133 with value: 2018889981.3767686.\n",
            "[I 2024-06-08 18:06:01,062] Trial 156 finished with value: 2030538892.4561 and parameters: {'learning_rate': 0.006386414768621022, 'num_leaves': 868, 'subsample': 0.8423156899815097, 'colsample_bytree': 0.2894000378714163, 'min_data_in_leaf': 3}. Best is trial 133 with value: 2018889981.3767686.\n",
            "[I 2024-06-08 18:06:02,394] Trial 157 finished with value: 2048748484.8561797 and parameters: {'learning_rate': 0.007858510660064471, 'num_leaves': 780, 'subsample': 0.9053142456671168, 'colsample_bytree': 0.19349055815299115, 'min_data_in_leaf': 3}. Best is trial 133 with value: 2018889981.3767686.\n",
            "[I 2024-06-08 18:06:03,584] Trial 158 finished with value: 2043241052.9343476 and parameters: {'learning_rate': 0.006462896507070749, 'num_leaves': 901, 'subsample': 0.8469285396071512, 'colsample_bytree': 0.3313423450977564, 'min_data_in_leaf': 7}. Best is trial 133 with value: 2018889981.3767686.\n",
            "[I 2024-06-08 18:06:04,984] Trial 159 finished with value: 2042672710.7391992 and parameters: {'learning_rate': 0.006948765119850766, 'num_leaves': 954, 'subsample': 0.8873761891861184, 'colsample_bytree': 0.31442008215973577, 'min_data_in_leaf': 5}. Best is trial 133 with value: 2018889981.3767686.\n",
            "[I 2024-06-08 18:06:06,141] Trial 160 finished with value: 2222271020.049923 and parameters: {'learning_rate': 0.07033693748980298, 'num_leaves': 975, 'subsample': 0.9516244942757481, 'colsample_bytree': 0.35584941789530644, 'min_data_in_leaf': 9}. Best is trial 133 with value: 2018889981.3767686.\n",
            "[I 2024-06-08 18:06:07,773] Trial 161 finished with value: 2033765140.1285532 and parameters: {'learning_rate': 0.005859064996279086, 'num_leaves': 866, 'subsample': 0.8188178938434798, 'colsample_bytree': 0.28870418436325684, 'min_data_in_leaf': 3}. Best is trial 133 with value: 2018889981.3767686.\n",
            "[I 2024-06-08 18:06:11,573] Trial 162 finished with value: 2025892140.40016 and parameters: {'learning_rate': 0.007507437746836196, 'num_leaves': 881, 'subsample': 0.8492321541972371, 'colsample_bytree': 0.2618133576728231, 'min_data_in_leaf': 1}. Best is trial 133 with value: 2018889981.3767686.\n",
            "[I 2024-06-08 18:06:13,654] Trial 163 finished with value: 2035679030.8256803 and parameters: {'learning_rate': 0.008597454894306786, 'num_leaves': 925, 'subsample': 0.8683500766864455, 'colsample_bytree': 0.22238073075183096, 'min_data_in_leaf': 3}. Best is trial 133 with value: 2018889981.3767686.\n",
            "[I 2024-06-08 18:06:17,770] Trial 164 finished with value: 2024898481.388898 and parameters: {'learning_rate': 0.007366342381206248, 'num_leaves': 814, 'subsample': 0.8490907479789063, 'colsample_bytree': 0.25955177945888525, 'min_data_in_leaf': 1}. Best is trial 133 with value: 2018889981.3767686.\n",
            "[I 2024-06-08 18:06:21,391] Trial 165 finished with value: 2026360600.2673066 and parameters: {'learning_rate': 0.007521875643177878, 'num_leaves': 819, 'subsample': 0.8414161844602355, 'colsample_bytree': 0.2588737975636037, 'min_data_in_leaf': 1}. Best is trial 133 with value: 2018889981.3767686.\n",
            "[I 2024-06-08 18:06:22,301] Trial 166 finished with value: 2074465624.4139085 and parameters: {'learning_rate': 0.007414889472752307, 'num_leaves': 828, 'subsample': 0.8462524640463863, 'colsample_bytree': 0.16756904971865655, 'min_data_in_leaf': 5}. Best is trial 133 with value: 2018889981.3767686.\n",
            "[I 2024-06-08 18:06:26,612] Trial 167 finished with value: 2021711288.14913 and parameters: {'learning_rate': 0.00839043026094576, 'num_leaves': 804, 'subsample': 0.9236245713563582, 'colsample_bytree': 0.25756223121444444, 'min_data_in_leaf': 1}. Best is trial 133 with value: 2018889981.3767686.\n",
            "[I 2024-06-08 18:06:28,357] Trial 168 finished with value: 2050179010.2746375 and parameters: {'learning_rate': 0.010874864560673365, 'num_leaves': 809, 'subsample': 0.9187259428334921, 'colsample_bytree': 0.2564058112851541, 'min_data_in_leaf': 6}. Best is trial 133 with value: 2018889981.3767686.\n",
            "[I 2024-06-08 18:06:29,912] Trial 169 finished with value: 2043445140.333752 and parameters: {'learning_rate': 0.009857767276695155, 'num_leaves': 847, 'subsample': 0.9742172055774679, 'colsample_bytree': 0.24688859712163438, 'min_data_in_leaf': 3}. Best is trial 133 with value: 2018889981.3767686.\n",
            "[I 2024-06-08 18:06:32,955] Trial 170 finished with value: 2028219391.7446947 and parameters: {'learning_rate': 0.008764669745364825, 'num_leaves': 798, 'subsample': 0.8798079371438143, 'colsample_bytree': 0.222587894586536, 'min_data_in_leaf': 1}. Best is trial 133 with value: 2018889981.3767686.\n",
            "[I 2024-06-08 18:06:35,949] Trial 171 finished with value: 2028106759.4689026 and parameters: {'learning_rate': 0.008749221182413093, 'num_leaves': 751, 'subsample': 0.8904703241693944, 'colsample_bytree': 0.22494255396601695, 'min_data_in_leaf': 1}. Best is trial 133 with value: 2018889981.3767686.\n",
            "[I 2024-06-08 18:06:38,867] Trial 172 finished with value: 2027588525.219403 and parameters: {'learning_rate': 0.008691869114301719, 'num_leaves': 756, 'subsample': 0.8871415641147193, 'colsample_bytree': 0.20857892933068925, 'min_data_in_leaf': 1}. Best is trial 133 with value: 2018889981.3767686.\n",
            "[I 2024-06-08 18:06:42,545] Trial 173 finished with value: 2021306344.6628563 and parameters: {'learning_rate': 0.008775480983864232, 'num_leaves': 751, 'subsample': 0.8961207914473827, 'colsample_bytree': 0.19992676203103413, 'min_data_in_leaf': 1}. Best is trial 133 with value: 2018889981.3767686.\n",
            "[I 2024-06-08 18:06:45,164] Trial 174 finished with value: 2020157123.1903632 and parameters: {'learning_rate': 0.009049409972596695, 'num_leaves': 744, 'subsample': 0.8941200134008727, 'colsample_bytree': 0.1999739424926361, 'min_data_in_leaf': 1}. Best is trial 133 with value: 2018889981.3767686.\n",
            "[I 2024-06-08 18:06:46,220] Trial 175 finished with value: 2056917953.1959832 and parameters: {'learning_rate': 0.011744406965931571, 'num_leaves': 750, 'subsample': 0.9050054755125478, 'colsample_bytree': 0.20244770511114898, 'min_data_in_leaf': 5}. Best is trial 133 with value: 2018889981.3767686.\n",
            "[I 2024-06-08 18:06:47,153] Trial 176 finished with value: 2049343586.2154984 and parameters: {'learning_rate': 0.00882352552990718, 'num_leaves': 745, 'subsample': 0.8876415664232362, 'colsample_bytree': 0.16912622712499495, 'min_data_in_leaf': 4}. Best is trial 133 with value: 2018889981.3767686.\n",
            "[I 2024-06-08 18:06:47,578] Trial 177 finished with value: 2219058671.566346 and parameters: {'learning_rate': 0.01308882359070207, 'num_leaves': 776, 'subsample': 0.9360324673431284, 'colsample_bytree': 0.13470417967518636, 'min_data_in_leaf': 73}. Best is trial 133 with value: 2018889981.3767686.\n",
            "[I 2024-06-08 18:06:50,748] Trial 178 finished with value: 2027527852.6407213 and parameters: {'learning_rate': 0.010316394709052247, 'num_leaves': 791, 'subsample': 0.9271051368719926, 'colsample_bytree': 0.22177002376592653, 'min_data_in_leaf': 1}. Best is trial 133 with value: 2018889981.3767686.\n",
            "[I 2024-06-08 18:06:51,299] Trial 179 finished with value: 2111318917.7081985 and parameters: {'learning_rate': 0.01063751466718691, 'num_leaves': 733, 'subsample': 0.9173528211844859, 'colsample_bytree': 0.09518524020479122, 'min_data_in_leaf': 6}. Best is trial 133 with value: 2018889981.3767686.\n",
            "[I 2024-06-08 18:06:52,611] Trial 180 finished with value: 2085573702.8642933 and parameters: {'learning_rate': 0.009516963041643242, 'num_leaves': 784, 'subsample': 0.8961528882218005, 'colsample_bytree': 0.1904574577679557, 'min_data_in_leaf': 4}. Best is trial 133 with value: 2018889981.3767686.\n",
            "[I 2024-06-08 18:06:56,694] Trial 181 finished with value: 2028640624.1585462 and parameters: {'learning_rate': 0.00848326833328608, 'num_leaves': 805, 'subsample': 0.9276358219790617, 'colsample_bytree': 0.22393127720218214, 'min_data_in_leaf': 1}. Best is trial 133 with value: 2018889981.3767686.\n",
            "[I 2024-06-08 18:06:59,610] Trial 182 finished with value: 2026670305.008879 and parameters: {'learning_rate': 0.008479609400338645, 'num_leaves': 802, 'subsample': 0.9304637131112898, 'colsample_bytree': 0.21944240650029193, 'min_data_in_leaf': 1}. Best is trial 133 with value: 2018889981.3767686.\n",
            "[I 2024-06-08 18:07:00,910] Trial 183 finished with value: 2031596966.0471041 and parameters: {'learning_rate': 0.00992905084347076, 'num_leaves': 751, 'subsample': 0.8828435307047207, 'colsample_bytree': 0.21090685900897732, 'min_data_in_leaf': 3}. Best is trial 133 with value: 2018889981.3767686.\n",
            "[I 2024-06-08 18:07:04,079] Trial 184 finished with value: 2021644195.1986353 and parameters: {'learning_rate': 0.008801136333829547, 'num_leaves': 725, 'subsample': 0.9440995447943953, 'colsample_bytree': 0.2355332905912997, 'min_data_in_leaf': 1}. Best is trial 133 with value: 2018889981.3767686.\n",
            "[I 2024-06-08 18:07:05,513] Trial 185 finished with value: 2056657674.462104 and parameters: {'learning_rate': 0.007974768547386307, 'num_leaves': 713, 'subsample': 0.9418924378964724, 'colsample_bytree': 0.1787994765073207, 'min_data_in_leaf': 3}. Best is trial 133 with value: 2018889981.3767686.\n",
            "[I 2024-06-08 18:07:07,200] Trial 186 finished with value: 2044187300.9239628 and parameters: {'learning_rate': 0.010521539236178493, 'num_leaves': 764, 'subsample': 0.9825790677994465, 'colsample_bytree': 0.23446394406703314, 'min_data_in_leaf': 7}. Best is trial 133 with value: 2018889981.3767686.\n",
            "[I 2024-06-08 18:07:09,112] Trial 187 finished with value: 2056932314.2372484 and parameters: {'learning_rate': 0.008241827587534214, 'num_leaves': 725, 'subsample': 0.9119113090092479, 'colsample_bytree': 0.2023206958397551, 'min_data_in_leaf': 5}. Best is trial 133 with value: 2018889981.3767686.\n",
            "[I 2024-06-08 18:07:13,359] Trial 188 finished with value: 2029372142.8479495 and parameters: {'learning_rate': 0.012055134113955455, 'num_leaves': 785, 'subsample': 0.9602911185167103, 'colsample_bytree': 0.23818979236621937, 'min_data_in_leaf': 1}. Best is trial 133 with value: 2018889981.3767686.\n",
            "[I 2024-06-08 18:07:14,339] Trial 189 finished with value: 2047305312.1738362 and parameters: {'learning_rate': 0.009662791549520528, 'num_leaves': 819, 'subsample': 0.9314026222284304, 'colsample_bytree': 0.1452242086867851, 'min_data_in_leaf': 3}. Best is trial 133 with value: 2018889981.3767686.\n",
            "[I 2024-06-08 18:07:17,900] Trial 190 finished with value: 2021695634.577347 and parameters: {'learning_rate': 0.009002219101632764, 'num_leaves': 763, 'subsample': 0.9045393727821118, 'colsample_bytree': 0.25854558421349655, 'min_data_in_leaf': 1}. Best is trial 133 with value: 2018889981.3767686.\n",
            "[I 2024-06-08 18:07:21,971] Trial 191 finished with value: 2022187661.533597 and parameters: {'learning_rate': 0.009186103189734365, 'num_leaves': 760, 'subsample': 0.9058421975322677, 'colsample_bytree': 0.2631578028604385, 'min_data_in_leaf': 1}. Best is trial 133 with value: 2018889981.3767686.\n",
            "[I 2024-06-08 18:07:23,969] Trial 192 finished with value: 2045124549.880575 and parameters: {'learning_rate': 0.00793507586826999, 'num_leaves': 766, 'subsample': 0.9060629737404474, 'colsample_bytree': 0.25446166866635517, 'min_data_in_leaf': 4}. Best is trial 133 with value: 2018889981.3767686.\n",
            "[I 2024-06-08 18:07:27,741] Trial 193 finished with value: 2020686554.7254596 and parameters: {'learning_rate': 0.008968119728559685, 'num_leaves': 784, 'subsample': 0.9473063375386782, 'colsample_bytree': 0.2634935569907149, 'min_data_in_leaf': 1}. Best is trial 133 with value: 2018889981.3767686.\n",
            "[I 2024-06-08 18:07:29,294] Trial 194 finished with value: 2042445775.3272123 and parameters: {'learning_rate': 0.010314334407169293, 'num_leaves': 729, 'subsample': 0.9492428001638579, 'colsample_bytree': 0.2632363351104826, 'min_data_in_leaf': 3}. Best is trial 133 with value: 2018889981.3767686.\n",
            "[I 2024-06-08 18:07:30,443] Trial 195 finished with value: 2036528841.06017 and parameters: {'learning_rate': 0.008978237586609174, 'num_leaves': 686, 'subsample': 0.9124079623344057, 'colsample_bytree': 0.25284203318661624, 'min_data_in_leaf': 5}. Best is trial 133 with value: 2018889981.3767686.\n",
            "[I 2024-06-08 18:07:33,359] Trial 196 finished with value: 2024717914.820416 and parameters: {'learning_rate': 0.009449297381581146, 'num_leaves': 770, 'subsample': 0.9477813674894817, 'colsample_bytree': 0.2113935390590454, 'min_data_in_leaf': 1}. Best is trial 133 with value: 2018889981.3767686.\n",
            "[I 2024-06-08 18:07:34,463] Trial 197 finished with value: 2042620783.4371653 and parameters: {'learning_rate': 0.011527467918353204, 'num_leaves': 786, 'subsample': 0.9736269279752652, 'colsample_bytree': 0.2683629761566198, 'min_data_in_leaf': 7}. Best is trial 133 with value: 2018889981.3767686.\n",
            "[I 2024-06-08 18:07:36,238] Trial 198 finished with value: 2047858361.230355 and parameters: {'learning_rate': 0.01376075375331889, 'num_leaves': 826, 'subsample': 0.9485368658139971, 'colsample_bytree': 0.17979500107770857, 'min_data_in_leaf': 3}. Best is trial 133 with value: 2018889981.3767686.\n",
            "[I 2024-06-08 18:07:40,277] Trial 199 finished with value: 2022741719.2555945 and parameters: {'learning_rate': 0.009557394810380322, 'num_leaves': 811, 'subsample': 0.9615099264845363, 'colsample_bytree': 0.2413644863924032, 'min_data_in_leaf': 1}. Best is trial 133 with value: 2018889981.3767686.\n"
          ]
        }
      ]
    },
    {
      "cell_type": "code",
      "source": [
        "print('Best MSE on Validation', study.best_value)"
      ],
      "metadata": {
        "colab": {
          "base_uri": "https://localhost:8080/"
        },
        "outputId": "c1f47bed-d067-47c8-d637-07ee13a648c0",
        "id": "pCKLQTyQDIV6"
      },
      "execution_count": null,
      "outputs": [
        {
          "output_type": "stream",
          "name": "stdout",
          "text": [
            "Best MSE on Validation 2018889981.3767686\n"
          ]
        }
      ]
    },
    {
      "cell_type": "code",
      "source": [
        "params = study.best_params\n",
        "params['verbosity'] = -1\n",
        "params['bagging_freq'] = 1\n",
        "params['n_estimators'] = 1000"
      ],
      "metadata": {
        "id": "zb2v7E18D-LW"
      },
      "execution_count": null,
      "outputs": []
    },
    {
      "cell_type": "code",
      "source": [
        "lightgbm_reg = LGBMRegressor(**params)"
      ],
      "metadata": {
        "id": "87hOGvbREDbv"
      },
      "execution_count": null,
      "outputs": []
    },
    {
      "cell_type": "code",
      "source": [
        "lightgbm_reg.fit(X_train_encoded, y_train)"
      ],
      "metadata": {
        "colab": {
          "base_uri": "https://localhost:8080/",
          "height": 127
        },
        "id": "feI5bQ7tDRxi",
        "outputId": "72bbf779-bc61-449c-d766-e54406dbb3fa"
      },
      "execution_count": null,
      "outputs": [
        {
          "output_type": "execute_result",
          "data": {
            "text/plain": [
              "LGBMRegressor(bagging_freq=1, colsample_bytree=0.2698661544550345,\n",
              "              learning_rate=0.006833977455072198, min_data_in_leaf=1,\n",
              "              n_estimators=1000, num_leaves=919, subsample=0.9547278726573168,\n",
              "              verbosity=-1)"
            ],
            "text/html": [
              "<style>#sk-container-id-5 {color: black;background-color: white;}#sk-container-id-5 pre{padding: 0;}#sk-container-id-5 div.sk-toggleable {background-color: white;}#sk-container-id-5 label.sk-toggleable__label {cursor: pointer;display: block;width: 100%;margin-bottom: 0;padding: 0.3em;box-sizing: border-box;text-align: center;}#sk-container-id-5 label.sk-toggleable__label-arrow:before {content: \"▸\";float: left;margin-right: 0.25em;color: #696969;}#sk-container-id-5 label.sk-toggleable__label-arrow:hover:before {color: black;}#sk-container-id-5 div.sk-estimator:hover label.sk-toggleable__label-arrow:before {color: black;}#sk-container-id-5 div.sk-toggleable__content {max-height: 0;max-width: 0;overflow: hidden;text-align: left;background-color: #f0f8ff;}#sk-container-id-5 div.sk-toggleable__content pre {margin: 0.2em;color: black;border-radius: 0.25em;background-color: #f0f8ff;}#sk-container-id-5 input.sk-toggleable__control:checked~div.sk-toggleable__content {max-height: 200px;max-width: 100%;overflow: auto;}#sk-container-id-5 input.sk-toggleable__control:checked~label.sk-toggleable__label-arrow:before {content: \"▾\";}#sk-container-id-5 div.sk-estimator input.sk-toggleable__control:checked~label.sk-toggleable__label {background-color: #d4ebff;}#sk-container-id-5 div.sk-label input.sk-toggleable__control:checked~label.sk-toggleable__label {background-color: #d4ebff;}#sk-container-id-5 input.sk-hidden--visually {border: 0;clip: rect(1px 1px 1px 1px);clip: rect(1px, 1px, 1px, 1px);height: 1px;margin: -1px;overflow: hidden;padding: 0;position: absolute;width: 1px;}#sk-container-id-5 div.sk-estimator {font-family: monospace;background-color: #f0f8ff;border: 1px dotted black;border-radius: 0.25em;box-sizing: border-box;margin-bottom: 0.5em;}#sk-container-id-5 div.sk-estimator:hover {background-color: #d4ebff;}#sk-container-id-5 div.sk-parallel-item::after {content: \"\";width: 100%;border-bottom: 1px solid gray;flex-grow: 1;}#sk-container-id-5 div.sk-label:hover label.sk-toggleable__label {background-color: #d4ebff;}#sk-container-id-5 div.sk-serial::before {content: \"\";position: absolute;border-left: 1px solid gray;box-sizing: border-box;top: 0;bottom: 0;left: 50%;z-index: 0;}#sk-container-id-5 div.sk-serial {display: flex;flex-direction: column;align-items: center;background-color: white;padding-right: 0.2em;padding-left: 0.2em;position: relative;}#sk-container-id-5 div.sk-item {position: relative;z-index: 1;}#sk-container-id-5 div.sk-parallel {display: flex;align-items: stretch;justify-content: center;background-color: white;position: relative;}#sk-container-id-5 div.sk-item::before, #sk-container-id-5 div.sk-parallel-item::before {content: \"\";position: absolute;border-left: 1px solid gray;box-sizing: border-box;top: 0;bottom: 0;left: 50%;z-index: -1;}#sk-container-id-5 div.sk-parallel-item {display: flex;flex-direction: column;z-index: 1;position: relative;background-color: white;}#sk-container-id-5 div.sk-parallel-item:first-child::after {align-self: flex-end;width: 50%;}#sk-container-id-5 div.sk-parallel-item:last-child::after {align-self: flex-start;width: 50%;}#sk-container-id-5 div.sk-parallel-item:only-child::after {width: 0;}#sk-container-id-5 div.sk-dashed-wrapped {border: 1px dashed gray;margin: 0 0.4em 0.5em 0.4em;box-sizing: border-box;padding-bottom: 0.4em;background-color: white;}#sk-container-id-5 div.sk-label label {font-family: monospace;font-weight: bold;display: inline-block;line-height: 1.2em;}#sk-container-id-5 div.sk-label-container {text-align: center;}#sk-container-id-5 div.sk-container {/* jupyter's `normalize.less` sets `[hidden] { display: none; }` but bootstrap.min.css set `[hidden] { display: none !important; }` so we also need the `!important` here to be able to override the default hidden behavior on the sphinx rendered scikit-learn.org. See: https://github.com/scikit-learn/scikit-learn/issues/21755 */display: inline-block !important;position: relative;}#sk-container-id-5 div.sk-text-repr-fallback {display: none;}</style><div id=\"sk-container-id-5\" class=\"sk-top-container\"><div class=\"sk-text-repr-fallback\"><pre>LGBMRegressor(bagging_freq=1, colsample_bytree=0.2698661544550345,\n",
              "              learning_rate=0.006833977455072198, min_data_in_leaf=1,\n",
              "              n_estimators=1000, num_leaves=919, subsample=0.9547278726573168,\n",
              "              verbosity=-1)</pre><b>In a Jupyter environment, please rerun this cell to show the HTML representation or trust the notebook. <br />On GitHub, the HTML representation is unable to render, please try loading this page with nbviewer.org.</b></div><div class=\"sk-container\" hidden><div class=\"sk-item\"><div class=\"sk-estimator sk-toggleable\"><input class=\"sk-toggleable__control sk-hidden--visually\" id=\"sk-estimator-id-5\" type=\"checkbox\" checked><label for=\"sk-estimator-id-5\" class=\"sk-toggleable__label sk-toggleable__label-arrow\">LGBMRegressor</label><div class=\"sk-toggleable__content\"><pre>LGBMRegressor(bagging_freq=1, colsample_bytree=0.2698661544550345,\n",
              "              learning_rate=0.006833977455072198, min_data_in_leaf=1,\n",
              "              n_estimators=1000, num_leaves=919, subsample=0.9547278726573168,\n",
              "              verbosity=-1)</pre></div></div></div></div></div>"
            ]
          },
          "metadata": {},
          "execution_count": 152
        }
      ]
    },
    {
      "cell_type": "code",
      "source": [
        "y_pred = lightgbm_reg.predict(X_test_encoded)"
      ],
      "metadata": {
        "id": "n1S-xoKzEYFe"
      },
      "execution_count": null,
      "outputs": []
    },
    {
      "cell_type": "code",
      "source": [
        "print('MAPE on Test:', mean_absolute_percentage_error(y_pred, y_test))\n",
        "print('RMSE on Test:', mean_squared_error(y_pred, y_test) ** 0.5)"
      ],
      "metadata": {
        "colab": {
          "base_uri": "https://localhost:8080/"
        },
        "outputId": "90edc454-3490-48ee-ac1d-5684f1cdf3b2",
        "id": "6lOW6q2gEhBb"
      },
      "execution_count": null,
      "outputs": [
        {
          "output_type": "stream",
          "name": "stdout",
          "text": [
            "MAPE on Test: 0.2770958880889578\n",
            "RMSE on Test: 51081.165052918725\n"
          ]
        }
      ]
    },
    {
      "cell_type": "markdown",
      "source": [
        "Качество также на уровне, показатели ошибок схожи с другими двумя рассмотренными бустами. По времени обучения, занимает побольше, чем XGBoost и Catboost с Pool.\n"
      ],
      "metadata": {
        "id": "6lDc1jHKEimn"
      }
    },
    {
      "cell_type": "markdown",
      "source": [
        "### Задание 6 (2 балла) Сравнение и выводы"
      ],
      "metadata": {
        "id": "_6B0zio-Ewsv"
      }
    },
    {
      "cell_type": "markdown",
      "source": [
        "Сравните модели бустинга и сделайте про них выводы, какая из моделей показала лучший/худший результат по качеству, скорости обучения и скорости предсказания? Как отличаются гиперпараметры для разных моделей?"
      ],
      "metadata": {
        "id": "iOKAlyHeEyan"
      }
    },
    {
      "cell_type": "code",
      "source": [
        "xgboost_params = {'max_depth': 1, 'learning_rate': 0.1514582057908884, 'n_estimators': 817, 'min_child_weight': 7, 'gamma': 0.1012889421408612, 'subsample': 0.8920316112387824, 'colsample_bytree': 0.4406936158248896, 'reg_alpha': 0.7488939245442084, 'reg_lambda': 0.33225764793617774, 'random_state': 458}\n",
        "catboost_no_pool_params = {'n_estimators': 1000, 'learning_rate': 0.05134107603295446, 'depth': 10, 'subsample': 0.3308956136177017, 'colsample_bylevel': 0.0734889015571684, 'min_data_in_leaf': 90}\n",
        "catboost_pool_params = {'n_estimators': 1000, 'learning_rate': 0.019786685491402396, 'depth': 2, 'subsample': 0.42103654805977664, 'colsample_bylevel': 0.1888054711001659, 'min_data_in_leaf': 35}\n",
        "lightgbm_params = {'n_estimators': 1000, 'verbosity': -1,  'bagging_freq': 1, 'learning_rate': 0.006833977455072198, 'num_leaves': 919, 'subsample': 0.9547278726573168, 'colsample_bytree': 0.2698661544550345, 'min_data_in_leaf': 1}"
      ],
      "metadata": {
        "id": "gyTSFMLuE9uO"
      },
      "execution_count": null,
      "outputs": []
    },
    {
      "cell_type": "code",
      "source": [
        "xgboost_reg = XGBRegressor(**xgboost_params)\n",
        "catboost_no_pool_reg = CatBoostRegressor(**catboost_no_pool_params, silent=True)\n",
        "catboost_pool_reg = CatBoostRegressor(**catboost_pool_params, silent=True)\n",
        "lightgbm_reg = LGBMRegressor(**lightgbm_params)"
      ],
      "metadata": {
        "id": "xHM_jEhRGgcW"
      },
      "execution_count": null,
      "outputs": []
    },
    {
      "cell_type": "markdown",
      "source": [
        "**Время обучения**"
      ],
      "metadata": {
        "id": "OnGorK3kHGBC"
      }
    },
    {
      "cell_type": "code",
      "source": [
        "%%time\n",
        "xgboost_reg = xgboost_reg.fit(X_train_encoded, y_train)"
      ],
      "metadata": {
        "colab": {
          "base_uri": "https://localhost:8080/"
        },
        "id": "DS8zomrEG3vz",
        "outputId": "f4a68587-59b3-402d-b4e0-f4b520ae7071"
      },
      "execution_count": null,
      "outputs": [
        {
          "output_type": "stream",
          "name": "stdout",
          "text": [
            "CPU times: user 2.78 s, sys: 20.1 ms, total: 2.8 s\n",
            "Wall time: 1.47 s\n"
          ]
        }
      ]
    },
    {
      "cell_type": "code",
      "source": [
        "%%time\n",
        "catboost_no_pool_reg = catboost_no_pool_reg.fit(X_train_encoded, y_train)"
      ],
      "metadata": {
        "colab": {
          "base_uri": "https://localhost:8080/"
        },
        "id": "F5TO4SoDHcd3",
        "outputId": "ef18a6ef-97ca-4a2a-ef9a-8dd9879b2c36"
      },
      "execution_count": null,
      "outputs": [
        {
          "output_type": "stream",
          "name": "stdout",
          "text": [
            "CPU times: user 11.6 s, sys: 800 ms, total: 12.4 s\n",
            "Wall time: 8.18 s\n"
          ]
        }
      ]
    },
    {
      "cell_type": "code",
      "source": [
        "%%time\n",
        "catboost_pool_reg = catboost_pool_reg.fit(train_data)"
      ],
      "metadata": {
        "colab": {
          "base_uri": "https://localhost:8080/"
        },
        "id": "BOGS_c6pHnSh",
        "outputId": "4e299d2f-5e6d-49f7-8ef4-72d2258703f9"
      },
      "execution_count": null,
      "outputs": [
        {
          "output_type": "stream",
          "name": "stdout",
          "text": [
            "CPU times: user 1.06 s, sys: 177 ms, total: 1.24 s\n",
            "Wall time: 677 ms\n"
          ]
        }
      ]
    },
    {
      "cell_type": "code",
      "source": [
        "%%time\n",
        "lightgbm_reg = lightgbm_reg.fit(X_train_encoded, y_train)"
      ],
      "metadata": {
        "colab": {
          "base_uri": "https://localhost:8080/"
        },
        "id": "td1PLF8nHsm0",
        "outputId": "dbeb41b1-2308-47c0-ef71-9ac49af85868"
      },
      "execution_count": null,
      "outputs": [
        {
          "output_type": "stream",
          "name": "stdout",
          "text": [
            "CPU times: user 3.64 s, sys: 244 ms, total: 3.89 s\n",
            "Wall time: 3.87 s\n"
          ]
        }
      ]
    },
    {
      "cell_type": "markdown",
      "source": [
        "Быстрее всех обучается Catboost с Pool, медленнее всех также Catboost, но без Pool."
      ],
      "metadata": {
        "id": "cPEukJUAITBA"
      }
    },
    {
      "cell_type": "markdown",
      "source": [
        "**Время предикта**"
      ],
      "metadata": {
        "id": "fgyhxIOOIbZv"
      }
    },
    {
      "cell_type": "code",
      "source": [
        "%%time\n",
        "y_pred_xgboost = xgboost_reg.predict(X_test_encoded)"
      ],
      "metadata": {
        "colab": {
          "base_uri": "https://localhost:8080/"
        },
        "id": "GgMUaJpDIl-y",
        "outputId": "21b315d2-c9f8-46cf-9065-b4b929d33a7e"
      },
      "execution_count": null,
      "outputs": [
        {
          "output_type": "stream",
          "name": "stdout",
          "text": [
            "CPU times: user 51.4 ms, sys: 0 ns, total: 51.4 ms\n",
            "Wall time: 56 ms\n"
          ]
        }
      ]
    },
    {
      "cell_type": "code",
      "source": [
        "%%time\n",
        "y_pred_catboost_no_pool = catboost_no_pool_reg.predict(X_test_encoded)"
      ],
      "metadata": {
        "colab": {
          "base_uri": "https://localhost:8080/"
        },
        "id": "tgn4SFYKIsGx",
        "outputId": "bbb94ac9-866b-47a7-e264-d6229f94b004"
      },
      "execution_count": null,
      "outputs": [
        {
          "output_type": "stream",
          "name": "stdout",
          "text": [
            "CPU times: user 20.8 ms, sys: 1.06 ms, total: 21.9 ms\n",
            "Wall time: 26.5 ms\n"
          ]
        }
      ]
    },
    {
      "cell_type": "code",
      "source": [
        "%%time\n",
        "y_pred_catboost_pool = catboost_pool_reg.predict(test_data)"
      ],
      "metadata": {
        "colab": {
          "base_uri": "https://localhost:8080/"
        },
        "id": "zp7nAeofIsJb",
        "outputId": "d0972837-25d4-44cf-c432-1e510490f17e"
      },
      "execution_count": null,
      "outputs": [
        {
          "output_type": "stream",
          "name": "stdout",
          "text": [
            "CPU times: user 6.6 ms, sys: 1.97 ms, total: 8.57 ms\n",
            "Wall time: 11.2 ms\n"
          ]
        }
      ]
    },
    {
      "cell_type": "code",
      "source": [
        "%%time\n",
        "y_pred_lightgbm = lightgbm_reg.predict(X_test_encoded)"
      ],
      "metadata": {
        "colab": {
          "base_uri": "https://localhost:8080/"
        },
        "id": "pyPTWjw5IsMD",
        "outputId": "b660e764-21b0-4164-b9e8-c77587671c36"
      },
      "execution_count": null,
      "outputs": [
        {
          "output_type": "stream",
          "name": "stdout",
          "text": [
            "CPU times: user 132 ms, sys: 0 ns, total: 132 ms\n",
            "Wall time: 132 ms\n"
          ]
        }
      ]
    },
    {
      "cell_type": "markdown",
      "source": [
        "Быстрее всех предсказывает также Catboost с Pool, но при этом дольше всех предсказывает LightGBM."
      ],
      "metadata": {
        "id": "nkCsbZFnJAJb"
      }
    },
    {
      "cell_type": "markdown",
      "source": [
        "**Качество**"
      ],
      "metadata": {
        "id": "KpoDIjwtJQ2g"
      }
    },
    {
      "cell_type": "code",
      "source": [
        "print('MAPE on Test:', mean_absolute_percentage_error(y_pred_xgboost, y_test))\n",
        "print('RMSE on Test:', mean_squared_error(y_pred_xgboost, y_test) ** 0.5)"
      ],
      "metadata": {
        "colab": {
          "base_uri": "https://localhost:8080/"
        },
        "id": "k9T9yVBBJS-L",
        "outputId": "efe13cab-f829-43bd-d01c-7ac4a61a8b38"
      },
      "execution_count": null,
      "outputs": [
        {
          "output_type": "stream",
          "name": "stdout",
          "text": [
            "MAPE on Test: 0.29924642148198927\n",
            "RMSE on Test: 50718.48055617091\n"
          ]
        }
      ]
    },
    {
      "cell_type": "code",
      "source": [
        "print('MAPE on Test:', mean_absolute_percentage_error(y_pred_catboost_no_pool, y_test))\n",
        "print('RMSE on Test:', mean_squared_error(y_pred_catboost_no_pool, y_test) ** 0.5)"
      ],
      "metadata": {
        "colab": {
          "base_uri": "https://localhost:8080/"
        },
        "id": "pni923FqJXxe",
        "outputId": "91e86b3f-e6f2-40e4-e3eb-02d55edd29da"
      },
      "execution_count": null,
      "outputs": [
        {
          "output_type": "stream",
          "name": "stdout",
          "text": [
            "MAPE on Test: 0.33071333673237324\n",
            "RMSE on Test: 50184.417090324016\n"
          ]
        }
      ]
    },
    {
      "cell_type": "code",
      "source": [
        "print('MAPE on Test:', mean_absolute_percentage_error(y_pred_catboost_pool, y_test))\n",
        "print('RMSE on Test:', mean_squared_error(y_pred_catboost_pool, y_test) ** 0.5)"
      ],
      "metadata": {
        "colab": {
          "base_uri": "https://localhost:8080/"
        },
        "id": "0Wi1MZrPJX0Q",
        "outputId": "0d599927-6f93-48ea-994a-19b79cd274cd"
      },
      "execution_count": null,
      "outputs": [
        {
          "output_type": "stream",
          "name": "stdout",
          "text": [
            "MAPE on Test: 0.2970282861818719\n",
            "RMSE on Test: 50594.025667795504\n"
          ]
        }
      ]
    },
    {
      "cell_type": "code",
      "source": [
        "print('MAPE on Test:', mean_absolute_percentage_error(y_pred_lightgbm, y_test))\n",
        "print('RMSE on Test:', mean_squared_error(y_pred_lightgbm, y_test) ** 0.5)"
      ],
      "metadata": {
        "colab": {
          "base_uri": "https://localhost:8080/"
        },
        "id": "zDUFOAG8JX2j",
        "outputId": "d6d2f2e7-c276-4e3b-dba2-9d5bc57b6637"
      },
      "execution_count": null,
      "outputs": [
        {
          "output_type": "stream",
          "name": "stdout",
          "text": [
            "MAPE on Test: 0.2770958880889578\n",
            "RMSE on Test: 51081.165052918725\n"
          ]
        }
      ]
    },
    {
      "cell_type": "markdown",
      "source": [
        "В плане качества по RMSE лучше всех себя показал Catboost без Pool, а по MAPE - LightGBM."
      ],
      "metadata": {
        "id": "59VUtWW6JiD8"
      }
    },
    {
      "cell_type": "markdown",
      "source": [
        "**Гиперпараметры**"
      ],
      "metadata": {
        "id": "zdEM-0pMKP3N"
      }
    },
    {
      "cell_type": "markdown",
      "source": [
        "В XGBoost получился самый большой `learning_rate` (0.15) и достаточно большой `subsample (0.89)`, однако в LightGBM этот показатель еще выше - 0.95.\n",
        "\n",
        "`min_data_in_leaf` в Catboost без Pool оказался чрезмерно большим (90) как и глубина деревьев (аж 10), в то время как в LightGBM `min_data_in_leaf` оказался очень маленьким (1)."
      ],
      "metadata": {
        "id": "5GJzaHaNKSjc"
      }
    }
  ]
}